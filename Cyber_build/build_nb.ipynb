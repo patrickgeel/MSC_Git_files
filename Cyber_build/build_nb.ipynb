{
 "cells": [
  {
   "cell_type": "code",
   "execution_count": 4,
   "id": "03b1b2df",
   "metadata": {
    "scrolled": true
   },
   "outputs": [
    {
     "name": "stdout",
     "output_type": "stream",
     "text": [
      "intermediate_models/step_streamline.onnx\n",
      "Building dataflow accelerator from intermediate checkpointbuild-step_streamline/intermediate_models/step_streamline.onnx\n",
      "Intermediate outputs will be generated in /workspace/results/step_streamline\n",
      "Final outputs will be generated in build-step_streamline\n",
      "Build log is at build-step_streamline/build_dataflow.log\n",
      "Running step: step_convert_to_hls [1/14]\n",
      "Running step: step_create_dataflow_partition [2/14]\n",
      "Running step: step_target_fps_parallelization [3/14]\n",
      "Running step: step_apply_folding_config [4/14]\n",
      "Running step: step_generate_estimate_reports [5/14]\n",
      "Running step: step_hls_codegen [6/14]\n"
     ]
    },
    {
     "name": "stderr",
     "output_type": "stream",
     "text": [
      "/workspace/qonnx/src/qonnx/core/modelwrapper.py:93: UserWarning: Some old-style domain attributes were automatically converted to new-style,\n",
      "                i.e. domain=finn to domain=qonnx.custom_op.<general|fpgadataflow|...>\n",
      "  warnings.warn(\n"
     ]
    },
    {
     "name": "stdout",
     "output_type": "stream",
     "text": [
      "Running step: step_hls_ipgen [7/14]\n",
      "Running step: step_set_fifo_depths [8/14]\n",
      "Running step: step_create_stitched_ip [9/14]\n",
      "Running step: step_measure_rtlsim_performance [10/14]\n",
      "Running step: step_out_of_context_synthesis [11/14]\n",
      "Running step: step_synthesize_bitfile [12/14]\n",
      "Running step: step_make_pynq_driver [13/14]\n",
      "Running step: step_deployment_package [14/14]\n",
      "Completed successfully\n"
     ]
    },
    {
     "data": {
      "text/plain": [
       "0"
      ]
     },
     "execution_count": 4,
     "metadata": {},
     "output_type": "execute_result"
    }
   ],
   "source": [
    "import shutil\n",
    "import os\n",
    "import finn.builder.build_dataflow_config as build_cfg\n",
    "import finn.builder.build_dataflow as build\n",
    "\n",
    "model_dir = \"intermediate_models\"\n",
    "model_name = \"step_streamline\"\n",
    "model_file = \"%s/%s.onnx\" % (model_dir, model_name)\n",
    "print(model_file)\n",
    "final_output_dir = \"build-%s\" % model_name\n",
    "\n",
    "# Delete previous run results if exist\n",
    "os.environ[\"FINN_BUILD_DIR\"] = \"/workspace/results/%s\" %model_name\n",
    "\n",
    "cfg = build.DataflowBuildConfig(\n",
    "#     steps = steps,\n",
    "    start_step = \"step_convert_to_hls\",\n",
    "    output_dir=final_output_dir,\n",
    "    mvau_wwidth_max=80,\n",
    "    target_fps=1000000,\n",
    "    synth_clk_period_ns=10.0,\n",
    "    board=\"KV260_SOM\",\n",
    "    shell_flow_type=build_cfg.ShellFlowType.VIVADO_ZYNQ,\n",
    "    generate_outputs=[\n",
    "        build_cfg.DataflowOutputType.BITFILE,\n",
    "        build_cfg.DataflowOutputType.PYNQ_DRIVER,\n",
    "        build_cfg.DataflowOutputType.DEPLOYMENT_PACKAGE,\n",
    "    ]\n",
    ")\n",
    "\n",
    "build.build_dataflow_cfg(model_file, cfg)\n"
   ]
  }
 ],
 "metadata": {
  "kernelspec": {
   "display_name": "Python 3",
   "language": "python",
   "name": "python3"
  },
  "language_info": {
   "codemirror_mode": {
    "name": "ipython",
    "version": 3
   },
   "file_extension": ".py",
   "mimetype": "text/x-python",
   "name": "python",
   "nbconvert_exporter": "python",
   "pygments_lexer": "ipython3",
   "version": "3.8.5"
  },
  "vscode": {
   "interpreter": {
    "hash": "c0480a40de60fe0b4be044949303dbe98ce3610184aeb132e77bccbcbbb8df2a"
   }
  }
 },
 "nbformat": 4,
 "nbformat_minor": 5
}
