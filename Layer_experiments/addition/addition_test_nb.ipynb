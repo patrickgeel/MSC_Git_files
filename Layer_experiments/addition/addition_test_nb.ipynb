{
 "cells": [
  {
   "cell_type": "code",
   "execution_count": 1,
   "metadata": {},
   "outputs": [],
   "source": [
    "import numpy as np\n",
    "import onnx\n",
    "import onnxruntime as ort\n",
    "import time\n",
    "import os\n",
    "import matplotlib.pyplot as plt\n",
    "import csv\n",
    "\n",
    "class Add_experiment_class():\n",
    "    #TODO: Set the input size to the size of a layer in the TINYYOLO \n",
    "    def __init__(self):\n",
    "        self.in1 = np.random.random([1]).astype(np.float32)\n",
    "        self.in2 = np.random.random([1]).astype(np.float32)\n",
    "        self.ort_runtime=[]\n",
    "        self.out1 = np.random.random([1]).astype(np.float32)\n",
    "        \n",
    "    def expected_res_add(self):\n",
    "        res = np.add(self.in1,self.in2)\n",
    "        return res\n",
    "\n",
    "    def test_ort_add(self, model_name):\n",
    "        model_load = onnx.load(model_name)\n",
    "        self.expected_result = self.expected_res_add()\n",
    "        input_dict = {\"in1\": self.in1, \"in2\": self.in2}\n",
    "        sess = ort.InferenceSession(model_load.SerializeToString())\n",
    "        self.out1 = sess.run(None,input_dict)           \n",
    "    \n",
    "    def throughput_test(self,interations):\n",
    "        for i in range(interations):\n",
    "            start = time.time()\n",
    "            self.test_ort_add(\"addition_model.onnx\")\n",
    "            end = time.time()\n",
    "            self.ort_runtime.append(end-start)       \n",
    "        # return self.ort_runtime\n",
    "    \n",
    "    def results_publisher(self, filename = \"ort_results.csv\"):\n",
    "        print(\"Interations = %d\" %(len(self.ort_runtime)))\n",
    "        print(\"Min  = %f ms\" %(np.mean(self.ort_runtime)*1000))\n",
    "        print(\"Max  = %f ms\" %(np.max(self.ort_runtime)*1000))\n",
    "        print(\"Mean = %f ms\" %(np.min(self.ort_runtime)*1000))        \n",
    "        if not os.path.exists(\"results/\"):\n",
    "            os.makedirs(\"results/\")\n",
    "        np.savetxt(\"results/\" + filename , np.asarray(self.ort_runtime), delimiter=',')"
   ]
  },
  {
   "cell_type": "code",
   "execution_count": 4,
   "metadata": {},
   "outputs": [
    {
     "name": "stdout",
     "output_type": "stream",
     "text": [
      "Interations = 5000\n",
      "Min = 4.157479 ms\n",
      "Max = 18.518209 ms\n",
      "Mean = 3.486633 ms\n"
     ]
    }
   ],
   "source": [
    "t1 = Add_experiment_class()\n",
    "t1.throughput_test(5000)\n",
    "if np.allclose(t1.out1,t1.expected_res_add()):\n",
    "    t1.results_publisher(filename = \"Addition_ort_results_04102022.csv\")"
   ]
  },
  {
   "cell_type": "code",
   "execution_count": null,
   "metadata": {},
   "outputs": [],
   "source": []
  }
 ],
 "metadata": {
  "kernelspec": {
   "display_name": "Python 3",
   "language": "python",
   "name": "python3"
  },
  "language_info": {
   "codemirror_mode": {
    "name": "ipython",
    "version": 3
   },
   "file_extension": ".py",
   "mimetype": "text/x-python",
   "name": "python",
   "nbconvert_exporter": "python",
   "pygments_lexer": "ipython3",
   "version": "3.8.10"
  },
  "vscode": {
   "interpreter": {
    "hash": "c0480a40de60fe0b4be044949303dbe98ce3610184aeb132e77bccbcbbb8df2a"
   }
  }
 },
 "nbformat": 4,
 "nbformat_minor": 2
}
