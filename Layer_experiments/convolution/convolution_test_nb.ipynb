{
 "cells": [
  {
   "cell_type": "code",
   "execution_count": 25,
   "metadata": {},
   "outputs": [],
   "source": [
    "import numpy as np\n",
    "import onnx\n",
    "import onnxruntime as ort\n",
    "import time\n",
    "import os\n",
    "from tensorflow.nn import convolution\n",
    "import matplotlib.pyplot as plt\n",
    "import csv\n",
    "\n",
    "class Multiply_experiment_class():\n",
    "    #TODO: Set the input size to the size of a layer in the TINYYOLO \n",
    "    def __init__(self):\n",
    "        self.in1 = np.random.random([1,3,512,512]).astype(np.float32)\n",
    "        self.w = np.load(\"W_tensor.npy\")\n",
    "        self.out_ort = np.random.random([1,16,256,256]).astype(np.float32)\n",
    "        self.expected_res = np.zeros_like(self.out_ort)        \n",
    "        \n",
    "        self.ort_runtime=[]\n",
    "        \n",
    "    def result_check(self):\n",
    "        self.expected_res = convolution(self.in1,self.w)\n",
    "        return np.allclose(self.out_ort[0],self.expected_res)\n",
    "        \n",
    "    def test_ort(self, model_name):\n",
    "        model_load = onnx.load(model_name)\n",
    "        input_dict = {\"in1\": self.in1, \"W\": self.w}\n",
    "        sess = ort.InferenceSession(model_load.SerializeToString())\n",
    "        self.out_ort = sess.run(None,input_dict)           \n",
    "    \n",
    "    def throughput_test(self,interations,model):\n",
    "        for i in range(interations):\n",
    "            start = time.time()\n",
    "            self.test_ort(model)\n",
    "            end = time.time()\n",
    "            self.ort_runtime.append(end-start)       \n",
    "        # return self.ort_runtime\n",
    "    \n",
    "    def results_publisher(self, filename = \"ort_results.csv\"):\n",
    "        print(\"Interations = %d\" %(len(self.ort_runtime)))\n",
    "        print(\"Min = %f ms\" %(np.mean(self.ort_runtime)*1000))\n",
    "        print(\"Max = %f ms\" %(np.max(self.ort_runtime)*1000))\n",
    "        print(\"Mean = %f ms\" %(np.min(self.ort_runtime)*1000))        \n",
    "        if not os.path.exists(\"results/\"):\n",
    "            os.makedirs(\"results/\")\n",
    "        np.savetxt(\"results/\" + filename , np.asarray(self.ort_runtime), delimiter=',')\n",
    "        \n",
    "    def run(self, model ,iterations=100):\n",
    "        \n",
    "        self.test_ort(model)\n",
    "        self.throughput_test(iterations,model)\n",
    "        # if self.result_check():\n",
    "        self.results_publisher()"
   ]
  },
  {
   "cell_type": "code",
   "execution_count": 26,
   "metadata": {},
   "outputs": [
    {
     "name": "stdout",
     "output_type": "stream",
     "text": [
      "Interations = 100\n",
      "Min = 16.446030 ms\n",
      "Max = 34.906626 ms\n",
      "Mean = 13.961554 ms\n"
     ]
    }
   ],
   "source": [
    "x = Multiply_experiment_class()\n",
    "x.run(model=\"conv_model.onnx\")"
   ]
  }
 ],
 "metadata": {
  "kernelspec": {
   "display_name": "Python 3.9.2 64-bit",
   "language": "python",
   "name": "python3"
  },
  "language_info": {
   "codemirror_mode": {
    "name": "ipython",
    "version": 3
   },
   "file_extension": ".py",
   "mimetype": "text/x-python",
   "name": "python",
   "nbconvert_exporter": "python",
   "pygments_lexer": "ipython3",
   "version": "3.9.2"
  },
  "orig_nbformat": 4,
  "vscode": {
   "interpreter": {
    "hash": "c0480a40de60fe0b4be044949303dbe98ce3610184aeb132e77bccbcbbb8df2a"
   }
  }
 },
 "nbformat": 4,
 "nbformat_minor": 2
}
