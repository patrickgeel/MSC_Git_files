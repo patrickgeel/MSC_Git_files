{
 "cells": [
  {
   "cell_type": "code",
   "execution_count": 35,
   "id": "fb504ac8",
   "metadata": {},
   "outputs": [],
   "source": [
    "import onnxruntime as ort\n",
    "import numpy as np\n",
    "import onnx\n",
    "import time"
   ]
  },
  {
   "cell_type": "code",
   "execution_count": 58,
   "id": "822c771d",
   "metadata": {},
   "outputs": [],
   "source": [
    "model = onnx.load(\"Convolutional_model.onnx\")\n",
    "# print(model.graph.input[0])\n",
    "sess = ort.InferenceSession(model.SerializeToString())\n",
    "input_dict = {model.graph.input[0].name: dummy_in}\n",
    "itters = 100\n",
    "ort_rt = np.zeros(itters)\n",
    "\n",
    "for i in range(itters):\n",
    "    dummy_in = np.random.random([1,3,512,512]).astype(np.float32)\n",
    "    start = time.time()\n",
    "    res = sess.run(None,input_dict)\n",
    "    rt = time.time() - start\n",
    "    ort_rt[i] = rt"
   ]
  },
  {
   "cell_type": "code",
   "execution_count": 59,
   "id": "1af86f7a",
   "metadata": {},
   "outputs": [],
   "source": [
    "np.savetxt(\"ort_rt.csv\", ort_rt, delimiter=\",\")"
   ]
  },
  {
   "cell_type": "code",
   "execution_count": null,
   "id": "02eb5d7e",
   "metadata": {},
   "outputs": [],
   "source": []
  }
 ],
 "metadata": {
  "kernelspec": {
   "display_name": "Python 3",
   "language": "python",
   "name": "python3"
  },
  "language_info": {
   "codemirror_mode": {
    "name": "ipython",
    "version": 3
   },
   "file_extension": ".py",
   "mimetype": "text/x-python",
   "name": "python",
   "nbconvert_exporter": "python",
   "pygments_lexer": "ipython3",
   "version": "3.8.10"
  }
 },
 "nbformat": 4,
 "nbformat_minor": 5
}
