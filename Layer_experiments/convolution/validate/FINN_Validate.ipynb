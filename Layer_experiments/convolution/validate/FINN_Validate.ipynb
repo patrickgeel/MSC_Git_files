{
 "cells": [
  {
   "cell_type": "markdown",
   "id": "8251c949",
   "metadata": {},
   "source": [
    "# Using the driver.py and calling throughput test"
   ]
  },
  {
   "cell_type": "markdown",
   "id": "8ac75c05",
   "metadata": {},
   "source": [
    "### Load necessary packages"
   ]
  },
  {
   "cell_type": "code",
   "execution_count": 1,
   "id": "796e19d3",
   "metadata": {
    "scrolled": false
   },
   "outputs": [
    {
     "data": {
      "application/javascript": "\ntry {\nrequire(['notebook/js/codecell'], function(codecell) {\n  codecell.CodeCell.options_default.highlight_modes[\n      'magic_text/x-csrc'] = {'reg':[/^%%microblaze/]};\n  Jupyter.notebook.events.one('kernel_ready.Kernel', function(){\n      Jupyter.notebook.get_cells().map(function(cell){\n          if (cell.cell_type == 'code'){ cell.auto_highlight(); } }) ;\n  });\n});\n} catch (e) {};\n"
     },
     "metadata": {},
     "output_type": "display_data"
    },
    {
     "data": {
      "application/javascript": "\ntry {\nrequire(['notebook/js/codecell'], function(codecell) {\n  codecell.CodeCell.options_default.highlight_modes[\n      'magic_text/x-csrc'] = {'reg':[/^%%pybind11/]};\n  Jupyter.notebook.events.one('kernel_ready.Kernel', function(){\n      Jupyter.notebook.get_cells().map(function(cell){\n          if (cell.cell_type == 'code'){ cell.auto_highlight(); } }) ;\n  });\n});\n} catch (e) {};\n"
     },
     "metadata": {},
     "output_type": "display_data"
    }
   ],
   "source": [
    "import argparse\n",
    "import numpy as np\n",
    "import os\n",
    "from driver_base import FINNExampleOverlay\n",
    "from driver import io_shape_dict"
   ]
  },
  {
   "cell_type": "markdown",
   "id": "aa561edc",
   "metadata": {},
   "source": [
    "### Print the io_shape dict and create a list of batchsizes to try"
   ]
  },
  {
   "cell_type": "code",
   "execution_count": 2,
   "id": "024bf28e",
   "metadata": {},
   "outputs": [
    {
     "name": "stdout",
     "output_type": "stream",
     "text": [
      "{'idt': [UINT4], 'odt': [UINT16], 'ishape_normal': [(1, 7, 7, 16)], 'oshape_normal': [(1, 4, 4, 20)], 'ishape_folded': [(1, 7, 7, 2, 8)], 'oshape_folded': [(1, 4, 4, 5, 4)], 'ishape_packed': [(1, 7, 7, 2, 4)], 'oshape_packed': [(1, 4, 4, 5, 8)], 'input_dma_name': ['idma0'], 'output_dma_name': ['odma0'], 'number_of_external_weights': 0, 'num_inputs': 1, 'num_outputs': 1}\n"
     ]
    }
   ],
   "source": [
    "print(io_shape_dict)\n",
    "# batchsize = [1,5,10,50,100,500,1000,2000,3000,4000,5000,10000]\n",
    "batchsize = [10]"
   ]
  },
  {
   "cell_type": "code",
   "execution_count": 6,
   "id": "fb77cfc6",
   "metadata": {},
   "outputs": [
    {
     "name": "stdout",
     "output_type": "stream",
     "text": [
      "[1, 7, 7, 16]\n"
     ]
    },
    {
     "data": {
      "text/plain": [
       "64"
      ]
     },
     "execution_count": 6,
     "metadata": {},
     "output_type": "execute_result"
    }
   ],
   "source": [
    "ishape = list(io_shape_dict[\"ishape_normal\"][0])\n",
    "# ishape[0] = batchsize\n",
    "print(ishape)\n",
    "inp = np.random.random(ishape).astype(np.uint8)\n",
    "type(inp)\n",
    "inp.shape[-1]*4"
   ]
  },
  {
   "cell_type": "code",
   "execution_count": 4,
   "id": "21211c62",
   "metadata": {},
   "outputs": [
    {
     "name": "stdout",
     "output_type": "stream",
     "text": [
      "Running batchsize: 10\n",
      "4\n",
      "Results written to nw_metrics.txt\n"
     ]
    }
   ],
   "source": [
    "for bs in batchsize:\n",
    "    print(\"Running batchsize: %d\" %bs)\n",
    "    ! python driver.py --batchsize={bs} --exec_mode=\"throughput_test\" --bitfile=\"../bitfile/finn-accel.bit\"\n",
    "    os.rename(\"nw_metrics.txt\",\"nw_metrics_bs_%s.txt\"%bs)"
   ]
  }
 ],
 "metadata": {
  "kernelspec": {
   "display_name": "Python 3",
   "language": "python",
   "name": "python3"
  },
  "language_info": {
   "codemirror_mode": {
    "name": "ipython",
    "version": 3
   },
   "file_extension": ".py",
   "mimetype": "text/x-python",
   "name": "python",
   "nbconvert_exporter": "python",
   "pygments_lexer": "ipython3",
   "version": "3.8.10"
  }
 },
 "nbformat": 4,
 "nbformat_minor": 5
}
