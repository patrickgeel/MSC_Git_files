{
 "cells": [
  {
   "cell_type": "code",
   "execution_count": 240,
   "metadata": {},
   "outputs": [],
   "source": []
  },
  {
   "cell_type": "code",
   "execution_count": 260,
   "metadata": {},
   "outputs": [],
   "source": [
    "import numpy as np\n",
    "import onnx\n",
    "import onnxruntime as ort\n",
    "import time\n",
    "import matplotlib.pyplot as plt\n",
    "import csv\n",
    "\n",
    "class Multiply_experiment_class():\n",
    "    #TODO: Set the input size to the size of a layer in the TINYYOLO \n",
    "    def __init__(self):\n",
    "        self.in1 = np.random.random([4,4]).astype(np.float32)\n",
    "        self.in2 = np.random.random([4,4]).astype(np.float32)\n",
    "        self.ort_runtime=[]\n",
    "        self.out1 = np.random.random([4,4]).astype(np.float32)\n",
    "        \n",
    "    def expected_res_mul(self):\n",
    "        res = np.multiply(self.in1,self.in2)\n",
    "        return res\n",
    "\n",
    "    def test_ort_mul(self, model_name):\n",
    "        model_load = onnx.load(model_name)\n",
    "        expected_result = self.expected_res_mul()\n",
    "        input_dict = {\"in1\": self.in1, \"in2\": self.in2}\n",
    "        sess = ort.InferenceSession(model_load.SerializeToString())\n",
    "        self.out1 = sess.run(None,input_dict)\n",
    "        return np.allclose(self.out1,expected_result)\n",
    "           \n",
    "    \n",
    "    def throughput_test(self,interations, filename = \"ort_results.csv\"):\n",
    "        for i in range(interations):\n",
    "            start = time.time()\n",
    "            self.test_ort_mul(\"multiply_model.onnx\")\n",
    "            end = time.time()\n",
    "            self.ort_runtime.append(end-start)       \n",
    "        self.results_publisher()\n",
    "        np.savetxt(filename , np.asarray(ort_runtime), delimiter=',')\n",
    "        return self.ort_runtime\n",
    "    \n",
    "    def results_publisher(self):\n",
    "        print(\"Interations = %d\" %(len(self.ort_runtime)))\n",
    "        print(\"Min = %f ms\" %(np.mean(self.ort_runtime)*1000))\n",
    "        print(\"Max = %f ms\" %(np.max(self.ort_runtime)*1000))\n",
    "        print(\"Mean = %f ms\" %(np.min(self.ort_runtime)*1000))"
   ]
  },
  {
   "cell_type": "code",
   "execution_count": 261,
   "metadata": {},
   "outputs": [],
   "source": [
    "mul_exp = Multiply_experiment_class()    "
   ]
  },
  {
   "cell_type": "code",
   "execution_count": 262,
   "metadata": {},
   "outputs": [
    {
     "name": "stdout",
     "output_type": "stream",
     "text": [
      "Interations = 100\n",
      "Min = 2.848241 ms\n",
      "Max = 11.878967 ms\n",
      "Mean = 0.996828 ms\n"
     ]
    }
   ],
   "source": [
    "ort_rt = mul_exp.throughput_test(100)"
   ]
  },
  {
   "cell_type": "code",
   "execution_count": null,
   "metadata": {},
   "outputs": [],
   "source": [
    "Mul1_node = onnx.helper.make_node(\n",
    "    'Mul',\n",
    "    inputs=['in1', 'in2'],\n",
    "    outputs=['out1'],\n",
    "    name='Mul1'\n",
    ")"
   ]
  },
  {
   "cell_type": "code",
   "execution_count": null,
   "metadata": {},
   "outputs": [],
   "source": [
    "in1 = onnx.helper.make_tensor_value_info(\"in1\", onnx.TensorProto.FLOAT, [4, 4])\n",
    "in2 = onnx.helper.make_tensor_value_info(\"in2\", onnx.TensorProto.FLOAT, [4, 4])\n",
    "out1 = onnx.helper.make_tensor_value_info(\"out1\", onnx.TensorProto.FLOAT, [4, 4])"
   ]
  },
  {
   "cell_type": "code",
   "execution_count": null,
   "metadata": {},
   "outputs": [],
   "source": [
    " graph = onnx.helper.make_graph(\n",
    "        nodes=[\n",
    "            Mul1_node,\n",
    "        ],\n",
    "        name=\"simple_graph\",\n",
    "        inputs=[in1, in2],\n",
    "        outputs=[out1],\n",
    "        value_info=[\n",
    "        ],\n",
    "    )"
   ]
  },
  {
   "cell_type": "code",
   "execution_count": null,
   "metadata": {},
   "outputs": [],
   "source": [
    "onnx_model = onnx.helper.make_model(graph, producer_name=\"multiply-model\")\n",
    "onnx.save(onnx_model, 'multiply_model.onnx')"
   ]
  },
  {
   "cell_type": "code",
   "execution_count": null,
   "metadata": {},
   "outputs": [],
   "source": []
  },
  {
   "cell_type": "code",
   "execution_count": null,
   "metadata": {},
   "outputs": [],
   "source": []
  }
 ],
 "metadata": {
  "kernelspec": {
   "display_name": "Python 3.9.2 64-bit",
   "language": "python",
   "name": "python3"
  },
  "language_info": {
   "codemirror_mode": {
    "name": "ipython",
    "version": 3
   },
   "file_extension": ".py",
   "mimetype": "text/x-python",
   "name": "python",
   "nbconvert_exporter": "python",
   "pygments_lexer": "ipython3",
   "version": "3.9.2"
  },
  "orig_nbformat": 4,
  "vscode": {
   "interpreter": {
    "hash": "c0480a40de60fe0b4be044949303dbe98ce3610184aeb132e77bccbcbbb8df2a"
   }
  }
 },
 "nbformat": 4,
 "nbformat_minor": 2
}
