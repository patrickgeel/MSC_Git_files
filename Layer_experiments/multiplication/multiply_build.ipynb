{
 "cells": [
  {
   "cell_type": "code",
   "execution_count": 2,
   "metadata": {},
   "outputs": [],
   "source": [
    "from qonnx.core.modelwrapper import ModelWrapper\n",
    "from qonnx.core.datatype import DataType\n",
    "\n",
    "model_file = \"onnx_models/multiply_model_split.onnx\"\n",
    "model = ModelWrapper(model_file)\n",
    "model.set_tensor_datatype('281',DataType[\"INT8\"])\n",
    "# model.set_tensor_datatype('282',DataType[\"INT8\"])\n",
    "model.set_tensor_datatype('280',DataType[\"INT8\"])\n",
    "# print(model)\n",
    "ModelWrapper.save(model,\"onnx_models/multiply_model_split_fixed_quant.onnx\")"
   ]
  },
  {
   "cell_type": "code",
   "execution_count": 3,
   "metadata": {},
   "outputs": [
    {
     "name": "stdout",
     "output_type": "stream",
     "text": [
      "Previous run results deleted!\n"
     ]
    }
   ],
   "source": [
    "import finn.builder.build_dataflow as build\n",
    "import finn.builder.build_dataflow_config as build_cfg\n",
    "import os\n",
    "import shutil\n",
    "\n",
    "model_file = \"onnx_models/multiply_model_split_fixed_quant.onnx\"\n",
    "\n",
    "final_output_dir = \"output_final\"\n",
    "\n",
    "#Delete previous run results if exist\n",
    "if os.path.exists(final_output_dir):\n",
    "    shutil.rmtree(final_output_dir)\n",
    "    print(\"Previous run results deleted!\")\n",
    "\n",
    "cfg = build.DataflowBuildConfig(\n",
    "    output_dir          = final_output_dir,\n",
    "    mvau_wwidth_max     = 80,\n",
    "    target_fps          = 1000000,\n",
    "    synth_clk_period_ns = 10.0,\n",
    "    board               = \"KV260_SOM\",\n",
    "    shell_flow_type     = build_cfg.ShellFlowType.VIVADO_ZYNQ,\n",
    "    generate_outputs=[\n",
    "        build_cfg.DataflowOutputType.BITFILE,\n",
    "        build_cfg.DataflowOutputType.PYNQ_DRIVER,\n",
    "        build_cfg.DataflowOutputType.DEPLOYMENT_PACKAGE,\n",
    "    ]\n",
    ")"
   ]
  },
  {
   "cell_type": "code",
   "execution_count": 4,
   "metadata": {},
   "outputs": [
    {
     "name": "stdout",
     "output_type": "stream",
     "text": [
      "Building dataflow accelerator from onnx_models/multiply_model_split_fixed_quant.onnx\n",
      "Intermediate outputs will be generated in /workspace/results\n",
      "Final outputs will be generated in output_final\n",
      "Build log is at output_final/build_dataflow.log\n",
      "Running step: step_qonnx_to_finn [1/17]\n",
      "Running step: step_tidy_up [2/17]\n",
      "Running step: step_streamline [3/17]\n",
      "Running step: step_convert_to_hls [4/17]\n"
     ]
    },
    {
     "name": "stderr",
     "output_type": "stream",
     "text": [
      "Traceback (most recent call last):\n",
      "  File \"/workspace/finn/src/finn/builder/build_dataflow.py\", line 166, in build_dataflow_cfg\n",
      "    model = transform_step(model, cfg)\n",
      "  File \"/workspace/finn/src/finn/builder/build_dataflow_steps.py\", line 426, in step_hls_codegen\n",
      "    model = model.transform(\n",
      "  File \"/workspace/qonnx/src/qonnx/core/modelwrapper.py\", line 140, in transform\n",
      "    (transformed_model, model_was_changed) = transformation.apply(transformed_model)\n",
      "  File \"/workspace/finn/src/finn/transformation/fpgadataflow/prepare_ip.py\", line 88, in apply\n",
      "    _codegen_single_node(node, model, self.fpgapart, self.clk)\n",
      "  File \"/workspace/finn/src/finn/transformation/fpgadataflow/prepare_ip.py\", line 55, in _codegen_single_node\n",
      "    inst.code_generation_ipgen(model, fpgapart, clk)\n",
      "  File \"/workspace/finn/src/finn/custom_op/fpgadataflow/hlscustomop.py\", line 271, in code_generation_ipgen\n",
      "    self.generate_params(model, path)\n",
      "  File \"/workspace/finn/src/finn/custom_op/fpgadataflow/matrixvectoractivation.py\", line 831, in generate_params\n",
      "    self.make_weight_file(\n",
      "  File \"/workspace/finn/src/finn/custom_op/fpgadataflow/matrixvectoractivation.py\", line 771, in make_weight_file\n",
      "    weight_tensor_pe_flipped = pack_innermost_dim_as_hex_string(\n",
      "  File \"/workspace/finn/src/finn/util/data_packing.py\", line 156, in pack_innermost_dim_as_hex_string\n",
      "    return np.apply_along_axis(fun, ndarray.ndim - 1, ndarray)\n",
      "  File \"<__array_function__ internals>\", line 180, in apply_along_axis\n",
      "  File \"/opt/conda/lib/python3.8/site-packages/numpy/lib/shape_base.py\", line 379, in apply_along_axis\n",
      "    res = asanyarray(func1d(inarr_view[ind0], *args, **kwargs))\n",
      "  File \"/workspace/finn/src/finn/util/data_packing.py\", line 152, in fun\n",
      "    return array2hexstring(\n",
      "  File \"/workspace/finn/src/finn/util/data_packing.py\", line 84, in array2hexstring\n",
      "    assert dtype.allowed(val), \"This value is not permitted by chosen dtype.\"\n",
      "AssertionError: This value is not permitted by chosen dtype.\n"
     ]
    },
    {
     "name": "stdout",
     "output_type": "stream",
     "text": [
      "Running step: step_create_dataflow_partition [5/17]\n",
      "Running step: step_target_fps_parallelization [6/17]\n",
      "Running step: step_apply_folding_config [7/17]\n",
      "Running step: step_generate_estimate_reports [8/17]\n",
      "Running step: step_hls_codegen [9/17]\n",
      "> \u001b[0;32m/workspace/finn/src/finn/util/data_packing.py\u001b[0m(84)\u001b[0;36marray2hexstring\u001b[0;34m()\u001b[0m\n",
      "\u001b[0;32m     82 \u001b[0;31m    \u001b[0;32mfor\u001b[0m \u001b[0mval\u001b[0m \u001b[0;32min\u001b[0m \u001b[0marray\u001b[0m\u001b[0;34m:\u001b[0m\u001b[0;34m\u001b[0m\u001b[0;34m\u001b[0m\u001b[0m\n",
      "\u001b[0m\u001b[0;32m     83 \u001b[0;31m        \u001b[0;31m# ensure that this value is permitted by chosen dtype\u001b[0m\u001b[0;34m\u001b[0m\u001b[0;34m\u001b[0m\u001b[0;34m\u001b[0m\u001b[0m\n",
      "\u001b[0m\u001b[0;32m---> 84 \u001b[0;31m        \u001b[0;32massert\u001b[0m \u001b[0mdtype\u001b[0m\u001b[0;34m.\u001b[0m\u001b[0mallowed\u001b[0m\u001b[0;34m(\u001b[0m\u001b[0mval\u001b[0m\u001b[0;34m)\u001b[0m\u001b[0;34m,\u001b[0m \u001b[0;34m\"This value is not permitted by chosen dtype.\"\u001b[0m\u001b[0;34m\u001b[0m\u001b[0;34m\u001b[0m\u001b[0m\n",
      "\u001b[0m\u001b[0;32m     85 \u001b[0;31m        \u001b[0;32mif\u001b[0m \u001b[0mdtype\u001b[0m\u001b[0;34m.\u001b[0m\u001b[0mis_integer\u001b[0m\u001b[0;34m(\u001b[0m\u001b[0;34m)\u001b[0m\u001b[0;34m:\u001b[0m\u001b[0;34m\u001b[0m\u001b[0;34m\u001b[0m\u001b[0m\n",
      "\u001b[0m\u001b[0;32m     86 \u001b[0;31m            \u001b[0;32mif\u001b[0m \u001b[0mdtype\u001b[0m\u001b[0;34m.\u001b[0m\u001b[0msigned\u001b[0m\u001b[0;34m(\u001b[0m\u001b[0;34m)\u001b[0m\u001b[0;34m:\u001b[0m\u001b[0;34m\u001b[0m\u001b[0;34m\u001b[0m\u001b[0m\n",
      "\u001b[0m\n",
      "ipdb> exit\n",
      "Build failed\n",
      "CPU times: user 278 ms, sys: 58.5 ms, total: 337 ms\n",
      "Wall time: 7.71 s\n"
     ]
    },
    {
     "data": {
      "text/plain": [
       "-1"
      ]
     },
     "execution_count": 4,
     "metadata": {},
     "output_type": "execute_result"
    }
   ],
   "source": [
    "%%time\n",
    "build.build_dataflow_cfg(model_file, cfg)"
   ]
  }
 ],
 "metadata": {
  "kernelspec": {
   "display_name": "Python 3",
   "language": "python",
   "name": "python3"
  },
  "language_info": {
   "codemirror_mode": {
    "name": "ipython",
    "version": 3
   },
   "file_extension": ".py",
   "mimetype": "text/x-python",
   "name": "python",
   "nbconvert_exporter": "python",
   "pygments_lexer": "ipython3",
   "version": "3.8.5"
  },
  "vscode": {
   "interpreter": {
    "hash": "c0480a40de60fe0b4be044949303dbe98ce3610184aeb132e77bccbcbbb8df2a"
   }
  }
 },
 "nbformat": 4,
 "nbformat_minor": 2
}
