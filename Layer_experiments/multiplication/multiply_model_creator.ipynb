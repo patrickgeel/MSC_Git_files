{
 "cells": [
  {
   "cell_type": "code",
   "execution_count": 43,
   "metadata": {},
   "outputs": [],
   "source": [
    "import onnx \n",
    "import numpy as np\n",
    "size = 5"
   ]
  },
  {
   "cell_type": "code",
   "execution_count": 44,
   "metadata": {},
   "outputs": [],
   "source": [
    "Mul1_node = onnx.helper.make_node(\n",
    "    'Mul',\n",
    "    inputs=['in1', 'b'],\n",
    "    outputs=['out1'],\n",
    "    name='Mul1'\n",
    ")"
   ]
  },
  {
   "cell_type": "code",
   "execution_count": 45,
   "metadata": {},
   "outputs": [],
   "source": [
    "# in1 = onnx.helper.make_tensor_value_info(\"in1\", onnx.TensorProto.FLOAT, [1,16,256,256])\n",
    "# b = onnx.helper.make_tensor_value_info(\"b\", onnx.TensorProto.FLOAT, [1,16,1,1])\n",
    "# out1 = onnx.helper.make_tensor_value_info(\"out1\", onnx.TensorProto.FLOAT, [1,16,256,256])\n",
    "in1 = onnx.helper.make_tensor_value_info(\"in1\", onnx.TensorProto.FLOAT, [size,size])\n",
    "b = onnx.helper.make_tensor_value_info(\"b\", onnx.TensorProto.FLOAT, [size,size])\n",
    "out1 = onnx.helper.make_tensor_value_info(\"out1\", onnx.TensorProto.FLOAT, [size,size])"
   ]
  },
  {
   "cell_type": "code",
   "execution_count": 46,
   "metadata": {},
   "outputs": [],
   "source": [
    "b_tensor = np.random.random([size,size]).astype(np.float32)\n",
    "np.save('b_tensor',b_tensor)\n",
    "b_init = onnx.helper.make_tensor(\"b\", onnx.TensorProto.FLOAT, [size,size], vals = b_tensor)\n",
    "# in2_init = onnx.helper.make_tensor(\"in2\", onnx.TensorProto.FLOAT, [1,16,1,1], vals = np.random.random([1,16,1,1]).astype(np.float32))"
   ]
  },
  {
   "cell_type": "code",
   "execution_count": 47,
   "metadata": {},
   "outputs": [],
   "source": [
    "graph = onnx.helper.make_graph(\n",
    "    nodes=[\n",
    "        Mul1_node,\n",
    "    ],\n",
    "    name=\"simple_graph\",\n",
    "    inputs=[in1,b],\n",
    "    initializer = [b_init],\n",
    "    outputs=[out1],\n",
    "    value_info=[\n",
    "    ],\n",
    ")"
   ]
  },
  {
   "cell_type": "code",
   "execution_count": 48,
   "metadata": {},
   "outputs": [],
   "source": [
    "onnx_model = onnx.helper.make_model(graph, producer_name=\"multiply-model\")\n",
    "onnx.checker.check_model(onnx_model)\n",
    "\n",
    "onnx.save(onnx_model, 'multiply_model.onnx')"
   ]
  }
 ],
 "metadata": {
  "kernelspec": {
   "display_name": "Python 3.9.2 64-bit",
   "language": "python",
   "name": "python3"
  },
  "language_info": {
   "codemirror_mode": {
    "name": "ipython",
    "version": 3
   },
   "file_extension": ".py",
   "mimetype": "text/x-python",
   "name": "python",
   "nbconvert_exporter": "python",
   "pygments_lexer": "ipython3",
   "version": "3.9.2"
  },
  "orig_nbformat": 4,
  "vscode": {
   "interpreter": {
    "hash": "c0480a40de60fe0b4be044949303dbe98ce3610184aeb132e77bccbcbbb8df2a"
   }
  }
 },
 "nbformat": 4,
 "nbformat_minor": 2
}
