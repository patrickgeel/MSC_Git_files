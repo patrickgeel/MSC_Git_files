{
 "cells": [
  {
   "cell_type": "code",
   "execution_count": 22,
   "metadata": {},
   "outputs": [],
   "source": [
    "import onnx \n",
    "import numpy as np"
   ]
  },
  {
   "cell_type": "code",
   "execution_count": 23,
   "metadata": {},
   "outputs": [],
   "source": [
    "Mul1_node = onnx.helper.make_node(\n",
    "    'Mul',\n",
    "    inputs=['in1', 'in2'],\n",
    "    outputs=['out1'],\n",
    "    name='Mul1'\n",
    ")"
   ]
  },
  {
   "cell_type": "code",
   "execution_count": 24,
   "metadata": {},
   "outputs": [],
   "source": [
    "in1 = onnx.helper.make_tensor_value_info(\"in1\", onnx.TensorProto.FLOAT, [1,16,1,1])\n",
    "in2 = onnx.helper.make_tensor_value_info(\"in2\", onnx.TensorProto.FLOAT, [1,16,1,1])\n",
    "out1 = onnx.helper.make_tensor_value_info(\"out1\", onnx.TensorProto.FLOAT, [1,16,1,1])"
   ]
  },
  {
   "cell_type": "code",
   "execution_count": 25,
   "metadata": {},
   "outputs": [],
   "source": [
    "in1_init = onnx.helper.make_tensor(\"in1\", onnx.TensorProto.FLOAT, [1,16,1,1], vals = np.random.random([1,16,1,1]))\n",
    "in2_init = onnx.helper.make_tensor(\"in2\", onnx.TensorProto.FLOAT, [1,16,1,1], vals = np.random.random([1,16,1,1]))"
   ]
  },
  {
   "cell_type": "code",
   "execution_count": 26,
   "metadata": {},
   "outputs": [],
   "source": [
    "graph = onnx.helper.make_graph(\n",
    "    nodes=[\n",
    "        Mul1_node,\n",
    "    ],\n",
    "    name=\"simple_graph\",\n",
    "    inputs=[in1, in2],\n",
    "    initializer = [in1_init,in2_init],\n",
    "    outputs=[out1],\n",
    "    value_info=[\n",
    "    ],\n",
    ")"
   ]
  },
  {
   "cell_type": "code",
   "execution_count": 27,
   "metadata": {},
   "outputs": [
    {
     "data": {
      "text/plain": [
       "[dims: 1\n",
       "dims: 16\n",
       "dims: 1\n",
       "dims: 1\n",
       "data_type: 1\n",
       "float_data: 0.99770075\n",
       "float_data: 0.12349386\n",
       "float_data: 0.5713368\n",
       "float_data: 0.074668534\n",
       "float_data: 0.04519429\n",
       "float_data: 0.17273551\n",
       "float_data: 0.11072811\n",
       "float_data: 0.14680395\n",
       "float_data: 0.43418762\n",
       "float_data: 0.7869018\n",
       "float_data: 0.26031628\n",
       "float_data: 0.43232927\n",
       "float_data: 0.7817323\n",
       "float_data: 0.52981466\n",
       "float_data: 0.3503969\n",
       "float_data: 0.44618145\n",
       "name: \"in1\"\n",
       ", dims: 1\n",
       "dims: 16\n",
       "dims: 1\n",
       "dims: 1\n",
       "data_type: 1\n",
       "float_data: 0.8632885\n",
       "float_data: 0.916017\n",
       "float_data: 0.16215594\n",
       "float_data: 0.5737275\n",
       "float_data: 0.019127626\n",
       "float_data: 0.48542997\n",
       "float_data: 0.224522\n",
       "float_data: 0.62909675\n",
       "float_data: 0.9164\n",
       "float_data: 0.0169904\n",
       "float_data: 0.42955723\n",
       "float_data: 0.63219064\n",
       "float_data: 0.88170695\n",
       "float_data: 0.49142358\n",
       "float_data: 0.6618114\n",
       "float_data: 0.81212\n",
       "name: \"in2\"\n",
       "]"
      ]
     },
     "execution_count": 27,
     "metadata": {},
     "output_type": "execute_result"
    }
   ],
   "source": [
    "graph.initializer"
   ]
  },
  {
   "cell_type": "code",
   "execution_count": 28,
   "metadata": {},
   "outputs": [],
   "source": [
    "onnx_model = onnx.helper.make_model(graph, producer_name=\"multiply-model\")\n",
    "onnx.checker.check_model(onnx_model)\n",
    "\n",
    "onnx.save(onnx_model, 'multiply_model.onnx')"
   ]
  }
 ],
 "metadata": {
  "kernelspec": {
   "display_name": "Python 3.9.2 64-bit",
   "language": "python",
   "name": "python3"
  },
  "language_info": {
   "codemirror_mode": {
    "name": "ipython",
    "version": 3
   },
   "file_extension": ".py",
   "mimetype": "text/x-python",
   "name": "python",
   "nbconvert_exporter": "python",
   "pygments_lexer": "ipython3",
   "version": "3.9.2"
  },
  "orig_nbformat": 4,
  "vscode": {
   "interpreter": {
    "hash": "c0480a40de60fe0b4be044949303dbe98ce3610184aeb132e77bccbcbbb8df2a"
   }
  }
 },
 "nbformat": 4,
 "nbformat_minor": 2
}
