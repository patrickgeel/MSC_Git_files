{
 "cells": [
  {
   "cell_type": "code",
   "execution_count": null,
   "metadata": {},
   "outputs": [],
   "source": [
    "import numpy as np\n",
    "import onnx\n",
    "import onnxruntime as ort\n",
    "import time\n",
    "import os\n",
    "import matplotlib.pyplot as plt\n",
    "import csv\n",
    "\n",
    "class Multiply_experiment_class():\n",
    "    #TODO: Set the input size to the size of a layer in the TINYYOLO \n",
    "    def __init__(self):\n",
    "        self.in1 = np.random.random([4,4]).astype(np.float32)\n",
    "        self.in2 = np.random.random([4,4]).astype(np.float32)\n",
    "        self.ort_runtime=[]\n",
    "        self.out1 = np.random.random([4,4]).astype(np.float32)\n",
    "        \n",
    "    def expected_res_mul(self):\n",
    "        res = np.multiply(self.in1,self.in2)\n",
    "        return res\n",
    "\n",
    "    def test_ort_mul(self, model_name):\n",
    "        model_load = onnx.load(model_name)\n",
    "        self.expected_result = self.expected_res_mul()\n",
    "        input_dict = {\"in1\": self.in1, \"in2\": self.in2}\n",
    "        sess = ort.InferenceSession(model_load.SerializeToString())\n",
    "        self.out1 = sess.run(None,input_dict)           \n",
    "    \n",
    "    def throughput_test(self,interations):\n",
    "        for i in range(interations):\n",
    "            start = time.time()\n",
    "            self.test_ort_mul(\"multiply_model.onnx\")\n",
    "            end = time.time()\n",
    "            self.ort_runtime.append(end-start)       \n",
    "        # return self.ort_runtime\n",
    "    \n",
    "    def results_publisher(self, filename = \"ort_results.csv\"):\n",
    "        print(\"Interations = %d\" %(len(self.ort_runtime)))\n",
    "        print(\"Min = %f ms\" %(np.mean(self.ort_runtime)*1000))\n",
    "        print(\"Max = %f ms\" %(np.max(self.ort_runtime)*1000))\n",
    "        print(\"Mean = %f ms\" %(np.min(self.ort_runtime)*1000))        \n",
    "        if not os.path.exists(\"results/\"):\n",
    "            os.makedirs(\"results/\")\n",
    "        np.savetxt(\"results/\" + filename , np.asarray(self.ort_runtime), delimiter=',')"
   ]
  },
  {
   "cell_type": "code",
   "execution_count": null,
   "metadata": {},
   "outputs": [],
   "source": [
    "t1 = Multiply_experiment_class()\n",
    "t1.throughput_test(1000)\n",
    "if np.allclose(t1.out1,t1.expected_res_mul()):\n",
    "    t1.results_publisher()"
   ]
  }
 ],
 "metadata": {
  "kernelspec": {
   "display_name": "Python 3.9.2 64-bit",
   "language": "python",
   "name": "python3"
  },
  "language_info": {
   "codemirror_mode": {
    "name": "ipython",
    "version": 3
   },
   "file_extension": ".py",
   "mimetype": "text/x-python",
   "name": "python",
   "nbconvert_exporter": "python",
   "pygments_lexer": "ipython3",
   "version": "3.9.2"
  },
  "orig_nbformat": 4,
  "vscode": {
   "interpreter": {
    "hash": "c0480a40de60fe0b4be044949303dbe98ce3610184aeb132e77bccbcbbb8df2a"
   }
  }
 },
 "nbformat": 4,
 "nbformat_minor": 2
}
