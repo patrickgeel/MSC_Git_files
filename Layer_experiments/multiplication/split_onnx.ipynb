{
 "cells": [
  {
   "cell_type": "code",
   "execution_count": 10,
   "metadata": {},
   "outputs": [
    {
     "name": "stdout",
     "output_type": "stream",
     "text": [
      "ONNX version: 1.12.0\n"
     ]
    }
   ],
   "source": [
    "import onnx\n",
    "from onnx.shape_inference import infer_shapes\n",
    "from onnx import helper\n",
    "import os\n",
    "print(\"ONNX version:\", onnx.__version__)"
   ]
  },
  {
   "cell_type": "code",
   "execution_count": 12,
   "metadata": {},
   "outputs": [],
   "source": [
    "# Set some global variables\n",
    "DESIRED_NODE = \"Mul_\"\n",
    "ONNX_MODEL_FOLDER = \"onnx_models\""
   ]
  },
  {
   "cell_type": "code",
   "execution_count": 49,
   "metadata": {},
   "outputs": [],
   "source": [
    "# Load the baseline tinyyolo model\n",
    "model = onnx.load(\"../tinyyolo_infershapes.onnx\")\n",
    "mulnodes = []\n",
    "# Get the desired node \n",
    "for index,n in enumerate(model.graph.node):\n",
    "    if DESIRED_NODE in n.name:\n",
    "        mulnodes.append(index)\n",
    "\n",
    "# Get the second node that is present in the graph\n",
    "mul_node = model.graph.node[mulnodes[1]]\n",
    "in_tensors = mul_node.input\n",
    "out_tensor = mul_node.output\n",
    "in_value_info = []\n",
    "out_value_info = []\n",
    "\n",
    "# Get the Valueprotos for the in and out tensors\n",
    "for x in model.graph.value_info:\n",
    "    if in_tensors[0] in x.name or in_tensors[1] in x.name:\n",
    "        in_value_info.append(x)\n",
    "    elif out_tensor[0] in x.name:\n",
    "        out_value_info.append(x)"
   ]
  },
  {
   "cell_type": "code",
   "execution_count": 67,
   "metadata": {},
   "outputs": [],
   "source": [
    "import numpy as np\n",
    "b_tensor = np.random.random([1,16,1,1]).astype(np.float32)\n",
    "init = onnx.helper.make_tensor(str(in_value_info[1].name), onnx.TensorProto.FLOAT, b_tensor.shape, vals = b_tensor)\n",
    "np.save(\"b\", b_tensor)"
   ]
  },
  {
   "cell_type": "code",
   "execution_count": 63,
   "metadata": {},
   "outputs": [],
   "source": [
    "# Create a new graph from the desired node. \n",
    "graph = helper.make_graph(\n",
    "    nodes=[mul_node],\n",
    "    name=\"simple_graph\",\n",
    "    inputs=[in_value_info[0], in_value_info[1]],\n",
    "    initializer = [init],\n",
    "    outputs=[out_value_info[0]],\n",
    ")\n",
    "\n",
    "# Save the model to the onnx model folder\n",
    "if not os.path.exists(ONNX_MODEL_FOLDER):\n",
    "    os.makedirs(ONNX_MODEL_FOLDER)\n",
    "onnx_model = helper.make_model(graph, producer_name=\"multiply-model\")\n",
    "onnx.save(onnx_model, ONNX_MODEL_FOLDER + '\\multiply_model_split.onnx')"
   ]
  },
  {
   "cell_type": "code",
   "execution_count": null,
   "metadata": {},
   "outputs": [],
   "source": [
    "\n"
   ]
  }
 ],
 "metadata": {
  "kernelspec": {
   "display_name": "Python 3.9.2 64-bit",
   "language": "python",
   "name": "python3"
  },
  "language_info": {
   "codemirror_mode": {
    "name": "ipython",
    "version": 3
   },
   "file_extension": ".py",
   "mimetype": "text/x-python",
   "name": "python",
   "nbconvert_exporter": "python",
   "pygments_lexer": "ipython3",
   "version": "3.9.2"
  },
  "orig_nbformat": 4,
  "vscode": {
   "interpreter": {
    "hash": "c0480a40de60fe0b4be044949303dbe98ce3610184aeb132e77bccbcbbb8df2a"
   }
  }
 },
 "nbformat": 4,
 "nbformat_minor": 2
}
