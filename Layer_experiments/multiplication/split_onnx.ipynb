{
 "cells": [
  {
   "cell_type": "code",
   "execution_count": 152,
   "metadata": {},
   "outputs": [
    {
     "name": "stdout",
     "output_type": "stream",
     "text": [
      "ONNX version: 1.12.0\n"
     ]
    }
   ],
   "source": [
    "import onnx\n",
    "from onnx.shape_inference import infer_shapes\n",
    "from onnx import helper\n",
    "import os\n",
    "print(\"ONNX version:\", onnx.__version__)"
   ]
  },
  {
   "cell_type": "code",
   "execution_count": 153,
   "metadata": {},
   "outputs": [],
   "source": [
    "# Set some global variables\n",
    "DESIRED_NODE = \"Mul_\"\n",
    "ONNX_MODEL_FOLDER = \"onnx_models\""
   ]
  },
  {
   "cell_type": "code",
   "execution_count": 154,
   "metadata": {},
   "outputs": [
    {
     "name": "stdout",
     "output_type": "stream",
     "text": [
      "['280', '281']\n"
     ]
    }
   ],
   "source": [
    "# Load the baseline tinyyolo model\n",
    "model = onnx.load(\"../tinyyolo_infershapes.onnx\")\n",
    "mulnodes = []\n",
    "# Get the desired node \n",
    "for index,n in enumerate(model.graph.node):\n",
    "    if DESIRED_NODE in n.name:\n",
    "        mulnodes.append(index)\n",
    "\n",
    "n1 = model.graph.node[mulnodes[1]-1]\n",
    "# n2 = model.graph.node[mulnodes[1]]\n",
    "\n",
    "def get_tensor_value_info(model, node):\n",
    "    in_tensors = node.input\n",
    "    print(in_tensors)\n",
    "    out_tensor = node.output\n",
    "    in_value_info = []\n",
    "    out_value_info = []\n",
    "\n",
    "    # Get the Valueprotos for the in and out tensors\n",
    "    for x in model.graph.value_info:\n",
    "        for i in in_tensors:\n",
    "            if i in x.name:\n",
    "                in_value_info.append(x)\n",
    "            elif out_tensor[0] in x.name:\n",
    "                out_value_info.append(x)\n",
    "    in1 = in_value_info[0]\n",
    "    in2 = in_value_info[1]\n",
    "    out1 = out_value_info[0]\n",
    "    return in_value_info, out_value_info\n",
    "\n",
    "n1_in_val, n1_out_val = get_tensor_value_info(model,n1)\n",
    "# n2_in_val, n2_out_val = get_tensor_value_info(model,n2)\n",
    "in1,in2 = n1_in_val\n",
    "# in3,in4 = n2_in_val"
   ]
  },
  {
   "cell_type": "code",
   "execution_count": 155,
   "metadata": {},
   "outputs": [],
   "source": [
    "import numpy as np\n",
    "n1_tensor = np.random.random([16,3,3,3]).astype(np.int8)\n",
    "# n2_tensor = np.random.random([1,16,1,1]).astype(np.float32)\n",
    "n1_in2_init = onnx.helper.make_tensor(str(n1_in_val[1].name), onnx.TensorProto.INT8, n1_tensor.shape, vals = n1_tensor)\n",
    "# n2_in2_init = onnx.helper.make_tensor(str(n2_in_val[1].name), onnx.TensorProto.FLOAT, n2_tensor.shape, vals = n2_tensor)\n",
    "# init = onnx.helper.make_tensor(str(in2.name), onnx.TensorProto.FLOAT, b_tensor.shape, vals = b_tensor)\n",
    "# np.save(\"n1_tensor\", n1_tensor)\n",
    "# np.save(\"n2_tensor\", n2_tensor)"
   ]
  },
  {
   "cell_type": "code",
   "execution_count": 156,
   "metadata": {},
   "outputs": [
    {
     "data": {
      "text/plain": [
       "('280', '281')"
      ]
     },
     "execution_count": 156,
     "metadata": {},
     "output_type": "execute_result"
    }
   ],
   "source": [
    "in1.name,in2.name,\n",
    "# in3.name,in4.name"
   ]
  },
  {
   "cell_type": "code",
   "execution_count": 157,
   "metadata": {},
   "outputs": [],
   "source": [
    "# Create a new graph from the desired node. \n",
    "graph = helper.make_graph(\n",
    "    nodes=[n1],\n",
    "    name=\"simple_graph\",\n",
    "    inputs=[in1],\n",
    "    initializer = [n1_in2_init],\n",
    "    value_info=[in2],\n",
    "    outputs=[n1_out_val[0]],\n",
    ")\n",
    "\n",
    "# Save the model to the onnx model folder\n",
    "if not os.path.exists(ONNX_MODEL_FOLDER):\n",
    "    os.makedirs(ONNX_MODEL_FOLDER)\n",
    "onnx_model = helper.make_model(graph, producer_name=\"multiply-model\")\n",
    "onnx.save(onnx_model, ONNX_MODEL_FOLDER + '\\multiply_model_split.onnx')"
   ]
  }
 ],
 "metadata": {
  "kernelspec": {
   "display_name": "Python 3.9.2 64-bit",
   "language": "python",
   "name": "python3"
  },
  "language_info": {
   "codemirror_mode": {
    "name": "ipython",
    "version": 3
   },
   "file_extension": ".py",
   "mimetype": "text/x-python",
   "name": "python",
   "nbconvert_exporter": "python",
   "pygments_lexer": "ipython3",
   "version": "3.9.2"
  },
  "orig_nbformat": 4,
  "vscode": {
   "interpreter": {
    "hash": "c0480a40de60fe0b4be044949303dbe98ce3610184aeb132e77bccbcbbb8df2a"
   }
  }
 },
 "nbformat": 4,
 "nbformat_minor": 2
}
