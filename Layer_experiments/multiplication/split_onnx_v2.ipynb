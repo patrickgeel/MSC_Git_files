{
 "cells": [
  {
   "cell_type": "code",
   "execution_count": 1,
   "metadata": {},
   "outputs": [
    {
     "name": "stdout",
     "output_type": "stream",
     "text": [
      "ONNX version: 1.12.0\n"
     ]
    }
   ],
   "source": [
    "import onnx\n",
    "from onnx.shape_inference import infer_shapes\n",
    "from onnx import helper\n",
    "import os\n",
    "print(\"ONNX version:\", onnx.__version__)"
   ]
  },
  {
   "cell_type": "code",
   "execution_count": 5,
   "metadata": {},
   "outputs": [],
   "source": [
    "Add1_node = onnx.helper.make_node(\n",
    "    'Add',\n",
    "    inputs=['in1', 'in2'],\n",
    "    outputs=['sum1'],\n",
    "    name='Add1'\n",
    ")\n",
    "Add2_node = onnx.helper.make_node(\n",
    "    'Add',\n",
    "    inputs=['sum1', 'in3'],\n",
    "    outputs=['sum2'],\n",
    "    name='Add2',\n",
    ")\n",
    "\n",
    "Add3_node = onnx.helper.make_node(\n",
    "    'Add',\n",
    "    inputs=['abs1', 'abs1'],\n",
    "    outputs=['sum3'],\n",
    "    name='Add3',\n",
    ")\n",
    "\n",
    "Abs_node = onnx.helper.make_node(\n",
    "    'Abs',\n",
    "    inputs=['sum2'],\n",
    "    outputs=['abs1'],\n",
    "    name='Abs'\n",
    ")\n",
    "\n",
    "Round_node = onnx.helper.make_node(\n",
    "    'Round',\n",
    "    inputs=['sum3'],\n",
    "    outputs=['out1'],\n",
    "    name='Round',\n",
    ")"
   ]
  },
  {
   "cell_type": "code",
   "execution_count": 12,
   "metadata": {},
   "outputs": [],
   "source": [
    "import numpy as np\n",
    "in1 = onnx.helper.make_tensor_value_info(\"in1\", onnx.TensorProto.FLOAT, [4, 4])\n",
    "in2 = onnx.helper.make_tensor_value_info(\"in2\", onnx.TensorProto.FLOAT, [4, 4])\n",
    "in3 = onnx.helper.make_tensor_value_info(\"in3\", onnx.TensorProto.FLOAT, [4, 4])\n",
    "out1 = onnx.helper.make_tensor_value_info(\"out1\", onnx.TensorProto.FLOAT, [4, 4])\n",
    "\n",
    "\n",
    "in1_init = helper.make_tensor(\"in1\", onnx.TensorProto.FLOAT, [4,4], np.zeros([4,4]))\n",
    "in2_init = helper.make_tensor(\"in1\", onnx.TensorProto.FLOAT, [4,4], np.zeros([4,4]))\n",
    "in3_init = helper.make_tensor(\"in1\", onnx.TensorProto.FLOAT, [4,4], np.zeros([4,4]))"
   ]
  },
  {
   "cell_type": "code",
   "execution_count": 6,
   "metadata": {},
   "outputs": [],
   "source": [
    "graph = onnx.helper.make_graph(\n",
    "    nodes=[\n",
    "        Add1_node,\n",
    "        Add2_node,\n",
    "        Abs_node,\n",
    "        Add3_node,\n",
    "        Round_node,\n",
    "    ],\n",
    "    name=\"simple_graph\",\n",
    "    inputs=[in1, in2, in3],\n",
    "    outputs=[out1],\n",
    "    value_info=[\n",
    "        onnx.helper.make_tensor_value_info(\"sum1\", onnx.TensorProto.FLOAT, [4, 4]),\n",
    "        onnx.helper.make_tensor_value_info(\"sum2\", onnx.TensorProto.FLOAT, [4, 4]),\n",
    "        onnx.helper.make_tensor_value_info(\"abs1\", onnx.TensorProto.FLOAT, [4, 4]),\n",
    "        onnx.helper.make_tensor_value_info(\"sum3\", onnx.TensorProto.FLOAT, [4, 4]),\n",
    "    ],\n",
    "    initializer = [\n",
    "        in1_init,\n",
    "        in2_init,\n",
    "        in3_init\n",
    "    ]\n",
    ")"
   ]
  },
  {
   "cell_type": "code",
   "execution_count": 8,
   "metadata": {},
   "outputs": [],
   "source": [
    "onnx_model = onnx.helper.make_model(graph, producer_name=\"simple-model\")\n",
    "onnx.save(onnx_model, 'onnx_models/simple_model.onnx')"
   ]
  }
 ],
 "metadata": {
  "kernelspec": {
   "display_name": "Python 3.9.2 64-bit",
   "language": "python",
   "name": "python3"
  },
  "language_info": {
   "codemirror_mode": {
    "name": "ipython",
    "version": 3
   },
   "file_extension": ".py",
   "mimetype": "text/x-python",
   "name": "python",
   "nbconvert_exporter": "python",
   "pygments_lexer": "ipython3",
   "version": "3.9.2"
  },
  "orig_nbformat": 4,
  "vscode": {
   "interpreter": {
    "hash": "c0480a40de60fe0b4be044949303dbe98ce3610184aeb132e77bccbcbbb8df2a"
   }
  }
 },
 "nbformat": 4,
 "nbformat_minor": 2
}
