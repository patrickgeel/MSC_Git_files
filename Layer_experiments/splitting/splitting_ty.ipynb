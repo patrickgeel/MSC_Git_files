{
 "cells": [
  {
   "cell_type": "code",
   "execution_count": 1,
   "metadata": {},
   "outputs": [
    {
     "name": "stdout",
     "output_type": "stream",
     "text": [
      "Split at node BatchNormalization_10, and saved to model_files/split_model_BatchNormalization_10.onnx\n",
      "model_files/split_model_BatchNormalization_10.onnx\n"
     ]
    }
   ],
   "source": [
    "from splitting import split_node\n",
    "from build import build_model\n",
    "\n",
    "node_split = \"BatchNormalization_10\"\n",
    "\n",
    "model_pth = split_node(node_split)\n",
    "print(model_pth)"
   ]
  },
  {
   "cell_type": "code",
   "execution_count": 2,
   "metadata": {},
   "outputs": [
    {
     "name": "stdout",
     "output_type": "stream",
     "text": [
      "Building model at output_final/split_model_BatchNormalization_10\n"
     ]
    }
   ],
   "source": [
    "build_model(model_pth)"
   ]
  }
 ],
 "metadata": {
  "kernelspec": {
   "display_name": "Python 3",
   "language": "python",
   "name": "python3"
  },
  "language_info": {
   "codemirror_mode": {
    "name": "ipython",
    "version": 3
   },
   "file_extension": ".py",
   "mimetype": "text/x-python",
   "name": "python",
   "nbconvert_exporter": "python",
   "pygments_lexer": "ipython3",
   "version": "3.8.5"
  },
  "vscode": {
   "interpreter": {
    "hash": "c0480a40de60fe0b4be044949303dbe98ce3610184aeb132e77bccbcbbb8df2a"
   }
  }
 },
 "nbformat": 4,
 "nbformat_minor": 2
}
