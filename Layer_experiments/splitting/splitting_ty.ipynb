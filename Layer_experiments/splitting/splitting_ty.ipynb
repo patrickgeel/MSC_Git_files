{
 "cells": [
  {
   "cell_type": "code",
   "execution_count": 31,
   "metadata": {},
   "outputs": [],
   "source": [
    "import onnx\n",
    "from onnx import helper, TensorProto\n",
    "from qonnx.core.modelwrapper import ModelWrapper\n",
    "from qonnx.transformation.infer_datatypes import InferDataTypes\n",
    "from qonnx.transformation.infer_shapes import InferShapes\n",
    "model = ModelWrapper(\"../tinyyolo_infershapes.onnx\")\n",
    "split_node = \"Conv_7\"\n",
    "nodes = model.graph.node\n",
    "passed_nodes=[]\n",
    "for i,n in enumerate(nodes):\n",
    "    if n.name != split_node:\n",
    "        passed_nodes.append(n)\n",
    "    else:\n",
    "        passed_nodes.append(n)\n",
    "        s_node = n        \n",
    "        break\n",
    "# print(type(list(nodes)))\n",
    "start_node = s_node.input[0]\n",
    "s_node_name = s_node.name\n",
    "# print(out_node)\n",
    "\n",
    "def find_input_node(x):\n",
    "    return 'x' in x.input\n",
    "upstream_nodes = model.find_upstream(start_node,find_input_node)"
   ]
  },
  {
   "cell_type": "code",
   "execution_count": 40,
   "metadata": {},
   "outputs": [],
   "source": [
    "up_n_ordered = []\n",
    "for n in reversed(upstream_nodes):\n",
    "    up_n_ordered.append(n)\n",
    "ish = model.get_tensor_shape('x')\n",
    "osh = model.get_tensor_shape(up_n_ordered[-1].output[0])"
   ]
  },
  {
   "cell_type": "code",
   "execution_count": 21,
   "metadata": {},
   "outputs": [
    {
     "data": {
      "text/plain": [
       "name: \"280\"\n",
       "type {\n",
       "  tensor_type {\n",
       "    elem_type: 1\n",
       "    shape {\n",
       "      dim {\n",
       "        dim_value: 1\n",
       "      }\n",
       "      dim {\n",
       "        dim_value: 3\n",
       "      }\n",
       "      dim {\n",
       "        dim_value: 512\n",
       "      }\n",
       "      dim {\n",
       "        dim_value: 512\n",
       "      }\n",
       "    }\n",
       "  }\n",
       "}"
      ]
     },
     "execution_count": 21,
     "metadata": {},
     "output_type": "execute_result"
    }
   ],
   "source": [
    "inputs = helper.make_tensor_value_info('x',TensorProto.FLOAT,ish)\n",
    "outputs = helper.make_tensor_value_info(up_n_ordered[-1].output[0],TensorProto.FLOAT,osh)"
   ]
  },
  {
   "cell_type": "code",
   "execution_count": 41,
   "metadata": {},
   "outputs": [],
   "source": [
    "new_graph = helper.make_graph(\n",
    "    up_n_ordered,\n",
    "    \"new_graph\",\n",
    "    [inputs],\n",
    "    [outputs]\n",
    ")\n",
    "\n",
    "split_model = ModelWrapper(helper.make_model(new_graph))\n",
    "split_model = split_model.transform(InferShapes())\n",
    "split_model = split_model.transform(InferDataTypes())\n",
    "model_name = \"split_model_{}.onnx\".format(split_node)\n",
    "split_model.save(model_name)"
   ]
  },
  {
   "cell_type": "code",
   "execution_count": null,
   "metadata": {},
   "outputs": [],
   "source": []
  }
 ],
 "metadata": {
  "kernelspec": {
   "display_name": "Python 3",
   "language": "python",
   "name": "python3"
  },
  "language_info": {
   "codemirror_mode": {
    "name": "ipython",
    "version": 3
   },
   "file_extension": ".py",
   "mimetype": "text/x-python",
   "name": "python",
   "nbconvert_exporter": "python",
   "pygments_lexer": "ipython3",
   "version": "3.8.5"
  },
  "vscode": {
   "interpreter": {
    "hash": "c0480a40de60fe0b4be044949303dbe98ce3610184aeb132e77bccbcbbb8df2a"
   }
  }
 },
 "nbformat": 4,
 "nbformat_minor": 2
}
