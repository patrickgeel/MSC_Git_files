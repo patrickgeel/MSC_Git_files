{
 "cells": [
  {
   "cell_type": "code",
   "execution_count": 1,
   "metadata": {},
   "outputs": [],
   "source": [
    "import onnx\n",
    "from onnx import helper, TensorProto\n",
    "from qonnx.core.modelwrapper import ModelWrapper\n",
    "from qonnx.transformation.infer_datatypes import InferDataTypes\n",
    "from qonnx.transformation.infer_shapes import InferShapes\n",
    "from qonnx.core.datatype import DataType\n",
    "from qonnx.util.basic import gen_finn_dt_tensor\n",
    "\n",
    "model = ModelWrapper(\"../tinyyolo_infershapes.onnx\")\n",
    "split_node = \"BatchNormalization_10\"\n",
    "nodes = model.graph.node\n",
    "passed_tensors=[]\n",
    "\n",
    "for i,n in enumerate(nodes):\n",
    "    if n.name != split_node:\n",
    "        passed_tensors.append(n.input[1])\n",
    "    else:\n",
    "        s_node = n        \n",
    "        break\n",
    "init_tens = {}\n",
    "for t in passed_tensors:\n",
    "    init_tens[t] = [model.get_initializer(t),model.get_tensor_datatype(t)]\n",
    "start_node = s_node.input[0]\n",
    "s_node_name = s_node.name\n",
    "# print(out_node)\n",
    "\n",
    "def find_input_node(x):\n",
    "    return 'x' in x.input\n",
    "upstream_nodes = model.find_upstream(start_node,find_input_node)"
   ]
  },
  {
   "cell_type": "code",
   "execution_count": 2,
   "metadata": {},
   "outputs": [],
   "source": [
    "up_n_ordered = []\n",
    "for n in reversed(upstream_nodes):\n",
    "    up_n_ordered.append(n)\n",
    "ish = model.get_tensor_shape('x')\n",
    "osh = model.get_tensor_shape(up_n_ordered[-1].output[0])"
   ]
  },
  {
   "cell_type": "code",
   "execution_count": 3,
   "metadata": {},
   "outputs": [],
   "source": [
    "inputs = helper.make_tensor_value_info('x',TensorProto.FLOAT,ish)\n",
    "outputs = helper.make_tensor_value_info(up_n_ordered[-1].output[0],TensorProto.FLOAT,osh)\n"
   ]
  },
  {
   "cell_type": "code",
   "execution_count": 4,
   "metadata": {},
   "outputs": [],
   "source": [
    "from numpy import float32\n",
    "value_info = []\n",
    "for t in init_tens.items():\n",
    "    shape = model.get_tensor_shape(t[0])\n",
    "    value_info.append(\n",
    "        model.get_tensor_valueinfo(t[0])\n",
    "    )\n",
    "    \n",
    "new_graph = helper.make_graph(\n",
    "    name =\"new_graph\",\n",
    "    inputs=[inputs],\n",
    "    outputs=[outputs],\n",
    "    value_info=value_info,\n",
    "    nodes=up_n_ordered\n",
    ")\n",
    "\n",
    "split_model = ModelWrapper(helper.make_model(new_graph))\n",
    "for t in init_tens.keys():\n",
    "    split_model.set_initializer(t,model.get_initializer(t))\n",
    "    \n",
    "split_model = split_model.transform(InferShapes())\n",
    "split_model = split_model.transform(InferDataTypes())\n",
    "model_name = \"split_model_{}.onnx\".format(split_node)\n",
    "\n",
    "split_model.save(model_name)"
   ]
  }
 ],
 "metadata": {
  "kernelspec": {
   "display_name": "Python 3",
   "language": "python",
   "name": "python3"
  },
  "language_info": {
   "codemirror_mode": {
    "name": "ipython",
    "version": 3
   },
   "file_extension": ".py",
   "mimetype": "text/x-python",
   "name": "python",
   "nbconvert_exporter": "python",
   "pygments_lexer": "ipython3",
   "version": "3.8.5"
  },
  "vscode": {
   "interpreter": {
    "hash": "c0480a40de60fe0b4be044949303dbe98ce3610184aeb132e77bccbcbbb8df2a"
   }
  }
 },
 "nbformat": 4,
 "nbformat_minor": 2
}
