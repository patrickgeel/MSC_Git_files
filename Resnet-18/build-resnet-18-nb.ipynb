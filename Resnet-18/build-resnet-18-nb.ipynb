{
 "cells": [
  {
   "cell_type": "code",
   "execution_count": 1,
   "id": "b50002c1",
   "metadata": {
    "scrolled": true
   },
   "outputs": [
    {
     "name": "stderr",
     "output_type": "stream",
     "text": [
      "<ipython-input-1-dcf5e4ffec12>:43: UserWarning:  FINN Experimental not available. Using non-packed folded down convolution. This is 16 times slower per MHz \n",
      "  warn(\" FINN Experimental not available. Using non-packed folded down convolution. This is 16 times slower per MHz \")\n"
     ]
    }
   ],
   "source": [
    "import finn.builder.build_dataflow as build\n",
    "import finn.builder.build_dataflow_config as build_cfg\n",
    "import os\n",
    "from warnings import warn\n",
    "import shutil\n",
    "from custom_steps import (\n",
    "    step_resnet18_tidy,\n",
    "    step_resnet18_streamline,\n",
    "    step_resnet18_convert_to_hls,\n",
    "    step_resnet18_set_fifo_depths,\n",
    "    step_resnet18_slr_floorplan)\n",
    "\n",
    "model_file = \"models/resnet18.onnx\"\n",
    "board = \"KV260_SOM\"\n",
    "final_output_dir = \"build-{}/{}\".format(board,model_file.split('.')[0].split('/')[1])\n",
    "\n",
    "#Delete previous run results if exist\n",
    "if os.path.exists(final_output_dir):\n",
    "    shutil.rmtree(final_output_dir)\n",
    "    print(\"Previous run results deleted!\")\n",
    "    \n",
    "resnet18_build_steps = [\n",
    "    step_resnet18_tidy,\n",
    "    step_resnet18_streamline,\n",
    "    step_resnet18_convert_to_hls,\n",
    "    \"step_create_dataflow_partition\",\n",
    "    \"step_apply_folding_config\",\n",
    "    \"step_generate_estimate_reports\",\n",
    "    \"step_hls_codegen\",\n",
    "    \"step_hls_ipgen\",\n",
    "    step_resnet18_set_fifo_depths,\n",
    "    step_resnet18_slr_floorplan,\n",
    "    \"step_synthesize_bitfile\",\n",
    "    \"step_make_pynq_driver\",\n",
    "    \"step_deployment_package\",\n",
    "]\n",
    "\n",
    "try:\n",
    "    from finn.transformation.fpgadataflow.infer_doublepacked_dsp import InferDoublePackedConv\n",
    "    folding_config_file=\"folding_config/U250_folding_config.json\"\n",
    "    print(\"DoublePackedConv detected\")\n",
    "except:\n",
    "    warn(\" FINN Experimental not available. Using non-packed folded down convolution. This is 16 times slower per MHz \")\n",
    "    folding_config_file=\"folding_config/U250_folding_config_no_doublepack_pe_folded_16.json\"\n",
    "\n",
    "\n",
    "cfg = build.DataflowBuildConfig(\n",
    "    output_dir          = final_output_dir,\n",
    "    steps               = resnet18_build_steps,\n",
    "    mvau_wwidth_max     = 80,\n",
    "    target_fps          = 1000000,\n",
    "    synth_clk_period_ns = 10.0,\n",
    "    folding_config_file =  folding_config_file,\n",
    "    board               = board,\n",
    "    shell_flow_type     = build_cfg.ShellFlowType.VIVADO_ZYNQ,\n",
    "    generate_outputs=[\n",
    "        build_cfg.DataflowOutputType.BITFILE,\n",
    "        build_cfg.DataflowOutputType.PYNQ_DRIVER,\n",
    "        build_cfg.DataflowOutputType.DEPLOYMENT_PACKAGE,\n",
    "    ]\n",
    ")"
   ]
  },
  {
   "cell_type": "code",
   "execution_count": null,
   "id": "eb640ebe",
   "metadata": {},
   "outputs": [
    {
     "name": "stdout",
     "output_type": "stream",
     "text": [
      "Building dataflow accelerator from models/resnet18.onnx\n",
      "Intermediate outputs will be generated in /workspace/results\n",
      "Final outputs will be generated in build-KV260_SOM/resnet18\n",
      "Build log is at build-KV260_SOM/resnet18/build_dataflow.log\n",
      "Running step: step_resnet18_tidy [1/13]\n",
      "Running step: step_resnet18_streamline [2/13]\n"
     ]
    },
    {
     "name": "stderr",
     "output_type": "stream",
     "text": [
      "Traceback (most recent call last):\n",
      "  File \"/workspace/finn/src/finn/builder/build_dataflow.py\", line 166, in build_dataflow_cfg\n",
      "    model = transform_step(model, cfg)\n",
      "  File \"/shares/bulk/pgeel/FINNv0.8.1_repo/TY_build_KV260/finn/notebooks/MSC_Git_files/Resnet-18/custom_steps.py\", line 178, in step_resnet18_streamline\n",
      "    model = step_resnet18_streamline_nonlinear(model, cfg)\n",
      "  File \"/shares/bulk/pgeel/FINNv0.8.1_repo/TY_build_KV260/finn/notebooks/MSC_Git_files/Resnet-18/custom_steps.py\", line 169, in step_resnet18_streamline_nonlinear\n",
      "    model = model.transform(trn)\n",
      "  File \"/workspace/qonnx/src/qonnx/core/modelwrapper.py\", line 140, in transform\n",
      "    (transformed_model, model_was_changed) = transformation.apply(transformed_model)\n",
      "  File \"/workspace/finn/src/finn/transformation/streamline/reorder.py\", line 556, in apply\n",
      "    init0 = model.get_initializer(prod0.input[1])\n",
      "IndexError: list index (1) out of range\n"
     ]
    },
    {
     "name": "stdout",
     "output_type": "stream",
     "text": [
      "> \u001b[0;32m/workspace/finn/src/finn/transformation/streamline/reorder.py\u001b[0m(556)\u001b[0;36mapply\u001b[0;34m()\u001b[0m\n",
      "\u001b[0;32m    554 \u001b[0;31m                \u001b[0;32mif\u001b[0m \u001b[0mprod0\u001b[0m \u001b[0;32mis\u001b[0m \u001b[0;32mNone\u001b[0m \u001b[0;32mor\u001b[0m \u001b[0mprod1\u001b[0m \u001b[0;32mis\u001b[0m \u001b[0;32mNone\u001b[0m \u001b[0;32mor\u001b[0m \u001b[0;34m(\u001b[0m\u001b[0mprod0\u001b[0m \u001b[0;34m==\u001b[0m \u001b[0mprod1\u001b[0m\u001b[0;34m)\u001b[0m\u001b[0;34m:\u001b[0m\u001b[0;34m\u001b[0m\u001b[0;34m\u001b[0m\u001b[0m\n",
      "\u001b[0m\u001b[0;32m    555 \u001b[0;31m                    \u001b[0;32mcontinue\u001b[0m\u001b[0;34m\u001b[0m\u001b[0;34m\u001b[0m\u001b[0m\n",
      "\u001b[0m\u001b[0;32m--> 556 \u001b[0;31m                \u001b[0minit0\u001b[0m \u001b[0;34m=\u001b[0m \u001b[0mmodel\u001b[0m\u001b[0;34m.\u001b[0m\u001b[0mget_initializer\u001b[0m\u001b[0;34m(\u001b[0m\u001b[0mprod0\u001b[0m\u001b[0;34m.\u001b[0m\u001b[0minput\u001b[0m\u001b[0;34m[\u001b[0m\u001b[0;36m1\u001b[0m\u001b[0;34m]\u001b[0m\u001b[0;34m)\u001b[0m\u001b[0;34m\u001b[0m\u001b[0;34m\u001b[0m\u001b[0m\n",
      "\u001b[0m\u001b[0;32m    557 \u001b[0;31m                \u001b[0minit1\u001b[0m \u001b[0;34m=\u001b[0m \u001b[0mmodel\u001b[0m\u001b[0;34m.\u001b[0m\u001b[0mget_initializer\u001b[0m\u001b[0;34m(\u001b[0m\u001b[0mprod1\u001b[0m\u001b[0;34m.\u001b[0m\u001b[0minput\u001b[0m\u001b[0;34m[\u001b[0m\u001b[0;36m1\u001b[0m\u001b[0;34m]\u001b[0m\u001b[0;34m)\u001b[0m\u001b[0;34m\u001b[0m\u001b[0;34m\u001b[0m\u001b[0m\n",
      "\u001b[0m\u001b[0;32m    558 \u001b[0;31m                \u001b[0;31m# if either initializer is None, skip\u001b[0m\u001b[0;34m\u001b[0m\u001b[0;34m\u001b[0m\u001b[0;34m\u001b[0m\u001b[0m\n",
      "\u001b[0m\n"
     ]
    }
   ],
   "source": [
    "build.build_dataflow_cfg(model_file, cfg)"
   ]
  },
  {
   "cell_type": "code",
   "execution_count": null,
   "id": "2f0d1d45",
   "metadata": {},
   "outputs": [],
   "source": []
  }
 ],
 "metadata": {
  "kernelspec": {
   "display_name": "Python 3",
   "language": "python",
   "name": "python3"
  },
  "language_info": {
   "codemirror_mode": {
    "name": "ipython",
    "version": 3
   },
   "file_extension": ".py",
   "mimetype": "text/x-python",
   "name": "python",
   "nbconvert_exporter": "python",
   "pygments_lexer": "ipython3",
   "version": "3.8.5"
  }
 },
 "nbformat": 4,
 "nbformat_minor": 5
}
