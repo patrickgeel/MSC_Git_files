{
 "cells": [
  {
   "cell_type": "code",
   "execution_count": 1,
   "id": "b50002c1",
   "metadata": {
    "scrolled": false
   },
   "outputs": [
    {
     "name": "stderr",
     "output_type": "stream",
     "text": [
      "<ipython-input-1-7d4986b03205>:56: UserWarning:  FINN Experimental not available. Using non-packed folded down convolution. This is 16 times slower per MHz \n",
      "  warn(\" FINN Experimental not available. Using non-packed folded down convolution. This is 16 times slower per MHz \")\n"
     ]
    }
   ],
   "source": [
    "import finn.builder.build_dataflow as build\n",
    "import finn.builder.build_dataflow_config as build_cfg\n",
    "import os\n",
    "from warnings import warn\n",
    "import shutil\n",
    "from custom_steps import (\n",
    "    step_resnet18_tidy,\n",
    "    step_resnet18_streamline,\n",
    "    step_resnet18_convert_to_hls,\n",
    "    step_resnet18_set_fifo_depths,\n",
    "    step_resnet18_slr_floorplan)\n",
    "\n",
    "model_file = \"models/resnet18_img_3.onnx\"\n",
    "board = \"KV260_SOM\"\n",
    "additional = \"100-FPS\"\n",
    "if additional != \"\":\n",
    "    final_output_dir = \"build-{}/{}-{}\".format(board,model_file.split('.')[0].split('/')[1],additional)\n",
    "    os.environ[\"FINN_BUILD_DIR\"] = \"/workspace/results/%s/%s-%s\" %(board,model_file.split('.')[0].split('/')[1],additional)\n",
    "    inter_build_dir = os.environ[\"FINN_BUILD_DIR\"]\n",
    "else:\n",
    "    final_output_dir = \"build-{}/{}\".format(board,model_file.split('.')[0].split('/')[1])\n",
    "\n",
    "    os.environ[\"FINN_BUILD_DIR\"] = \"/workspace/results/%s/%s\" %(board,model_file.split('.')[0].split('/')[1])\n",
    "    inter_build_dir = os.environ[\"FINN_BUILD_DIR\"]\n",
    "\n",
    "if os.path.exists(inter_build_dir):\n",
    "    shutil.rmtree(inter_build_dir)\n",
    "    print(\"Previous intermeditate build deleted!\")\n",
    "\n",
    "#Delete previous run results if exist\n",
    "if os.path.exists(final_output_dir):\n",
    "    shutil.rmtree(final_output_dir)\n",
    "    print(\"Previous run results deleted!\")\n",
    "    \n",
    "resnet18_build_steps = [\n",
    "    step_resnet18_tidy,\n",
    "    step_resnet18_streamline,\n",
    "    step_resnet18_convert_to_hls,\n",
    "    \"step_create_dataflow_partition\",\n",
    "    \"step_apply_folding_config\",\n",
    "    \"step_generate_estimate_reports\",\n",
    "    \"step_hls_codegen\",\n",
    "    \"step_hls_ipgen\",\n",
    "    step_resnet18_set_fifo_depths,\n",
    "    step_resnet18_slr_floorplan,\n",
    "    \"step_synthesize_bitfile\",\n",
    "    \"step_make_pynq_driver\",\n",
    "    \"step_deployment_package\",\n",
    "]\n",
    "\n",
    "try:\n",
    "    from finn.transformation.fpgadataflow.infer_doublepacked_dsp import InferDoublePackedConv\n",
    "    folding_config_file=\"folding_config/U250_folding_config.json\"\n",
    "    print(\"DoublePackedConv detected\")\n",
    "except:\n",
    "    warn(\" FINN Experimental not available. Using non-packed folded down convolution. This is 16 times slower per MHz \")\n",
    "    folding_config_file=\"folding_config/U250_folding_config_no_doublepack_pe_folded_16.json\"\n",
    "# folding_config_file = \"folding_config/KV260_folding_config_no_doublepack_pe_folded_16.json\"\n",
    "\n",
    "cfg = build.DataflowBuildConfig(\n",
    "    output_dir          = final_output_dir,\n",
    "    steps               = resnet18_build_steps,\n",
    "    mvau_wwidth_max     = 80,\n",
    "    target_fps          = 100,\n",
    "    synth_clk_period_ns = 5.0,\n",
    "    folding_config_file = folding_config_file,\n",
    "    board               = board,\n",
    "    shell_flow_type     = build_cfg.ShellFlowType.VIVADO_ZYNQ,\n",
    "    generate_outputs=[\n",
    "        build_cfg.DataflowOutputType.BITFILE,\n",
    "        build_cfg.DataflowOutputType.PYNQ_DRIVER,\n",
    "        build_cfg.DataflowOutputType.DEPLOYMENT_PACKAGE,\n",
    "    ]\n",
    ")"
   ]
  },
  {
   "cell_type": "code",
   "execution_count": null,
   "id": "eb640ebe",
   "metadata": {
    "scrolled": true
   },
   "outputs": [
    {
     "name": "stdout",
     "output_type": "stream",
     "text": [
      "Building dataflow accelerator from models/resnet18_img_3.onnx\n"
     ]
    },
    {
     "name": "stderr",
     "output_type": "stream",
     "text": [
      "/workspace/qonnx/src/qonnx/core/modelwrapper.py:93: UserWarning: Some old-style domain attributes were automatically converted to new-style,\n",
      "                i.e. domain=finn to domain=qonnx.custom_op.<general|fpgadataflow|...>\n",
      "  warnings.warn(\n"
     ]
    },
    {
     "name": "stdout",
     "output_type": "stream",
     "text": [
      "Intermediate outputs will be generated in /workspace/results/KV260_SOM/resnet18_img_3-100-FPS\n",
      "Final outputs will be generated in build-KV260_SOM/resnet18_img_3-100-FPS\n",
      "Build log is at build-KV260_SOM/resnet18_img_3-100-FPS/build_dataflow.log\n",
      "Running step: step_resnet18_tidy [1/13]\n",
      "Running step: step_resnet18_streamline [2/13]\n",
      "Running step: step_resnet18_convert_to_hls [3/13]\n",
      "Running step: step_create_dataflow_partition [4/13]\n",
      "Running step: step_apply_folding_config [5/13]\n",
      "Running step: step_generate_estimate_reports [6/13]\n",
      "Running step: step_hls_codegen [7/13]\n",
      "Running step: step_hls_ipgen [8/13]\n",
      "Running step: step_resnet18_set_fifo_depths [9/13]\n"
     ]
    }
   ],
   "source": [
    "build.build_dataflow_cfg(model_file, cfg)"
   ]
  }
 ],
 "metadata": {
  "kernelspec": {
   "display_name": "Python 3",
   "language": "python",
   "name": "python3"
  },
  "language_info": {
   "codemirror_mode": {
    "name": "ipython",
    "version": 3
   },
   "file_extension": ".py",
   "mimetype": "text/x-python",
   "name": "python",
   "nbconvert_exporter": "python",
   "pygments_lexer": "ipython3",
   "version": "3.8.5"
  }
 },
 "nbformat": 4,
 "nbformat_minor": 5
}
