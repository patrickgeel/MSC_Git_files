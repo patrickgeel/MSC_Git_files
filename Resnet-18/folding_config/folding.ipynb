{
 "cells": [
  {
   "cell_type": "code",
   "execution_count": 13,
   "metadata": {},
   "outputs": [],
   "source": [
    "import json\n",
    "\n",
    "fp = open(\"KV260_build_base.json\")\n",
    "f = json.load(fp)\n",
    "max_usage = {\"BRAM_18K\": 144, \"LUT\" : 117120, \"URAM\": 64, \"DSP\": 1248}\n",
    "\n",
    "fn = {}\n",
    "\n",
    "for k,v in f.items():\n",
    "    if \"MatrixVectorActivation\" in k:        \n",
    "#         if int(k.split(\"_\")[1]) > 6:\n",
    "        v[\"ram_style\"] = \"auto\"\n",
    "        v[\"resType\"] = 'dsp'\n",
    "    if \"Thresholding_Batch\" in k:\n",
    "        v[\"ram_style\"] = \"block\"\n",
    "    if k == \"Defaults\":\n",
    "        v[\"mem_mode\"] = [\"const\",[\"MatrixVectorActivation\",\"Thresholding_Batch\"]]\n",
    "    if \"SIMD\" in v:\n",
    "        v[\"SIMD\"] = 1\n",
    "    if \"PE\" in v:\n",
    "        v[\"PE\"] = 1\n",
    "    fn[k] = v\n",
    "    \n",
    "fold_config = \"KV260_build.json\"\n",
    "fnp = open(\"%s\"%fold_config,'w')\n",
    "json.dump(fn,fnp)\n",
    "\n",
    "fnp.close()    \n",
    "fp.close()\n"
   ]
  },
  {
   "cell_type": "code",
   "execution_count": 3,
   "metadata": {},
   "outputs": [
    {
     "data": {
      "text/html": [
       "<div>\n",
       "<style scoped>\n",
       "    .dataframe tbody tr th:only-of-type {\n",
       "        vertical-align: middle;\n",
       "    }\n",
       "\n",
       "    .dataframe tbody tr th {\n",
       "        vertical-align: top;\n",
       "    }\n",
       "\n",
       "    .dataframe thead th {\n",
       "        text-align: right;\n",
       "    }\n",
       "</style>\n",
       "<table border=\"1\" class=\"dataframe\">\n",
       "  <thead>\n",
       "    <tr style=\"text-align: right;\">\n",
       "      <th></th>\n",
       "      <th>distributed</th>\n",
       "      <th>auto</th>\n",
       "      <th>block</th>\n",
       "      <th>ultra</th>\n",
       "    </tr>\n",
       "  </thead>\n",
       "  <tbody>\n",
       "    <tr>\n",
       "      <th>BRAM_18K</th>\n",
       "      <td>0.0</td>\n",
       "      <td>1955.0</td>\n",
       "      <td>1955.0</td>\n",
       "      <td>0.0</td>\n",
       "    </tr>\n",
       "    <tr>\n",
       "      <th>LUT</th>\n",
       "      <td>534089.0</td>\n",
       "      <td>34595.0</td>\n",
       "      <td>34595.0</td>\n",
       "      <td>34595.0</td>\n",
       "    </tr>\n",
       "    <tr>\n",
       "      <th>URAM</th>\n",
       "      <td>0.0</td>\n",
       "      <td>0.0</td>\n",
       "      <td>0.0</td>\n",
       "      <td>3028.0</td>\n",
       "    </tr>\n",
       "    <tr>\n",
       "      <th>DSP</th>\n",
       "      <td>0.0</td>\n",
       "      <td>0.0</td>\n",
       "      <td>0.0</td>\n",
       "      <td>0.0</td>\n",
       "    </tr>\n",
       "  </tbody>\n",
       "</table>\n",
       "</div>"
      ],
      "text/plain": [
       "          distributed     auto    block    ultra\n",
       "BRAM_18K          0.0   1955.0   1955.0      0.0\n",
       "LUT          534089.0  34595.0  34595.0  34595.0\n",
       "URAM              0.0      0.0      0.0   3028.0\n",
       "DSP               0.0      0.0      0.0      0.0"
      ]
     },
     "execution_count": 3,
     "metadata": {},
     "output_type": "execute_result"
    }
   ],
   "source": [
    "import pandas as pd\n",
    "max_usage = {\"BRAM_18K\": 144, \"LUT\" : 117120, \"URAM\": 64, \"DSP\": 1248}\n",
    "\n",
    "df = pd.DataFrame(total)\n",
    "df\n",
    "# df.to_csv(\"ram_style_all_mva.csv\")"
   ]
  },
  {
   "cell_type": "code",
   "execution_count": null,
   "metadata": {},
   "outputs": [],
   "source": []
  }
 ],
 "metadata": {
  "kernelspec": {
   "display_name": "Python 3",
   "language": "python",
   "name": "python3"
  },
  "language_info": {
   "codemirror_mode": {
    "name": "ipython",
    "version": 3
   },
   "file_extension": ".py",
   "mimetype": "text/x-python",
   "name": "python",
   "nbconvert_exporter": "python",
   "pygments_lexer": "ipython3",
   "version": "3.8.5"
  }
 },
 "nbformat": 4,
 "nbformat_minor": 2
}
