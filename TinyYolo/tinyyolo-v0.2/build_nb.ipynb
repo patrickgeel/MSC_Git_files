{
 "cells": [
  {
   "cell_type": "code",
   "execution_count": 9,
   "id": "03b1b2df",
   "metadata": {
    "scrolled": true
   },
   "outputs": [
    {
     "name": "stdout",
     "output_type": "stream",
     "text": [
      "Building dataflow accelerator from custom_step_tinyyolo_lower.onnx\n",
      "Intermediate outputs will be generated in /workspace/results\n",
      "Final outputs will be generated in build-custom_step_tinyyolo_lower\n",
      "Build log is at build-custom_step_tinyyolo_lower/build_dataflow.log\n",
      "Running step: custom_step_tinyyolo_convert_to_hls [1/13]\n",
      "Running step: custom_step_partition [2/13]\n"
     ]
    },
    {
     "name": "stderr",
     "output_type": "stream",
     "text": [
      "Traceback (most recent call last):\n",
      "  File \"/workspace/qonnx/src/qonnx/custom_op/registry.py\", line 39, in getCustomOp\n",
      "    inst_wrapper = opset_module.custom_op[op_type]\n",
      "KeyError: 'StreamingFCLayer_Batch'\n",
      "\n",
      "During handling of the above exception, another exception occurred:\n",
      "\n",
      "Traceback (most recent call last):\n",
      "  File \"/workspace/finn/src/finn/builder/build_dataflow.py\", line 166, in build_dataflow_cfg\n",
      "    model = transform_step(model, cfg)\n",
      "  File \"/workspace/finn/src/finn/builder/build_dataflow_steps.py\", line 391, in step_generate_estimate_reports\n",
      "    ops_and_params = model.analysis(op_and_param_counts)\n",
      "  File \"/workspace/qonnx/src/qonnx/core/modelwrapper.py\", line 124, in analysis\n",
      "    return analysis_fxn(self)\n",
      "  File \"/workspace/finn/src/finn/analysis/fpgadataflow/op_and_param_counts.py\", line 55, in op_and_param_counts\n",
      "    inst = registry.getCustomOp(node)\n",
      "  File \"/workspace/qonnx/src/qonnx/custom_op/registry.py\", line 45, in getCustomOp\n",
      "    raise Exception(\"Op %s not found in custom opset %s\" % (op_type, domain))\n",
      "Exception: Op StreamingFCLayer_Batch not found in custom opset finn.custom_op.fpgadataflow\n"
     ]
    },
    {
     "name": "stdout",
     "output_type": "stream",
     "text": [
      "Running step: step_target_fps_parallelization [3/13]\n",
      "Running step: step_apply_folding_config [4/13]\n",
      "Running step: step_generate_estimate_reports [5/13]\n",
      "> \u001b[0;32m/workspace/qonnx/src/qonnx/custom_op/registry.py\u001b[0m(45)\u001b[0;36mgetCustomOp\u001b[0;34m()\u001b[0m\n",
      "\u001b[0;32m     41 \u001b[0;31m        \u001b[0;32mreturn\u001b[0m \u001b[0minst\u001b[0m\u001b[0;34m\u001b[0m\u001b[0;34m\u001b[0m\u001b[0m\n",
      "\u001b[0m\u001b[0;32m     42 \u001b[0;31m    \u001b[0;32mexcept\u001b[0m \u001b[0mModuleNotFoundError\u001b[0m\u001b[0;34m:\u001b[0m\u001b[0;34m\u001b[0m\u001b[0;34m\u001b[0m\u001b[0m\n",
      "\u001b[0m\u001b[0;32m     43 \u001b[0;31m        \u001b[0;32mraise\u001b[0m \u001b[0mException\u001b[0m\u001b[0;34m(\u001b[0m\u001b[0;34m\"Could not load custom opset %s, check your PYTHONPATH\"\u001b[0m \u001b[0;34m%\u001b[0m \u001b[0mdomain\u001b[0m\u001b[0;34m)\u001b[0m\u001b[0;34m\u001b[0m\u001b[0;34m\u001b[0m\u001b[0m\n",
      "\u001b[0m\u001b[0;32m     44 \u001b[0;31m    \u001b[0;32mexcept\u001b[0m \u001b[0mKeyError\u001b[0m\u001b[0;34m:\u001b[0m\u001b[0;34m\u001b[0m\u001b[0;34m\u001b[0m\u001b[0m\n",
      "\u001b[0m\u001b[0;32m---> 45 \u001b[0;31m        \u001b[0;32mraise\u001b[0m \u001b[0mException\u001b[0m\u001b[0;34m(\u001b[0m\u001b[0;34m\"Op %s not found in custom opset %s\"\u001b[0m \u001b[0;34m%\u001b[0m \u001b[0;34m(\u001b[0m\u001b[0mop_type\u001b[0m\u001b[0;34m,\u001b[0m \u001b[0mdomain\u001b[0m\u001b[0;34m)\u001b[0m\u001b[0;34m)\u001b[0m\u001b[0;34m\u001b[0m\u001b[0;34m\u001b[0m\u001b[0m\n",
      "\u001b[0m\n",
      "--KeyboardInterrupt--\n",
      "\n",
      "KeyboardInterrupt: Interrupted by user\n",
      "Build failed\n"
     ]
    },
    {
     "data": {
      "text/plain": [
       "-1"
      ]
     },
     "execution_count": 9,
     "metadata": {},
     "output_type": "execute_result"
    }
   ],
   "source": [
    "import finn.builder.build_dataflow as build\n",
    "from qonnx.core.modelwrapper import ModelWrapper\n",
    "import os\n",
    "import finn.builder.build_dataflow_config as build_cfg\n",
    "from custom_steps import (\n",
    "    custom_step_tinyyolo_preprocess,\n",
    "    custom_step_tinyyolo_streamline,\n",
    "    custom_step_tinyyolo_lower,\n",
    "    custom_step_tinyyolo_convert_to_hls,\n",
    "    custom_step_partition,\n",
    "    custom_step_v07_to_v08,\n",
    "    custom_partition_0_update\n",
    ")\n",
    "\n",
    "model_name = \"custom_step_tinyyolo_lower\"\n",
    "# model_name = \"tinyyolo-20210831_updated\"\n",
    "# model_name = \"/shares/bulk/pgeel/FINNv0.8.1_repo/TY_build_KV260/finn/notebooks/MSC_Git_files/TinyYolo/tinyyolo-v0.2/old_update_method/tinyyolo_slice_update\"\n",
    "model_filename = \"%s.onnx\" % model_name\n",
    "os.environ[\"FINN_BUILD_DIR\"] = \"build-tinyyolo-v0.7_v0.8.1\"\n",
    "\n",
    "custom_steps = [\n",
    "    #     \"step_tidy_up\",\n",
    "    #     custom_step_tinyyolo_preprocess,\n",
    "    #     custom_step_tinyyolo_streamline,\n",
    "    #     custom_step_tinyyolo_lower,\n",
    "    custom_partition_0_update,\n",
    "    custom_step_v07_to_v08,\n",
    "    custom_step_tinyyolo_convert_to_hls,\n",
    "    # custom_step_partition,\n",
    "    \"step_create_dataflow_partition\",\n",
    "    \"step_target_fps_parallelization\",\n",
    "    \"step_apply_folding_config\",\n",
    "    \"step_generate_estimate_reports\",\n",
    "    \"step_hls_codegen\",\n",
    "    \"step_hls_ipgen\",\n",
    "    \"step_set_fifo_depths\",\n",
    "    \"step_create_stitched_ip\",\n",
    "    \"step_measure_rtlsim_performance\",\n",
    "    \"step_synthesize_bitfile\",\n",
    "    \"step_make_pynq_driver\",\n",
    "    \"step_deployment_package\"\n",
    "]\n",
    "\n",
    "cfg = build_cfg.DataflowBuildConfig(\n",
    "    steps=custom_steps,\n",
    "    output_dir=\"build-\"+model_name,\n",
    "    synth_clk_period_ns=10.0,\n",
    "    auto_fifo_depths=False,\n",
    "    folding_config_file=\"tinyyolo-config-v0.2.json\",\n",
    "    board=\"KV260_SOM\",\n",
    "    stitched_ip_gen_dcp=True,\n",
    "    shell_flow_type=build_cfg.ShellFlowType.VIVADO_ZYNQ,\n",
    "    generate_outputs=[\n",
    "        build_cfg.DataflowOutputType.ESTIMATE_REPORTS,\n",
    "        build_cfg.DataflowOutputType.STITCHED_IP,\n",
    "        build_cfg.DataflowOutputType.RTLSIM_PERFORMANCE,\n",
    "        build_cfg.DataflowOutputType.BITFILE,\n",
    "        build_cfg.DataflowOutputType.PYNQ_DRIVER,\n",
    "        build_cfg.DataflowOutputType.DEPLOYMENT_PACKAGE,\n",
    "    ],\n",
    ")\n",
    "\n",
    "\n",
    "build.build_dataflow_cfg(model_filename, cfg)\n"
   ]
  }
 ],
 "metadata": {
  "kernelspec": {
   "display_name": "Python 3.9.2 64-bit",
   "language": "python",
   "name": "python3"
  },
  "language_info": {
   "codemirror_mode": {
    "name": "ipython",
    "version": 3
   },
   "file_extension": ".py",
   "mimetype": "text/x-python",
   "name": "python",
   "nbconvert_exporter": "python",
   "pygments_lexer": "ipython3",
   "version": "3.9.2"
  },
  "vscode": {
   "interpreter": {
    "hash": "c0480a40de60fe0b4be044949303dbe98ce3610184aeb132e77bccbcbbb8df2a"
   }
  }
 },
 "nbformat": 4,
 "nbformat_minor": 5
}
