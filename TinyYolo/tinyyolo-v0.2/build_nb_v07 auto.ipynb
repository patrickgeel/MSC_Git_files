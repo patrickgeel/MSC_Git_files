{
 "cells": [
  {
   "cell_type": "code",
   "execution_count": 2,
   "id": "03b1b2df",
   "metadata": {
    "scrolled": true
   },
   "outputs": [
    {
     "name": "stdout",
     "output_type": "stream",
     "text": [
      "Building dataflow accelerator from custom_step_tinyyolo_lower.onnx\n",
      "Intermediate outputs will be generated in /workspace/results/build_custom_step_tinyyolo_lower\n",
      "Final outputs will be generated in build-custom_step_tinyyolo_lower\n",
      "Build log is at build-custom_step_tinyyolo_lower/build_dataflow.log\n",
      "Running step: custom_step_v07_to_v08 [1/14]\n",
      "Running step: custom_step_tinyyolo_convert_to_hls [2/14]\n",
      "Running step: step_create_dataflow_partition [3/14]\n",
      "Running step: step_target_fps_parallelization [4/14]\n",
      "Running step: step_apply_folding_config [5/14]\n",
      "Running step: step_generate_estimate_reports [6/14]\n",
      "Running step: step_hls_codegen [7/14]\n",
      "Running step: step_hls_ipgen [8/14]\n",
      "Running step: step_set_fifo_depths [9/14]\n",
      "Running step: step_create_stitched_ip [10/14]\n"
     ]
    },
    {
     "name": "stderr",
     "output_type": "stream",
     "text": [
      "Traceback (most recent call last):\n",
      "  File \"/workspace/finn/src/finn/builder/build_dataflow.py\", line 166, in build_dataflow_cfg\n",
      "    model = transform_step(model, cfg)\n",
      "  File \"/workspace/finn/src/finn/builder/build_dataflow_steps.py\", line 511, in step_create_stitched_ip\n",
      "    model = model.transform(\n",
      "  File \"/workspace/qonnx/src/qonnx/core/modelwrapper.py\", line 140, in transform\n",
      "    (transformed_model, model_was_changed) = transformation.apply(transformed_model)\n",
      "  File \"/workspace/finn/src/finn/transformation/fpgadataflow/create_stitched_ip.py\", line 592, in apply\n",
      "    raise Exception(\n",
      "Exception: CreateStitchedIP failed, no wrapper HDL found.\n"
     ]
    },
    {
     "name": "stdout",
     "output_type": "stream",
     "text": [
      "> \u001b[0;32m/workspace/finn/src/finn/transformation/fpgadataflow/create_stitched_ip.py\u001b[0m(592)\u001b[0;36mapply\u001b[0;34m()\u001b[0m\n",
      "\u001b[0;32m    590 \u001b[0;31m                    \"wrapper_filename\", wrapper_filename_alt)\n",
      "\u001b[0m\u001b[0;32m    591 \u001b[0;31m            \u001b[0;32melse\u001b[0m\u001b[0;34m:\u001b[0m\u001b[0;34m\u001b[0m\u001b[0;34m\u001b[0m\u001b[0m\n",
      "\u001b[0m\u001b[0;32m--> 592 \u001b[0;31m                raise Exception(\n",
      "\u001b[0m\u001b[0;32m    593 \u001b[0;31m                    \"CreateStitchedIP failed, no wrapper HDL found.\")\n",
      "\u001b[0m\u001b[0;32m    594 \u001b[0;31m\u001b[0;34m\u001b[0m\u001b[0m\n",
      "\u001b[0m\n",
      "--KeyboardInterrupt--\n",
      "\n",
      "KeyboardInterrupt: Interrupted by user\n",
      "Build failed\n"
     ]
    },
    {
     "data": {
      "text/plain": [
       "-1"
      ]
     },
     "execution_count": 2,
     "metadata": {},
     "output_type": "execute_result"
    }
   ],
   "source": [
    "import finn.builder.build_dataflow as build\n",
    "import finn.builder.build_dataflow_config as build_cfg\n",
    "import os\n",
    "import shutil\n",
    "\n",
    "model_dir = \"\"\n",
    "model_name = \"tinyyolo-202110831\"\n",
    "model_file = \"%s/%s.onnx\" % (model_dir, model_name)\n",
    "\n",
    "out_dir = \"/home/pgeel/bulk/FINNv0.8.1_repo/TY_build_KV260/finn/notebooks/MSC_Git_files/TinyYolo/tinyyolo-v0.2\"\n",
    "out_file_name = \"build-\" + model_name\n",
    "\n",
    "cfg = build.DataflowBuildConfig(\n",
    "    output_dir=\"%s/%s\" % (out_dir, out_file_name)\n",
    "    stop_step=\"step_streamline\"\n",
    "    mvau_wwidth_max=80,\n",
    "    target_fps=1000000,\n",
    "    synth_clk_period_ns=10.0,\n",
    "    board=\"KV260_SOM\",\n",
    "    shell_flow_type=build_cfg.ShellFlowType.VIVADO_ZYNQ,\n",
    "    generate_outputs=[\n",
    "        build_cfg.DataflowOutputType.BITFILE,\n",
    "        build_cfg.DataflowOutputType.PYNQ_DRIVER,\n",
    "        build_cfg.DataflowOutputType.DEPLOYMENT_PACKAGE,\n",
    "    ]\n",
    ")\n",
    "\n",
    "build.build_dataflow_cfg(model_file, cfg)\n"
   ]
  }
 ],
 "metadata": {
  "kernelspec": {
   "display_name": "Python 3",
   "language": "python",
   "name": "python3"
  },
  "language_info": {
   "codemirror_mode": {
    "name": "ipython",
    "version": 3
   },
   "file_extension": ".py",
   "mimetype": "text/x-python",
   "name": "python",
   "nbconvert_exporter": "python",
   "pygments_lexer": "ipython3",
   "version": "3.9.2"
  },
  "vscode": {
   "interpreter": {
    "hash": "c0480a40de60fe0b4be044949303dbe98ce3610184aeb132e77bccbcbbb8df2a"
   }
  }
 },
 "nbformat": 4,
 "nbformat_minor": 5
}
