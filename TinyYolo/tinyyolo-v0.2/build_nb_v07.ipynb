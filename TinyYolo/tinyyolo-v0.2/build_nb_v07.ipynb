{
 "cells": [
  {
   "cell_type": "code",
   "execution_count": 1,
   "id": "03b1b2df",
   "metadata": {
    "scrolled": true
   },
   "outputs": [
    {
     "ename": "ModuleNotFoundError",
     "evalue": "No module named 'finn'",
     "output_type": "error",
     "traceback": [
      "\u001b[1;31m---------------------------------------------------------------------------\u001b[0m",
      "\u001b[1;31mModuleNotFoundError\u001b[0m                       Traceback (most recent call last)",
      "\u001b[1;32m<ipython-input-1-94a110d35135>\u001b[0m in \u001b[0;36m<module>\u001b[1;34m\u001b[0m\n\u001b[1;32m----> 1\u001b[1;33m \u001b[1;32mimport\u001b[0m \u001b[0mfinn\u001b[0m\u001b[1;33m.\u001b[0m\u001b[0mbuilder\u001b[0m\u001b[1;33m.\u001b[0m\u001b[0mbuild_dataflow\u001b[0m \u001b[1;32mas\u001b[0m \u001b[0mbuild\u001b[0m\u001b[1;33m\u001b[0m\u001b[1;33m\u001b[0m\u001b[0m\n\u001b[0m\u001b[0;32m      2\u001b[0m \u001b[1;32mfrom\u001b[0m \u001b[0mfinn\u001b[0m\u001b[1;33m.\u001b[0m\u001b[0mcore\u001b[0m\u001b[1;33m.\u001b[0m\u001b[0mmodelwrapper\u001b[0m \u001b[1;32mimport\u001b[0m \u001b[0mModelWrapper\u001b[0m\u001b[1;33m\u001b[0m\u001b[1;33m\u001b[0m\u001b[0m\n\u001b[0;32m      3\u001b[0m \u001b[1;32mimport\u001b[0m \u001b[0mos\u001b[0m\u001b[1;33m\u001b[0m\u001b[1;33m\u001b[0m\u001b[0m\n\u001b[0;32m      4\u001b[0m \u001b[1;32mimport\u001b[0m \u001b[0mfinn\u001b[0m\u001b[1;33m.\u001b[0m\u001b[0mbuilder\u001b[0m\u001b[1;33m.\u001b[0m\u001b[0mbuild_dataflow_config\u001b[0m \u001b[1;32mas\u001b[0m \u001b[0mbuild_cfg\u001b[0m\u001b[1;33m\u001b[0m\u001b[1;33m\u001b[0m\u001b[0m\n\u001b[0;32m      5\u001b[0m from custom_steps_v07 import (\n",
      "\u001b[1;31mModuleNotFoundError\u001b[0m: No module named 'finn'"
     ]
    }
   ],
   "source": [
    "import finn.builder.build_dataflow as build\n",
    "from finn.core.modelwrapper import ModelWrapper\n",
    "import os\n",
    "import finn.builder.build_dataflow_config as build_cfg\n",
    "from custom_steps_v07 import (\n",
    "    custom_step_tinyyolo_preprocess,\n",
    "    custom_step_tinyyolo_streamline,\n",
    "    custom_step_tinyyolo_lower,\n",
    "    custom_step_tinyyolo_convert_to_hls,\n",
    "    custom_step_partition\n",
    ")\n",
    "\n",
    "model_name = \"tinyyolo-20210831\"\n",
    "model_filename = \"%s.onnx\" % model_name\n",
    "print(model_filename)\n",
    "os.environ[\"FINN_BUILD_DIR\"] = \"/workspace/results/build_\"+model_name\n",
    "out_dir = \"/home/pgeel/bulk/TY_build_0.7/finn/notebooks/MSC_Git_files/TinyYolo/tinyyolo-v0.2/\"\n",
    "out_name = \"build-%s\" % model_name\n",
    "out_directory = \"%s/%s\" %(out_dir,out_name)\n",
    "\n",
    "custom_steps = [\n",
    "    \"step_tidy_up\",\n",
    "    custom_step_tinyyolo_preprocess,\n",
    "    custom_step_tinyyolo_streamline,\n",
    "    # custom_step_tinyyolo_lower,\n",
    "    # custom_partition_0_update,\n",
    "    # custom_step_tinyyolo_convert_to_hls,\n",
    "    # custom_step_partition,\n",
    "    # \"step_create_dataflow_partition\",\n",
    "    # \"step_target_fps_parallelization\",\n",
    "    # \"step_apply_folding_config\",\n",
    "    # \"step_generate_estimate_reports\",\n",
    "    # \"step_hls_codegen\",\n",
    "    # \"step_hls_ipgen\",\n",
    "    # \"step_set_fifo_depths\",\n",
    "    # \"step_create_stitched_ip\",\n",
    "    # \"step_measure_rtlsim_performance\",\n",
    "    # \"step_synthesize_bitfile\",\n",
    "    # \"step_make_pynq_driver\",\n",
    "    # \"step_deployment_package\"\n",
    "]\n",
    "\n",
    "cfg = build_cfg.DataflowBuildConfig(\n",
    "    steps=custom_steps,\n",
    "    output_dir=out_directory,\n",
    "    synth_clk_period_ns=10.0,\n",
    "    auto_fifo_depths=False,\n",
    "    folding_config_file=\"tinyyolo-config-v0.2.json\",\n",
    "    board=\"KV260_SOM\",\n",
    "    stitched_ip_gen_dcp=True,\n",
    "    shell_flow_type=build_cfg.ShellFlowType.VIVADO_ZYNQ,\n",
    "    generate_outputs=[\n",
    "#         build_cfg.DataflowOutputType.ESTIMATE_REPORTS,\n",
    "        build_cfg.DataflowOutputType.STITCHED_IP,\n",
    "#         build_cfg.DataflowOutputType.RTLSIM_PERFORMANCE,\n",
    "        build_cfg.DataflowOutputType.BITFILE,\n",
    "        build_cfg.DataflowOutputType.PYNQ_DRIVER,\n",
    "        build_cfg.DataflowOutputType.DEPLOYMENT_PACKAGE,\n",
    "    ],\n",
    ")\n",
    "\n",
    "build.build_dataflow_cfg(model_filename, cfg)\n"
   ]
  }
 ],
 "metadata": {
  "kernelspec": {
   "display_name": "Python 3",
   "language": "python",
   "name": "python3"
  },
  "language_info": {
   "codemirror_mode": {
    "name": "ipython",
    "version": 3
   },
   "file_extension": ".py",
   "mimetype": "text/x-python",
   "name": "python",
   "nbconvert_exporter": "python",
   "pygments_lexer": "ipython3",
   "version": "3.9.2"
  },
  "vscode": {
   "interpreter": {
    "hash": "c0480a40de60fe0b4be044949303dbe98ce3610184aeb132e77bccbcbbb8df2a"
   }
  }
 },
 "nbformat": 4,
 "nbformat_minor": 5
}
