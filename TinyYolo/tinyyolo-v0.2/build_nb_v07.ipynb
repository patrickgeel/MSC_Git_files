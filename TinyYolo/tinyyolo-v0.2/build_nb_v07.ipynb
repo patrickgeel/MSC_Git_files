{
 "cells": [
  {
   "cell_type": "code",
   "execution_count": 2,
   "id": "03b1b2df",
   "metadata": {
    "scrolled": true
   },
   "outputs": [
    {
     "name": "stdout",
     "output_type": "stream",
     "text": [
      "tinyyolo-20210831.onnx\n",
      "Building dataflow accelerator from tinyyolo-20210831.onnx\n",
      "Intermediate outputs will be generated in /workspace/results/build_tinyyolo-20210831\n",
      "Final outputs will be generated in /home/pgeel/bulk/FINNv0.8.1_repo/TY_build_KV260/finn/notebooks/MSC_Git_files/TinyYolo/tinyyolo-v0.2/\n",
      "Build log is at /home/pgeel/bulk/FINNv0.8.1_repo/TY_build_KV260/finn/notebooks/MSC_Git_files/TinyYolo/tinyyolo-v0.2//build_dataflow.log\n",
      "Running step: step_tidy_up [1/3]\n",
      "Running step: custom_step_tinyyolo_preprocess [2/3]\n",
      "Running step: custom_step_tinyyolo_streamline [3/3]\n",
      "Completed successfully\n"
     ]
    },
    {
     "data": {
      "text/plain": [
       "0"
      ]
     },
     "execution_count": 2,
     "metadata": {},
     "output_type": "execute_result"
    }
   ],
   "source": [
    "import finn.builder.build_dataflow as build\n",
    "from finn.core.modelwrapper import ModelWrapper\n",
    "import os\n",
    "import finn.builder.build_dataflow_config as build_cfg\n",
    "from custom_steps_v07 import (\n",
    "    custom_step_tinyyolo_preprocess,\n",
    "    custom_step_tinyyolo_streamline,\n",
    "    custom_step_tinyyolo_lower,\n",
    "    custom_step_tinyyolo_convert_to_hls,\n",
    "    custom_step_partition\n",
    ")\n",
    "\n",
    "model_name = \"tinyyolo-20210831\"\n",
    "model_filename = \"%s.onnx\" % model_name\n",
    "print(model_filename)\n",
    "os.environ[\"FINN_BUILD_DIR\"] = \"/workspace/results/build_\"+model_name\n",
    "out_dir = \"/home/pgeel/bulk/TY_build_0.7/finn/notebooks/MSC_Git_files/TinyYolo/tinyyolo-v0.2/\"\n",
    "\n",
    "custom_steps = [\n",
    "    \"step_tidy_up\",\n",
    "    custom_step_tinyyolo_preprocess,\n",
    "    custom_step_tinyyolo_streamline,\n",
    "    # custom_step_tinyyolo_lower,\n",
    "    # custom_partition_0_update,\n",
    "    # custom_step_tinyyolo_convert_to_hls,\n",
    "    # custom_step_partition,\n",
    "    # \"step_create_dataflow_partition\",\n",
    "    # \"step_target_fps_parallelization\",\n",
    "    # \"step_apply_folding_config\",\n",
    "    # \"step_generate_estimate_reports\",\n",
    "    # \"step_hls_codegen\",\n",
    "    # \"step_hls_ipgen\",\n",
    "    # \"step_set_fifo_depths\",\n",
    "    # \"step_create_stitched_ip\",\n",
    "    # \"step_measure_rtlsim_performance\",\n",
    "    # \"step_synthesize_bitfile\",\n",
    "    # \"step_make_pynq_driver\",\n",
    "    # \"step_deployment_package\"\n",
    "]\n",
    "\n",
    "cfg = build_cfg.DataflowBuildConfig(\n",
    "    steps=custom_steps,\n",
    "    output_dir=out_dir,\n",
    "    synth_clk_period_ns=10.0,\n",
    "    auto_fifo_depths=False,\n",
    "    folding_config_file=\"tinyyolo-config-v0.2.json\",\n",
    "    board=\"KV260_SOM\",\n",
    "    stitched_ip_gen_dcp=True,\n",
    "    shell_flow_type=build_cfg.ShellFlowType.VIVADO_ZYNQ,\n",
    "    generate_outputs=[\n",
    "#         build_cfg.DataflowOutputType.ESTIMATE_REPORTS,\n",
    "        build_cfg.DataflowOutputType.STITCHED_IP,\n",
    "#         build_cfg.DataflowOutputType.RTLSIM_PERFORMANCE,\n",
    "        build_cfg.DataflowOutputType.BITFILE,\n",
    "        build_cfg.DataflowOutputType.PYNQ_DRIVER,\n",
    "        build_cfg.DataflowOutputType.DEPLOYMENT_PACKAGE,\n",
    "    ],\n",
    ")\n",
    "\n",
    "build.build_dataflow_cfg(model_filename, cfg)\n"
   ]
  }
 ],
 "metadata": {
  "kernelspec": {
   "display_name": "Python 3",
   "language": "python",
   "name": "python3"
  },
  "language_info": {
   "codemirror_mode": {
    "name": "ipython",
    "version": 3
   },
   "file_extension": ".py",
   "mimetype": "text/x-python",
   "name": "python",
   "nbconvert_exporter": "python",
   "pygments_lexer": "ipython3",
   "version": "3.8.5"
  },
  "vscode": {
   "interpreter": {
    "hash": "c0480a40de60fe0b4be044949303dbe98ce3610184aeb132e77bccbcbbb8df2a"
   }
  }
 },
 "nbformat": 4,
 "nbformat_minor": 5
}
