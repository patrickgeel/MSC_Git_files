{
 "cells": [
  {
   "cell_type": "code",
   "execution_count": 52,
   "metadata": {},
   "outputs": [
    {
     "data": {
      "text/plain": [
       "array([0])"
      ]
     },
     "execution_count": 52,
     "metadata": {},
     "output_type": "execute_result"
    }
   ],
   "source": [
    "import onnx\n",
    "from onnx import helper,TensorProto\n",
    "from finn.core.modelwrapper import ModelWrapper\n",
    "from finn.core.datatype import DataType\n",
    "import numpy as np\n",
    "from finn.util.basic import gen_finn_dt_tensor\n",
    "import onnx.version_converter as vc\n",
    "from onnx.backend.test.case.node import expect\n",
    "\n",
    "from finn.transformation.infer_shapes import InferShapes\n",
    "\n",
    "model = ModelWrapper(\"tinyyolo-20210831.onnx\")\n",
    "model.get_initializer(\"737\")\n"
   ]
  },
  {
   "cell_type": "code",
   "execution_count": 53,
   "metadata": {},
   "outputs": [],
   "source": [
    "# shape node \n",
    "top_in = helper.make_tensor_value_info(\"top_in\", TensorProto.FLOAT, [1,64,16,16])\n",
    "shape_out = helper.make_tensor_value_info(\"735\", TensorProto.INT64,[4])\n",
    "shape_node = helper.make_node(\n",
    "            \"Shape\",\n",
    "            inputs = [\"top_in\"],\n",
    "            outputs = [\"735\"])\n",
    "shape_graph = helper.make_graph(\n",
    "                [shape_node],\n",
    "                inputs = [top_in],\n",
    "                outputs = [shape_out],\n",
    "                name = \"shape_graph\"\n",
    "                )\n",
    "shape_model = ModelWrapper(helper.make_model(shape_graph))\n",
    "shape_model.transform(InferShapes())\n",
    "shape_model.save(\"Shape_model.onnx\")"
   ]
  },
  {
   "cell_type": "code",
   "execution_count": 80,
   "metadata": {},
   "outputs": [],
   "source": [
    "# Slice node\n",
    "input_shape = [4]\n",
    "output_shape = [2]\n",
    "param_shape = [1]\n",
    "idt = DataType[\"UINT8\"]\n",
    "param_dt = DataType[\"INT64\"]\n",
    "slice_in = helper.make_tensor_value_info(\"735\", TensorProto.INT64, input_shape)\n",
    "slice_out = helper.make_tensor_value_info(\"slice_out\", TensorProto.INT64, output_shape)\n",
    "slice_attr = {}\n",
    "\n",
    "value_info = [\n",
    "        helper.make_tensor_value_info(\"starts\", TensorProto.INT8, param_shape),\n",
    "        helper.make_tensor_value_info(\"ends\",   TensorProto.INT8, param_shape),\n",
    "        helper.make_tensor_value_info(\"axes\",   TensorProto.INT8, param_shape),\n",
    "]\n",
    "\n",
    "slice_node = helper.make_node(\n",
    "            \"Slice\",\n",
    "            inputs  = [\"735\",\"starts\",\"ends\",\"axes\"],\n",
    "            outputs = [\"slice_out\"],\n",
    "            **slice_attr\n",
    "            )\n",
    "\n",
    "slice_graph = helper.make_graph(\n",
    "                [slice_node],\n",
    "                inputs = [slice_in],\n",
    "                outputs = [slice_out],\n",
    "                name = \"slice_graph\"\n",
    "                )\n",
    "slice_model = ModelWrapper(helper.make_model(slice_graph))\n",
    "\n",
    "slice_model.set_initializer(\"starts\",np.array([1]))\n",
    "slice_model.set_initializer(\"ends\",np.array([1]))\n",
    "slice_model.set_initializer(\"axes\",np.array([1]))\n",
    "\n",
    "slice_model.transform(InferShapes())\n",
    "slice_model.save(\"Slice_model.onnx\")"
   ]
  },
  {
   "cell_type": "code",
   "execution_count": 81,
   "metadata": {},
   "outputs": [],
   "source": [
    "# Concat\n",
    "concat_in = helper.make_tensor_value_info(\"slice_out\", TensorProto.INT64, [2])\n",
    "p1 = helper.make_tensor_value_info(\"839\", TensorProto.INT64,[2])\n",
    "top_out = helper.make_tensor_value_info(\"top_out\", TensorProto.INT64,[4])\n",
    "concat_config = {}\n",
    "concat_config[\"axis\"] = np.int64(0)\n",
    "concat_node = helper.make_node(\n",
    "            \"Concat\",\n",
    "            inputs = [\"slice_out\",\"839\"],\n",
    "            outputs = [\"top_out\"],\n",
    "            **concat_config)\n",
    "\n",
    "concat_model = helper.make_model(\n",
    "    \n",
    "    helper.make_graph(    \n",
    "        [concat_node],\n",
    "        inputs=[concat_in],\n",
    "        outputs = [top_out],\n",
    "        name = \"concat_graph\",\n",
    "        value_info=[p1])\n",
    ")\n",
    "\n",
    "Concat_model = ModelWrapper(concat_model)\n",
    "Concat_model.set_initializer(\"839\",np.array([10,10]))\n",
    "Concat_model.transform(InferShapes())\n",
    "Concat_model.save(\"Concat_model.onnx\")"
   ]
  },
  {
   "cell_type": "code",
   "execution_count": 82,
   "metadata": {},
   "outputs": [],
   "source": [
    "# Create graph\n",
    "graph = helper.make_graph(\n",
    "    nodes = [shape_node,slice_node,concat_node],\n",
    "    name = \"slice_graph\",\n",
    "    inputs = [top_in],\n",
    "    outputs = [top_out],\n",
    "    value_info = value_info,\n",
    ")"
   ]
  },
  {
   "cell_type": "code",
   "execution_count": 83,
   "metadata": {},
   "outputs": [],
   "source": [
    "# Create full model\n",
    "model_config = {}\n",
    "model_config[\"opset_imports\"] = [helper.make_operatorsetid(\"\",11)]\n",
    "\n",
    "modelProto = helper.make_model(graph,**model_config)\n",
    "model = ModelWrapper(modelProto)\n",
    "\n",
    "model.set_initializer(\"starts\",np.array([4]))\n",
    "model.set_initializer(\"ends\",np.array([3]))\n",
    "model.set_initializer(\"axes\",np.array([2]))\n",
    "model.set_initializer(\"839\",np.array([10,10]))\n",
    "\n",
    "model.transform(InferShapes())\n",
    "model.save(\"slice.onnx\")"
   ]
  },
  {
   "cell_type": "code",
   "execution_count": 85,
   "metadata": {},
   "outputs": [],
   "source": [
    "import finn.builder.build_dataflow as build\n",
    "import finn.builder.build_dataflow_config as build_cfg\n",
    "import os\n",
    "import shutil\n",
    "\n",
    "model_file = \"slice.onnx\"\n",
    "\n",
    "final_output_dir = \"output_files/slice\"\n",
    "\n",
    "#Delete previous run results if exist\n",
    "if os.path.exists(final_output_dir):\n",
    "    shutil.rmtree(final_output_dir)\n",
    "    print(\"Previous run results deleted!\")\n",
    "\n",
    "cfg = build.DataflowBuildConfig(\n",
    "    output_dir          = final_output_dir,\n",
    "    mvau_wwidth_max     = 80,\n",
    "    target_fps          = 1000000,\n",
    "    synth_clk_period_ns = 10.0,\n",
    "    board               = \"KV260_SOM\",\n",
    "#     steps               = \"estimate_only_dataflow_steps\",\n",
    "    shell_flow_type     = build_cfg.ShellFlowType.VIVADO_ZYNQ,\n",
    "    generate_outputs=[\n",
    "        build_cfg.DataflowOutputType.BITFILE,\n",
    "        build_cfg.DataflowOutputType.PYNQ_DRIVER,\n",
    "        build_cfg.DataflowOutputType.DEPLOYMENT_PACKAGE,\n",
    "    ]\n",
    ")"
   ]
  },
  {
   "cell_type": "code",
   "execution_count": 86,
   "metadata": {},
   "outputs": [
    {
     "name": "stderr",
     "output_type": "stream",
     "text": [
      "Traceback (most recent call last):\n",
      "  File \"/workspace/finn/src/finn/builder/build_dataflow.py\", line 166, in build_dataflow_cfg\n",
      "    model = transform_step(model, cfg)\n",
      "  File \"/workspace/finn/src/finn/builder/build_dataflow_steps.py\", line 196, in step_tidy_up\n",
      "    model = model.transform(FoldConstants())\n",
      "  File \"/workspace/finn-base/src/finn/core/modelwrapper.py\", line 141, in transform\n",
      "    (transformed_model, model_was_changed) = transformation.apply(\n",
      "  File \"/workspace/finn-base/src/finn/transformation/fold_constants.py\", line 54, in apply\n",
      "    oxe.execute_node(n, execution_context, graph)\n",
      "  File \"/workspace/finn-base/src/finn/core/onnx_exec.py\", line 107, in execute_node\n",
      "    output_list = sess.run(None, input_dict)\n",
      "  File \"/home/pgeel/.local/lib/python3.8/site-packages/onnxruntime/capi/session.py\", line 110, in run\n",
      "    return self._sess.run(output_names, input_feed, run_options)\n",
      "onnxruntime.capi.onnxruntime_pybind11_state.InvalidArgument: [ONNXRuntimeError] : 2 : INVALID_ARGUMENT : At least one output should be requested.\n"
     ]
    },
    {
     "name": "stdout",
     "output_type": "stream",
     "text": [
      "Building dataflow accelerator from slice.onnx\n",
      "Intermediate outputs will be generated in /workspace/results\n",
      "Final outputs will be generated in output_files/slice\n",
      "Build log is at output_files/slice/build_dataflow.log\n",
      "Running step: step_tidy_up [1/16]\n",
      "> \u001b[0;32m/home/pgeel/.local/lib/python3.8/site-packages/onnxruntime/capi/session.py\u001b[0m(110)\u001b[0;36mrun\u001b[0;34m()\u001b[0m\n",
      "\u001b[0;32m    108 \u001b[0;31m            \u001b[0moutput_names\u001b[0m \u001b[0;34m=\u001b[0m \u001b[0;34m[\u001b[0m\u001b[0moutput\u001b[0m\u001b[0;34m.\u001b[0m\u001b[0mname\u001b[0m \u001b[0;32mfor\u001b[0m \u001b[0moutput\u001b[0m \u001b[0;32min\u001b[0m \u001b[0mself\u001b[0m\u001b[0;34m.\u001b[0m\u001b[0m_outputs_meta\u001b[0m\u001b[0;34m]\u001b[0m\u001b[0;34m\u001b[0m\u001b[0;34m\u001b[0m\u001b[0m\n",
      "\u001b[0m\u001b[0;32m    109 \u001b[0;31m        \u001b[0;32mtry\u001b[0m\u001b[0;34m:\u001b[0m\u001b[0;34m\u001b[0m\u001b[0;34m\u001b[0m\u001b[0m\n",
      "\u001b[0m\u001b[0;32m--> 110 \u001b[0;31m            \u001b[0;32mreturn\u001b[0m \u001b[0mself\u001b[0m\u001b[0;34m.\u001b[0m\u001b[0m_sess\u001b[0m\u001b[0;34m.\u001b[0m\u001b[0mrun\u001b[0m\u001b[0;34m(\u001b[0m\u001b[0moutput_names\u001b[0m\u001b[0;34m,\u001b[0m \u001b[0minput_feed\u001b[0m\u001b[0;34m,\u001b[0m \u001b[0mrun_options\u001b[0m\u001b[0;34m)\u001b[0m\u001b[0;34m\u001b[0m\u001b[0;34m\u001b[0m\u001b[0m\n",
      "\u001b[0m\u001b[0;32m    111 \u001b[0;31m        \u001b[0;32mexcept\u001b[0m \u001b[0mC\u001b[0m\u001b[0;34m.\u001b[0m\u001b[0mEPFail\u001b[0m \u001b[0;32mas\u001b[0m \u001b[0merr\u001b[0m\u001b[0;34m:\u001b[0m\u001b[0;34m\u001b[0m\u001b[0;34m\u001b[0m\u001b[0m\n",
      "\u001b[0m\u001b[0;32m    112 \u001b[0;31m            \u001b[0;32mif\u001b[0m \u001b[0mself\u001b[0m\u001b[0;34m.\u001b[0m\u001b[0m_enable_fallback\u001b[0m\u001b[0;34m:\u001b[0m\u001b[0;34m\u001b[0m\u001b[0;34m\u001b[0m\u001b[0m\n",
      "\u001b[0m\n",
      "--KeyboardInterrupt--\n",
      "\n",
      "KeyboardInterrupt: Interrupted by user\n",
      "Build failed\n",
      "CPU times: user 1.04 s, sys: 284 ms, total: 1.32 s\n",
      "Wall time: 1min 36s\n"
     ]
    },
    {
     "data": {
      "text/plain": [
       "-1"
      ]
     },
     "execution_count": 86,
     "metadata": {},
     "output_type": "execute_result"
    }
   ],
   "source": [
    "%%time\n",
    "build.build_dataflow_cfg(model_file, cfg)"
   ]
  },
  {
   "cell_type": "code",
   "execution_count": null,
   "metadata": {},
   "outputs": [],
   "source": []
  }
 ],
 "metadata": {
  "kernelspec": {
   "display_name": "Python 3",
   "language": "python",
   "name": "python3"
  },
  "language_info": {
   "codemirror_mode": {
    "name": "ipython",
    "version": 3
   },
   "file_extension": ".py",
   "mimetype": "text/x-python",
   "name": "python",
   "nbconvert_exporter": "python",
   "pygments_lexer": "ipython3",
   "version": "3.8.5"
  },
  "vscode": {
   "interpreter": {
    "hash": "c0480a40de60fe0b4be044949303dbe98ce3610184aeb132e77bccbcbbb8df2a"
   }
  }
 },
 "nbformat": 4,
 "nbformat_minor": 2
}
