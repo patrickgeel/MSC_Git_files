{
 "cells": [
  {
   "cell_type": "code",
   "execution_count": 114,
   "metadata": {},
   "outputs": [],
   "source": [
    "import onnx\n",
    "from onnx import helper,TensorProto\n",
    "from qonnx.core.modelwrapper import ModelWrapper\n",
    "from qonnx.core.datatype import DataType\n",
    "import numpy as np\n",
    "from qonnx.util.basic import gen_finn_dt_tensor\n",
    "import onnx.version_converter as vc\n",
    "from onnx.backend.test.case.node import expect\n",
    "\n",
    "model = ModelWrapper(\"tinyyolo-20210831.onnx\")\n",
    "# converted_model = vc.convert_version(model.model,12)\n",
    "# model_new = ModelWrapper(converted_model)\n",
    "# model_new.save(\"New_opset_model.onnx\")\n"
   ]
  },
  {
   "cell_type": "code",
   "execution_count": 115,
   "metadata": {},
   "outputs": [],
   "source": [
    "# shape node \n",
    "top_in = helper.make_tensor_value_info(\"top_in\", TensorProto.FLOAT, [1,64,16,16])\n",
    "shape_out = helper.make_tensor_value_info(\"735\", TensorProto.INT64,[4])\n",
    "shape_node = helper.make_node(\n",
    "            \"Shape\",\n",
    "            inputs = [\"top_in\"],\n",
    "            outputs = [\"735\"])"
   ]
  },
  {
   "cell_type": "code",
   "execution_count": 119,
   "metadata": {},
   "outputs": [],
   "source": [
    "# Slice node\n",
    "input_shape = [4]\n",
    "output_shape = [2]\n",
    "param_shape = [1]\n",
    "idt = DataType[\"UINT8\"]\n",
    "param_dt = DataType[\"UINT4\"]\n",
    "slice_in = helper.make_tensor_value_info(\"735\", TensorProto.INT64, input_shape)\n",
    "top_out = helper.make_tensor_value_info(\"top_out\", TensorProto.INT64, output_shape)\n",
    "slice_attr = {}\n",
    "slice_attr[\"starts\"] = [1]\n",
    "slice_attr[\"ends\"] = [1]\n",
    "slice_attr[\"axes\"] = [1]\n",
    "\n",
    "value_info = [\n",
    "        helper.make_tensor_value_info(\"starts\", TensorProto.INT64, param_shape),\n",
    "        helper.make_tensor_value_info(\"ends\",   TensorProto.INT64, param_shape),\n",
    "        helper.make_tensor_value_info(\"axes\",   TensorProto.INT64, param_shape),\n",
    "]\n",
    "\n",
    "slice_node = helper.make_node(\n",
    "            \"Slice\",\n",
    "            inputs  = [\"735\"],#,\"starts\",\"ends\",\"axes\"],\n",
    "            outputs = [\"top_out\"],\n",
    "            **slice_attr\n",
    "            )\n"
   ]
  },
  {
   "cell_type": "code",
   "execution_count": 120,
   "metadata": {},
   "outputs": [],
   "source": [
    "graph = helper.make_graph(\n",
    "    nodes = [shape_node,slice_node],\n",
    "    name = \"slice_graph\",\n",
    "    inputs = [top_in],\n",
    "    outputs = [top_out],\n",
    "#     value_info = value_info,\n",
    ")"
   ]
  },
  {
   "cell_type": "code",
   "execution_count": 123,
   "metadata": {},
   "outputs": [],
   "source": [
    "model_config = {}\n",
    "model_config[\"opset_imports\"] = [helper.make_operatorsetid(\"\",9)]\n",
    "\n",
    "modelProto = helper.make_model(graph,**model_config)\n",
    "model = ModelWrapper(modelProto)\n",
    "\n",
    "\n",
    "model.set_tensor_datatype(\"starts\", param_dt)\n",
    "model.set_initializer(\"starts\",gen_finn_dt_tensor(param_dt,param_shape))\n",
    "model.set_tensor_datatype(\"ends\", param_dt)\n",
    "model.set_initializer(\"ends\",gen_finn_dt_tensor(param_dt,param_shape))\n",
    "model.set_tensor_datatype(\"axes\", param_dt)\n",
    "model.set_initializer(\"axes\",gen_finn_dt_tensor(param_dt,param_shape))\n",
    "\n",
    "converted_model = vc.convert_version(model.model,12)\n",
    "model = ModelWrapper(converted_model)\n",
    "model.save(\"slice.onnx\")"
   ]
  },
  {
   "cell_type": "code",
   "execution_count": 122,
   "metadata": {},
   "outputs": [
    {
     "name": "stdout",
     "output_type": "stream",
     "text": [
      "Previous run results deleted!\n"
     ]
    }
   ],
   "source": [
    "import finn.builder.build_dataflow as build\n",
    "import finn.builder.build_dataflow_config as build_cfg\n",
    "import os\n",
    "import shutil\n",
    "\n",
    "model_file = \"slice.onnx\"\n",
    "\n",
    "final_output_dir = \"output_files/slice\"\n",
    "\n",
    "#Delete previous run results if exist\n",
    "if os.path.exists(final_output_dir):\n",
    "    shutil.rmtree(final_output_dir)\n",
    "    print(\"Previous run results deleted!\")\n",
    "\n",
    "cfg = build.DataflowBuildConfig(\n",
    "    output_dir          = final_output_dir,\n",
    "    mvau_wwidth_max     = 80,\n",
    "    target_fps          = 1000000,\n",
    "    synth_clk_period_ns = 10.0,\n",
    "    board               = \"KV260_SOM\",\n",
    "#     steps               = \"estimate_only_dataflow_steps\",\n",
    "    shell_flow_type     = build_cfg.ShellFlowType.VIVADO_ZYNQ,\n",
    "    generate_outputs=[\n",
    "        build_cfg.DataflowOutputType.BITFILE,\n",
    "        build_cfg.DataflowOutputType.PYNQ_DRIVER,\n",
    "        build_cfg.DataflowOutputType.DEPLOYMENT_PACKAGE,\n",
    "    ]\n",
    ")"
   ]
  },
  {
   "cell_type": "code",
   "execution_count": 124,
   "metadata": {},
   "outputs": [
    {
     "name": "stderr",
     "output_type": "stream",
     "text": [
      "Traceback (most recent call last):\n",
      "  File \"/workspace/finn/src/finn/builder/build_dataflow.py\", line 166, in build_dataflow_cfg\n",
      "    model = transform_step(model, cfg)\n",
      "  File \"/workspace/finn/src/finn/builder/build_dataflow_steps.py\", line 243, in step_tidy_up\n",
      "    model = model.transform(FoldConstants())\n",
      "  File \"/workspace/qonnx/src/qonnx/core/modelwrapper.py\", line 140, in transform\n",
      "    (transformed_model, model_was_changed) = transformation.apply(transformed_model)\n",
      "  File \"/workspace/qonnx/src/qonnx/transformation/fold_constants.py\", line 53, in apply\n",
      "    ishape = model.get_tensor_shape(n.input[0])\n",
      "IndexError: list index (0) out of range\n"
     ]
    },
    {
     "name": "stdout",
     "output_type": "stream",
     "text": [
      "Building dataflow accelerator from slice.onnx\n",
      "Intermediate outputs will be generated in /workspace/results\n",
      "Final outputs will be generated in output_files/slice\n",
      "Build log is at output_files/slice/build_dataflow.log\n",
      "Running step: step_qonnx_to_finn [1/17]\n",
      "Running step: step_tidy_up [2/17]\n",
      "> \u001b[0;32m/workspace/qonnx/src/qonnx/transformation/fold_constants.py\u001b[0m(53)\u001b[0;36mapply\u001b[0;34m()\u001b[0m\n",
      "\u001b[0;32m     51 \u001b[0;31m            \u001b[0mnode_out\u001b[0m \u001b[0;34m=\u001b[0m \u001b[0mn\u001b[0m\u001b[0;34m.\u001b[0m\u001b[0moutput\u001b[0m\u001b[0;34m[\u001b[0m\u001b[0;36m0\u001b[0m\u001b[0;34m]\u001b[0m\u001b[0;34m\u001b[0m\u001b[0;34m\u001b[0m\u001b[0m\n",
      "\u001b[0m\u001b[0;32m     52 \u001b[0;31m            \u001b[0mis_all_constant_inputs\u001b[0m \u001b[0;34m=\u001b[0m \u001b[0mlen\u001b[0m\u001b[0;34m(\u001b[0m\u001b[0mnode_inp_dyn\u001b[0m\u001b[0;34m)\u001b[0m \u001b[0;34m==\u001b[0m \u001b[0;36m0\u001b[0m\u001b[0;34m\u001b[0m\u001b[0;34m\u001b[0m\u001b[0m\n",
      "\u001b[0m\u001b[0;32m---> 53 \u001b[0;31m            \u001b[0mishape\u001b[0m \u001b[0;34m=\u001b[0m \u001b[0mmodel\u001b[0m\u001b[0;34m.\u001b[0m\u001b[0mget_tensor_shape\u001b[0m\u001b[0;34m(\u001b[0m\u001b[0mn\u001b[0m\u001b[0;34m.\u001b[0m\u001b[0minput\u001b[0m\u001b[0;34m[\u001b[0m\u001b[0;36m0\u001b[0m\u001b[0;34m]\u001b[0m\u001b[0;34m)\u001b[0m\u001b[0;34m\u001b[0m\u001b[0;34m\u001b[0m\u001b[0m\n",
      "\u001b[0m\u001b[0;32m     54 \u001b[0;31m            \u001b[0mis_const_shape\u001b[0m \u001b[0;34m=\u001b[0m \u001b[0;34m(\u001b[0m\u001b[0mn\u001b[0m\u001b[0;34m.\u001b[0m\u001b[0mop_type\u001b[0m \u001b[0;34m==\u001b[0m \u001b[0;34m\"Shape\"\u001b[0m\u001b[0;34m)\u001b[0m \u001b[0;32mand\u001b[0m \u001b[0;34m(\u001b[0m\u001b[0mishape\u001b[0m \u001b[0;32mis\u001b[0m \u001b[0;32mnot\u001b[0m \u001b[0;32mNone\u001b[0m\u001b[0;34m)\u001b[0m\u001b[0;34m\u001b[0m\u001b[0;34m\u001b[0m\u001b[0m\n",
      "\u001b[0m\u001b[0;32m     55 \u001b[0;31m            \u001b[0mexclude\u001b[0m \u001b[0;34m=\u001b[0m \u001b[0mn\u001b[0m\u001b[0;34m.\u001b[0m\u001b[0mop_type\u001b[0m \u001b[0;32min\u001b[0m \u001b[0mself\u001b[0m\u001b[0;34m.\u001b[0m\u001b[0mexclude_op_types\u001b[0m\u001b[0;34m\u001b[0m\u001b[0;34m\u001b[0m\u001b[0m\n",
      "\u001b[0m\n",
      "--KeyboardInterrupt--\n",
      "\n",
      "KeyboardInterrupt: Interrupted by user\n",
      "Build failed\n",
      "CPU times: user 368 ms, sys: 65.8 ms, total: 434 ms\n",
      "Wall time: 24.5 s\n"
     ]
    },
    {
     "data": {
      "text/plain": [
       "-1"
      ]
     },
     "execution_count": 124,
     "metadata": {},
     "output_type": "execute_result"
    }
   ],
   "source": [
    "%%time\n",
    "build.build_dataflow_cfg(model_file, cfg)"
   ]
  },
  {
   "cell_type": "code",
   "execution_count": null,
   "metadata": {},
   "outputs": [],
   "source": []
  }
 ],
 "metadata": {
  "kernelspec": {
   "display_name": "Python 3",
   "language": "python",
   "name": "python3"
  },
  "language_info": {
   "codemirror_mode": {
    "name": "ipython",
    "version": 3
   },
   "file_extension": ".py",
   "mimetype": "text/x-python",
   "name": "python",
   "nbconvert_exporter": "python",
   "pygments_lexer": "ipython3",
   "version": "3.8.5"
  },
  "vscode": {
   "interpreter": {
    "hash": "c0480a40de60fe0b4be044949303dbe98ce3610184aeb132e77bccbcbbb8df2a"
   }
  }
 },
 "nbformat": 4,
 "nbformat_minor": 2
}
