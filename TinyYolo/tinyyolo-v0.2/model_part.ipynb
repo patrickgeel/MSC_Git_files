{
 "cells": [
  {
   "cell_type": "code",
   "execution_count": 28,
   "id": "7d74ad6a",
   "metadata": {},
   "outputs": [
    {
     "name": "stderr",
     "output_type": "stream",
     "text": [
      "/workspace/qonnx/src/qonnx/core/modelwrapper.py:93: UserWarning: Some old-style domain attributes were automatically converted to new-style,\n",
      "                i.e. domain=finn to domain=qonnx.custom_op.<general|fpgadataflow|...>\n",
      "  warnings.warn(\n"
     ]
    }
   ],
   "source": [
    "from qonnx.core.modelwrapper import ModelWrapper\n",
    "import copy\n",
    "import onnx.helper as oh\n",
    "# raw_model = ModelWrapper(\"onnx_model/slice_incorrect_graph.onnx\")\n",
    "raw_model = ModelWrapper(\"tinyyolo-20210831.onnx\")\n"
   ]
  },
  {
   "cell_type": "code",
   "execution_count": 31,
   "id": "a99b8bfb",
   "metadata": {},
   "outputs": [],
   "source": [
    "slice_nodes = raw_model.get_nodes_by_op_type(\"Slice\")\n"
   ]
  },
  {
   "cell_type": "code",
   "execution_count": 38,
   "id": "2807dcff",
   "metadata": {},
   "outputs": [
    {
     "name": "stdout",
     "output_type": "stream",
     "text": [
      "name: \"675\"\n",
      "type {\n",
      "  tensor_type {\n",
      "    elem_type: 7\n",
      "    shape {\n",
      "      dim {\n",
      "        dim_value: 1\n",
      "      }\n",
      "    }\n",
      "  }\n",
      "}\n",
      "\n",
      "name: \"676\"\n",
      "type {\n",
      "  tensor_type {\n",
      "    elem_type: 7\n",
      "    shape {\n",
      "      dim {\n",
      "        dim_value: 1\n",
      "      }\n",
      "    }\n",
      "  }\n",
      "}\n",
      "\n",
      "name: \"674\"\n",
      "type {\n",
      "  tensor_type {\n",
      "    elem_type: 7\n",
      "    shape {\n",
      "      dim {\n",
      "        dim_value: 1\n",
      "      }\n",
      "    }\n",
      "  }\n",
      "}\n",
      "\n",
      "name: \"677\"\n",
      "type {\n",
      "  tensor_type {\n",
      "    elem_type: 7\n",
      "    shape {\n",
      "      dim {\n",
      "        dim_value: 1\n",
      "      }\n",
      "    }\n",
      "  }\n",
      "}\n",
      "\n",
      "['673'] ['675', '676', '674', '677']\n"
     ]
    }
   ],
   "source": [
    "new_model = copy.deepcopy(raw_model)\n",
    "for s in slice_nodes[0:1]:\n",
    "    node_index = raw_model.get_node_index(s)\n",
    "    slice_attr = []\n",
    "    keep, drop = [], []\n",
    "    for inp in s.input:\n",
    "        if not raw_model.get_initializer(inp) is None:\n",
    "            init = raw_model.get_initializer(inp)\n",
    "            print(raw_model.get_tensor_valueinfo(inp))\n",
    "            drop.append(inp)\n",
    "            name = inp\n",
    "            slice_attr.append(oh.make_attribute(name,init))\n",
    "        else:\n",
    "            keep.append(inp)\n",
    "    print(keep,drop)\n",
    "    for sa in slice_attr:\n",
    "        new_model.graph.node[node_index].attribute.append(sa)\n",
    "[new_model.graph.node[node_index].input.remove(d) for d in drop ]\n",
    "new_model.graph\n",
    "new_model.save(\"onnx_model/updated_tinyyolo_slice_attribute.onnx\")"
   ]
  },
  {
   "cell_type": "code",
   "execution_count": null,
   "id": "689ece35",
   "metadata": {},
   "outputs": [],
   "source": []
  }
 ],
 "metadata": {
  "kernelspec": {
   "display_name": "Python 3",
   "language": "python",
   "name": "python3"
  },
  "language_info": {
   "codemirror_mode": {
    "name": "ipython",
    "version": 3
   },
   "file_extension": ".py",
   "mimetype": "text/x-python",
   "name": "python",
   "nbconvert_exporter": "python",
   "pygments_lexer": "ipython3",
   "version": "3.8.5"
  }
 },
 "nbformat": 4,
 "nbformat_minor": 5
}
