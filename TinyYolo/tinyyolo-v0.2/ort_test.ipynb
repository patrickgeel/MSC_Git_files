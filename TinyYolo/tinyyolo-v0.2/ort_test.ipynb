{
 "cells": [
  {
   "cell_type": "code",
   "execution_count": 2,
   "id": "403626c8",
   "metadata": {},
   "outputs": [],
   "source": [
    "from qonnx.core.modelwrapper import ModelWrapper\n",
    "import onnxruntime as ort\n",
    "from qonnx.transformation.create_generic_partitions import PartitionFromDict\n",
    "from onnx import helper\n",
    "from onnxruntime_extensions import get_library_path\n",
    "from qonnx.util.basic import get_by_name\n",
    "from onnx import checker"
   ]
  },
  {
   "cell_type": "code",
   "execution_count": 7,
   "id": "8a80a94c",
   "metadata": {
    "scrolled": true
   },
   "outputs": [
    {
     "ename": "ValidationError",
     "evalue": "No opset import for domain 'qonnx.custom_op.general'\n\n==> Context: Bad node spec for node. Name: MultiThreshold_1 OpType: MultiThreshold",
     "output_type": "error",
     "traceback": [
      "\u001b[0;31m---------------------------------------------------------------------------\u001b[0m",
      "\u001b[0;31mValidationError\u001b[0m                           Traceback (most recent call last)",
      "Input \u001b[0;32mIn [7]\u001b[0m, in \u001b[0;36m<cell line: 13>\u001b[0;34m()\u001b[0m\n\u001b[1;32m      4\u001b[0m model \u001b[38;5;241m=\u001b[39m ModelWrapper(mfile)\n\u001b[1;32m      6\u001b[0m \u001b[38;5;66;03m# for n in model.graph.node:\u001b[39;00m\n\u001b[1;32m      7\u001b[0m \u001b[38;5;66;03m#     if n.domain == \"qonnx.custom_op.general\":\u001b[39;00m\n\u001b[1;32m      8\u001b[0m \u001b[38;5;66;03m#         n.domain = \"ai.onnx.contrib\"\u001b[39;00m\n\u001b[1;32m      9\u001b[0m         \n\u001b[1;32m     10\u001b[0m \u001b[38;5;66;03m# model.graph.node.remove(node)\u001b[39;00m\n\u001b[1;32m     11\u001b[0m \u001b[38;5;66;03m# model.graph.node.append(update)\u001b[39;00m\n\u001b[0;32m---> 13\u001b[0m \u001b[43mchecker\u001b[49m\u001b[38;5;241;43m.\u001b[39;49m\u001b[43mcheck_graph\u001b[49m\u001b[43m(\u001b[49m\u001b[43mmodel\u001b[49m\u001b[38;5;241;43m.\u001b[39;49m\u001b[43mgraph\u001b[49m\u001b[43m)\u001b[49m\n\u001b[1;32m     14\u001b[0m model\u001b[38;5;241m.\u001b[39msave(mfile_up)\n\u001b[1;32m     16\u001b[0m so \u001b[38;5;241m=\u001b[39m ort\u001b[38;5;241m.\u001b[39mSessionOptions()\n",
      "File \u001b[0;32m/usr/local/share/pynq-venv/lib/python3.10/site-packages/onnx/checker.py:53\u001b[0m, in \u001b[0;36m_create_checker.<locals>.decorator.<locals>.checker\u001b[0;34m(proto, ctx)\u001b[0m\n\u001b[1;32m     49\u001b[0m \u001b[38;5;28;01mif\u001b[39;00m \u001b[38;5;129;01mnot\u001b[39;00m \u001b[38;5;28misinstance\u001b[39m(proto, proto_type):\n\u001b[1;32m     50\u001b[0m     \u001b[38;5;28;01mraise\u001b[39;00m \u001b[38;5;167;01mRuntimeError\u001b[39;00m(\n\u001b[1;32m     51\u001b[0m         \u001b[38;5;124m'\u001b[39m\u001b[38;5;124mYou cannot pass an object that is not of type \u001b[39m\u001b[38;5;132;01m{}\u001b[39;00m\u001b[38;5;124m'\u001b[39m\u001b[38;5;241m.\u001b[39mformat(\n\u001b[1;32m     52\u001b[0m             proto_type\u001b[38;5;241m.\u001b[39m\u001b[38;5;18m__name__\u001b[39m))\n\u001b[0;32m---> 53\u001b[0m \u001b[38;5;28;01mreturn\u001b[39;00m \u001b[38;5;28;43mgetattr\u001b[39;49m\u001b[43m(\u001b[49m\u001b[43mC\u001b[49m\u001b[43m,\u001b[49m\u001b[43m \u001b[49m\u001b[43mpy_func\u001b[49m\u001b[38;5;241;43m.\u001b[39;49m\u001b[38;5;18;43m__name__\u001b[39;49m\u001b[43m)\u001b[49m\u001b[43m(\u001b[49m\n\u001b[1;32m     54\u001b[0m \u001b[43m    \u001b[49m\u001b[43mproto\u001b[49m\u001b[38;5;241;43m.\u001b[39;49m\u001b[43mSerializeToString\u001b[49m\u001b[43m(\u001b[49m\u001b[43m)\u001b[49m\u001b[43m,\u001b[49m\u001b[43m \u001b[49m\u001b[43mctx\u001b[49m\u001b[43m)\u001b[49m\n",
      "\u001b[0;31mValidationError\u001b[0m: No opset import for domain 'qonnx.custom_op.general'\n\n==> Context: Bad node spec for node. Name: MultiThreshold_1 OpType: MultiThreshold"
     ]
    }
   ],
   "source": [
    "mfile = \"tinyyolo-20210831.onnx\"\n",
    "mfile_up = mfile.replace(\".onnx\",\"_ort.onnx\")\n",
    "\n",
    "model = ModelWrapper(mfile)\n",
    "\n",
    "for n in model.graph.node:\n",
    "    if n.domain == \"qonnx.custom_op.general\":\n",
    "        n.domain = \"ai.onnx.contrib\"\n",
    "        \n",
    "# model.graph.node.remove(node)\n",
    "# model.graph.node.append(update)\n",
    "\n",
    "checker.check_graph(model.graph)\n",
    "model.save(mfile_up)\n",
    "\n",
    "so = ort.SessionOptions()\n",
    "so.register_custom_ops_library(get_library_path())\n",
    "\n",
    "sess = ort.InferenceSession(mfile_up, so)"
   ]
  }
 ],
 "metadata": {
  "kernelspec": {
   "display_name": "Python 3 (ipykernel)",
   "language": "python",
   "name": "python3"
  },
  "language_info": {
   "codemirror_mode": {
    "name": "ipython",
    "version": 3
   },
   "file_extension": ".py",
   "mimetype": "text/x-python",
   "name": "python",
   "nbconvert_exporter": "python",
   "pygments_lexer": "ipython3",
   "version": "3.10.6"
  }
 },
 "nbformat": 4,
 "nbformat_minor": 5
}
