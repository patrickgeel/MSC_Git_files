{
 "cells": [
  {
   "cell_type": "code",
   "execution_count": 2,
   "metadata": {},
   "outputs": [
    {
     "name": "stderr",
     "output_type": "stream",
     "text": [
      "/workspace/qonnx/src/qonnx/core/modelwrapper.py:93: UserWarning: Some old-style domain attributes were automatically converted to new-style,\n",
      "                i.e. domain=finn to domain=qonnx.custom_op.<general|fpgadataflow|...>\n",
      "  warnings.warn(\n"
     ]
    },
    {
     "data": {
      "text/plain": [
       "array([0])"
      ]
     },
     "execution_count": 2,
     "metadata": {},
     "output_type": "execute_result"
    }
   ],
   "source": [
    "import onnx\n",
    "from onnx import helper,TensorProto\n",
    "from qonnx.core.modelwrapper import ModelWrapper\n",
    "from qonnx.core.datatype import DataType\n",
    "import numpy as np\n",
    "from qonnx.util.basic import gen_finn_dt_tensor\n",
    "import onnx.version_converter as vc\n",
    "from onnx.backend.test.case.node import expect\n",
    "\n",
    "from qonnx.transformation.infer_shapes import InferShapes\n",
    "\n",
    "model = ModelWrapper(\"tinyyolo-20210831.onnx\")\n",
    "model.get_initializer(\"737\")\n"
   ]
  },
  {
   "cell_type": "markdown",
   "metadata": {},
   "source": [
    "### Convolutional Node"
   ]
  },
  {
   "cell_type": "code",
   "execution_count": 17,
   "metadata": {},
   "outputs": [],
   "source": [
    "from qonnx.custom_op.general.im2col import compute_conv_output_dim\n",
    "\n",
    "kernel_size, stride, pad = 1,1,0\n",
    "\n",
    "depthwise = False\n",
    "in_feature_dim = 16\n",
    "in_chn = 128\n",
    "\n",
    "idt = DataType[\"UINT8\"]\n",
    "\n",
    "group = 1\n",
    "out_chn = 64\n",
    "conv_param_shape = [out_chn, in_chn, kernel_size, kernel_size]\n",
    "\n",
    "total_pad = 2 * pad\n",
    "out_feature_dim = compute_conv_output_dim(\n",
    "    in_feature_dim, kernel_size, stride, total_pad\n",
    ")\n",
    "\n",
    "input_shape = [1, in_chn, in_feature_dim, in_feature_dim]\n",
    "output_shape = [1, out_chn, out_feature_dim, out_feature_dim]\n",
    "\n",
    "conv_weight_dt = DataType[\"INT2\"]\n",
    "\n",
    "conv_config = {}\n",
    "conv_config[\"dilations\"] = [1, 1]\n",
    "conv_config[\"group\"] = group\n",
    "conv_config[\"kernel_shape\"] = [kernel_size, kernel_size]\n",
    "conv_config[\"pads\"] = [pad, pad, pad, pad]\n",
    "conv_config[\"strides\"] = [stride, stride]\n",
    "\n",
    "top_in = helper.make_tensor_value_info(\"top_in\", TensorProto.FLOAT, input_shape)\n",
    "conv_out = helper.make_tensor_value_info(\"conv_out\", TensorProto.FLOAT, output_shape)\n",
    "value_info_conv = [\n",
    "    helper.make_tensor_value_info(\"c1\", TensorProto.FLOAT, conv_param_shape)\n",
    "]\n",
    "conv_node = helper.make_node(\"Conv\", [\"top_in\", \"c1\"], [\"conv_out\"], **conv_config)\n",
    "modelproto = helper.make_model(\n",
    "    helper.make_graph(\n",
    "        name=\"conv_test\",\n",
    "        inputs=[top_in],\n",
    "        outputs=[conv_out],\n",
    "        value_info=value_info,\n",
    "        nodes=[conv_node],\n",
    "    )\n",
    ")\n",
    "\n",
    "model = ModelWrapper(modelproto)\n",
    "model.set_tensor_datatype(\"c1\", conv_weight_dt)\n",
    "model.set_initializer(\"c1\", gen_finn_dt_tensor(conv_weight_dt, conv_param_shape))\n",
    "\n",
    "model.save(\"onnx_model/conv_model.onnx\")"
   ]
  },
  {
   "cell_type": "code",
   "execution_count": 13,
   "metadata": {},
   "outputs": [],
   "source": [
    "# shape node \n",
    "shape_in = helper.make_tensor_value_info(\"conv_out\", TensorProto.FLOAT, [1,64,16,16])\n",
    "shape_out = helper.make_tensor_value_info(\"735\", TensorProto.INT64,[4])\n",
    "shape_node = helper.make_node(\n",
    "            \"Shape\",\n",
    "            inputs = [\"conv_out\"],\n",
    "            outputs = [\"735\"])\n",
    "shape_graph = helper.make_graph(\n",
    "                [shape_node],\n",
    "                inputs = [shape_in],\n",
    "                outputs = [shape_out],\n",
    "                name = \"shape_graph\"\n",
    "                )\n",
    "shape_model = ModelWrapper(helper.make_model(shape_graph))\n",
    "shape_model.transform(InferShapes())\n",
    "shape_model.save(\"onnx_model/Shape_model.onnx\")"
   ]
  },
  {
   "cell_type": "markdown",
   "metadata": {},
   "source": [
    "### Slice node\n"
   ]
  },
  {
   "cell_type": "code",
   "execution_count": 14,
   "metadata": {},
   "outputs": [],
   "source": [
    "input_shape = [4]\n",
    "output_shape = [2]\n",
    "param_shape = [1]\n",
    "idt = DataType[\"UINT8\"]\n",
    "param_dt = DataType[\"INT64\"]\n",
    "slice_in = helper.make_tensor_value_info(\"735\", TensorProto.INT64, input_shape)\n",
    "slice_out = helper.make_tensor_value_info(\"slice_out\", TensorProto.INT64, output_shape)\n",
    "slice_attr = {}\n",
    "slice_attr[\"starts\"] = np.array([0],dtype=np.int64)\n",
    "slice_attr[\"ends\"] = np.array([2],dtype=np.int64)\n",
    "slice_attr[\"axes\"] = np.array([0],dtype=np.int64)\n",
    "\n",
    "# value_info = [\n",
    "#         helper.make_tensor_value_info(\"starts\", TensorProto.INT8, param_shape),\n",
    "#         helper.make_tensor_value_info(\"ends\",   TensorProto.INT8, param_shape),\n",
    "#         helper.make_tensor_value_info(\"axes\",   TensorProto.INT8, param_shape),\n",
    "# ]\n",
    "\n",
    "\n",
    "\n",
    "slice_node = helper.make_node(\n",
    "            \"Slice\",\n",
    "            inputs  = [\"735\"],#,\"starts\",\"ends\",\"axes\"],\n",
    "            outputs = [\"slice_out\"],\n",
    "            **slice_attr\n",
    "            )\n",
    "\n",
    "slice_graph = helper.make_graph(\n",
    "                [slice_node],\n",
    "                inputs = [slice_in],\n",
    "                outputs = [slice_out],\n",
    "                name = \"slice_graph\"\n",
    "                )\n",
    "\n",
    "model_config = {}\n",
    "model_config[\"opset_imports\"] = [helper.make_operatorsetid(\"\",9)]\n",
    "\n",
    "slice_model = ModelWrapper(helper.make_model(slice_graph,**model_config))\n",
    "slice_model.transform(InferShapes())\n",
    "onnx.checker.check_model(slice_model.model)\n",
    "slice_model.save(\"onnx_model/Slice_model.onnx\")"
   ]
  },
  {
   "cell_type": "markdown",
   "metadata": {},
   "source": [
    "### Concat node"
   ]
  },
  {
   "cell_type": "code",
   "execution_count": 15,
   "metadata": {},
   "outputs": [],
   "source": [
    "concat_in = helper.make_tensor_value_info(\"slice_out\", TensorProto.INT64, [2])\n",
    "p1 = helper.make_tensor_value_info(\"839\", TensorProto.INT64,[2])\n",
    "top_out = helper.make_tensor_value_info(\"top_out\", TensorProto.INT64,[4])\n",
    "concat_config = {}\n",
    "concat_config[\"axis\"] = np.int64(0)\n",
    "concat_node = helper.make_node(\n",
    "            \"Concat\",\n",
    "            inputs = [\"slice_out\",\"839\"],\n",
    "            outputs = [\"top_out\"],\n",
    "            **concat_config)\n",
    "\n",
    "concat_model = helper.make_model(\n",
    "    \n",
    "    helper.make_graph(    \n",
    "        [concat_node],\n",
    "        inputs=[concat_in],\n",
    "        outputs = [top_out],\n",
    "        name = \"concat_graph\",\n",
    "        value_info=[p1])\n",
    ")\n",
    "\n",
    "Concat_model = ModelWrapper(concat_model)\n",
    "Concat_model.set_initializer(\"839\",np.array([10,10]))\n",
    "Concat_model.transform(InferShapes())\n",
    "Concat_model.save(\"Concat_model.onnx\")"
   ]
  },
  {
   "cell_type": "markdown",
   "metadata": {},
   "source": [
    "### Create Full graph"
   ]
  },
  {
   "cell_type": "code",
   "execution_count": 28,
   "metadata": {},
   "outputs": [],
   "source": [
    "# Create graph\n",
    "value_info = [\n",
    "    helper.make_tensor_value_info(\"c1\", TensorProto.FLOAT, conv_param_shape),\n",
    "    helper.make_tensor_value_info(\"839\", TensorProto.INT64,[2]) \n",
    "]\n",
    "\n",
    "graph = helper.make_graph(\n",
    "    nodes = [conv_node, shape_node,slice_node,concat_node],\n",
    "    name = \"slice_graph\",\n",
    "    inputs = [top_in],\n",
    "    outputs = [top_out],\n",
    "    value_info = value_info,\n",
    ")"
   ]
  },
  {
   "cell_type": "markdown",
   "metadata": {},
   "source": [
    "### Create full model"
   ]
  },
  {
   "cell_type": "code",
   "execution_count": 29,
   "metadata": {},
   "outputs": [],
   "source": [
    "model_config = {}\n",
    "model_config[\"opset_imports\"] = [helper.make_operatorsetid(\"\",9)]\n",
    "modelProto = helper.make_model(graph,**model_config)\n",
    "model = ModelWrapper(modelProto)\n",
    "\n",
    "model.set_initializer(\"starts\",np.array([0]))\n",
    "model.set_initializer(\"ends\",np.array([2]))\n",
    "model.set_initializer(\"axes\",np.array([0]))\n",
    "model.set_initializer(\"839\",np.array([10,10]))\n",
    "\n",
    "model.transform(InferShapes())\n",
    "model.save(\"onnx_model/slice.onnx\")"
   ]
  },
  {
   "cell_type": "markdown",
   "metadata": {},
   "source": [
    "### Finn build"
   ]
  },
  {
   "cell_type": "code",
   "execution_count": 40,
   "metadata": {},
   "outputs": [],
   "source": [
    "import finn.builder.build_dataflow as build\n",
    "import finn.builder.build_dataflow_config as build_cfg\n",
    "import os\n",
    "import shutil\n",
    "\n",
    "model_file = \"slice.onnx\"\n",
    "\n",
    "final_output_dir = \"output_files/slice\"\n",
    "\n",
    "#Delete previous run results if exist\n",
    "if os.path.exists(final_output_dir):\n",
    "    shutil.rmtree(final_output_dir)\n",
    "    print(\"Previous run results deleted!\")\n",
    "\n",
    "cfg = build.DataflowBuildConfig(\n",
    "    output_dir          = final_output_dir,\n",
    "    mvau_wwidth_max     = 80,\n",
    "    target_fps          = 1000000,\n",
    "    synth_clk_period_ns = 10.0,\n",
    "    board               = \"KV260_SOM\",\n",
    "#     steps               = \"estimate_only_dataflow_steps\",\n",
    "    shell_flow_type     = build_cfg.ShellFlowType.VIVADO_ZYNQ,\n",
    "    generate_outputs=[\n",
    "        build_cfg.DataflowOutputType.BITFILE,\n",
    "        build_cfg.DataflowOutputType.PYNQ_DRIVER,\n",
    "        build_cfg.DataflowOutputType.DEPLOYMENT_PACKAGE,\n",
    "    ]\n",
    ")"
   ]
  },
  {
   "cell_type": "code",
   "execution_count": 41,
   "metadata": {},
   "outputs": [
    {
     "name": "stderr",
     "output_type": "stream",
     "text": [
      "Traceback (most recent call last):\n",
      "  File \"/workspace/finn/src/finn/builder/build_dataflow.py\", line 166, in build_dataflow_cfg\n",
      "    model = transform_step(model, cfg)\n",
      "  File \"/workspace/finn/src/finn/builder/build_dataflow_steps.py\", line 327, in step_create_dataflow_partition\n",
      "    assert len(sdp_nodes) == 1, \"Only a single StreamingDataflowPartition supported.\"\n",
      "AssertionError: Only a single StreamingDataflowPartition supported.\n"
     ]
    },
    {
     "name": "stdout",
     "output_type": "stream",
     "text": [
      "Building dataflow accelerator from slice.onnx\n",
      "Intermediate outputs will be generated in /workspace/results\n",
      "Final outputs will be generated in output_files/slice\n",
      "Build log is at output_files/slice/build_dataflow.log\n",
      "Running step: step_qonnx_to_finn [1/17]\n",
      "Running step: step_tidy_up [2/17]\n",
      "Running step: step_streamline [3/17]\n",
      "Running step: step_convert_to_hls [4/17]\n",
      "Running step: step_create_dataflow_partition [5/17]\n",
      "> \u001b[0;32m/workspace/finn/src/finn/builder/build_dataflow_steps.py\u001b[0m(327)\u001b[0;36mstep_create_dataflow_partition\u001b[0;34m()\u001b[0m\n",
      "\u001b[0;32m    325 \u001b[0;31m    )\n",
      "\u001b[0m\u001b[0;32m    326 \u001b[0;31m    \u001b[0msdp_nodes\u001b[0m \u001b[0;34m=\u001b[0m \u001b[0mparent_model\u001b[0m\u001b[0;34m.\u001b[0m\u001b[0mget_nodes_by_op_type\u001b[0m\u001b[0;34m(\u001b[0m\u001b[0;34m\"StreamingDataflowPartition\"\u001b[0m\u001b[0;34m)\u001b[0m\u001b[0;34m\u001b[0m\u001b[0;34m\u001b[0m\u001b[0m\n",
      "\u001b[0m\u001b[0;32m--> 327 \u001b[0;31m    \u001b[0;32massert\u001b[0m \u001b[0mlen\u001b[0m\u001b[0;34m(\u001b[0m\u001b[0msdp_nodes\u001b[0m\u001b[0;34m)\u001b[0m \u001b[0;34m==\u001b[0m \u001b[0;36m1\u001b[0m\u001b[0;34m,\u001b[0m \u001b[0;34m\"Only a single StreamingDataflowPartition supported.\"\u001b[0m\u001b[0;34m\u001b[0m\u001b[0;34m\u001b[0m\u001b[0m\n",
      "\u001b[0m\u001b[0;32m    328 \u001b[0;31m    \u001b[0msdp_node\u001b[0m \u001b[0;34m=\u001b[0m \u001b[0msdp_nodes\u001b[0m\u001b[0;34m[\u001b[0m\u001b[0;36m0\u001b[0m\u001b[0;34m]\u001b[0m\u001b[0;34m\u001b[0m\u001b[0;34m\u001b[0m\u001b[0m\n",
      "\u001b[0m\u001b[0;32m    329 \u001b[0;31m    \u001b[0msdp_node\u001b[0m \u001b[0;34m=\u001b[0m \u001b[0mgetCustomOp\u001b[0m\u001b[0;34m(\u001b[0m\u001b[0msdp_node\u001b[0m\u001b[0;34m)\u001b[0m\u001b[0;34m\u001b[0m\u001b[0;34m\u001b[0m\u001b[0m\n",
      "\u001b[0m\n",
      "--KeyboardInterrupt--\n",
      "\n",
      "KeyboardInterrupt: Interrupted by user\n",
      "Build failed\n",
      "CPU times: user 201 ms, sys: 44.3 ms, total: 246 ms\n",
      "Wall time: 3.62 s\n"
     ]
    },
    {
     "data": {
      "text/plain": [
       "-1"
      ]
     },
     "execution_count": 41,
     "metadata": {},
     "output_type": "execute_result"
    }
   ],
   "source": [
    "%%time\n",
    "build.build_dataflow_cfg(model_file, cfg)"
   ]
  },
  {
   "cell_type": "code",
   "execution_count": null,
   "metadata": {},
   "outputs": [],
   "source": []
  }
 ],
 "metadata": {
  "kernelspec": {
   "display_name": "Python 3",
   "language": "python",
   "name": "python3"
  },
  "language_info": {
   "codemirror_mode": {
    "name": "ipython",
    "version": 3
   },
   "file_extension": ".py",
   "mimetype": "text/x-python",
   "name": "python",
   "nbconvert_exporter": "python",
   "pygments_lexer": "ipython3",
   "version": "3.9.2"
  },
  "vscode": {
   "interpreter": {
    "hash": "c0480a40de60fe0b4be044949303dbe98ce3610184aeb132e77bccbcbbb8df2a"
   }
  }
 },
 "nbformat": 4,
 "nbformat_minor": 2
}
