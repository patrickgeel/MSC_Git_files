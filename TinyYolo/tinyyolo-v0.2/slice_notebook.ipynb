{
 "cells": [
  {
   "cell_type": "code",
   "execution_count": null,
   "metadata": {
    "scrolled": false
   },
   "outputs": [],
   "source": [
    "from onnx import TensorProto\n",
    "from qonnx.core.modelwrapper import ModelWrapper\n",
    "from slice_template import slice_node\n",
    "\n",
    "# Open the Tinyyolo model\n",
    "tmp_model = ModelWrapper(\"tinyyolo_infershapes.onnx\")\n",
    "\n",
    "# Create a dictionary to store the slice nodes in \n",
    "update_dict = {}\n",
    "# These are the inputs of a slice node in the correct order\n",
    "key_list = [\"input\", \"starts\", \"ends\", \"axes\", \"splits\", \"output\"]\n",
    "# These are the tensors from the replaced slice nodes\n",
    "drop_tensors = []\n",
    "\n",
    "# Loop over all the nodes in the graph at are of op_type Slice\n",
    "for s in tmp_model.get_nodes_by_op_type(\"Slice\"):\n",
    "    # Get the node index (maybe can remove?!)\n",
    "    node_inx = tmp_model.get_node_index(s)\n",
    "    # Store all tensor value info, initialization, and shapes for the current slice node\n",
    "    vinfo = [tmp_model.get_tensor_valueinfo(inp) for inp in s.input]\n",
    "    init = [tmp_model.get_initializer(inp) for inp in s.input]\n",
    "    shapes = [tmp_model.get_tensor_shape(i) for i in s.input]\n",
    "    # Get the input tensor names\n",
    "    t_names = [i for i in s.input]\n",
    "    \n",
    "    # Create a dict of attributes and initalize an empty dict [Tensor_name, shape, initialization value]\n",
    "    attr = {}\n",
    "    for k in key_list:\n",
    "        attr[k] = [None, None, None]\n",
    "    \n",
    "    # Loop over the len of shapes (not all slice nodes contain a splits value)\n",
    "    for ind in range(len(shapes)):\n",
    "        # Store the vlaue in attribute\n",
    "        attr[key_list[ind]] = [t_names[ind], shapes[ind], init[ind]]\n",
    "        # Append list of tensors for this node\n",
    "        drop_tensors.append(t_names[ind])\n",
    "\n",
    "    # Do the same as above but for the output of the slice node\n",
    "    for i in s.output:\n",
    "        attr[\"output\"] = [i, tmp_model.get_tensor_shape(i)]\n",
    "        drop_tensors.append(i)\n",
    "    # Print some stats\n",
    "    print(\"*\"*110)\n",
    "    print(attr)\n",
    "    # Create a new slice node with attr instead of inputs\n",
    "    x = slice_node(input_shape=attr[\"input\"][1], output_shape=attr[\"output\"][1],\n",
    "                   starts_value=attr[\"starts\"][2], ends_value=attr[\"ends\"][2], axes_value=attr[\"axes\"][2],\n",
    "                   input_tensor=attr[\"input\"][0], output_tensor=attr[\"output\"][0],\n",
    "                   dtype=TensorProto.INT64,node_name = s.name)\n",
    "    # Update dict is a dict that stores the new slice node with key = slice name, index and node\n",
    "    update_dict[s.name] = [node_inx, x.make_node()]\n",
    "    # store the model of the single slice node. This is for double checking\n",
    "    x.make_model(s.name+\".onnx\")\n"
   ]
  },
  {
   "cell_type": "markdown",
   "metadata": {},
   "source": [
    "# Create a new model\n",
    "In this part of the notebook I will create a new model by removing the old slice nodes from the onnx file and replacing them with the new slice nodes created earlier in this notebook"
   ]
  },
  {
   "cell_type": "code",
   "execution_count": null,
   "metadata": {},
   "outputs": [],
   "source": [
    "import onnx\n",
    "# Load in the tinyyolo model\n",
    "model = ModelWrapper(\"tinyyolo_infershapes.onnx\")\n",
    "\n",
    "# Create empty lists \n",
    "vinfo, keep_nodes, new_nodes = [], [], []\n",
    "# Create an empty dict for initialization tensors\n",
    "t_init = {}\n",
    "tensors = model.get_all_tensor_names()\n",
    "\n",
    "# Loop over all tenors in the model and remove the ones that belong to the dropped nodes\n",
    "for t in tensors:\n",
    "    # Store the value info and initialization values if they exist.\n",
    "    if not (t in drop_tensors):\n",
    "        vinfo.append(model.get_tensor_valueinfo(t))\n",
    "        if not model.get_initializer(t) is None:\n",
    "            t_init[t] = model.get_initializer(t)\n",
    "# These are the nodes that need to be removed\n",
    "replace_nodes = update_dict.keys()\n",
    "\n",
    "# Make a list of nodes to keep\n",
    "for n in model.graph.node:\n",
    "    if not n.name in replace_nodes:\n",
    "        keep_nodes.append(n)\n",
    "\n",
    "# Make a list of the new nodes\n",
    "new_nodes = [v[1] for k,v in update_dict.items()]\n",
    "for nnode in new_nodes:\n",
    "    keep_nodes.append(nnode)\n",
    "# Create a new model\n",
    "new_model = ModelWrapper(onnx.helper.make_model(\n",
    "    onnx.helper.make_graph(\n",
    "        nodes= keep_nodes,\n",
    "        name=\"tinyyolo_infershapes_updated\",\n",
    "        inputs=[model.graph.input[0]],\n",
    "        outputs=[model.graph.output[0]],\n",
    "        value_info=vinfo[0:-2]\n",
    "        )\n",
    "    )\n",
    ")\n",
    "\n",
    "for k,v in t_init.items():\n",
    "    new_model.set_initializer(k,v)\n",
    "new_model.save(\"tinyyolo_slice_update.onnx\")\n"
   ]
  }
 ],
 "metadata": {
  "kernelspec": {
   "display_name": "Python 3",
   "language": "python",
   "name": "python3"
  },
  "language_info": {
   "codemirror_mode": {
    "name": "ipython",
    "version": 3
   },
   "file_extension": ".py",
   "mimetype": "text/x-python",
   "name": "python",
   "nbconvert_exporter": "python",
   "pygments_lexer": "ipython3",
   "version": "3.9.2"
  },
  "vscode": {
   "interpreter": {
    "hash": "c0480a40de60fe0b4be044949303dbe98ce3610184aeb132e77bccbcbbb8df2a"
   }
  }
 },
 "nbformat": 4,
 "nbformat_minor": 2
}
