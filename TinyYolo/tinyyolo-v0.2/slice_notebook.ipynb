{
 "cells": [
  {
   "cell_type": "code",
   "execution_count": 9,
   "metadata": {
    "scrolled": false
   },
   "outputs": [
    {
     "name": "stdout",
     "output_type": "stream",
     "text": [
      "**************************************************************************************************************\n",
      "{'input': ['735', [4], None], 'starts': ['737', [1], array([0])], 'ends': ['738', [1], array([2])], 'axes': ['736', [1], array([0])], 'splits': [None, None, None], 'output': ['739', [2]]}\n",
      "**************************************************************************************************************\n",
      "{'input': ['673', [], None], 'starts': ['675', [1], array([0])], 'ends': ['676', [1], array([2])], 'axes': ['674', [1], array([4])], 'splits': ['677', [1], array([1])], 'output': ['678', []]}\n",
      "**************************************************************************************************************\n",
      "{'input': ['673', [], None], 'starts': ['686', [1], array([2])], 'ends': ['687', [1], array([4])], 'axes': ['685', [1], array([4])], 'splits': ['688', [1], array([1])], 'output': ['689', []]}\n",
      "**************************************************************************************************************\n",
      "{'input': ['673', [], None], 'starts': ['700', [1], array([4])], 'ends': ['701', [1], array([9223372036854775807])], 'axes': ['699', [1], array([4])], 'splits': ['702', [1], array([1])], 'output': ['703', []]}\n",
      "**************************************************************************************************************\n",
      "{'input': ['793', [], None], 'starts': ['795', [1], array([0])], 'ends': ['796', [1], array([2])], 'axes': ['794', [1], array([4])], 'splits': ['797', [1], array([1])], 'output': ['798', []]}\n",
      "**************************************************************************************************************\n",
      "{'input': ['793', [], None], 'starts': ['806', [1], array([2])], 'ends': ['807', [1], array([4])], 'axes': ['805', [1], array([4])], 'splits': ['808', [1], array([1])], 'output': ['809', []]}\n",
      "**************************************************************************************************************\n",
      "{'input': ['793', [], None], 'starts': ['820', [1], array([4])], 'ends': ['821', [1], array([9223372036854775807])], 'axes': ['819', [1], array([4])], 'splits': ['822', [1], array([1])], 'output': ['823', []]}\n"
     ]
    }
   ],
   "source": [
    "from onnx import TensorProto\n",
    "from qonnx.core.modelwrapper import ModelWrapper\n",
    "from slice_template import slice_node\n",
    "\n",
    "tmp_model = ModelWrapper(\"tinyyolo_infershapes.onnx\")\n",
    "\n",
    "update_dict = {}\n",
    "key_list = [\"input\", \"starts\", \"ends\", \"axes\", \"splits\", \"output\"]\n",
    "drop_tensors = []\n",
    "\n",
    "\n",
    "\n",
    "for s in tmp_model.get_nodes_by_op_type(\"Slice\"):\n",
    "    node_inx = tmp_model.get_node_index(s)\n",
    "    vinfo = [tmp_model.get_tensor_valueinfo(inp) for inp in s.input]\n",
    "    init = [tmp_model.get_initializer(inp) for inp in s.input]\n",
    "    shapes = [tmp_model.get_tensor_shape(i) for i in s.input]\n",
    "    t_names = [i for i in s.input]\n",
    "    attr = {}\n",
    "    for k in key_list:\n",
    "        attr[k] = [None, None, None]\n",
    "    for ind in range(len(shapes)):\n",
    "        attr[key_list[ind]] = [t_names[ind], shapes[ind], init[ind]]\n",
    "        drop_tensors.append(t_names[ind])\n",
    "\n",
    "    for i in s.output:\n",
    "        attr[\"output\"] = [i, tmp_model.get_tensor_shape(i)]\n",
    "        drop_tensors.append(i)\n",
    "    print(\"*\"*110)\n",
    "    print(attr)\n",
    "    x = slice_node(input_shape=attr[\"input\"][1], output_shape=attr[\"output\"][1],\n",
    "                   starts_value=attr[\"starts\"][2], ends_value=attr[\"ends\"][2], axes_value=attr[\"axes\"][2],\n",
    "                   input_tensor=attr[\"input\"][0], output_tensor=attr[\"output\"][0],\n",
    "                   dtype=TensorProto.INT64,node_name = s.name)\n",
    "    update_dict[s.name] = [node_inx, x.make_node()]\n",
    "    x.make_model(s.name+\".onnx\")\n"
   ]
  },
  {
   "cell_type": "code",
   "execution_count": 37,
   "metadata": {},
   "outputs": [],
   "source": [
    "import onnx\n",
    "model = ModelWrapper(\"tinyyolo_infershapes.onnx\")\n",
    "\n",
    "replace_nodes = [\"Slice_451\"]\n",
    "\n",
    "vinfo, keep_nodes, t_init, new_nodes = [], [], {}, []\n",
    "tensors = model.get_all_tensor_names()\n",
    "\n",
    "for t in tensors:\n",
    "    if not (t in drop_tensors):\n",
    "        vinfo.append(model.get_tensor_valueinfo(t))\n",
    "        if not model.get_initializer(t) is None:\n",
    "            t_init[t] = model.get_initializer(t)\n",
    "replace_nodes = update_dict.keys()\n",
    "\n",
    "for n in model.graph.node:\n",
    "    if not n.name in replace_nodes:\n",
    "        keep_nodes.append(n)\n",
    "\n",
    "new_list = [v[1] for k,v in update_dict.items()]\n",
    "for nnode in new_list:\n",
    "    keep_nodes.append(nnode)\n",
    "dropped_slice = ModelWrapper(onnx.helper.make_model(\n",
    "    onnx.helper.make_graph(\n",
    "        nodes= keep_nodes,\n",
    "        name=\"tinyyolo_infershapes_updated\",\n",
    "        inputs=[model.graph.input[0]],\n",
    "        outputs=[model.graph.output[0]],\n",
    "        value_info=vinfo[0:-2]\n",
    "        )\n",
    "    )\n",
    ")\n",
    "\n",
    "for k,v in t_init.items():\n",
    "    dropped_slice.set_initializer(k,v)\n",
    "dropped_slice.save(\"Tiny_yolo_slice_update.onnx\")\n"
   ]
  },
  {
   "cell_type": "code",
   "execution_count": null,
   "metadata": {},
   "outputs": [],
   "source": []
  }
 ],
 "metadata": {
  "kernelspec": {
   "display_name": "Python 3",
   "language": "python",
   "name": "python3"
  },
  "language_info": {
   "codemirror_mode": {
    "name": "ipython",
    "version": 3
   },
   "file_extension": ".py",
   "mimetype": "text/x-python",
   "name": "python",
   "nbconvert_exporter": "python",
   "pygments_lexer": "ipython3",
   "version": "3.8.5"
  },
  "vscode": {
   "interpreter": {
    "hash": "c0480a40de60fe0b4be044949303dbe98ce3610184aeb132e77bccbcbbb8df2a"
   }
  }
 },
 "nbformat": 4,
 "nbformat_minor": 2
}
