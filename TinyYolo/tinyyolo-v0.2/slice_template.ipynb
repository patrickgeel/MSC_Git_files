{
 "cells": [
  {
   "cell_type": "code",
   "execution_count": null,
   "metadata": {},
   "outputs": [],
   "source": [
    "import onnx\n",
    "from onnx import helper, TensorProto\n",
    "from qonnx.core.modelwrapper import ModelWrapper\n",
    "from qonnx.core.datatype import DataType\n",
    "import numpy as np\n",
    "from qonnx.util.basic import gen_finn_dt_tensor\n",
    "import onnx.version_converter as vc\n",
    "from onnx.backend.test.case.node import expect\n",
    "\n",
    "from qonnx.transformation.infer_shapes import InferShapes\n"
   ]
  },
  {
   "cell_type": "code",
   "execution_count": 1,
   "metadata": {},
   "outputs": [
    {
     "ename": "NameError",
     "evalue": "name 'DataType' is not defined",
     "output_type": "error",
     "traceback": [
      "\u001b[1;31m---------------------------------------------------------------------------\u001b[0m",
      "\u001b[1;31mNameError\u001b[0m                                 Traceback (most recent call last)",
      "\u001b[1;32m<ipython-input-1-abd8c26aab29>\u001b[0m in \u001b[0;36m<module>\u001b[1;34m\u001b[0m\n\u001b[0;32m      2\u001b[0m \u001b[0moutput_shape\u001b[0m \u001b[1;33m=\u001b[0m \u001b[1;33m[\u001b[0m\u001b[1;36m2\u001b[0m\u001b[1;33m]\u001b[0m\u001b[1;33m\u001b[0m\u001b[1;33m\u001b[0m\u001b[0m\n\u001b[0;32m      3\u001b[0m \u001b[0mparam_shape\u001b[0m \u001b[1;33m=\u001b[0m \u001b[1;33m[\u001b[0m\u001b[1;36m1\u001b[0m\u001b[1;33m]\u001b[0m\u001b[1;33m\u001b[0m\u001b[1;33m\u001b[0m\u001b[0m\n\u001b[1;32m----> 4\u001b[1;33m \u001b[0midt\u001b[0m \u001b[1;33m=\u001b[0m \u001b[0mDataType\u001b[0m\u001b[1;33m[\u001b[0m\u001b[1;34m\"UINT8\"\u001b[0m\u001b[1;33m]\u001b[0m\u001b[1;33m\u001b[0m\u001b[1;33m\u001b[0m\u001b[0m\n\u001b[0m\u001b[0;32m      5\u001b[0m \u001b[0mparam_dt\u001b[0m \u001b[1;33m=\u001b[0m \u001b[0mDataType\u001b[0m\u001b[1;33m[\u001b[0m\u001b[1;34m\"INT64\"\u001b[0m\u001b[1;33m]\u001b[0m\u001b[1;33m\u001b[0m\u001b[1;33m\u001b[0m\u001b[0m\n\u001b[0;32m      6\u001b[0m \u001b[0mslice_in\u001b[0m \u001b[1;33m=\u001b[0m \u001b[0mhelper\u001b[0m\u001b[1;33m.\u001b[0m\u001b[0mmake_tensor_value_info\u001b[0m\u001b[1;33m(\u001b[0m\u001b[1;34m\"735\"\u001b[0m\u001b[1;33m,\u001b[0m \u001b[0mTensorProto\u001b[0m\u001b[1;33m.\u001b[0m\u001b[0mINT64\u001b[0m\u001b[1;33m,\u001b[0m \u001b[0minput_shape\u001b[0m\u001b[1;33m)\u001b[0m\u001b[1;33m\u001b[0m\u001b[1;33m\u001b[0m\u001b[0m\n",
      "\u001b[1;31mNameError\u001b[0m: name 'DataType' is not defined"
     ]
    }
   ],
   "source": [
    "class slice_template():\n",
    "    def __init__(self):\n",
    "        self.inp_shp = []\n",
    "        self.out_shp = []\n",
    "        self.slice_shape = []\n",
    "        self.idt = DataType[\"UINT8\"]\n",
    "        self.param_dt = DataType[\"INT64\"]\n",
    "        self.input = helper.make_empty_tensor_value_info()\n",
    "        self.output = helper.make_empty_tensor_value_info()\n",
    "        self.slice_attr = {}\n",
    "        self.opset_version = helper.make_operatorsetid(\"\", 9)\n",
    "\n",
    "# input_shape = [4]\n",
    "# output_shape = [2]\n",
    "# param_shape = [1]\n",
    "# idt = DataType[\"UINT8\"]\n",
    "# param_dt = DataType[\"INT64\"]\n",
    "# slice_in = helper.make_tensor_value_info(\"735\", TensorProto.INT64, input_shape)\n",
    "# slice_out = helper.make_tensor_value_info(\"slice_out\", TensorProto.INT64, output_shape)\n",
    "# slice_attr = {}\n",
    "# slice_attr[\"starts\"] = np.array([0],dtype=np.int64)\n",
    "# slice_attr[\"ends\"] = np.array([2],dtype=np.int64)\n",
    "# slice_attr[\"axes\"] = np.array([0],dtype=np.int64)\n",
    "\n",
    "    def make_node(self):\n",
    "        self.slice_node = helper.make_node(\n",
    "            \"Slice\",\n",
    "            # Need to set to the name of the tensor\n",
    "            inputs=[self.input],\n",
    "            # Need to set to the name of the tensor\n",
    "            outputs=[self.output],\n",
    "            **self.slice_attr\n",
    "        )\n",
    "\n",
    "    def make_model(self):\n",
    "\n",
    "        model_config = {}\n",
    "        model_config[\"opset_imports\"] = [self.opset_version]\n",
    "\n",
    "        self.model = ModelWrapper(helper.make_model(\n",
    "            helper.make_graph(\n",
    "                [self.slice_node],\n",
    "                inputs=[self.input],\n",
    "                outputs=[self.output],\n",
    "                name=\"slice_graph\"\n",
    "            ), **model_config)\n",
    "        )\n",
    "        self.model.transform(InferShapes())\n",
    "        onnx.checker.check_model(self.model.model)\n",
    "        self.model.save(\"onnx_model/Slice_model.onnx\")\n"
   ]
  },
  {
   "cell_type": "code",
   "execution_count": null,
   "metadata": {},
   "outputs": [],
   "source": []
  }
 ],
 "metadata": {
  "kernelspec": {
   "display_name": "Python 3.9.2 64-bit",
   "language": "python",
   "name": "python3"
  },
  "language_info": {
   "codemirror_mode": {
    "name": "ipython",
    "version": 3
   },
   "file_extension": ".py",
   "mimetype": "text/x-python",
   "name": "python",
   "nbconvert_exporter": "python",
   "pygments_lexer": "ipython3",
   "version": "3.9.2"
  },
  "orig_nbformat": 4,
  "vscode": {
   "interpreter": {
    "hash": "c0480a40de60fe0b4be044949303dbe98ce3610184aeb132e77bccbcbbb8df2a"
   }
  }
 },
 "nbformat": 4,
 "nbformat_minor": 2
}
