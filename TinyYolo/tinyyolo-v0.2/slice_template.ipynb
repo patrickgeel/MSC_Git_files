{
 "cells": [
  {
   "cell_type": "code",
   "execution_count": null,
   "metadata": {},
   "outputs": [],
   "source": [
    "import onnx\n",
    "from onnx import helper, TensorProto\n",
    "from qonnx.core.modelwrapper import ModelWrapper\n",
    "from qonnx.core.datatype import DataType\n",
    "import numpy as np\n",
    "from qonnx.util.basic import gen_finn_dt_tensor\n",
    "import onnx.version_converter as vc\n",
    "from onnx.backend.test.case.node import expect\n",
    "\n",
    "from qonnx.transformation.infer_shapes import InferShapes\n"
   ]
  },
  {
   "cell_type": "code",
   "execution_count": 302,
   "metadata": {},
   "outputs": [],
   "source": [
    "class slice_template():\n",
    "    def __init__(\n",
    "            self, input_shape = [4], \n",
    "            output_shape = [2], param_shape = [1],\n",
    "            starts_value = [0], ends_value = [2],\n",
    "            axes_value = [0], splits_value = [],\n",
    "            input_tensor = \"slice_in\", output_tensor = \"slice_out\",\n",
    "            dtype = TensorProto.INT64, paramdt = \"INT64\"):\n",
    "        \n",
    "        self.inp_shp = [input_shape]\n",
    "        self.out_shp = [output_shape]\n",
    "        self.slice_shape = [param_shape]\n",
    "        \n",
    "#         self.idt = DataType[idtype]\n",
    "#         self.param_dt = DataType[paramdt]\n",
    "        \n",
    "        self.input = helper.make_tensor_value_info(input_tensor, dtype, input_shape)\n",
    "        self.output = helper.make_tensor_value_info(output_tensor, dtype, output_shape)\n",
    "\n",
    "        self.slice_attr = {}\n",
    "        self.slice_attr[\"starts\"] = np.array(starts_value,dtype=np.int64)\n",
    "        self.slice_attr[\"ends\"] = np.array(ends_value,dtype=np.int64)\n",
    "        self.slice_attr[\"axes\"] = np.array(axes_value,dtype=np.int64)\n",
    "        if not splits_value == []:\n",
    "            self.slice_attr[\"splits\"] = np.array(splits_value,dtype=np.int64)\n",
    "        \n",
    "        self.opset_version = helper.make_operatorsetid(\"\", 9)\n",
    "\n",
    "    def make_node(self):\n",
    "        self.slice_node = helper.make_node(\n",
    "            \"Slice\",\n",
    "            inputs=[self.input.name],\n",
    "            outputs=[self.output.name],\n",
    "            **self.slice_attr\n",
    "        )\n",
    "        return self.slice_node\n",
    "\n",
    "    def make_model(self,model_name = \"Slice_model.onnx\"):\n",
    "\n",
    "        model_config = {}\n",
    "        model_config[\"opset_imports\"] = [self.opset_version]\n",
    "\n",
    "        self.model = ModelWrapper(helper.make_model(\n",
    "            helper.make_graph(\n",
    "                [self.slice_node],\n",
    "                inputs=[self.input],\n",
    "                outputs=[self.output],\n",
    "                name=\"slice_graph\"\n",
    "            ), **model_config)\n",
    "        )\n",
    "        self.model.transform(InferShapes())\n",
    "        self.model.save(\"onnx_model/%s\" %model_name)\n"
   ]
  },
  {
   "cell_type": "code",
   "execution_count": 132,
   "metadata": {
    "scrolled": true
   },
   "outputs": [],
   "source": [
    "x = slice_template(input_shape=[1],output_shape=[1],\n",
    "                   starts_value=[4], ends_value=[9223372036854775807], axes_value=[4], \n",
    "                   splits_value=[1], input_tensor=\"673\", output_tensor=\"703\",\n",
    "                  dtype=TensorProto.FLOAT)\n",
    "node = x.make_node()\n",
    "x.make_model()"
   ]
  },
  {
   "cell_type": "code",
   "execution_count": 315,
   "metadata": {},
   "outputs": [
    {
     "name": "stdout",
     "output_type": "stream",
     "text": [
      "**************************************************************************************************************\n",
      "{'input': ['735', [4], None], 'starts': ['737', [1], array([0])], 'ends': ['738', [1], array([2])], 'axes': ['736', [1], array([0])], 'splits': [None, None, None], 'output': ['739', [2]]}\n",
      "**************************************************************************************************************\n",
      "{'input': ['673', [], None], 'starts': ['675', [1], array([0])], 'ends': ['676', [1], array([2])], 'axes': ['674', [1], array([4])], 'splits': ['677', [1], array([1])], 'output': ['678', []]}\n",
      "**************************************************************************************************************\n",
      "{'input': ['673', [], None], 'starts': ['686', [1], array([2])], 'ends': ['687', [1], array([4])], 'axes': ['685', [1], array([4])], 'splits': ['688', [1], array([1])], 'output': ['689', []]}\n",
      "**************************************************************************************************************\n",
      "{'input': ['673', [], None], 'starts': ['700', [1], array([4])], 'ends': ['701', [1], array([9223372036854775807])], 'axes': ['699', [1], array([4])], 'splits': ['702', [1], array([1])], 'output': ['703', []]}\n",
      "**************************************************************************************************************\n",
      "{'input': ['793', [], None], 'starts': ['795', [1], array([0])], 'ends': ['796', [1], array([2])], 'axes': ['794', [1], array([4])], 'splits': ['797', [1], array([1])], 'output': ['798', []]}\n",
      "**************************************************************************************************************\n",
      "{'input': ['793', [], None], 'starts': ['806', [1], array([2])], 'ends': ['807', [1], array([4])], 'axes': ['805', [1], array([4])], 'splits': ['808', [1], array([1])], 'output': ['809', []]}\n",
      "**************************************************************************************************************\n",
      "{'input': ['793', [], None], 'starts': ['820', [1], array([4])], 'ends': ['821', [1], array([9223372036854775807])], 'axes': ['819', [1], array([4])], 'splits': ['822', [1], array([1])], 'output': ['823', []]}\n"
     ]
    }
   ],
   "source": [
    "tmp_model = ModelWrapper(\"tinyyolo_infershapes.onnx\")\n",
    "\n",
    "slice_nodes = tmp_model.get_nodes_by_op_type(\"Slice\")\n",
    "s = slice_nodes[0]\n",
    "for s in slice_nodes:\n",
    "    node_inx = tmp_model.get_node_index(s)\n",
    "\n",
    "    tmp_model.get_node_index(slice_nodes[0])\n",
    "\n",
    "    vinfo = [tmp_model.get_tensor_valueinfo(inp) for inp in s.input]\n",
    "    init = [tmp_model.get_initializer(inp) for inp in s.input]\n",
    "    shapes = [tmp_model.get_tensor_shape(i) for i in s.input]\n",
    "    t_names = [i for i in s.input]\n",
    "    key_list = [\"input\",\"starts\",\"ends\",\"axes\",\"splits\",\"output\"]\n",
    "    attr = {}\n",
    "    for k in key_list:\n",
    "        attr[k] = [None,None,None]\n",
    "\n",
    "    for ind in range(len(shapes)):\n",
    "        attr[key_list[ind]] = [t_names[ind],shapes[ind],init[ind]]\n",
    "    for i in s.output: \n",
    "        attr[\"output\"] = [i, tmp_model.get_tensor_shape(i)]\n",
    "    print(\"*\"*110)\n",
    "    print(attr)\n",
    "    print(tmp_model.get_tensor_datatype())\n",
    "    x = slice_template(input_shape=attr[\"input\"][1],output_shape=attr[\"output\"][1],\n",
    "                   starts_value=attr[\"starts\"][2], ends_value=attr[\"ends\"][2], axes_value=attr[\"axes\"][2],\n",
    "                   input_tensor=attr[\"input\"][0], output_tensor=attr[\"output\"][0],\n",
    "                  dtype=TensorProto.INT64)\n",
    "    x.make_node()\n",
    "    x.make_model(s.name+\".onnx\")"
   ]
  },
  {
   "cell_type": "code",
   "execution_count": 279,
   "metadata": {},
   "outputs": [
    {
     "data": {
      "text/plain": [
       "array([2])"
      ]
     },
     "execution_count": 279,
     "metadata": {},
     "output_type": "execute_result"
    }
   ],
   "source": [
    "attr[\"ends\"][1]"
   ]
  },
  {
   "cell_type": "code",
   "execution_count": 306,
   "metadata": {},
   "outputs": [],
   "source": [
    "x = slice_template(input_shape=attr[\"input\"][1],output_shape=attr[\"output\"][1],\n",
    "                   starts_value=attr[\"starts\"][2], ends_value=attr[\"ends\"][2], axes_value=attr[\"axes\"][2],\n",
    "                   input_tensor=attr[\"input\"][0], output_tensor=attr[\"output\"][0],\n",
    "                  dtype=TensorProto.INT64)\n",
    "x.make_node()\n",
    "x.make_model(s.name+\".onnx\")"
   ]
  }
 ],
 "metadata": {
  "kernelspec": {
   "display_name": "Python 3",
   "language": "python",
   "name": "python3"
  },
  "language_info": {
   "codemirror_mode": {
    "name": "ipython",
    "version": 3
   },
   "file_extension": ".py",
   "mimetype": "text/x-python",
   "name": "python",
   "nbconvert_exporter": "python",
   "pygments_lexer": "ipython3",
   "version": "3.8.5"
  },
  "vscode": {
   "interpreter": {
    "hash": "c0480a40de60fe0b4be044949303dbe98ce3610184aeb132e77bccbcbbb8df2a"
   }
  }
 },
 "nbformat": 4,
 "nbformat_minor": 2
}
