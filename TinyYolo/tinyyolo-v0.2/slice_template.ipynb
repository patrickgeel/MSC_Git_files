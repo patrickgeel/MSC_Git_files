{
 "cells": [
  {
   "cell_type": "code",
   "execution_count": null,
   "metadata": {},
   "outputs": [],
   "source": [
    "import onnx\n",
    "from onnx import helper, TensorProto\n",
    "from qonnx.core.modelwrapper import ModelWrapper\n",
    "from qonnx.core.datatype import DataType\n",
    "import numpy as np\n",
    "from qonnx.util.basic import gen_finn_dt_tensor\n",
    "import onnx.version_converter as vc\n",
    "from onnx.backend.test.case.node import expect\n",
    "\n",
    "from qonnx.transformation.infer_shapes import InferShapes\n"
   ]
  },
  {
   "cell_type": "code",
   "execution_count": 2,
   "metadata": {},
   "outputs": [],
   "source": [
    "class slice_template():\n",
    "    def __init__(\n",
    "            self, input_shape = 4, \n",
    "            output_shape = 2, param_shape = 1,\n",
    "            starts_shape = 0, ends_shape = 2,\n",
    "            axes_shape = 0, splits_shape = 1,\n",
    "            input_tensor = \"slice_in\", output_tensor = \"slice_out\",\n",
    "            idtype = \"UNIT8\", paramdt = \"INT64\"):\n",
    "        self.inp_shp = [input_shape]\n",
    "        self.out_shp = [output_shape]\n",
    "        self.slice_shape = [param_shape]\n",
    "        self.idt = DataType[idtype]\n",
    "        self.param_dt = DataType[paramdt]\n",
    "        self.input = helper.make_tensor_value_info(input_tensor, TensorProto.INT64, input_shape)\n",
    "        self.output = helper.make_tensor_value_info(output_tensor, TensorProto.INT64, output_shape)\n",
    "        self.slice_attr = {}\n",
    "        self.slice_attr[\"starts\"] = np.array([starts_shape],dtype=np.int64)\n",
    "        self.slice_attr[\"ends\"] = np.array([ends_shape],dtype=np.int64)\n",
    "        self.slice_attr[\"axes\"] = np.array([axes_shape],dtype=np.int64)\n",
    "        self.slice_attr[\"splits\"] = np.array([splits_shape],dtype=np.int64)\n",
    "        self.opset_version = helper.make_operatorsetid(\"\", 9)\n",
    "\n",
    "    def make_node(self):\n",
    "        self.slice_node = helper.make_node(\n",
    "            \"Slice\",\n",
    "            inputs=[self.input.name],\n",
    "            outputs=[self.output.name],\n",
    "            **self.slice_attr\n",
    "        )\n",
    "\n",
    "    def make_model(self):\n",
    "\n",
    "        model_config = {}\n",
    "        model_config[\"opset_imports\"] = [self.opset_version]\n",
    "\n",
    "        self.model = ModelWrapper(helper.make_model(\n",
    "            helper.make_graph(\n",
    "                [self.slice_node],\n",
    "                inputs=[self.input],\n",
    "                outputs=[self.output],\n",
    "                name=\"slice_graph\"\n",
    "            ), **model_config)\n",
    "        )\n",
    "        self.model.transform(InferShapes())\n",
    "        onnx.checker.check_model(self.model.model)\n",
    "        self.model.save(\"onnx_model/Slice_model.onnx\")\n"
   ]
  },
  {
   "cell_type": "code",
   "execution_count": null,
   "metadata": {},
   "outputs": [],
   "source": [
    "# input_shape = [4]\n",
    "# output_shape = [2]\n",
    "# param_shape = [1]\n",
    "# idt = DataType[\"UINT8\"]\n",
    "# param_dt = DataType[\"INT64\"]\n",
    "# slice_in = helper.make_tensor_value_info(\"735\", TensorProto.INT64, input_shape)\n",
    "# slice_out = helper.make_tensor_value_info(\"slice_out\", TensorProto.INT64, output_shape)\n",
    "# slice_attr = {}\n",
    "# slice_attr[\"starts\"] = np.array([0],dtype=np.int64)\n",
    "# slice_attr[\"ends\"] = np.array([2],dtype=np.int64)\n",
    "# slice_attr[\"axes\"] = np.array([0],dtype=np.int64)"
   ]
  }
 ],
 "metadata": {
  "kernelspec": {
   "display_name": "Python 3.9.2 64-bit",
   "language": "python",
   "name": "python3"
  },
  "language_info": {
   "codemirror_mode": {
    "name": "ipython",
    "version": 3
   },
   "file_extension": ".py",
   "mimetype": "text/x-python",
   "name": "python",
   "nbconvert_exporter": "python",
   "pygments_lexer": "ipython3",
   "version": "3.9.2"
  },
  "orig_nbformat": 4,
  "vscode": {
   "interpreter": {
    "hash": "c0480a40de60fe0b4be044949303dbe98ce3610184aeb132e77bccbcbbb8df2a"
   }
  }
 },
 "nbformat": 4,
 "nbformat_minor": 2
}
