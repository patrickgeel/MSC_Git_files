{
 "cells": [
  {
   "cell_type": "code",
   "execution_count": null,
   "metadata": {},
   "outputs": [],
   "source": [
    "from onnx.helper import make_graph, make_model, set_model_props\n",
    "from onnx import helper\n",
    "import onnx\n",
    "import numpy as np"
   ]
  },
  {
   "cell_type": "code",
   "execution_count": 39,
   "metadata": {},
   "outputs": [
    {
     "data": {
      "text/plain": [
       "[input: \"673\"\n",
       "output: \"678\"\n",
       "name: \"Slice_395\"\n",
       "op_type: \"Slice\"\n",
       "attribute {\n",
       "  name: \"axes\"\n",
       "  ints: 4\n",
       "  type: INTS\n",
       "}\n",
       "attribute {\n",
       "  name: \"ends\"\n",
       "  ints: 2\n",
       "  type: INTS\n",
       "}\n",
       "attribute {\n",
       "  name: \"starts\"\n",
       "  ints: 0\n",
       "  type: INTS\n",
       "}\n",
       "]"
      ]
     },
     "execution_count": 39,
     "metadata": {},
     "output_type": "execute_result"
    }
   ],
   "source": [
    "model = onnx.load('onnx_model/Slice_395.onnx')\n",
    "\n",
    "def get_init(model, tensor_name):\n",
    "    for init in model.graph.initializer:\n",
    "        if tensor_name == init.name:\n",
    "            init_val = init.raw_data\n",
    "            break\n",
    "    return np.frombuffer(init_val, dtype=np.int64)\n",
    "    \n",
    "def add_attr(model, node):\n",
    "    for ind,n in enumerate(model.graph.node):\n",
    "        new_attr = []\n",
    "        if node in n.name:            \n",
    "            new_attr.append(helper.make_attribute(\"starts\", get_init(model,n.input[1])))\n",
    "            new_attr.append(helper.make_attribute(\"ends\", get_init(model,n.input[2])))\n",
    "            new_attr.append(helper.make_attribute(\"axes\", get_init(model,n.input[3])))\n",
    "            if len(n.input[1:]) >3:\n",
    "                new_attr.append(helper.make_attribute(\"steps\", get_init(model,n.input[4])))\n",
    "            for na in new_attr:\n",
    "                n.attribute.append(na)\n",
    "    return model\n",
    "\n",
    "def del_nodes(model, node):\n",
    "    select_nodes = []\n",
    "    for n in model.graph.node:\n",
    "        if node in n.name:\n",
    "            select_nodes.append(n)\n",
    "            del n.input[1:]\n",
    "    return model\n",
    "\n",
    "# model = add_attr(model, \"Slice\")\n",
    "# model = del_nodes(model, \"Slice\")\n",
    "\n",
    "model.graph.node\n",
    "\n",
    "# onnx.checker.check_model(model)\n",
    "# model.save(\"tinyyolo-20210831_updated.onnx\")\n"
   ]
  },
  {
   "cell_type": "code",
   "execution_count": 38,
   "metadata": {},
   "outputs": [
    {
     "data": {
      "text/plain": [
       "input: \"673\"\n",
       "output: \"678\"\n",
       "name: \"Slice_395\"\n",
       "op_type: \"Slice\"\n",
       "attribute {\n",
       "  name: \"starts\"\n",
       "  ints: 0\n",
       "  type: INTS\n",
       "}\n",
       "attribute {\n",
       "  name: \"ends\"\n",
       "  ints: 2\n",
       "  type: INTS\n",
       "}\n",
       "attribute {\n",
       "  name: \"axes\"\n",
       "  ints: 4\n",
       "  type: INTS\n",
       "}\n",
       "attribute {\n",
       "  name: \"steps\"\n",
       "  ints: 1\n",
       "  type: INTS\n",
       "}"
      ]
     },
     "execution_count": 38,
     "metadata": {},
     "output_type": "execute_result"
    }
   ],
   "source": [
    "model = onnx.load('tinyyolo-20210831_updated.onnx')\n",
    "model.graph.node[217]"
   ]
  }
 ],
 "metadata": {
  "kernelspec": {
   "display_name": "Python 3.9.2 64-bit",
   "language": "python",
   "name": "python3"
  },
  "language_info": {
   "codemirror_mode": {
    "name": "ipython",
    "version": 3
   },
   "file_extension": ".py",
   "mimetype": "text/x-python",
   "name": "python",
   "nbconvert_exporter": "python",
   "pygments_lexer": "ipython3",
   "version": "3.9.2"
  },
  "orig_nbformat": 4,
  "vscode": {
   "interpreter": {
    "hash": "c0480a40de60fe0b4be044949303dbe98ce3610184aeb132e77bccbcbbb8df2a"
   }
  }
 },
 "nbformat": 4,
 "nbformat_minor": 2
}
