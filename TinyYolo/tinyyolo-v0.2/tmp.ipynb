{
 "cells": [
  {
   "cell_type": "code",
   "execution_count": 30,
   "metadata": {},
   "outputs": [
    {
     "ename": "ModuleNotFoundError",
     "evalue": "No module named 'qonnx'",
     "output_type": "error",
     "traceback": [
      "\u001b[1;31m---------------------------------------------------------------------------\u001b[0m",
      "\u001b[1;31mModuleNotFoundError\u001b[0m                       Traceback (most recent call last)",
      "\u001b[1;32m<ipython-input-30-a42833b6ecaf>\u001b[0m in \u001b[0;36m<module>\u001b[1;34m\u001b[0m\n\u001b[0;32m      1\u001b[0m \u001b[1;32mimport\u001b[0m \u001b[0monnx\u001b[0m\u001b[1;33m\u001b[0m\u001b[1;33m\u001b[0m\u001b[0m\n\u001b[1;32m----> 2\u001b[1;33m \u001b[1;32mfrom\u001b[0m \u001b[0mqonnx\u001b[0m\u001b[1;33m.\u001b[0m\u001b[0mcore\u001b[0m\u001b[1;33m.\u001b[0m\u001b[0mmodelwrapper\u001b[0m \u001b[1;32mimport\u001b[0m \u001b[0mModelWrapper\u001b[0m\u001b[1;33m\u001b[0m\u001b[1;33m\u001b[0m\u001b[0m\n\u001b[0m\u001b[0;32m      3\u001b[0m \u001b[1;31m# model = onnx.load(\"onnx_model/slice_incorrect_graph.onnx\")\u001b[0m\u001b[1;33m\u001b[0m\u001b[1;33m\u001b[0m\u001b[1;33m\u001b[0m\u001b[0m\n\u001b[0;32m      4\u001b[0m \u001b[0mmodel\u001b[0m \u001b[1;33m=\u001b[0m \u001b[0monnx\u001b[0m\u001b[1;33m.\u001b[0m\u001b[0mload\u001b[0m\u001b[1;33m(\u001b[0m\u001b[1;34m\"tinyyolo_infershapes.onnx\"\u001b[0m\u001b[1;33m)\u001b[0m\u001b[1;33m\u001b[0m\u001b[1;33m\u001b[0m\u001b[0m\n\u001b[0;32m      5\u001b[0m \u001b[1;33m\u001b[0m\u001b[0m\n",
      "\u001b[1;31mModuleNotFoundError\u001b[0m: No module named 'qonnx'"
     ]
    }
   ],
   "source": [
    "import onnx \n",
    "from qonnx.core.modelwrapper import ModelWrapper\n",
    "# model = onnx.load(\"onnx_model/slice_incorrect_graph.onnx\")\n",
    "model = onnx.load(\"tinyyolo_infershapes.onnx\")\n",
    "\n",
    "replace_nodes = [\"Slice_451\"]\n",
    "keep_nodes = []\n",
    "for n in model.graph.node:\n",
    "    if not n.name in replace_nodes:\n",
    "        keep_nodes.append(n)\n",
    "        # Don't forget to store the valueProtos to remake the graph\n",
    "    # else:\n",
    "        # The new slice node\n",
    "        # n = \n",
    "        # print(n.input)\n",
    "# print(keep_nodes)\n",
    "\n",
    "dropped_slice = onnx.helper.make_model(\n",
    "    onnx.helper.make_graph(\n",
    "        nodes = keep_nodes,\n",
    "        name = \"tinyyolo_infershapes_updated\",\n",
    "        inputs = [model.graph.input[0]],\n",
    "        outputs = [model.graph.output[0]]\n",
    "    )\n",
    ")\n",
    "\n",
    "onnx.save(dropped_slice,\"dropped_slice.onnx\")\n"
   ]
  }
 ],
 "metadata": {
  "kernelspec": {
   "display_name": "Python 3.9.2 64-bit",
   "language": "python",
   "name": "python3"
  },
  "language_info": {
   "codemirror_mode": {
    "name": "ipython",
    "version": 3
   },
   "file_extension": ".py",
   "mimetype": "text/x-python",
   "name": "python",
   "nbconvert_exporter": "python",
   "pygments_lexer": "ipython3",
   "version": "3.9.2"
  },
  "orig_nbformat": 4,
  "vscode": {
   "interpreter": {
    "hash": "c0480a40de60fe0b4be044949303dbe98ce3610184aeb132e77bccbcbbb8df2a"
   }
  }
 },
 "nbformat": 4,
 "nbformat_minor": 2
}
