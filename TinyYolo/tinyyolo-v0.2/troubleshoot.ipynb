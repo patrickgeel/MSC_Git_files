{
 "cells": [
  {
   "cell_type": "code",
   "execution_count": 3,
   "id": "03f3c979",
   "metadata": {},
   "outputs": [
    {
     "name": "stdout",
     "output_type": "stream",
     "text": [
      "Defaulting to user installation because normal site-packages is not writeable\n",
      "Requirement already satisfied: onnx==1.11.0 in /home/pgeel/.local/lib/python3.8/site-packages (1.11.0)\n",
      "Requirement already satisfied: typing-extensions>=3.6.2.1 in /opt/conda/lib/python3.8/site-packages (from onnx==1.11.0) (3.7.4.3)\n",
      "Requirement already satisfied: numpy>=1.16.6 in /opt/conda/lib/python3.8/site-packages (from onnx==1.11.0) (1.23.2)\n",
      "Requirement already satisfied: protobuf>=3.12.2 in /opt/conda/lib/python3.8/site-packages (from onnx==1.11.0) (3.20.1)\n",
      "Defaulting to user installation because normal site-packages is not writeable\n",
      "Requirement already satisfied: onnxruntime==1.11.1 in /home/pgeel/.local/lib/python3.8/site-packages (1.11.1)\n",
      "Requirement already satisfied: protobuf in /opt/conda/lib/python3.8/site-packages (from onnxruntime==1.11.1) (3.20.1)\n",
      "Requirement already satisfied: numpy>=1.21.0 in /opt/conda/lib/python3.8/site-packages (from onnxruntime==1.11.1) (1.23.2)\n",
      "Requirement already satisfied: flatbuffers in /opt/conda/lib/python3.8/site-packages (from onnxruntime==1.11.1) (2.0.7)\n",
      "Obtaining file:///workspace/qonnx\n",
      "  Installing build dependencies ... \u001b[?25ldone\n",
      "\u001b[?25h  Getting requirements to build wheel ... \u001b[?25ldone\n",
      "\u001b[?25h    Preparing wheel metadata ... \u001b[?25ldone\n",
      "\u001b[?25hRequirement already satisfied: onnxruntime==1.11.1 in /home/pgeel/.local/lib/python3.8/site-packages (from qonnx==0.0.post1.dev159+g627b4f6) (1.11.1)\n",
      "Requirement already satisfied: numpy in /opt/conda/lib/python3.8/site-packages (from qonnx==0.0.post1.dev159+g627b4f6) (1.23.2)\n",
      "Requirement already satisfied: onnx==1.11.0 in /home/pgeel/.local/lib/python3.8/site-packages (from qonnx==0.0.post1.dev159+g627b4f6) (1.11.0)\n",
      "Requirement already satisfied: clize==4.1.1 in /opt/conda/lib/python3.8/site-packages (from qonnx==0.0.post1.dev159+g627b4f6) (4.1.1)\n",
      "Requirement already satisfied: bitstring>=3.1.7 in /opt/conda/lib/python3.8/site-packages (from qonnx==0.0.post1.dev159+g627b4f6) (3.1.7)\n",
      "Requirement already satisfied: protobuf==3.20.1 in /opt/conda/lib/python3.8/site-packages (from qonnx==0.0.post1.dev159+g627b4f6) (3.20.1)\n",
      "Requirement already satisfied: sigtools==2.0.3 in /opt/conda/lib/python3.8/site-packages (from qonnx==0.0.post1.dev159+g627b4f6) (2.0.3)\n",
      "Requirement already satisfied: toposort>=1.5.0 in /opt/conda/lib/python3.8/site-packages (from qonnx==0.0.post1.dev159+g627b4f6) (1.5)\n",
      "Requirement already satisfied: flatbuffers in /opt/conda/lib/python3.8/site-packages (from onnxruntime==1.11.1->qonnx==0.0.post1.dev159+g627b4f6) (2.0.7)\n",
      "Requirement already satisfied: typing-extensions>=3.6.2.1 in /opt/conda/lib/python3.8/site-packages (from onnx==1.11.0->qonnx==0.0.post1.dev159+g627b4f6) (3.7.4.3)\n",
      "Requirement already satisfied: od in /opt/conda/lib/python3.8/site-packages (from clize==4.1.1->qonnx==0.0.post1.dev159+g627b4f6) (2.0.2)\n",
      "Requirement already satisfied: attrs<20,>=19.1.0 in /opt/conda/lib/python3.8/site-packages (from clize==4.1.1->qonnx==0.0.post1.dev159+g627b4f6) (19.3.0)\n",
      "Requirement already satisfied: docutils in /opt/conda/lib/python3.8/site-packages (from clize==4.1.1->qonnx==0.0.post1.dev159+g627b4f6) (0.18.1)\n",
      "Requirement already satisfied: six in /opt/conda/lib/python3.8/site-packages (from clize==4.1.1->qonnx==0.0.post1.dev159+g627b4f6) (1.16.0)\n",
      "Installing collected packages: qonnx\n",
      "  Attempting uninstall: qonnx\n",
      "    Found existing installation: qonnx 0.0.post1.dev159+g627b4f6\n",
      "    Uninstalling qonnx-0.0.post1.dev159+g627b4f6:\n",
      "      Successfully uninstalled qonnx-0.0.post1.dev159+g627b4f6\n",
      "  Running setup.py develop for qonnx\n",
      "Successfully installed qonnx\n"
     ]
    }
   ],
   "source": [
    "! pip install onnx==1.11.0\n",
    "! pip install onnxruntime==1.11.1\n",
    "! pip install --user -e /workspace/qonnx"
   ]
  },
  {
   "cell_type": "code",
   "execution_count": 4,
   "id": "3bc99967",
   "metadata": {
    "scrolled": true
   },
   "outputs": [],
   "source": [
    "from qonnx.transformation.general import (\n",
    "    ApplyConfig,\n",
    "    GiveReadableTensorNames,\n",
    "    GiveUniqueNodeNames,\n",
    "    RemoveStaticGraphInputs,\n",
    "    RemoveUnusedTensors,\n",
    ")\n",
    "from qonnx.transformation.infer_data_layouts import InferDataLayouts\n",
    "from qonnx.transformation.infer_datatypes import InferDataTypes\n",
    "from qonnx.transformation.infer_shapes import InferShapes\n",
    "from qonnx.core.modelwrapper import ModelWrapper\n",
    "from qonnx.transformation.fold_constants import FoldConstants\n",
    "\n",
    "model = ModelWrapper(\"tinyyolo-20210831.onnx\")\n",
    "model = model.transform(InferShapes())\n",
    "model = model.transform(FoldConstants())\n",
    "model = model.transform(GiveUniqueNodeNames())\n",
    "model = model.transform(GiveReadableTensorNames())\n",
    "model = model.transform(InferDataTypes())\n",
    "model = model.transform(RemoveStaticGraphInputs())"
   ]
  },
  {
   "cell_type": "code",
   "execution_count": 5,
   "id": "688d6a33",
   "metadata": {},
   "outputs": [],
   "source": [
    "import numpy as np\n",
    "from qonnx.core.modelwrapper import ModelWrapper\n",
    "from onnx import helper, TensorProto\n",
    "\n",
    "def update_node(model, op_type):\n",
    "    op_nodes = []\n",
    "    for n in model.graph.node:\n",
    "        if n.op_type == op_type:\n",
    "            op_node = helper.make_node(\n",
    "                op_type,\n",
    "                inputs = n.input,\n",
    "                outputs = n.output,\n",
    "                name = n.name\n",
    "            )\n",
    "            if len(n.attribute) > 0:\n",
    "                for na in n.attribute:\n",
    "                    op_node.attribute.append(na)\n",
    "#             model.graph.node.remove(n)\n",
    "#             model.graph.node.append(new_bn_node)\n",
    "            op_nodes.append(op_node)\n",
    "    return op_nodes\n",
    "\n",
    "def get_op_types(model):\n",
    "    optype = []\n",
    "    for n in m1.graph.node:\n",
    "        optype.append(n.op_type)\n",
    "    ops = list(np.unique(np.array(optype)))\n",
    "    return ops"
   ]
  },
  {
   "cell_type": "code",
   "execution_count": 6,
   "id": "61e73390",
   "metadata": {
    "scrolled": true
   },
   "outputs": [
    {
     "ename": "NameError",
     "evalue": "name 'm1' is not defined",
     "output_type": "error",
     "traceback": [
      "\u001b[0;31m---------------------------------------------------------------------------\u001b[0m",
      "\u001b[0;31mNameError\u001b[0m                                 Traceback (most recent call last)",
      "\u001b[0;32m<ipython-input-6-acee5dc2583a>\u001b[0m in \u001b[0;36m<module>\u001b[0;34m\u001b[0m\n\u001b[1;32m      5\u001b[0m \u001b[0mgbl_in\u001b[0m \u001b[0;34m=\u001b[0m \u001b[0mmodel\u001b[0m\u001b[0;34m.\u001b[0m\u001b[0mgraph\u001b[0m\u001b[0;34m.\u001b[0m\u001b[0minput\u001b[0m\u001b[0;34m[\u001b[0m\u001b[0;36m0\u001b[0m\u001b[0;34m]\u001b[0m\u001b[0;34m\u001b[0m\u001b[0;34m\u001b[0m\u001b[0m\n\u001b[1;32m      6\u001b[0m \u001b[0mgbl_out\u001b[0m \u001b[0;34m=\u001b[0m \u001b[0mmodel\u001b[0m\u001b[0;34m.\u001b[0m\u001b[0mgraph\u001b[0m\u001b[0;34m.\u001b[0m\u001b[0moutput\u001b[0m\u001b[0;34m[\u001b[0m\u001b[0;36m0\u001b[0m\u001b[0;34m]\u001b[0m\u001b[0;34m\u001b[0m\u001b[0;34m\u001b[0m\u001b[0m\n\u001b[0;32m----> 7\u001b[0;31m \u001b[0mops\u001b[0m \u001b[0;34m=\u001b[0m \u001b[0mget_op_types\u001b[0m\u001b[0;34m(\u001b[0m\u001b[0mmodel\u001b[0m\u001b[0;34m)\u001b[0m\u001b[0;34m\u001b[0m\u001b[0;34m\u001b[0m\u001b[0m\n\u001b[0m\u001b[1;32m      8\u001b[0m \u001b[0;31m# model.graph\u001b[0m\u001b[0;34m\u001b[0m\u001b[0;34m\u001b[0m\u001b[0;34m\u001b[0m\u001b[0m\n\u001b[1;32m      9\u001b[0m \u001b[0mnodes\u001b[0m \u001b[0;34m=\u001b[0m \u001b[0;34m[\u001b[0m\u001b[0;34m]\u001b[0m\u001b[0;34m\u001b[0m\u001b[0;34m\u001b[0m\u001b[0m\n",
      "\u001b[0;32m<ipython-input-5-cd5212c408bc>\u001b[0m in \u001b[0;36mget_op_types\u001b[0;34m(model)\u001b[0m\n\u001b[1;32m     23\u001b[0m \u001b[0;32mdef\u001b[0m \u001b[0mget_op_types\u001b[0m\u001b[0;34m(\u001b[0m\u001b[0mmodel\u001b[0m\u001b[0;34m)\u001b[0m\u001b[0;34m:\u001b[0m\u001b[0;34m\u001b[0m\u001b[0;34m\u001b[0m\u001b[0m\n\u001b[1;32m     24\u001b[0m     \u001b[0moptype\u001b[0m \u001b[0;34m=\u001b[0m \u001b[0;34m[\u001b[0m\u001b[0;34m]\u001b[0m\u001b[0;34m\u001b[0m\u001b[0;34m\u001b[0m\u001b[0m\n\u001b[0;32m---> 25\u001b[0;31m     \u001b[0;32mfor\u001b[0m \u001b[0mn\u001b[0m \u001b[0;32min\u001b[0m \u001b[0mm1\u001b[0m\u001b[0;34m.\u001b[0m\u001b[0mgraph\u001b[0m\u001b[0;34m.\u001b[0m\u001b[0mnode\u001b[0m\u001b[0;34m:\u001b[0m\u001b[0;34m\u001b[0m\u001b[0;34m\u001b[0m\u001b[0m\n\u001b[0m\u001b[1;32m     26\u001b[0m         \u001b[0moptype\u001b[0m\u001b[0;34m.\u001b[0m\u001b[0mappend\u001b[0m\u001b[0;34m(\u001b[0m\u001b[0mn\u001b[0m\u001b[0;34m.\u001b[0m\u001b[0mop_type\u001b[0m\u001b[0;34m)\u001b[0m\u001b[0;34m\u001b[0m\u001b[0;34m\u001b[0m\u001b[0m\n\u001b[1;32m     27\u001b[0m     \u001b[0mops\u001b[0m \u001b[0;34m=\u001b[0m \u001b[0mlist\u001b[0m\u001b[0;34m(\u001b[0m\u001b[0mnp\u001b[0m\u001b[0;34m.\u001b[0m\u001b[0munique\u001b[0m\u001b[0;34m(\u001b[0m\u001b[0mnp\u001b[0m\u001b[0;34m.\u001b[0m\u001b[0marray\u001b[0m\u001b[0;34m(\u001b[0m\u001b[0moptype\u001b[0m\u001b[0;34m)\u001b[0m\u001b[0;34m)\u001b[0m\u001b[0;34m)\u001b[0m\u001b[0;34m\u001b[0m\u001b[0;34m\u001b[0m\u001b[0m\n",
      "\u001b[0;31mNameError\u001b[0m: name 'm1' is not defined"
     ]
    }
   ],
   "source": [
    "from qonnx.transformation.infer_shapes import InferShapes\n",
    "from qonnx.transformation.batchnorm_to_affine import BatchNormToAffine\n",
    "\n",
    "model = ModelWrapper('tinyyolo-20210831.onnx')\n",
    "gbl_in = model.graph.input[0]\n",
    "gbl_out = model.graph.output[0]\n",
    "ops = get_op_types(model)\n",
    "# model.graph\n",
    "nodes = []\n",
    "for op in ops:\n",
    "    for i in update_node(model,op):\n",
    "        nodes.append(i) \n",
    "        \n",
    "graph = helper.make_graph(\n",
    "    nodes = nodes,\n",
    "    inputs = model.graph.input,\n",
    "    outputs = model.graph.output,\n",
    "    initializer=model.graph.initializer,\n",
    "    name = \"new_nodes\"\n",
    ")\n",
    "model = ModelWrapper(helper.make_model(graph))\n",
    "# model = model.transform(InferShapes())\n",
    "# model.model.opset_import[0].version = 9\n",
    "# model.model.opset_import\n",
    "model.save(\"updated_nodes.onnx\")\n",
    "\n",
    "model = model.transform(BatchNormToAffine())\n",
    "# # model.graph.input"
   ]
  },
  {
   "cell_type": "code",
   "execution_count": 14,
   "id": "0b5e53f7",
   "metadata": {
    "scrolled": true
   },
   "outputs": [
    {
     "ename": "RuntimeError",
     "evalue": "Input 1 is out of bounds.",
     "output_type": "error",
     "traceback": [
      "\u001b[0;31m---------------------------------------------------------------------------\u001b[0m",
      "\u001b[0;31mRuntimeError\u001b[0m                              Traceback (most recent call last)",
      "\u001b[0;32m<ipython-input-14-96974f29e5e6>\u001b[0m in \u001b[0;36m<module>\u001b[0;34m\u001b[0m\n\u001b[1;32m      1\u001b[0m \u001b[0mmodel\u001b[0m \u001b[0;34m=\u001b[0m \u001b[0mModelWrapper\u001b[0m\u001b[0;34m(\u001b[0m\u001b[0;34m'tinyyolo-20210831_updated.onnx'\u001b[0m\u001b[0;34m)\u001b[0m\u001b[0;34m\u001b[0m\u001b[0;34m\u001b[0m\u001b[0m\n\u001b[0;32m----> 2\u001b[0;31m \u001b[0mmodel\u001b[0m \u001b[0;34m=\u001b[0m \u001b[0mmodel\u001b[0m\u001b[0;34m.\u001b[0m\u001b[0mtransform\u001b[0m\u001b[0;34m(\u001b[0m\u001b[0mInferShapes\u001b[0m\u001b[0;34m(\u001b[0m\u001b[0;34m)\u001b[0m\u001b[0;34m)\u001b[0m\u001b[0;34m\u001b[0m\u001b[0;34m\u001b[0m\u001b[0m\n\u001b[0m\u001b[1;32m      3\u001b[0m \u001b[0mbn\u001b[0m \u001b[0;34m=\u001b[0m \u001b[0mupdate_node\u001b[0m\u001b[0;34m(\u001b[0m\u001b[0mmodel\u001b[0m\u001b[0;34m,\u001b[0m\u001b[0;34m\"BatchNormalization\"\u001b[0m\u001b[0;34m)\u001b[0m\u001b[0;34m\u001b[0m\u001b[0;34m\u001b[0m\u001b[0m\n\u001b[1;32m      4\u001b[0m \u001b[0;32mfor\u001b[0m \u001b[0mbn\u001b[0m \u001b[0;32min\u001b[0m \u001b[0mbn\u001b[0m\u001b[0;34m:\u001b[0m\u001b[0;34m\u001b[0m\u001b[0;34m\u001b[0m\u001b[0m\n\u001b[1;32m      5\u001b[0m     \u001b[0minp_shape\u001b[0m \u001b[0;34m=\u001b[0m \u001b[0mmodel\u001b[0m\u001b[0;34m.\u001b[0m\u001b[0mget_tensor_shape\u001b[0m\u001b[0;34m(\u001b[0m\u001b[0mbn\u001b[0m\u001b[0;34m.\u001b[0m\u001b[0minput\u001b[0m\u001b[0;34m[\u001b[0m\u001b[0;36m0\u001b[0m\u001b[0;34m]\u001b[0m\u001b[0;34m)\u001b[0m\u001b[0;34m\u001b[0m\u001b[0;34m\u001b[0m\u001b[0m\n",
      "\u001b[0;32m/workspace/qonnx/src/qonnx/core/modelwrapper.py\u001b[0m in \u001b[0;36mtransform\u001b[0;34m(self, transformation, make_deepcopy, cleanup)\u001b[0m\n\u001b[1;32m    138\u001b[0m         \u001b[0mmodel_was_changed\u001b[0m \u001b[0;34m=\u001b[0m \u001b[0;32mTrue\u001b[0m\u001b[0;34m\u001b[0m\u001b[0;34m\u001b[0m\u001b[0m\n\u001b[1;32m    139\u001b[0m         \u001b[0;32mwhile\u001b[0m \u001b[0mmodel_was_changed\u001b[0m\u001b[0;34m:\u001b[0m\u001b[0;34m\u001b[0m\u001b[0;34m\u001b[0m\u001b[0m\n\u001b[0;32m--> 140\u001b[0;31m             \u001b[0;34m(\u001b[0m\u001b[0mtransformed_model\u001b[0m\u001b[0;34m,\u001b[0m \u001b[0mmodel_was_changed\u001b[0m\u001b[0;34m)\u001b[0m \u001b[0;34m=\u001b[0m \u001b[0mtransformation\u001b[0m\u001b[0;34m.\u001b[0m\u001b[0mapply\u001b[0m\u001b[0;34m(\u001b[0m\u001b[0mtransformed_model\u001b[0m\u001b[0;34m)\u001b[0m\u001b[0;34m\u001b[0m\u001b[0;34m\u001b[0m\u001b[0m\n\u001b[0m\u001b[1;32m    141\u001b[0m         \u001b[0;32mif\u001b[0m \u001b[0mcleanup\u001b[0m\u001b[0;34m:\u001b[0m\u001b[0;34m\u001b[0m\u001b[0;34m\u001b[0m\u001b[0m\n\u001b[1;32m    142\u001b[0m             \u001b[0mtransformed_model\u001b[0m\u001b[0;34m.\u001b[0m\u001b[0mcleanup\u001b[0m\u001b[0;34m(\u001b[0m\u001b[0;34m)\u001b[0m\u001b[0;34m\u001b[0m\u001b[0;34m\u001b[0m\u001b[0m\n",
      "\u001b[0;32m/workspace/qonnx/src/qonnx/transformation/infer_shapes.py\u001b[0m in \u001b[0;36mapply\u001b[0;34m(self, model)\u001b[0m\n\u001b[1;32m     88\u001b[0m         \u001b[0mhidden_ops\u001b[0m \u001b[0;34m=\u001b[0m \u001b[0m_hide_finn_ops\u001b[0m\u001b[0;34m(\u001b[0m\u001b[0mmodel\u001b[0m\u001b[0;34m)\u001b[0m\u001b[0;34m\u001b[0m\u001b[0;34m\u001b[0m\u001b[0m\n\u001b[1;32m     89\u001b[0m         \u001b[0;31m# call regular ONNX shape inference\u001b[0m\u001b[0;34m\u001b[0m\u001b[0;34m\u001b[0m\u001b[0;34m\u001b[0m\u001b[0m\n\u001b[0;32m---> 90\u001b[0;31m         \u001b[0mmodel\u001b[0m \u001b[0;34m=\u001b[0m \u001b[0mModelWrapper\u001b[0m\u001b[0;34m(\u001b[0m\u001b[0msi\u001b[0m\u001b[0;34m.\u001b[0m\u001b[0minfer_shapes\u001b[0m\u001b[0;34m(\u001b[0m\u001b[0mmodel\u001b[0m\u001b[0;34m.\u001b[0m\u001b[0mmodel\u001b[0m\u001b[0;34m)\u001b[0m\u001b[0;34m)\u001b[0m\u001b[0;34m\u001b[0m\u001b[0;34m\u001b[0m\u001b[0m\n\u001b[0m\u001b[1;32m     91\u001b[0m         \u001b[0;31m# bring back hidden ops\u001b[0m\u001b[0;34m\u001b[0m\u001b[0;34m\u001b[0m\u001b[0;34m\u001b[0m\u001b[0m\n\u001b[1;32m     92\u001b[0m         \u001b[0m_restore_finn_ops\u001b[0m\u001b[0;34m(\u001b[0m\u001b[0mmodel\u001b[0m\u001b[0;34m,\u001b[0m \u001b[0mhidden_ops\u001b[0m\u001b[0;34m)\u001b[0m\u001b[0;34m\u001b[0m\u001b[0;34m\u001b[0m\u001b[0m\n",
      "\u001b[0;32m~/.local/lib/python3.8/site-packages/onnx/shape_inference.py\u001b[0m in \u001b[0;36minfer_shapes\u001b[0;34m(model, check_type, strict_mode, data_prop)\u001b[0m\n\u001b[1;32m     39\u001b[0m     \u001b[0;32mif\u001b[0m \u001b[0misinstance\u001b[0m\u001b[0;34m(\u001b[0m\u001b[0mmodel\u001b[0m\u001b[0;34m,\u001b[0m \u001b[0;34m(\u001b[0m\u001b[0mModelProto\u001b[0m\u001b[0;34m,\u001b[0m \u001b[0mbytes\u001b[0m\u001b[0;34m)\u001b[0m\u001b[0;34m)\u001b[0m\u001b[0;34m:\u001b[0m\u001b[0;34m\u001b[0m\u001b[0;34m\u001b[0m\u001b[0m\n\u001b[1;32m     40\u001b[0m         \u001b[0mmodel_str\u001b[0m \u001b[0;34m=\u001b[0m \u001b[0mmodel\u001b[0m \u001b[0;32mif\u001b[0m \u001b[0misinstance\u001b[0m\u001b[0;34m(\u001b[0m\u001b[0mmodel\u001b[0m\u001b[0;34m,\u001b[0m \u001b[0mbytes\u001b[0m\u001b[0;34m)\u001b[0m \u001b[0;32melse\u001b[0m \u001b[0mmodel\u001b[0m\u001b[0;34m.\u001b[0m\u001b[0mSerializeToString\u001b[0m\u001b[0;34m(\u001b[0m\u001b[0;34m)\u001b[0m\u001b[0;34m\u001b[0m\u001b[0;34m\u001b[0m\u001b[0m\n\u001b[0;32m---> 41\u001b[0;31m         \u001b[0minferred_model_str\u001b[0m \u001b[0;34m=\u001b[0m \u001b[0mC\u001b[0m\u001b[0;34m.\u001b[0m\u001b[0minfer_shapes\u001b[0m\u001b[0;34m(\u001b[0m\u001b[0mmodel_str\u001b[0m\u001b[0;34m,\u001b[0m \u001b[0mcheck_type\u001b[0m\u001b[0;34m,\u001b[0m \u001b[0mstrict_mode\u001b[0m\u001b[0;34m,\u001b[0m \u001b[0mdata_prop\u001b[0m\u001b[0;34m)\u001b[0m\u001b[0;34m\u001b[0m\u001b[0;34m\u001b[0m\u001b[0m\n\u001b[0m\u001b[1;32m     42\u001b[0m         \u001b[0;32mreturn\u001b[0m \u001b[0monnx\u001b[0m\u001b[0;34m.\u001b[0m\u001b[0mload_from_string\u001b[0m\u001b[0;34m(\u001b[0m\u001b[0minferred_model_str\u001b[0m\u001b[0;34m)\u001b[0m\u001b[0;34m\u001b[0m\u001b[0;34m\u001b[0m\u001b[0m\n\u001b[1;32m     43\u001b[0m     \u001b[0;32melif\u001b[0m \u001b[0misinstance\u001b[0m\u001b[0;34m(\u001b[0m\u001b[0mmodel\u001b[0m\u001b[0;34m,\u001b[0m \u001b[0mstr\u001b[0m\u001b[0;34m)\u001b[0m\u001b[0;34m:\u001b[0m\u001b[0;34m\u001b[0m\u001b[0;34m\u001b[0m\u001b[0m\n",
      "\u001b[0;31mRuntimeError\u001b[0m: Input 1 is out of bounds."
     ]
    }
   ],
   "source": [
    "model = ModelWrapper('tinyyolo-20210831_updated.onnx')\n",
    "model = model.transform(InferShapes())\n",
    "bn = update_node(model,\"BatchNormalization\")\n",
    "for bn in bn:\n",
    "    inp_shape = model.get_tensor_shape(bn.input[0])\n",
    "    inp = helper.make_tensor_value_info(bn.input[0],TensorProto.FLOAT ,shape = inp_shape)\n",
    "    opt = helper.make_tensor_value_info(bn.output[0],TensorProto.FLOAT ,shape = inp_shape)\n",
    "    vi = []\n",
    "    for i in bn.input[1:]:\n",
    "        vi.append(model.get_tensor_valueinfo(i))\n",
    "    graph = helper.make_graph(\n",
    "            nodes = [bn],\n",
    "            inputs = [inp],\n",
    "            outputs = [opt],\n",
    "            name = \"BN_graph\",    \n",
    "            value_info= vi\n",
    "    )\n",
    "\n",
    "    bn_model = ModelWrapper(helper.make_model(graph))\n",
    "    for i in bn.input[1:]:\n",
    "        bn_model.set_initializer(i,model.get_initializer(i))\n",
    "\n",
    "#     bn_model.model.ir_version = 6\n",
    "#     bn_model.model.opset_import[0].version = 9\n",
    "#     bn_model.model.opset_import\n",
    "#     bn_model.save(\"sli_model.onnx\")\n",
    "    print(bn.name)\n",
    "    bn_model.transform(BatchNormToAffine())\n"
   ]
  },
  {
   "cell_type": "code",
   "execution_count": null,
   "id": "f438ae82",
   "metadata": {},
   "outputs": [],
   "source": []
  }
 ],
 "metadata": {
  "kernelspec": {
   "display_name": "Python 3",
   "language": "python",
   "name": "python3"
  },
  "language_info": {
   "codemirror_mode": {
    "name": "ipython",
    "version": 3
   },
   "file_extension": ".py",
   "mimetype": "text/x-python",
   "name": "python",
   "nbconvert_exporter": "python",
   "pygments_lexer": "ipython3",
   "version": "3.8.5"
  }
 },
 "nbformat": 4,
 "nbformat_minor": 5
}
