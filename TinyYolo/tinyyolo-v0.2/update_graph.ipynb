{
 "cells": [
  {
   "cell_type": "code",
   "execution_count": null,
   "id": "53ac07bc",
   "metadata": {},
   "outputs": [],
   "source": [
    "! pip3 install onnxoptimizer==0.2.6\n",
    "! pip list | grep onnx"
   ]
  },
  {
   "cell_type": "code",
   "execution_count": 186,
   "id": "3a944c88",
   "metadata": {
    "scrolled": false
   },
   "outputs": [],
   "source": [
    "from qonnx.core.modelwrapper import ModelWrapper\n",
    "from qonnx.transformation.infer_shapes import InferShapes\n",
    "from qonnx.transformation.general import GiveReadableTensorNames, GiveUniqueNodeNames\n",
    "from qonnx.transformation.infer_data_layouts import InferDataLayouts\n",
    "from qonnx.transformation.infer_datatypes import InferDataTypes\n",
    "from qonnx.transformation.merge_onnx_models import MergeONNXModels\n",
    "from onnx.helper import make_graph, make_model, set_model_props\n",
    "from onnx import helper, TensorProto\n",
    "import qonnx.core.data_layout as DataLayout\n",
    "from qonnx.core.datatype import DataType\n",
    "import numpy as np\n",
    "import onnx\n",
    "\n",
    "def get_init(model, tensor_name):\n",
    "    for init in model.graph.initializer:\n",
    "        if tensor_name == init.name:\n",
    "            init_val = init.raw_data\n",
    "            model.graph.initializer.remove(init)\n",
    "            break\n",
    "    for inp in model.graph.input:\n",
    "        if tensor_name in inp.name:\n",
    "            model.graph.input.remove(inp)\n",
    "    \n",
    "    return np.frombuffer(init_val, dtype = np.int64)\n",
    "\n",
    "def add_attr(model, op_type):\n",
    "    new_node = []\n",
    "    for ind,n in enumerate(model.graph.node):\n",
    "        new_attr = {}\n",
    "        if op_type in n.name:        \n",
    "            if len(n.input) > 1:\n",
    "                new_attr[\"starts\"] = get_init(model,n.input[1])\n",
    "                new_attr[\"ends\"] = get_init(model,n.input[2])\n",
    "                new_attr[\"axes\"] = get_init(model,n.input[3])\n",
    "            if len(n.input[1:]) >3:\n",
    "                new_attr[\"steps\"] = get_init(model,n.input[4])\n",
    "            if not new_attr == {}:\n",
    "                new_node = make_node(model,new_attr,op_type)\n",
    "                model.graph.node.remove(n)\n",
    "                model.graph.node.append(new_node)\n",
    "    \n",
    "    return model\n",
    "\n",
    "def make_node(model,slice_attr,op_type):\n",
    "    for n in model.graph.node:\n",
    "        if op_type in n.name:\n",
    "            node = helper.make_node(\n",
    "                op_type,\n",
    "                name = n.name,\n",
    "                inputs=[n.input[0]],\n",
    "                outputs=[n.output[0]],\n",
    "                **slice_attr\n",
    "            )\n",
    "    \n",
    "            return node\n",
    "    \n",
    "def new_model(model):\n",
    "    \"\"\"\n",
    "    Overwrites the main opset in an ONNX file.\n",
    "    Does not change any node definition.\n",
    "    :param model: ONNX model\n",
    "    :param new_opset: new opset\n",
    "    :return: ONNX model\n",
    "    \"\"\"    \n",
    "    \n",
    "    model_config = {}\n",
    "    model_config[\"opset_imports\"] = [onnx.helper.make_operatorsetid(\"\",9)]\n",
    "    \n",
    "    graph = make_graph(\n",
    "        model.graph.node, model.graph.name, model.graph.input,\n",
    "        model.graph.output, model.graph.initializer)\n",
    "    onnx_model = make_model(graph, functions=model.functions,**model_config)\n",
    "    onnx_model.ir_version = 4 #model.ir_version\n",
    "    onnx_model.producer_name = model.producer_name\n",
    "    onnx_model.producer_version = model.producer_version\n",
    "    onnx_model.domain = model.domain\n",
    "    onnx_model.model_version = model.model_version\n",
    "    onnx_model.doc_string = model.doc_string\n",
    "    if len(model.metadata_props) > 0:  # pragma: no cover\n",
    "        values = {p.key: p.value for p in model.metadata_props}\n",
    "        set_model_props(onnx_model, values)\n",
    "\n",
    "    return ModelWrapper(onnx_model)\n",
    "\n",
    "def cnt_ops(model):\n",
    "    nodes = []\n",
    "    for n in model.graph.node:\n",
    "        nodes.append(n.op_type)\n",
    "    ops,cnts = np.unique(np.array(nodes),return_counts=True)\n",
    "    total = {}\n",
    "    for ind,k in enumerate(ops):\n",
    "        total[str(k)] = cnts[ind]\n",
    "\n",
    "    return total"
   ]
  },
  {
   "cell_type": "code",
   "execution_count": 191,
   "id": "45f0ad69",
   "metadata": {},
   "outputs": [],
   "source": [
    "def pre_process(model):\n",
    "    \n",
    "    global_in = model.graph.input[0]\n",
    "    idt = model.get_tensor_datatype(global_in.name)\n",
    "\n",
    "    node = helper.make_node(\n",
    "        \"Div\",\n",
    "        inputs = [global_in.name,\"b\"],\n",
    "        outputs = [\"y\"],\n",
    "        name = \"Div_node\"\n",
    "    )\n",
    "    model.graph.node.append(node)\n",
    "    model.graph.node[0].input[0] = \"y\"\n",
    "    model.set_initializer('b',np.array(255,dtype = np.float32))\n",
    "#     model.set_tensor_datatype(\"y\",DataType[])\n",
    "    model.set_tensor_datatype(model.graph.input[0].name,DataType[\"UINT8\"])\n",
    "    model.set_tensor_layout(model.graph.input[0].name,DataLayout.NCHW)    \n",
    "    \n",
    "    return model"
   ]
  },
  {
   "cell_type": "code",
   "execution_count": 192,
   "id": "1df3d499",
   "metadata": {
    "scrolled": true
   },
   "outputs": [
    {
     "name": "stderr",
     "output_type": "stream",
     "text": [
      "/workspace/qonnx/src/qonnx/core/modelwrapper.py:93: UserWarning: Some old-style domain attributes were automatically converted to new-style,\n",
      "                i.e. domain=finn to domain=qonnx.custom_op.<general|fpgadataflow|...>\n",
      "  warnings.warn(\n"
     ]
    },
    {
     "name": "stdout",
     "output_type": "stream",
     "text": [
      "Saved!\n"
     ]
    }
   ],
   "source": [
    "model = ModelWrapper('tinyyolo-20210831.onnx')\n",
    "\n",
    "model = add_attr(model, \"Slice\")\n",
    "model = new_model(model.model)\n",
    "model = pre_process(model)\n",
    "\n",
    "model.save(\"tinyyolo-20210831_updated.onnx\")\n",
    "model = model.transform(InferShapes())\n",
    "print(\"Saved!\")\n"
   ]
  },
  {
   "cell_type": "code",
   "execution_count": 193,
   "id": "20ec3d22",
   "metadata": {
    "scrolled": false
   },
   "outputs": [
    {
     "name": "stdout",
     "output_type": "stream",
     "text": [
      "tinyyolo-20210831_updated.onnx\n"
     ]
    }
   ],
   "source": [
    "import finn.builder.build_dataflow as build\n",
    "import finn.builder.build_dataflow_config as build_cfg\n",
    "import os\n",
    "import shutil\n",
    "\n",
    "model_file = \"tinyyolo-20210831_updated\"\n",
    "onnx_model = \"%s.onnx\" %model_file\n",
    "print(onnx_model)\n",
    "final_output_dir = \"build_output_%s\"%model_file\n",
    "\n",
    "#Delete previous run results if exist\n",
    "if os.path.exists(final_output_dir):\n",
    "    shutil.rmtree(final_output_dir)\n",
    "    print(\"Previous run results deleted!\")\n",
    "\n",
    "cfg = build.DataflowBuildConfig(\n",
    "    output_dir          = final_output_dir,\n",
    "    mvau_wwidth_max     = 80,\n",
    "    target_fps          = 1000000,\n",
    "    synth_clk_period_ns = 10.0,\n",
    "    board               = \"KV260_SOM\",\n",
    "    shell_flow_type     = build_cfg.ShellFlowType.VIVADO_ZYNQ,\n",
    "    generate_outputs=[\n",
    "        build_cfg.DataflowOutputType.BITFILE,\n",
    "        build_cfg.DataflowOutputType.PYNQ_DRIVER,\n",
    "        build_cfg.DataflowOutputType.DEPLOYMENT_PACKAGE,\n",
    "    ]\n",
    ")\n",
    "\n",
    "build.build_dataflow_cfg(onnx_model, cfg)"
   ]
  },
  {
   "cell_type": "code",
   "execution_count": 194,
   "id": "c664d4a4",
   "metadata": {},
   "outputs": [
    {
     "name": "stdout",
     "output_type": "stream",
     "text": [
      "tinyyolo-20210831_updated.onnx\n"
     ]
    }
   ],
   "source": [
    "import qonnx.util.basic as util\n",
    "print(onnx_model)\n",
    "model = ModelWrapper(onnx_model)\n",
    "model = model.transform(InferShapes())\n",
    "model = model.transform(InferDataTypes())\n",
    "model = model.transform(GiveReadableTensorNames())\n",
    "\n",
    "model.save(\"ReadableNames.onnx\")\n"
   ]
  },
  {
   "cell_type": "code",
   "execution_count": null,
   "id": "ac9bcdb0",
   "metadata": {},
   "outputs": [],
   "source": []
  }
 ],
 "metadata": {
  "kernelspec": {
   "display_name": "Python 3",
   "language": "python",
   "name": "python3"
  },
  "language_info": {
   "codemirror_mode": {
    "name": "ipython",
    "version": 3
   },
   "file_extension": ".py",
   "mimetype": "text/x-python",
   "name": "python",
   "nbconvert_exporter": "python",
   "pygments_lexer": "ipython3",
   "version": "3.8.5"
  },
  "vscode": {
   "interpreter": {
    "hash": "c0480a40de60fe0b4be044949303dbe98ce3610184aeb132e77bccbcbbb8df2a"
   }
  }
 },
 "nbformat": 4,
 "nbformat_minor": 5
}
