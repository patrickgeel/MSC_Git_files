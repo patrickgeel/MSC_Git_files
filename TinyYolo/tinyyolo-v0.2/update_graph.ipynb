{
 "cells": [
  {
   "cell_type": "code",
   "execution_count": null,
   "id": "53ac07bc",
   "metadata": {},
   "outputs": [],
   "source": [
    "! pip3 install onnxoptimizer==0.2.6\n",
    "! pip list | grep onnx"
   ]
  },
  {
   "cell_type": "code",
   "execution_count": 130,
   "id": "3a944c88",
   "metadata": {
    "scrolled": false
   },
   "outputs": [],
   "source": [
    "from qonnx.core.modelwrapper import ModelWrapper\n",
    "from qonnx.transformation.infer_shapes import InferShapes\n",
    "from qonnx.transformation.general import GiveReadableTensorNames, GiveUniqueNodeNames\n",
    "from qonnx.transformation.infer_data_layouts import InferDataLayouts\n",
    "from qonnx.transformation.infer_datatypes import InferDataTypes\n",
    "from qonnx.transformation.merge_onnx_models import MergeONNXModels\n",
    "from onnx.helper import make_graph, make_model, set_model_props\n",
    "from onnx import helper, TensorProto\n",
    "from qonnx.core.datatype import DataType\n",
    "import numpy as np\n",
    "import onnx\n",
    "\n",
    "def get_init(model, tensor_name):\n",
    "    for init in model.graph.initializer:\n",
    "        if tensor_name == init.name:\n",
    "            init_val = init.raw_data\n",
    "            model.graph.initializer.remove(init)\n",
    "            break\n",
    "    for inp in model.graph.input:\n",
    "        if tensor_name in inp.name:\n",
    "            model.graph.input.remove(inp)\n",
    "    \n",
    "    return np.frombuffer(init_val, dtype = np.int64)\n",
    "\n",
    "def add_attr(model, op_type):\n",
    "    new_node = []\n",
    "    for ind,n in enumerate(model.graph.node):\n",
    "        new_attr = {}\n",
    "        if op_type in n.name:        \n",
    "            if len(n.input) > 1:\n",
    "                new_attr[\"starts\"] = get_init(model,n.input[1])\n",
    "                new_attr[\"ends\"] = get_init(model,n.input[2])\n",
    "                new_attr[\"axes\"] = get_init(model,n.input[3])\n",
    "            if len(n.input[1:]) >3:\n",
    "                new_attr[\"steps\"] = get_init(model,n.input[4])\n",
    "            if not new_attr == {}:\n",
    "                new_node = make_node(model,new_attr,op_type)\n",
    "                model.graph.node.remove(n)\n",
    "                model.graph.node.append(new_node)\n",
    "    \n",
    "    return model\n",
    "\n",
    "def make_node(model,slice_attr,op_type):\n",
    "    for n in model.graph.node:\n",
    "        if op_type in n.name:\n",
    "            node = helper.make_node(\n",
    "                op_type,\n",
    "                name = n.name,\n",
    "                inputs=[n.input[0]],\n",
    "                outputs=[n.output[0]],\n",
    "                **slice_attr\n",
    "            )\n",
    "    \n",
    "            return node\n",
    "    \n",
    "def new_model(model):\n",
    "    \"\"\"\n",
    "    Overwrites the main opset in an ONNX file.\n",
    "    Does not change any node definition.\n",
    "    :param model: ONNX model\n",
    "    :param new_opset: new opset\n",
    "    :return: ONNX model\n",
    "    \"\"\"    \n",
    "    \n",
    "    model_config = {}\n",
    "    model_config[\"opset_imports\"] = [onnx.helper.make_operatorsetid(\"\",9)]\n",
    "    \n",
    "    graph = make_graph(\n",
    "        model.graph.node, model.graph.name, model.graph.input,\n",
    "        model.graph.output, model.graph.initializer)\n",
    "    onnx_model = make_model(graph, functions=model.functions,**model_config)\n",
    "    onnx_model.ir_version = 4 #model.ir_version\n",
    "    onnx_model.producer_name = model.producer_name\n",
    "    onnx_model.producer_version = model.producer_version\n",
    "    onnx_model.domain = model.domain\n",
    "    onnx_model.model_version = model.model_version\n",
    "    onnx_model.doc_string = model.doc_string\n",
    "    if len(model.metadata_props) > 0:  # pragma: no cover\n",
    "        values = {p.key: p.value for p in model.metadata_props}\n",
    "        set_model_props(onnx_model, values)\n",
    "\n",
    "    return ModelWrapper(onnx_model)\n",
    "\n",
    "def cnt_ops(model):\n",
    "    nodes = []\n",
    "    for n in model.graph.node:\n",
    "        nodes.append(n.op_type)\n",
    "    ops,cnts = np.unique(np.array(nodes),return_counts=True)\n",
    "    total = {}\n",
    "    for ind,k in enumerate(ops):\n",
    "        total[str(k)] = cnts[ind]\n",
    "\n",
    "    return total"
   ]
  },
  {
   "cell_type": "code",
   "execution_count": 133,
   "id": "1df3d499",
   "metadata": {
    "scrolled": true
   },
   "outputs": [
    {
     "name": "stdout",
     "output_type": "stream",
     "text": [
      "Saved!\n"
     ]
    }
   ],
   "source": [
    "model = ModelWrapper('tinyyolo-20210831.onnx')\n",
    "\n",
    "model = add_attr(model, \"Slice\")\n",
    "model = new_model(model.model)\n",
    "# model = preprocess(model)\n",
    "\n",
    "# model.save(\"div_add.onnx\")\n",
    "# model.find_consumer(model.graph.input[0].name)\n",
    "\n",
    "model = model.transform(InferShapes())\n",
    "\n",
    "model.save(\"tinyyolo-20210831_updated.onnx\")\n",
    "print(\"Saved!\")\n"
   ]
  },
  {
   "cell_type": "code",
   "execution_count": 134,
   "id": "20ec3d22",
   "metadata": {
    "scrolled": false
   },
   "outputs": [
    {
     "name": "stdout",
     "output_type": "stream",
     "text": [
      "tinyyolo-20210831_updated.onnx\n"
     ]
    }
   ],
   "source": [
    "import finn.builder.build_dataflow as build\n",
    "import finn.builder.build_dataflow_config as build_cfg\n",
    "import os\n",
    "import shutil\n",
    "\n",
    "model_file = \"tinyyolo-20210831_updated\"\n",
    "onnx_model = \"%s.onnx\" %model_file\n",
    "print(onnx_model)\n",
    "final_output_dir = \"build_output_+%s\"%model_file\n",
    "\n",
    "#Delete previous run results if exist\n",
    "if os.path.exists(final_output_dir):\n",
    "    shutil.rmtree(final_output_dir)\n",
    "    print(\"Previous run results deleted!\")\n",
    "\n",
    "cfg = build.DataflowBuildConfig(\n",
    "    output_dir          = final_output_dir,\n",
    "    mvau_wwidth_max     = 80,\n",
    "    target_fps          = 1000000,\n",
    "    synth_clk_period_ns = 10.0,\n",
    "    board               = \"Pynq-Z1\",\n",
    "    shell_flow_type     = build_cfg.ShellFlowType.VIVADO_ZYNQ,\n",
    "    generate_outputs=[\n",
    "        build_cfg.DataflowOutputType.BITFILE,\n",
    "        build_cfg.DataflowOutputType.PYNQ_DRIVER,\n",
    "        build_cfg.DataflowOutputType.DEPLOYMENT_PACKAGE,\n",
    "    ]\n",
    ")"
   ]
  },
  {
   "cell_type": "code",
   "execution_count": 135,
   "id": "01e272c1",
   "metadata": {},
   "outputs": [
    {
     "name": "stdout",
     "output_type": "stream",
     "text": [
      "Building dataflow accelerator from tinyyolo-20210831_updated.onnx\n",
      "Intermediate outputs will be generated in /workspace/results\n",
      "Final outputs will be generated in build_output_+tinyyolo-20210831_updated\n",
      "Build log is at build_output_+tinyyolo-20210831_updated/build_dataflow.log\n",
      "Running step: step_qonnx_to_finn [1/17]\n",
      "Running step: step_tidy_up [2/17]\n",
      "Running step: step_streamline [3/17]\n"
     ]
    },
    {
     "name": "stderr",
     "output_type": "stream",
     "text": [
      "Traceback (most recent call last):\n",
      "  File \"/workspace/finn/src/finn/builder/build_dataflow.py\", line 166, in build_dataflow_cfg\n",
      "    model = transform_step(model, cfg)\n",
      "  File \"/workspace/finn/src/finn/builder/build_dataflow_steps.py\", line 264, in step_streamline\n",
      "    model = model.transform(Streamline())\n",
      "  File \"/workspace/qonnx/src/qonnx/core/modelwrapper.py\", line 140, in transform\n",
      "    (transformed_model, model_was_changed) = transformation.apply(transformed_model)\n",
      "  File \"/workspace/finn/src/finn/transformation/streamline/__init__.py\", line 98, in apply\n",
      "    model = model.transform(trn)\n",
      "  File \"/workspace/qonnx/src/qonnx/core/modelwrapper.py\", line 140, in transform\n",
      "    (transformed_model, model_was_changed) = transformation.apply(transformed_model)\n",
      "  File \"/workspace/qonnx/src/qonnx/transformation/batchnorm_to_affine.py\", line 73, in apply\n",
      "    assert len(data_shape) >= A.ndim, \"Unexpected number of dims found in BatchNormToAffine\"\n",
      "TypeError: object of type 'NoneType' has no len()\n"
     ]
    },
    {
     "name": "stdout",
     "output_type": "stream",
     "text": [
      "> \u001b[0;32m/workspace/qonnx/src/qonnx/transformation/batchnorm_to_affine.py\u001b[0m(73)\u001b[0;36mapply\u001b[0;34m()\u001b[0m\n",
      "\u001b[0;32m     71 \u001b[0;31m                \u001b[0mdata_shape\u001b[0m \u001b[0;34m=\u001b[0m \u001b[0mmodel\u001b[0m\u001b[0;34m.\u001b[0m\u001b[0mget_tensor_shape\u001b[0m\u001b[0;34m(\u001b[0m\u001b[0mbn_input\u001b[0m\u001b[0;34m)\u001b[0m\u001b[0;34m\u001b[0m\u001b[0;34m\u001b[0m\u001b[0m\n",
      "\u001b[0m\u001b[0;32m     72 \u001b[0;31m                \u001b[0;32massert\u001b[0m \u001b[0mA\u001b[0m\u001b[0;34m.\u001b[0m\u001b[0mndim\u001b[0m \u001b[0;34m==\u001b[0m \u001b[0mB\u001b[0m\u001b[0;34m.\u001b[0m\u001b[0mndim\u001b[0m\u001b[0;34m,\u001b[0m \u001b[0;34m\"Unexpected mul/add dims in BatchNormToAffine\"\u001b[0m\u001b[0;34m\u001b[0m\u001b[0;34m\u001b[0m\u001b[0m\n",
      "\u001b[0m\u001b[0;32m---> 73 \u001b[0;31m                \u001b[0;32massert\u001b[0m \u001b[0mlen\u001b[0m\u001b[0;34m(\u001b[0m\u001b[0mdata_shape\u001b[0m\u001b[0;34m)\u001b[0m \u001b[0;34m>=\u001b[0m \u001b[0mA\u001b[0m\u001b[0;34m.\u001b[0m\u001b[0mndim\u001b[0m\u001b[0;34m,\u001b[0m \u001b[0;34m\"Unexpected number of dims found in BatchNormToAffine\"\u001b[0m\u001b[0;34m\u001b[0m\u001b[0;34m\u001b[0m\u001b[0m\n",
      "\u001b[0m\u001b[0;32m     74 \u001b[0;31m                \u001b[0;31m# reshape the mul/add constants to match the data shape/dims\u001b[0m\u001b[0;34m\u001b[0m\u001b[0;34m\u001b[0m\u001b[0;34m\u001b[0m\u001b[0m\n",
      "\u001b[0m\u001b[0;32m     75 \u001b[0;31m                \u001b[0;31m# by adding (1,) dimensions to the right\u001b[0m\u001b[0;34m\u001b[0m\u001b[0;34m\u001b[0m\u001b[0;34m\u001b[0m\u001b[0m\n",
      "\u001b[0m\n",
      "--KeyboardInterrupt--\n",
      "\n",
      "KeyboardInterrupt: Interrupted by user\n",
      "Build failed\n",
      "CPU times: user 11.2 s, sys: 523 ms, total: 11.7 s\n",
      "Wall time: 37.3 s\n"
     ]
    },
    {
     "data": {
      "text/plain": [
       "-1"
      ]
     },
     "execution_count": 135,
     "metadata": {},
     "output_type": "execute_result"
    }
   ],
   "source": [
    "%%time\n",
    "build.build_dataflow_cfg(onnx_model, cfg)"
   ]
  },
  {
   "cell_type": "code",
   "execution_count": null,
   "id": "7a17ff53",
   "metadata": {},
   "outputs": [],
   "source": []
  }
 ],
 "metadata": {
  "kernelspec": {
   "display_name": "Python 3",
   "language": "python",
   "name": "python3"
  },
  "language_info": {
   "codemirror_mode": {
    "name": "ipython",
    "version": 3
   },
   "file_extension": ".py",
   "mimetype": "text/x-python",
   "name": "python",
   "nbconvert_exporter": "python",
   "pygments_lexer": "ipython3",
   "version": "3.8.5"
  },
  "vscode": {
   "interpreter": {
    "hash": "c0480a40de60fe0b4be044949303dbe98ce3610184aeb132e77bccbcbbb8df2a"
   }
  }
 },
 "nbformat": 4,
 "nbformat_minor": 5
}
