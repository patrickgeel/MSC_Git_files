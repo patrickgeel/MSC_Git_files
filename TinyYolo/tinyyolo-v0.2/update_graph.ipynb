{
 "cells": [
  {
   "cell_type": "code",
   "execution_count": 2,
   "id": "53ac07bc",
   "metadata": {},
   "outputs": [
    {
     "name": "stdout",
     "output_type": "stream",
     "text": [
      "Defaulting to user installation because normal site-packages is not writeable\n",
      "Requirement already satisfied: onnxoptimizer==0.2.6 in /home/pgeel/.local/lib/python3.8/site-packages (0.2.6)\n",
      "Requirement already satisfied: onnx in /home/pgeel/.local/lib/python3.8/site-packages (from onnxoptimizer==0.2.6) (1.11.0)\n",
      "Requirement already satisfied: protobuf>=3.12.2 in /opt/conda/lib/python3.8/site-packages (from onnx->onnxoptimizer==0.2.6) (3.20.1)\n",
      "Requirement already satisfied: typing-extensions>=3.6.2.1 in /opt/conda/lib/python3.8/site-packages (from onnx->onnxoptimizer==0.2.6) (3.7.4.3)\n",
      "Requirement already satisfied: numpy>=1.16.6 in /opt/conda/lib/python3.8/site-packages (from onnx->onnxoptimizer==0.2.6) (1.23.2)\n",
      "onnx                          1.11.0\n",
      "onnxoptimizer                 0.2.6\n",
      "onnxruntime                   1.11.1\n",
      "qonnx                         0.0.post1.dev134+g398a0ec /workspace/qonnx/src\n"
     ]
    }
   ],
   "source": [
    "! pip3 install onnxoptimizer==0.2.6\n",
    "! pip list | grep onnx"
   ]
  },
  {
   "cell_type": "code",
   "execution_count": 11,
   "id": "3a944c88",
   "metadata": {
    "scrolled": false
   },
   "outputs": [],
   "source": [
    "from qonnx.core.modelwrapper import ModelWrapper\n",
    "from qonnx.transformation.infer_shapes import InferShapes\n",
    "from qonnx.transformation.general import GiveReadableTensorNames, GiveUniqueNodeNames\n",
    "from qonnx.transformation.infer_data_layouts import InferDataLayouts\n",
    "from qonnx.transformation.infer_datatypes import InferDataTypes\n",
    "from qonnx.transformation.merge_onnx_models import MergeONNXModels\n",
    "from qonnx.transformation.batchnorm_to_affine import BatchNormToAffine\n",
    "from onnx.helper import make_graph, make_model, set_model_props\n",
    "from onnx import helper, TensorProto\n",
    "import qonnx.core.data_layout as DataLayout\n",
    "from qonnx.core.datatype import DataType\n",
    "import numpy as np\n",
    "import onnx\n",
    "\n",
    "def get_init(model, tensor_name):\n",
    "    for init in model.graph.initializer:\n",
    "        if tensor_name == init.name:\n",
    "            init_val = init.raw_data\n",
    "            model.graph.initializer.remove(init)\n",
    "            break\n",
    "    for inp in model.graph.input:\n",
    "        if tensor_name in inp.name:\n",
    "            model.graph.input.remove(inp)\n",
    "    \n",
    "    return np.frombuffer(init_val, dtype = np.int64)\n",
    "\n",
    "def add_attr(model, op_type):\n",
    "    new_node = []\n",
    "    for ind,n in enumerate(model.graph.node):\n",
    "        new_attr = {}\n",
    "        if op_type in n.name:        \n",
    "            if len(n.input) > 1:\n",
    "                new_attr[\"starts\"] = get_init(model,n.input[1])\n",
    "                new_attr[\"ends\"] = get_init(model,n.input[2])\n",
    "                new_attr[\"axes\"] = get_init(model,n.input[3])\n",
    "            if len(n.input[1:]) >3:\n",
    "                new_attr[\"steps\"] = get_init(model,n.input[4])\n",
    "            if not new_attr == {}:\n",
    "                new_node = make_node(model,new_attr,op_type)\n",
    "                model.graph.node.remove(n)\n",
    "                model.graph.node.append(new_node)\n",
    "    \n",
    "    return model\n",
    "\n",
    "def make_node(model,slice_attr,op_type):\n",
    "    for n in model.graph.node:\n",
    "        if op_type in n.name:\n",
    "            node = helper.make_node(\n",
    "                op_type,\n",
    "                name = n.name,\n",
    "                inputs=[n.input[0]],\n",
    "                outputs=[n.output[0]],\n",
    "                **slice_attr\n",
    "            )\n",
    "    \n",
    "            return node\n",
    "    \n",
    "def new_model(model):\n",
    "    \"\"\"\n",
    "    Overwrites the main opset in an ONNX file.\n",
    "    Does not change any node definition.\n",
    "    :param model: ONNX model\n",
    "    :param new_opset: new opset\n",
    "    :return: ONNX model\n",
    "    \"\"\"    \n",
    "    \n",
    "    model_config = {}\n",
    "    model_config[\"opset_imports\"] = [onnx.helper.make_operatorsetid(\"\",9)]\n",
    "    \n",
    "    graph = make_graph(\n",
    "        model.graph.node, model.graph.name, model.graph.input,\n",
    "        model.graph.output, model.graph.initializer)\n",
    "    onnx_model = make_model(graph, functions=model.functions,**model_config)\n",
    "    onnx_model.ir_version = 4#model.ir_version\n",
    "    onnx_model.producer_name = model.producer_name\n",
    "    onnx_model.producer_version = model.producer_version\n",
    "    onnx_model.domain = model.domain\n",
    "    onnx_model.model_version = model.model_version\n",
    "    onnx_model.doc_string = model.doc_string\n",
    "    if len(model.metadata_props) > 0:  # pragma: no cover\n",
    "        values = {p.key: p.value for p in model.metadata_props}\n",
    "        set_model_props(onnx_model, values)\n",
    "\n",
    "    return ModelWrapper(onnx_model)\n",
    "\n",
    "def cnt_ops(model):\n",
    "    nodes = []\n",
    "    for n in model.graph.node:\n",
    "        nodes.append(n.op_type)\n",
    "    ops,cnts = np.unique(np.array(nodes),return_counts=True)\n",
    "    total = {}\n",
    "    for ind,k in enumerate(ops):\n",
    "        total[str(k)] = cnts[ind]\n",
    "\n",
    "    return total"
   ]
  },
  {
   "cell_type": "code",
   "execution_count": 12,
   "id": "45f0ad69",
   "metadata": {},
   "outputs": [],
   "source": [
    "def pre_process(model):\n",
    "    \n",
    "    global_in = model.graph.input[0]\n",
    "    idt = model.get_tensor_datatype(global_in.name)\n",
    "\n",
    "    node = helper.make_node(\n",
    "        \"Div\",\n",
    "        inputs = [global_in.name,\"b\"],\n",
    "        outputs = [\"y\"],\n",
    "        name = \"Div_node\"\n",
    "    )\n",
    "    model.graph.node.append(node)\n",
    "    model.graph.node[0].input[0] = \"y\"\n",
    "    model.set_initializer('b',np.array(255,dtype = np.float32))\n",
    "#     model.set_tensor_datatype(\"y\",DataType[])\n",
    "    model.set_tensor_datatype(model.graph.input[0].name,DataType[\"UINT8\"])\n",
    "    model.set_tensor_layout(model.graph.input[0].name,DataLayout.NCHW)    \n",
    "    \n",
    "    return model\n",
    "\n",
    "def update_bn(model):\n",
    "    graph = model.graph\n",
    "    for n in graph.node:\n",
    "        if n.op_type == \"BatchNormalization\":\n",
    "            new_bn_node = helper.make_node(\n",
    "                \"BatchNormalization\",\n",
    "                inputs = n.input,\n",
    "                outputs = n.output,\n",
    "                name = n.name\n",
    "            ) \n",
    "            if len(n.attribute) > 0:\n",
    "                for na in n.attribute:\n",
    "                    new_bn_node.attribute.append(na)\n",
    "            graph.node.remove(n)\n",
    "            graph.node.append(new_bn_node)\n",
    "    return model"
   ]
  },
  {
   "cell_type": "code",
   "execution_count": 13,
   "id": "1df3d499",
   "metadata": {
    "scrolled": false
   },
   "outputs": [
    {
     "name": "stdout",
     "output_type": "stream",
     "text": [
      "Saved!\n"
     ]
    }
   ],
   "source": [
    "model = ModelWrapper('tinyyolo-20210831.onnx')\n",
    "\n",
    "model = add_attr(model, \"Slice\")\n",
    "model = new_model(model.model)\n",
    "# model = pre_process(model)\n",
    "# model = update_bn(model)\n",
    "\n",
    "model.save(\"tinyyolo-20210831_updated.onnx\")\n",
    "# model = model.transform(InferShapes())\n",
    "\n",
    "print(\"Saved!\")\n",
    "# model.get_nodes_by_op_type(\"Slice\")"
   ]
  },
  {
   "cell_type": "code",
   "execution_count": 101,
   "id": "d250c128",
   "metadata": {
    "scrolled": true
   },
   "outputs": [
    {
     "name": "stderr",
     "output_type": "stream",
     "text": [
      "/workspace/qonnx/src/qonnx/core/modelwrapper.py:93: UserWarning: Some old-style domain attributes were automatically converted to new-style,\n",
      "                i.e. domain=finn to domain=qonnx.custom_op.<general|fpgadataflow|...>\n",
      "  warnings.warn(\n"
     ]
    },
    {
     "ename": "TypeError",
     "evalue": "object of type 'NoneType' has no len()",
     "output_type": "error",
     "traceback": [
      "\u001b[0;31m---------------------------------------------------------------------------\u001b[0m",
      "\u001b[0;31mTypeError\u001b[0m                                 Traceback (most recent call last)",
      "\u001b[0;32m<ipython-input-101-95199a242ea3>\u001b[0m in \u001b[0;36m<module>\u001b[0;34m\u001b[0m\n\u001b[1;32m      1\u001b[0m \u001b[0mmodel\u001b[0m \u001b[0;34m=\u001b[0m \u001b[0mModelWrapper\u001b[0m\u001b[0;34m(\u001b[0m\u001b[0;34m\"tinyyolo-20210831.onnx\"\u001b[0m\u001b[0;34m)\u001b[0m\u001b[0;34m\u001b[0m\u001b[0;34m\u001b[0m\u001b[0m\n\u001b[0;32m----> 2\u001b[0;31m \u001b[0mmodel\u001b[0m\u001b[0;34m.\u001b[0m\u001b[0mtransform\u001b[0m\u001b[0;34m(\u001b[0m\u001b[0mBatchNormToAffine\u001b[0m\u001b[0;34m(\u001b[0m\u001b[0;34m)\u001b[0m\u001b[0;34m)\u001b[0m\u001b[0;34m\u001b[0m\u001b[0;34m\u001b[0m\u001b[0m\n\u001b[0m",
      "\u001b[0;32m/workspace/qonnx/src/qonnx/core/modelwrapper.py\u001b[0m in \u001b[0;36mtransform\u001b[0;34m(self, transformation, make_deepcopy, cleanup)\u001b[0m\n\u001b[1;32m    138\u001b[0m         \u001b[0mmodel_was_changed\u001b[0m \u001b[0;34m=\u001b[0m \u001b[0;32mTrue\u001b[0m\u001b[0;34m\u001b[0m\u001b[0;34m\u001b[0m\u001b[0m\n\u001b[1;32m    139\u001b[0m         \u001b[0;32mwhile\u001b[0m \u001b[0mmodel_was_changed\u001b[0m\u001b[0;34m:\u001b[0m\u001b[0;34m\u001b[0m\u001b[0;34m\u001b[0m\u001b[0m\n\u001b[0;32m--> 140\u001b[0;31m             \u001b[0;34m(\u001b[0m\u001b[0mtransformed_model\u001b[0m\u001b[0;34m,\u001b[0m \u001b[0mmodel_was_changed\u001b[0m\u001b[0;34m)\u001b[0m \u001b[0;34m=\u001b[0m \u001b[0mtransformation\u001b[0m\u001b[0;34m.\u001b[0m\u001b[0mapply\u001b[0m\u001b[0;34m(\u001b[0m\u001b[0mtransformed_model\u001b[0m\u001b[0;34m)\u001b[0m\u001b[0;34m\u001b[0m\u001b[0;34m\u001b[0m\u001b[0m\n\u001b[0m\u001b[1;32m    141\u001b[0m         \u001b[0;32mif\u001b[0m \u001b[0mcleanup\u001b[0m\u001b[0;34m:\u001b[0m\u001b[0;34m\u001b[0m\u001b[0;34m\u001b[0m\u001b[0m\n\u001b[1;32m    142\u001b[0m             \u001b[0mtransformed_model\u001b[0m\u001b[0;34m.\u001b[0m\u001b[0mcleanup\u001b[0m\u001b[0;34m(\u001b[0m\u001b[0;34m)\u001b[0m\u001b[0;34m\u001b[0m\u001b[0;34m\u001b[0m\u001b[0m\n",
      "\u001b[0;32m/workspace/qonnx/src/qonnx/transformation/batchnorm_to_affine.py\u001b[0m in \u001b[0;36mapply\u001b[0;34m(self, model)\u001b[0m\n\u001b[1;32m     71\u001b[0m                 \u001b[0mdata_shape\u001b[0m \u001b[0;34m=\u001b[0m \u001b[0mmodel\u001b[0m\u001b[0;34m.\u001b[0m\u001b[0mget_tensor_shape\u001b[0m\u001b[0;34m(\u001b[0m\u001b[0mbn_input\u001b[0m\u001b[0;34m)\u001b[0m\u001b[0;34m\u001b[0m\u001b[0;34m\u001b[0m\u001b[0m\n\u001b[1;32m     72\u001b[0m                 \u001b[0;32massert\u001b[0m \u001b[0mA\u001b[0m\u001b[0;34m.\u001b[0m\u001b[0mndim\u001b[0m \u001b[0;34m==\u001b[0m \u001b[0mB\u001b[0m\u001b[0;34m.\u001b[0m\u001b[0mndim\u001b[0m\u001b[0;34m,\u001b[0m \u001b[0;34m\"Unexpected mul/add dims in BatchNormToAffine\"\u001b[0m\u001b[0;34m\u001b[0m\u001b[0;34m\u001b[0m\u001b[0m\n\u001b[0;32m---> 73\u001b[0;31m                 \u001b[0;32massert\u001b[0m \u001b[0mlen\u001b[0m\u001b[0;34m(\u001b[0m\u001b[0mdata_shape\u001b[0m\u001b[0;34m)\u001b[0m \u001b[0;34m>=\u001b[0m \u001b[0mA\u001b[0m\u001b[0;34m.\u001b[0m\u001b[0mndim\u001b[0m\u001b[0;34m,\u001b[0m \u001b[0;34m\"Unexpected number of dims found in BatchNormToAffine\"\u001b[0m\u001b[0;34m\u001b[0m\u001b[0;34m\u001b[0m\u001b[0m\n\u001b[0m\u001b[1;32m     74\u001b[0m                 \u001b[0;31m# reshape the mul/add constants to match the data shape/dims\u001b[0m\u001b[0;34m\u001b[0m\u001b[0;34m\u001b[0m\u001b[0;34m\u001b[0m\u001b[0m\n\u001b[1;32m     75\u001b[0m                 \u001b[0;31m# by adding (1,) dimensions to the right\u001b[0m\u001b[0;34m\u001b[0m\u001b[0;34m\u001b[0m\u001b[0;34m\u001b[0m\u001b[0m\n",
      "\u001b[0;31mTypeError\u001b[0m: object of type 'NoneType' has no len()"
     ]
    }
   ],
   "source": [
    "model = ModelWrapper(\"tinyyolo-20210831.onnx\")\n",
    "model.transform(BatchNormToAffine())"
   ]
  },
  {
   "cell_type": "code",
   "execution_count": 102,
   "id": "ac9bcdb0",
   "metadata": {
    "scrolled": true
   },
   "outputs": [
    {
     "name": "stdout",
     "output_type": "stream",
     "text": [
      "Building dataflow accelerator from tinyyolo-20210831.onnx\n",
      "Intermediate outputs will be generated in /workspace/results\n",
      "Final outputs will be generated in build-tinyyolo-20210831\n",
      "Build log is at build-tinyyolo-20210831/build_dataflow.log\n",
      "Running step: step_qonnx_to_finn [1/17]\n",
      "Running step: step_tidy_up [2/17]\n"
     ]
    },
    {
     "name": "stderr",
     "output_type": "stream",
     "text": [
      "Traceback (most recent call last):\n",
      "  File \"/workspace/finn/src/finn/builder/build_dataflow.py\", line 166, in build_dataflow_cfg\n",
      "    model = transform_step(model, cfg)\n",
      "  File \"/workspace/finn/src/finn/builder/build_dataflow_steps.py\", line 243, in step_tidy_up\n",
      "    model = model.transform(FoldConstants())\n",
      "  File \"/workspace/qonnx/src/qonnx/core/modelwrapper.py\", line 140, in transform\n",
      "    (transformed_model, model_was_changed) = transformation.apply(transformed_model)\n",
      "  File \"/workspace/qonnx/src/qonnx/transformation/fold_constants.py\", line 59, in apply\n",
      "    oxe.execute_node(n, execution_context, graph)\n",
      "  File \"/workspace/qonnx/src/qonnx/core/onnx_exec.py\", line 73, in execute_node\n",
      "    sess = rt.InferenceSession(node_model.SerializeToString())\n",
      "  File \"/home/pgeel/.local/lib/python3.8/site-packages/onnxruntime/capi/onnxruntime_inference_collection.py\", line 335, in __init__\n",
      "    self._create_inference_session(providers, provider_options, disabled_optimizers)\n",
      "  File \"/home/pgeel/.local/lib/python3.8/site-packages/onnxruntime/capi/onnxruntime_inference_collection.py\", line 372, in _create_inference_session\n",
      "    sess = C.InferenceSession(session_options, self._model_bytes, False, self._read_config_from_model)\n",
      "onnxruntime.capi.onnxruntime_pybind11_state.InvalidGraph: [ONNXRuntimeError] : 10 : INVALID_GRAPH : This is an invalid model. In Node, (\"Slice_451\", Slice, \"\", -1) : (\"735\": tensor(int64),\"737\": tensor(int64),\"738\": tensor(int64),\"736\": tensor(int64),) -> (\"739\": tensor(int64),) , Error Node (Slice_451) has input size 4 not in range [min=1, max=1].\n"
     ]
    },
    {
     "name": "stdout",
     "output_type": "stream",
     "text": [
      "> \u001b[0;32m/home/pgeel/.local/lib/python3.8/site-packages/onnxruntime/capi/onnxruntime_inference_collection.py\u001b[0m(372)\u001b[0;36m_create_inference_session\u001b[0;34m()\u001b[0m\n",
      "\u001b[0;32m    370 \u001b[0;31m            \u001b[0msess\u001b[0m \u001b[0;34m=\u001b[0m \u001b[0mC\u001b[0m\u001b[0;34m.\u001b[0m\u001b[0mInferenceSession\u001b[0m\u001b[0;34m(\u001b[0m\u001b[0msession_options\u001b[0m\u001b[0;34m,\u001b[0m \u001b[0mself\u001b[0m\u001b[0;34m.\u001b[0m\u001b[0m_model_path\u001b[0m\u001b[0;34m,\u001b[0m \u001b[0;32mTrue\u001b[0m\u001b[0;34m,\u001b[0m \u001b[0mself\u001b[0m\u001b[0;34m.\u001b[0m\u001b[0m_read_config_from_model\u001b[0m\u001b[0;34m)\u001b[0m\u001b[0;34m\u001b[0m\u001b[0;34m\u001b[0m\u001b[0m\n",
      "\u001b[0m\u001b[0;32m    371 \u001b[0;31m        \u001b[0;32melse\u001b[0m\u001b[0;34m:\u001b[0m\u001b[0;34m\u001b[0m\u001b[0;34m\u001b[0m\u001b[0m\n",
      "\u001b[0m\u001b[0;32m--> 372 \u001b[0;31m            \u001b[0msess\u001b[0m \u001b[0;34m=\u001b[0m \u001b[0mC\u001b[0m\u001b[0;34m.\u001b[0m\u001b[0mInferenceSession\u001b[0m\u001b[0;34m(\u001b[0m\u001b[0msession_options\u001b[0m\u001b[0;34m,\u001b[0m \u001b[0mself\u001b[0m\u001b[0;34m.\u001b[0m\u001b[0m_model_bytes\u001b[0m\u001b[0;34m,\u001b[0m \u001b[0;32mFalse\u001b[0m\u001b[0;34m,\u001b[0m \u001b[0mself\u001b[0m\u001b[0;34m.\u001b[0m\u001b[0m_read_config_from_model\u001b[0m\u001b[0;34m)\u001b[0m\u001b[0;34m\u001b[0m\u001b[0;34m\u001b[0m\u001b[0m\n",
      "\u001b[0m\u001b[0;32m    373 \u001b[0;31m\u001b[0;34m\u001b[0m\u001b[0m\n",
      "\u001b[0m\u001b[0;32m    374 \u001b[0;31m        \u001b[0;32mif\u001b[0m \u001b[0mdisabled_optimizers\u001b[0m \u001b[0;32mis\u001b[0m \u001b[0;32mNone\u001b[0m\u001b[0;34m:\u001b[0m\u001b[0;34m\u001b[0m\u001b[0;34m\u001b[0m\u001b[0m\n",
      "\u001b[0m\n",
      "--KeyboardInterrupt--\n",
      "\n",
      "KeyboardInterrupt: Interrupted by user\n",
      "Build failed\n"
     ]
    },
    {
     "data": {
      "text/plain": [
       "-1"
      ]
     },
     "execution_count": 102,
     "metadata": {},
     "output_type": "execute_result"
    }
   ],
   "source": [
    "\n",
    "import finn.builder.build_dataflow as build\n",
    "from qonnx.core.modelwrapper import ModelWrapper\n",
    "import finn.builder.build_dataflow_config as build_cfg\n",
    "from custom_steps import (\n",
    "    custom_step_tinyyolo_preprocess,\n",
    "    custom_step_tinyyolo_streamline,\n",
    "    custom_step_tinyyolo_lower,\n",
    "    custom_step_tinyyolo_convert_to_hls,\n",
    "    custom_step_partition\n",
    ")\n",
    "\n",
    "model_name = \"tinyyolo-20210831\"\n",
    "# model_name = \"tinyyolo-20210831_updated\"\n",
    "model_filename = \"%s.onnx\" % model_name\n",
    "\n",
    "\n",
    "custom_steps = [\n",
    "    \"step_tidy_up\",\n",
    "    custom_step_tinyyolo_preprocess,\n",
    "    custom_step_tinyyolo_streamline,\n",
    "    custom_step_tinyyolo_lower,\n",
    "    custom_step_tinyyolo_convert_to_hls,\n",
    "    custom_step_partition,\n",
    "    # \"step_create_dataflow_partition\",\n",
    "    \"step_target_fps_parallelization\",\n",
    "    \"step_apply_folding_config\",\n",
    "    \"step_generate_estimate_reports\",\n",
    "    \"step_hls_codegen\",\n",
    "    \"step_hls_ipgen\",\n",
    "    \"step_set_fifo_depths\",\n",
    "    \"step_create_stitched_ip\",\n",
    "    \"step_measure_rtlsim_performance\",\n",
    "    \"step_synthesize_bitfile\",\n",
    "    \"step_make_pynq_driver\",\n",
    "    \"step_deployment_package\"\n",
    "]\n",
    "\n",
    "cfg = build_cfg.DataflowBuildConfig(\n",
    "#     steps = custom_steps,\n",
    "    output_dir=\"build-\"+model_name, \n",
    "    synth_clk_period_ns = 10.0, \n",
    "    auto_fifo_depths = False,\n",
    "    folding_config_file=\"tinyyolo-config-v0.2.json\",\n",
    "    board = \"KV260_SOM\",\n",
    "    stitched_ip_gen_dcp=True,\n",
    "    shell_flow_type=build_cfg.ShellFlowType.VIVADO_ZYNQ,\n",
    "    generate_outputs = [\n",
    "        build_cfg.DataflowOutputType.ESTIMATE_REPORTS,\n",
    "        build_cfg.DataflowOutputType.STITCHED_IP,\n",
    "        build_cfg.DataflowOutputType.RTLSIM_PERFORMANCE,\n",
    "        build_cfg.DataflowOutputType.BITFILE,\n",
    "        build_cfg.DataflowOutputType.PYNQ_DRIVER,\n",
    "        build_cfg.DataflowOutputType.DEPLOYMENT_PACKAGE,\n",
    "    ],\n",
    "    # verification options\n",
    "    # verify_steps = [\n",
    "    #     build_cfg.VerificationStepType.STITCHED_IP_RTLSIM,\n",
    "    # ],\n",
    "    # verify_input_npy=\"sample_io/test_image_uint8_nhwc.npy\",\n",
    "    # verify_expected_output_npy=\"sample_io/test_pred.npy\",\n",
    "    # verify_save_full_context=True,\n",
    "    # verify_save_rtlsim_waveforms=True,\n",
    ")\n",
    "\n",
    "build.build_dataflow_cfg(model_filename, cfg)\n",
    "\n"
   ]
  }
 ],
 "metadata": {
  "kernelspec": {
   "display_name": "Python 3",
   "language": "python",
   "name": "python3"
  },
  "language_info": {
   "codemirror_mode": {
    "name": "ipython",
    "version": 3
   },
   "file_extension": ".py",
   "mimetype": "text/x-python",
   "name": "python",
   "nbconvert_exporter": "python",
   "pygments_lexer": "ipython3",
   "version": "3.8.5"
  },
  "vscode": {
   "interpreter": {
    "hash": "c0480a40de60fe0b4be044949303dbe98ce3610184aeb132e77bccbcbbb8df2a"
   }
  }
 },
 "nbformat": 4,
 "nbformat_minor": 5
}
