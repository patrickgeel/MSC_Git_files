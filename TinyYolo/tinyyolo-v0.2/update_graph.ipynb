{
 "cells": [
  {
   "cell_type": "code",
   "execution_count": 8,
   "id": "3a944c88",
   "metadata": {
    "scrolled": false
   },
   "outputs": [
    {
     "name": "stderr",
     "output_type": "stream",
     "text": [
      "/workspace/qonnx/src/qonnx/core/modelwrapper.py:93: UserWarning: Some old-style domain attributes were automatically converted to new-style,\n",
      "                i.e. domain=finn to domain=qonnx.custom_op.<general|fpgadataflow|...>\n",
      "  warnings.warn(\n"
     ]
    }
   ],
   "source": [
    "from qonnx.core.modelwrapper import ModelWrapper\n",
    "from qonnx.transformation.infer_shapes import InferShapes\n",
    "from onnx.helper import make_graph, make_model, set_model_props\n",
    "from onnx import helper\n",
    "import onnx\n",
    "import numpy as np\n",
    "\n",
    "\n",
    "model = ModelWrapper('tinyyolo-20210831.onnx')\n",
    "\n",
    "def get_init(model, tensor_name):\n",
    "    for init in model.graph.initializer:\n",
    "        if tensor_name == init.name:\n",
    "            init_val = init.raw_data\n",
    "            break\n",
    "    return np.frombuffer(init_val, dtype=np.int64)\n",
    "    \n",
    "def add_attr(model, node):\n",
    "    for ind,n in enumerate(model.graph.node):\n",
    "        new_attr = []\n",
    "        if node in n.name:            \n",
    "            new_attr.append(helper.make_attribute(\"starts\", get_init(model,n.input[1])))\n",
    "            new_attr.append(helper.make_attribute(\"ends\", get_init(model,n.input[2])))\n",
    "            new_attr.append(helper.make_attribute(\"axes\", get_init(model,n.input[3])))\n",
    "            if len(n.input[1:]) >3:\n",
    "                new_attr.append(helper.make_attribute(\"steps\", get_init(model,n.input[4])))\n",
    "            for na in new_attr:\n",
    "                n.attribute.append(na)\n",
    "    return model\n",
    "\n",
    "def del_nodes(model, node):\n",
    "    select_nodes = []\n",
    "    for n in model.graph.node:\n",
    "        if node in n.name:\n",
    "            select_nodes.append(n)\n",
    "            del n.input[1:]\n",
    "    return model\n",
    "\n",
    "model = add_attr(model, \"Slice\")\n",
    "model = del_nodes(model, \"Slice\")\n",
    "\n",
    "model.save(\"tinyyolo-20210831_updated.onnx\")\n"
   ]
  },
  {
   "cell_type": "code",
   "execution_count": 2,
   "id": "b28e15f3",
   "metadata": {},
   "outputs": [
    {
     "name": "stdout",
     "output_type": "stream",
     "text": [
      "Building dataflow accelerator from tinyyolo-20210831_updated.onnx\n",
      "Intermediate outputs will be generated in /workspace/results\n",
      "Final outputs will be generated in build-tinyyolo-20210831_updated\n",
      "Build log is at build-tinyyolo-20210831_updated/build_dataflow.log\n",
      "Running step: step_qonnx_to_finn [1/17]\n",
      "Running step: step_tidy_up [2/17]\n",
      "Traceback (most recent call last):\n",
      "  File \"/workspace/finn/src/finn/builder/build_dataflow.py\", line 166, in build_dataflow_cfg\n",
      "    model = transform_step(model, cfg)\n",
      "  File \"/workspace/finn/src/finn/builder/build_dataflow_steps.py\", line 243, in step_tidy_up\n",
      "    model = model.transform(FoldConstants())\n",
      "  File \"/workspace/qonnx/src/qonnx/core/modelwrapper.py\", line 140, in transform\n",
      "    (transformed_model, model_was_changed) = transformation.apply(transformed_model)\n",
      "  File \"/workspace/qonnx/src/qonnx/transformation/fold_constants.py\", line 59, in apply\n",
      "    oxe.execute_node(n, execution_context, graph)\n",
      "  File \"/workspace/qonnx/src/qonnx/core/onnx_exec.py\", line 73, in execute_node\n",
      "    sess = rt.InferenceSession(node_model.SerializeToString())\n",
      "  File \"/home/pgeel/.local/lib/python3.8/site-packages/onnxruntime/capi/onnxruntime_inference_collection.py\", line 335, in __init__\n",
      "    self._create_inference_session(providers, provider_options, disabled_optimizers)\n",
      "  File \"/home/pgeel/.local/lib/python3.8/site-packages/onnxruntime/capi/onnxruntime_inference_collection.py\", line 372, in _create_inference_session\n",
      "    sess = C.InferenceSession(session_options, self._model_bytes, False, self._read_config_from_model)\n",
      "onnxruntime.capi.onnxruntime_pybind11_state.InvalidGraph: [ONNXRuntimeError] : 10 : INVALID_GRAPH : This is an invalid model. In Node, (\"Slice_451\", Slice, \"\", -1) : (\"735\": tensor(int64),) -> (\"739\",) , Error Mismatched attribute type in 'Slice_451 : axes'\n",
      "> /home/pgeel/.local/lib/python3.8/site-packages/onnxruntime/capi/onnxruntime_inference_collection.py(372)_create_inference_session()\n",
      "-> sess = C.InferenceSession(session_options, self._model_bytes, False, self._read_config_from_model)\n",
      "(Pdb) \n",
      "--KeyboardInterrupt--\n",
      "(Pdb) "
     ]
    }
   ],
   "source": [
    "! python build.py"
   ]
  },
  {
   "cell_type": "code",
   "execution_count": null,
   "id": "fc557de4",
   "metadata": {},
   "outputs": [],
   "source": [
    "\n",
    "def overwrite_opset(model, new_opset):\n",
    "    \"\"\"\n",
    "    Overwrites the main opset in an ONNX file.\n",
    "    Does not change any node definition.\n",
    "    :param model: ONNX model\n",
    "    :param new_opset: new opset\n",
    "    :return: ONNX model\n",
    "    \"\"\"\n",
    "    graph = make_graph(\n",
    "        model.graph.node, model.graph.name, model.graph.input,\n",
    "        model.graph.output, model.graph.initializer,\n",
    "        sparse_initializer=model.graph.sparse_initializer)\n",
    "    onnx_model = make_model(graph, functions=model.functions)\n",
    "    onnx_model.ir_version = model.ir_version\n",
    "    onnx_model.producer_name = model.producer_name\n",
    "    onnx_model.producer_version = model.producer_version\n",
    "    onnx_model.domain = model.domain\n",
    "    onnx_model.model_version = model.model_version\n",
    "    onnx_model.doc_string = model.doc_string\n",
    "    if len(model.metadata_props) > 0:  # pragma: no cover\n",
    "        values = {p.key: p.value for p in model.metadata_props}\n",
    "        set_model_props(onnx_model, values)\n",
    "\n",
    "    del onnx_model.opset_import[:]  # pylint: disable=E1101\n",
    "    for oimp in model.opset_import:\n",
    "        op_set = onnx_model.opset_import.add()  # pylint: disable=E1101\n",
    "        op_set.domain = oimp.domain\n",
    "        op_set.version = new_opset if oimp.domain == '' else oimp.version\n",
    "    return onnx_model"
   ]
  }
 ],
 "metadata": {
  "kernelspec": {
   "display_name": "Python 3",
   "language": "python",
   "name": "python3"
  },
  "language_info": {
   "codemirror_mode": {
    "name": "ipython",
    "version": 3
   },
   "file_extension": ".py",
   "mimetype": "text/x-python",
   "name": "python",
   "nbconvert_exporter": "python",
   "pygments_lexer": "ipython3",
   "version": "3.8.5"
  },
  "vscode": {
   "interpreter": {
    "hash": "c0480a40de60fe0b4be044949303dbe98ce3610184aeb132e77bccbcbbb8df2a"
   }
  }
 },
 "nbformat": 4,
 "nbformat_minor": 5
}
