{
 "cells": [
  {
   "cell_type": "code",
   "execution_count": 33,
   "id": "5d4be9a8",
   "metadata": {},
   "outputs": [],
   "source": [
    "from qonnx.core.modelwrapper import ModelWrapper\n",
    "\n",
    "m1 = ModelWrapper(\"tinyyolo-20210831.onnx\")\n",
    "m2 = ModelWrapper(\"tinyyolo-20210831_updated.onnx\")\n",
    "def get_bn(model,op_type):\n",
    "    bn_dict = {}\n",
    "    bn_keys = []\n",
    "    for bn in model.graph.node:\n",
    "        if bn.op_type == op_type:\n",
    "            bn_dict[bn.name] = bn\n",
    "            bn_keys.append(bn.name)\n",
    "    return (bn_dict,bn_keys)"
   ]
  },
  {
   "cell_type": "code",
   "execution_count": 60,
   "id": "7239bb05",
   "metadata": {},
   "outputs": [],
   "source": [
    "import numpy as np\n",
    "optype = []\n",
    "for n in m1.graph.node:\n",
    "    optype.append(n.op_type)\n",
    "ops = list(np.unique(np.array(optype)))"
   ]
  },
  {
   "cell_type": "code",
   "execution_count": 65,
   "id": "aa102e6f",
   "metadata": {},
   "outputs": [
    {
     "name": "stdout",
     "output_type": "stream",
     "text": [
      "Node: Slice_395 not equal \n",
      "Node: Slice_406 not equal \n",
      "Node: Slice_420 not equal \n",
      "Node: Slice_451 not equal \n",
      "Node: Slice_501 not equal \n",
      "Node: Slice_512 not equal \n",
      "Node: Slice_526 not equal \n"
     ]
    }
   ],
   "source": [
    "for op in ops:\n",
    "    d1,k1 = get_bn(m1,op)\n",
    "    d2,k2 = get_bn(m2,op)\n",
    "    if len(k1) == len(k2):\n",
    "        for k in d1:\n",
    "            if d2[k] != d1[k]:\n",
    "                print(\"Node: %s not equal \" %k)"
   ]
  }
 ],
 "metadata": {
  "kernelspec": {
   "display_name": "Python 3",
   "language": "python",
   "name": "python3"
  },
  "language_info": {
   "codemirror_mode": {
    "name": "ipython",
    "version": 3
   },
   "file_extension": ".py",
   "mimetype": "text/x-python",
   "name": "python",
   "nbconvert_exporter": "python",
   "pygments_lexer": "ipython3",
   "version": "3.8.5"
  }
 },
 "nbformat": 4,
 "nbformat_minor": 5
}
