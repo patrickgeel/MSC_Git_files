{
 "cells": [
  {
   "cell_type": "code",
   "execution_count": 3,
   "id": "b50002c1",
   "metadata": {
    "scrolled": false
   },
   "outputs": [],
   "source": [
    "import finn.builder.build_dataflow as build\n",
    "import finn.builder.build_dataflow_config as build_cfg\n",
    "import os\n",
    "from warnings import warn\n",
    "import shutil\n",
    "\n",
    "model_file = \"models/cnv-w2a2.onnx\"\n",
    "board = \"KV260_SOM\"\n",
    "additional = \"\"\n",
    "if additional != \"\":\n",
    "    final_output_dir = \"build-{}/{}-{}\".format(board,model_file.split('.')[0].split('/')[1],additional)\n",
    "    os.environ[\"FINN_BUILD_DIR\"] = \"/workspace/results/%s/%s-%s\" %(board,model_file.split('.')[0].split('/')[1],additional)\n",
    "    inter_build_dir = os.environ[\"FINN_BUILD_DIR\"]\n",
    "else:\n",
    "    final_output_dir = \"build-{}/{}\".format(board,model_file.split('.')[0].split('/')[1])\n",
    "\n",
    "    os.environ[\"FINN_BUILD_DIR\"] = \"/workspace/results/%s/%s\" %(board,model_file.split('.')[0].split('/')[1])\n",
    "    inter_build_dir = os.environ[\"FINN_BUILD_DIR\"]\n",
    "\n",
    "if os.path.exists(inter_build_dir):\n",
    "    shutil.rmtree(inter_build_dir)\n",
    "    print(\"Previous intermeditate build deleted!\")\n",
    "\n",
    "#Delete previous run results if exist\n",
    "if os.path.exists(final_output_dir):\n",
    "    shutil.rmtree(final_output_dir)\n",
    "    print(\"Previous run results deleted!\")    \n",
    "\n",
    "cfg = build.DataflowBuildConfig(\n",
    "    output_dir          = final_output_dir,\n",
    "    mvau_wwidth_max     = 80,\n",
    "    target_fps          = 100,\n",
    "    synth_clk_period_ns = 5.0,\n",
    "    board               = board,\n",
    "    folding_config_file = 'folding_config/KV260_fold_config.json',    \n",
    "    shell_flow_type     = build_cfg.ShellFlowType.VIVADO_ZYNQ,\n",
    "    generate_outputs=[\n",
    "        build_cfg.DataflowOutputType.BITFILE,\n",
    "        build_cfg.DataflowOutputType.PYNQ_DRIVER,\n",
    "        build_cfg.DataflowOutputType.DEPLOYMENT_PACKAGE,\n",
    "    ]\n",
    ")"
   ]
  },
  {
   "cell_type": "code",
   "execution_count": 4,
   "id": "eb640ebe",
   "metadata": {
    "scrolled": true
   },
   "outputs": [
    {
     "name": "stdout",
     "output_type": "stream",
     "text": [
      "Building dataflow accelerator from models/cnv-w2a2.onnx\n",
      "Intermediate outputs will be generated in /workspace/results/KV260_SOM/cnv-w2a2\n",
      "Final outputs will be generated in build-KV260_SOM/cnv-w2a2\n",
      "Build log is at build-KV260_SOM/cnv-w2a2/build_dataflow.log\n",
      "Running step: step_qonnx_to_finn [1/17]\n",
      "Running step: step_tidy_up [2/17]\n"
     ]
    },
    {
     "name": "stderr",
     "output_type": "stream",
     "text": [
      "/workspace/qonnx/src/qonnx/core/modelwrapper.py:93: UserWarning: Some old-style domain attributes were automatically converted to new-style,\n",
      "                i.e. domain=finn to domain=qonnx.custom_op.<general|fpgadataflow|...>\n",
      "  warnings.warn(\n"
     ]
    },
    {
     "name": "stdout",
     "output_type": "stream",
     "text": [
      "Running step: step_streamline [3/17]\n",
      "Running step: step_convert_to_hls [4/17]\n",
      "Running step: step_create_dataflow_partition [5/17]\n",
      "Running step: step_target_fps_parallelization [6/17]\n",
      "Running step: step_apply_folding_config [7/17]\n",
      "Running step: step_generate_estimate_reports [8/17]\n",
      "Running step: step_hls_codegen [9/17]\n",
      "Running step: step_hls_ipgen [10/17]\n",
      "Running step: step_set_fifo_depths [11/17]\n",
      "Running step: step_create_stitched_ip [12/17]\n",
      "Running step: step_measure_rtlsim_performance [13/17]\n",
      "Running step: step_out_of_context_synthesis [14/17]\n",
      "Running step: step_synthesize_bitfile [15/17]\n",
      "Running step: step_make_pynq_driver [16/17]\n",
      "Running step: step_deployment_package [17/17]\n",
      "Completed successfully\n"
     ]
    },
    {
     "data": {
      "text/plain": [
       "0"
      ]
     },
     "execution_count": 4,
     "metadata": {},
     "output_type": "execute_result"
    }
   ],
   "source": [
    "build.build_dataflow_cfg(model_file, cfg)"
   ]
  },
  {
   "cell_type": "code",
   "execution_count": null,
   "id": "25b4d96f",
   "metadata": {},
   "outputs": [],
   "source": []
  }
 ],
 "metadata": {
  "kernelspec": {
   "display_name": "Python 3",
   "language": "python",
   "name": "python3"
  },
  "language_info": {
   "codemirror_mode": {
    "name": "ipython",
    "version": 3
   },
   "file_extension": ".py",
   "mimetype": "text/x-python",
   "name": "python",
   "nbconvert_exporter": "python",
   "pygments_lexer": "ipython3",
   "version": "3.8.5"
  }
 },
 "nbformat": 4,
 "nbformat_minor": 5
}
