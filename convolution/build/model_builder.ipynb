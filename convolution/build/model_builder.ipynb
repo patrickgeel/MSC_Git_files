{
 "cells": [
  {
   "cell_type": "code",
   "execution_count": 1,
   "metadata": {},
   "outputs": [
    {
     "name": "stdout",
     "output_type": "stream",
     "text": [
      "ONNX version: 1.11.0\n"
     ]
    }
   ],
   "source": [
    "import onnx\n",
    "from onnx.shape_inference import infer_shapes\n",
    "from onnx import helper, TensorProto\n",
    "import os\n",
    "from qonnx.transformation.infer_datatypes import InferDataTypes\n",
    "from qonnx.transformation.infer_shapes import InferShapes\n",
    "from qonnx.core.datatype import DataType\n",
    "from qonnx.custom_op.general.im2col import compute_conv_output_dim\n",
    "from qonnx.core.modelwrapper import ModelWrapper\n",
    "from qonnx.util.basic import gen_finn_dt_tensor\n",
    "\n",
    "print(\"ONNX version:\", onnx.__version__)\n",
    "\n",
    "if not os.path.exists(\"onnx_models\"):\n",
    "    os.mkdir(\"onnx_models\")"
   ]
  },
  {
   "cell_type": "code",
   "execution_count": 3,
   "metadata": {},
   "outputs": [],
   "source": [
    "kernel_size, stride, pad = 1,2,0\n",
    "\n",
    "depthwise = False\n",
    "in_feature_dim = 7\n",
    "in_chn = 16\n",
    "\n",
    "idt = DataType[\"UINT8\"]\n",
    "\n",
    "if depthwise is True:\n",
    "    group = out_chn = in_chn\n",
    "    conv_param_shape = [out_chn, 1, kernel_size, kernel_size]\n",
    "else:\n",
    "    group = 1\n",
    "    out_chn = 20\n",
    "    conv_param_shape = [out_chn, in_chn, kernel_size, kernel_size]\n",
    "\n",
    "total_pad = 2 * pad\n",
    "out_feature_dim = compute_conv_output_dim(\n",
    "    in_feature_dim, kernel_size, stride, total_pad\n",
    ")\n",
    "\n",
    "input_shape = [1, in_chn, in_feature_dim, in_feature_dim]\n",
    "output_shape = [1, out_chn, out_feature_dim, out_feature_dim]\n",
    "\n",
    "conv_weight_dt = DataType[\"UINT4\"]\n",
    "\n",
    "conv_config = {}\n",
    "conv_config[\"dilations\"] = [1, 1]\n",
    "conv_config[\"group\"] = group\n",
    "conv_config[\"kernel_shape\"] = [kernel_size, kernel_size]\n",
    "conv_config[\"pads\"] = [pad, pad, pad, pad]\n",
    "conv_config[\"strides\"] = [stride, stride]\n",
    "\n",
    "top_in = helper.make_tensor_value_info(\"top_in\", TensorProto.FLOAT, input_shape)\n",
    "top_out = helper.make_tensor_value_info(\"top_out\", TensorProto.FLOAT, output_shape)\n",
    "value_info = [\n",
    "    helper.make_tensor_value_info(\"p1\", TensorProto.FLOAT, conv_param_shape)\n",
    "]\n",
    "\n",
    "modelproto = helper.make_model(\n",
    "    helper.make_graph(\n",
    "        name=\"conv_test\",\n",
    "        inputs=[top_in],\n",
    "        outputs=[top_out],\n",
    "        value_info=value_info,\n",
    "        nodes=[\n",
    "            helper.make_node(\"Conv\", [\"top_in\", \"p1\"], [\"top_out\"], **conv_config)\n",
    "        ],\n",
    "    )\n",
    ")\n",
    "\n",
    "model = ModelWrapper(modelproto)\n",
    "model.set_tensor_datatype(\"top_in\", idt)\n",
    "model.set_tensor_datatype(\"top_out\", idt)\n",
    "model.set_tensor_datatype(\"p1\", conv_weight_dt)\n",
    "model.set_initializer(\"p1\", gen_finn_dt_tensor(conv_weight_dt, conv_param_shape))\n",
    "\n",
    "model.save(\"onnx_models/conv_model.onnx\")"
   ]
  },
  {
   "cell_type": "code",
   "execution_count": 4,
   "metadata": {},
   "outputs": [],
   "source": [
    "import finn.builder.build_dataflow as build\n",
    "import finn.builder.build_dataflow_config as build_cfg\n",
    "import os\n",
    "import shutil\n",
    "\n",
    "model_file = \"onnx_models/conv_model.onnx\"\n",
    "\n",
    "final_output_dir = \"../validate/conv_output\"\n",
    "\n",
    "#Delete previous run results if exist\n",
    "if os.path.exists(final_output_dir):\n",
    "    shutil.rmtree(final_output_dir)\n",
    "    print(\"Previous run results deleted!\")\n",
    "\n",
    "cfg = build.DataflowBuildConfig(\n",
    "    output_dir          = final_output_dir,\n",
    "    mvau_wwidth_max     = 80,\n",
    "    target_fps          = 1000000,\n",
    "    synth_clk_period_ns = 10.0,\n",
    "    board               = \"KV260_SOM\",\n",
    "    shell_flow_type     = build_cfg.ShellFlowType.VIVADO_ZYNQ,\n",
    "    generate_outputs=[\n",
    "        build_cfg.DataflowOutputType.BITFILE,\n",
    "        build_cfg.DataflowOutputType.PYNQ_DRIVER,\n",
    "        build_cfg.DataflowOutputType.DEPLOYMENT_PACKAGE,\n",
    "    ]\n",
    ")\n",
    "os.environ[\"FINN_BUILD_DIR\"] = '/workspace/results/single_conv_model/'"
   ]
  },
  {
   "cell_type": "code",
   "execution_count": null,
   "metadata": {},
   "outputs": [
    {
     "name": "stdout",
     "output_type": "stream",
     "text": [
      "Building dataflow accelerator from onnx_models/conv_model.onnx\n",
      "Intermediate outputs will be generated in /workspace/results/single_conv_model/\n",
      "Final outputs will be generated in ../validate/conv_output\n",
      "Build log is at ../validate/conv_output/build_dataflow.log\n",
      "Running step: step_qonnx_to_finn [1/17]\n",
      "Running step: step_tidy_up [2/17]\n",
      "Running step: step_streamline [3/17]\n",
      "Running step: step_convert_to_hls [4/17]\n",
      "Running step: step_create_dataflow_partition [5/17]\n",
      "Running step: step_target_fps_parallelization [6/17]\n",
      "Running step: step_apply_folding_config [7/17]\n",
      "Running step: step_generate_estimate_reports [8/17]\n",
      "Running step: step_hls_codegen [9/17]\n",
      "Running step: step_hls_ipgen [10/17]\n",
      "Running step: step_set_fifo_depths [11/17]\n",
      "Running step: step_create_stitched_ip [12/17]\n",
      "Running step: step_measure_rtlsim_performance [13/17]\n",
      "Running step: step_out_of_context_synthesis [14/17]\n",
      "Running step: step_synthesize_bitfile [15/17]\n"
     ]
    }
   ],
   "source": [
    "%%time\n",
    "build.build_dataflow_cfg(model_file, cfg)"
   ]
  }
 ],
 "metadata": {
  "kernelspec": {
   "display_name": "Python 3",
   "language": "python",
   "name": "python3"
  },
  "language_info": {
   "codemirror_mode": {
    "name": "ipython",
    "version": 3
   },
   "file_extension": ".py",
   "mimetype": "text/x-python",
   "name": "python",
   "nbconvert_exporter": "python",
   "pygments_lexer": "ipython3",
   "version": "3.8.5"
  },
  "vscode": {
   "interpreter": {
    "hash": "c0480a40de60fe0b4be044949303dbe98ce3610184aeb132e77bccbcbbb8df2a"
   }
  }
 },
 "nbformat": 4,
 "nbformat_minor": 2
}
