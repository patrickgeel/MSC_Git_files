{
 "cells": [
  {
   "cell_type": "code",
   "execution_count": 77,
   "metadata": {},
   "outputs": [],
   "source": [
    "import json\n",
    "import os\n",
    "import shutil\n",
    "\n",
    "my_dicts,run_names = [], []\n",
    "for file in os.listdir():\n",
    "    if \"nw_metrics\" in file and '.txt' in file:\n",
    "        lines = []\n",
    "        with open(file,'r') as f:\n",
    "            for line in f.readlines():\n",
    "                line = line.replace('\\'','\\\"')\n",
    "                lines.append(line)\n",
    "        new_file_name = file.replace('.txt','.json')\n",
    "        with open(new_file_name,'w') as f:\n",
    "            f.writelines(lines)\n",
    "        dict = json.load(open(new_file_name))\n",
    "        my_dicts.append(dict)        \n",
    "        run_names.append(new_file_name.split(\".json\")[0])"
   ]
  },
  {
   "cell_type": "code",
   "execution_count": 82,
   "metadata": {},
   "outputs": [],
   "source": [
    "import pandas as pd\n",
    "df = pd.concat([pd.Series(d) for d in my_dicts], axis=1).fillna(0).T\n",
    "df.index = run_names\n",
    "df = df.sort_values(\"batch_size\")\n",
    "df[\"Normalized_runtime[ms]\"] = df[\"runtime[ms]\"]/df[\"batch_size\"]\n",
    "df.to_csv(\"Bs_run_metrics_conv.csv\")"
   ]
  },
  {
   "cell_type": "code",
   "execution_count": 96,
   "metadata": {},
   "outputs": [
    {
     "data": {
      "image/png": "[encoded data removed]",
      "text/plain": [
       "<Figure size 432x288 with 1 Axes>"
      ]
     },
     "metadata": {
      "needs_background": "light"
     },
     "output_type": "display_data"
    }
   ],
   "source": [
    "import matplotlib.pyplot as plt\n",
    "x = df['batch_size']\n",
    "y = df['Normalized_runtime[ms]']\n",
    "a = range(len(x))\n",
    "plt.plot(a,y*1000)\n",
    "plt.xticks(a,x)\n",
    "plt.tight_layout()\n",
    "plt.title('Runtime[ms]/Batchsize')\n",
    "plt.ylabel(\"Runtime[ms]\")\n",
    "plt.xlabel(\"Batch size\")\n",
    "plt.tight_layout()\n",
    "plt.savefig(\"Normalized_runtime.png\",facecolor='w')\n",
    "plt.show()"
   ]
  }
 ],
 "metadata": {
  "kernelspec": {
   "display_name": "Python 3.9.2 64-bit",
   "language": "python",
   "name": "python3"
  },
  "language_info": {
   "codemirror_mode": {
    "name": "ipython",
    "version": 3
   },
   "file_extension": ".py",
   "mimetype": "text/x-python",
   "name": "python",
   "nbconvert_exporter": "python",
   "pygments_lexer": "ipython3",
   "version": "3.9.2"
  },
  "orig_nbformat": 4,
  "vscode": {
   "interpreter": {
    "hash": "c0480a40de60fe0b4be044949303dbe98ce3610184aeb132e77bccbcbbb8df2a"
   }
  }
 },
 "nbformat": 4,
 "nbformat_minor": 2
}
