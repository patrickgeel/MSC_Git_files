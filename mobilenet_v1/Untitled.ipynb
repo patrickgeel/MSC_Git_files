{
 "cells": [
  {
   "cell_type": "code",
   "execution_count": 6,
   "id": "ff498730",
   "metadata": {},
   "outputs": [],
   "source": [
    "from finn.util.basic import make_build_dir"
   ]
  },
  {
   "cell_type": "code",
   "execution_count": 1,
   "id": "8006b494",
   "metadata": {
    "scrolled": true
   },
   "outputs": [
    {
     "name": "stdout",
     "output_type": "stream",
     "text": [
      "Traceback (most recent call last):\r\n",
      "  File \"auto_builder.py\", line 4, in <module>\r\n",
      "    from auto_build import bit_build, estimate_report, fits_kv260\r\n",
      "  File \"src/auto_build.py\", line 1, in <module>\r\n",
      "    import finn.builder.build_dataflow as build\r\n",
      "  File \"/workspace/finn/src/finn/builder/build_dataflow.py\", line 39, in <module>\r\n",
      "    from finn.builder.build_dataflow_config import (\r\n",
      "  File \"/workspace/finn/src/finn/builder/build_dataflow_config.py\", line 36, in <module>\r\n",
      "    from finn.transformation.fpgadataflow.vitis_build import VitisOptStrategy\r\n",
      "  File \"/workspace/finn/src/finn/transformation/fpgadataflow/vitis_build.py\", line 42, in <module>\r\n",
      "    from finn.transformation.fpgadataflow.create_dataflow_partition import (\r\n",
      "  File \"/workspace/finn/src/finn/transformation/fpgadataflow/create_dataflow_partition.py\", line 36, in <module>\r\n",
      "    from finn.util.basic import make_build_dir\r\n",
      "ModuleNotFoundError: No module named 'finn.util.basic'\r\n"
     ]
    }
   ],
   "source": [
    "! python auto_builder.py --model_file=\"models/mobilenet_streamline.onnx\" --jumps_per_op=2 --op_type=\"Conv\""
   ]
  }
 ],
 "metadata": {
  "kernelspec": {
   "display_name": "Python 3",
   "language": "python",
   "name": "python3"
  },
  "language_info": {
   "codemirror_mode": {
    "name": "ipython",
    "version": 3
   },
   "file_extension": ".py",
   "mimetype": "text/x-python",
   "name": "python",
   "nbconvert_exporter": "python",
   "pygments_lexer": "ipython3",
   "version": "3.8.5"
  },
  "vscode": {
   "interpreter": {
    "hash": "c0480a40de60fe0b4be044949303dbe98ce3610184aeb132e77bccbcbbb8df2a"
   }
  }
 },
 "nbformat": 4,
 "nbformat_minor": 5
}
