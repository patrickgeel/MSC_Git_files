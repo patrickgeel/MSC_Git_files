{
 "cells": [
  {
   "cell_type": "code",
   "execution_count": 1,
   "id": "ff498730",
   "metadata": {},
   "outputs": [],
   "source": [
    "from finn.util.basic import make_build_dir"
   ]
  },
  {
   "cell_type": "code",
   "execution_count": 3,
   "id": "8006b494",
   "metadata": {
    "scrolled": true
   },
   "outputs": [
    {
     "name": "stdout",
     "output_type": "stream",
     "text": [
      "/home/pgeel/bulk/FINNv0.8.1_repo/build_KV260/finn/notebooks/MSC_Git_files/mobilenet_v1/models\n",
      "---------------------------------------- Conv_0_out0 ----------------------------------------\n",
      "/home/pgeel/bulk/FINNv0.8.1_repo/build_KV260/finn/notebooks/MSC_Git_files/mobilenet_v1/models/Conv/Conv_0_out0/partition_0.onnx\n",
      "Previous run results deleted!\n",
      "Building dataflow accelerator from /home/pgeel/bulk/FINNv0.8.1_repo/build_KV260/finn/notebooks/MSC_Git_files/mobilenet_v1/models/Conv/Conv_0_out0/partition_0.onnx\n",
      "Intermediate outputs will be generated in /workspace/results\n",
      "Final outputs will be generated in build-KV260/estimation/Conv/Conv_0_out0\n",
      "Build log is at build-KV260/estimation/Conv/Conv_0_out0/build_dataflow.log\n",
      "Running step: step_mobilenet_streamline [1/6]\n",
      "Running step: step_mobilenet_lower_convs [2/6]\n",
      "Running step: step_mobilenet_convert_to_hls_layers_separate_th [3/6]\n",
      "Running step: step_create_dataflow_partition [4/6]\n",
      "Running step: step_apply_folding_config [5/6]\n",
      "Running step: step_generate_estimate_reports [6/6]\n",
      "Completed successfully\n",
      "{'BRAM_18K': 11.0, 'LUT': 2817.0, 'URAM': 0.0, 'DSP': 48.0}\n",
      "---------------------------------------- Conv_2_out0 ----------------------------------------\n",
      "/home/pgeel/bulk/FINNv0.8.1_repo/build_KV260/finn/notebooks/MSC_Git_files/mobilenet_v1/models/Conv/Conv_2_out0/partition_0.onnx\n",
      "Previous run results deleted!\n",
      "Building dataflow accelerator from /home/pgeel/bulk/FINNv0.8.1_repo/build_KV260/finn/notebooks/MSC_Git_files/mobilenet_v1/models/Conv/Conv_2_out0/partition_0.onnx\n",
      "Intermediate outputs will be generated in /workspace/results\n",
      "Final outputs will be generated in build-KV260/estimation/Conv/Conv_2_out0\n",
      "Build log is at build-KV260/estimation/Conv/Conv_2_out0/build_dataflow.log\n",
      "Running step: step_mobilenet_streamline [1/6]\n",
      "Running step: step_mobilenet_lower_convs [2/6]\n",
      "Running step: step_mobilenet_convert_to_hls_layers_separate_th [3/6]\n",
      "Running step: step_create_dataflow_partition [4/6]\n",
      "Running step: step_apply_folding_config [5/6]\n",
      "Running step: step_generate_estimate_reports [6/6]\n",
      "Completed successfully\n",
      "{'BRAM_18K': 19.0, 'LUT': 8378.0, 'URAM': 0.0, 'DSP': 48.0}\n",
      "---------------------------------------- Conv_4_out0 ----------------------------------------\n",
      "/home/pgeel/bulk/FINNv0.8.1_repo/build_KV260/finn/notebooks/MSC_Git_files/mobilenet_v1/models/Conv/Conv_4_out0/partition_0.onnx\n",
      "Previous run results deleted!\n",
      "Building dataflow accelerator from /home/pgeel/bulk/FINNv0.8.1_repo/build_KV260/finn/notebooks/MSC_Git_files/mobilenet_v1/models/Conv/Conv_4_out0/partition_0.onnx\n",
      "Intermediate outputs will be generated in /workspace/results\n",
      "Final outputs will be generated in build-KV260/estimation/Conv/Conv_4_out0\n",
      "Build log is at build-KV260/estimation/Conv/Conv_4_out0/build_dataflow.log\n",
      "Running step: step_mobilenet_streamline [1/6]\n",
      "Running step: step_mobilenet_lower_convs [2/6]\n",
      "Running step: step_mobilenet_convert_to_hls_layers_separate_th [3/6]\n",
      "Running step: step_create_dataflow_partition [4/6]\n",
      "Running step: step_apply_folding_config [5/6]\n",
      "Running step: step_generate_estimate_reports [6/6]\n",
      "Completed successfully\n",
      "{'BRAM_18K': 34.0, 'LUT': 17891.0, 'URAM': 0.0, 'DSP': 48.0}\n",
      "---------------------------------------- Conv_6_out0 ----------------------------------------\n",
      "/home/pgeel/bulk/FINNv0.8.1_repo/build_KV260/finn/notebooks/MSC_Git_files/mobilenet_v1/models/Conv/Conv_6_out0/partition_0.onnx\n",
      "Previous run results deleted!\n",
      "Building dataflow accelerator from /home/pgeel/bulk/FINNv0.8.1_repo/build_KV260/finn/notebooks/MSC_Git_files/mobilenet_v1/models/Conv/Conv_6_out0/partition_0.onnx\n",
      "Intermediate outputs will be generated in /workspace/results\n",
      "Final outputs will be generated in build-KV260/estimation/Conv/Conv_6_out0\n",
      "Build log is at build-KV260/estimation/Conv/Conv_6_out0/build_dataflow.log\n",
      "Running step: step_mobilenet_streamline [1/6]\n",
      "Running step: step_mobilenet_lower_convs [2/6]\n",
      "Running step: step_mobilenet_convert_to_hls_layers_separate_th [3/6]\n",
      "Running step: step_create_dataflow_partition [4/6]\n",
      "Running step: step_apply_folding_config [5/6]\n",
      "Running step: step_generate_estimate_reports [6/6]\n",
      "Completed successfully\n",
      "{'BRAM_18K': 71.0, 'LUT': 31190.0, 'URAM': 0.0, 'DSP': 48.0}\n",
      "---------------------------------------- Conv_8_out0 ----------------------------------------\n",
      "/home/pgeel/bulk/FINNv0.8.1_repo/build_KV260/finn/notebooks/MSC_Git_files/mobilenet_v1/models/Conv/Conv_8_out0/partition_0.onnx\n",
      "Previous run results deleted!\n",
      "Building dataflow accelerator from /home/pgeel/bulk/FINNv0.8.1_repo/build_KV260/finn/notebooks/MSC_Git_files/mobilenet_v1/models/Conv/Conv_8_out0/partition_0.onnx\n",
      "Intermediate outputs will be generated in /workspace/results\n",
      "Final outputs will be generated in build-KV260/estimation/Conv/Conv_8_out0\n",
      "Build log is at build-KV260/estimation/Conv/Conv_8_out0/build_dataflow.log\n",
      "Running step: step_mobilenet_streamline [1/6]\n",
      "^C\n",
      "Traceback (most recent call last):\n",
      "  File \"/workspace/finn/src/finn/builder/build_dataflow.py\", line 166, in build_dataflow_cfg\n",
      "    model = transform_step(model, cfg)\n",
      "  File \"/shares/bulk/pgeel/FINNv0.8.1_repo/build_KV260/finn/notebooks/MSC_Git_files/mobilenet_v1/src/custom_steps.py\", line 73, in step_mobilenet_streamline\n",
      "    model = model.transform(GiveReadableTensorNames())\n",
      "  File \"/workspace/qonnx/src/qonnx/core/modelwrapper.py\", line 140, in transform\n",
      "    (transformed_model, model_was_changed) = transformation.apply(transformed_model)\n",
      "  File \"/workspace/qonnx/src/qonnx/transformation/general.py\", line 134, in apply\n",
      "    if model.get_initializer(i) is not None:\n",
      "KeyboardInterrupt\n",
      "> /workspace/qonnx/src/qonnx/transformation/general.py(134)apply()\n",
      "-> if model.get_initializer(i) is not None:\n",
      "(Pdb) \n",
      "(Pdb) "
     ]
    }
   ],
   "source": [
    "! python auto_builder.py --model_file=\"mobilenet_streamline.onnx\" --jumps_per_op=2 --split_op_type=\"Conv\""
   ]
  }
 ],
 "metadata": {
  "kernelspec": {
   "display_name": "Python 3",
   "language": "python",
   "name": "python3"
  },
  "language_info": {
   "codemirror_mode": {
    "name": "ipython",
    "version": 3
   },
   "file_extension": ".py",
   "mimetype": "text/x-python",
   "name": "python",
   "nbconvert_exporter": "python",
   "pygments_lexer": "ipython3",
   "version": "3.8.5"
  },
  "vscode": {
   "interpreter": {
    "hash": "c0480a40de60fe0b4be044949303dbe98ce3610184aeb132e77bccbcbbb8df2a"
   }
  }
 },
 "nbformat": 4,
 "nbformat_minor": 5
}
