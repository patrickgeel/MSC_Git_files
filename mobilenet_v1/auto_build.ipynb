{
 "cells": [
  {
   "cell_type": "code",
   "execution_count": 2,
   "metadata": {
    "scrolled": true
   },
   "outputs": [
    {
     "name": "stdout",
     "output_type": "stream",
     "text": [
      "---------------------------------------- Mul_0_out0 ----------------------------------------\n",
      "---------------------------------------- Mul_5_out0 ----------------------------------------\n",
      "---------------------------------------- Mul_10_out0 ----------------------------------------\n",
      "---------------------------------------- Mul_15_out0 ----------------------------------------\n",
      "---------------------------------------- Mul_20_out0 ----------------------------------------\n",
      "---------------------------------------- Mul_25_out0 ----------------------------------------\n",
      "---------------------------------------- Mul_30_out0 ----------------------------------------\n",
      "---------------------------------------- Mul_35_out0 ----------------------------------------\n",
      "---------------------------------------- Mul_40_out0 ----------------------------------------\n",
      "---------------------------------------- Mul_45_out0 ----------------------------------------\n",
      "---------------------------------------- Mul_50_out0 ----------------------------------------\n"
     ]
    }
   ],
   "source": [
    "from src.split_model import split_model\n",
    "from src.auto_build import bit_build, estimate_report, fits_kv260\n",
    "import os\n",
    "import shutil\n",
    "from qonnx.core.modelwrapper import ModelWrapper\n",
    "\n",
    "model = ModelWrapper(\"models/mobilenetv1-w4a4_pre_post_tidy.onnx\")\n",
    "splits = []\n",
    "for n in model.graph.node:\n",
    "    if n.op_type == \"Mul\":\n",
    "        splits.append(n.output)\n",
    "    \n",
    "\n",
    "for sn in splits[0::5]:\n",
    "    split_node = sn[0] \n",
    "    print(\"--\"*20,split_node, \"--\"*20)\n",
    "    # Split model to get a new model\n",
    "    model_file = split_model(split_node)\n",
    "    print(model_file)\n",
    "    # Estimate reports\n",
    "    final_output_dir = \"build-{}/estimate/{}\".format(\"KV260\",split_node)\n",
    "    folding_config_file = \"folding_config/auto_build_folding.json\"\n",
    "    estimate_report(model_file,final_output_dir,folding_config_file)\n",
    "\n",
    "    # Check if estimate fits on KV260, If fits make a bit file\n",
    "    resource_report = \"{}/report/estimate_layer_resources.json\".format(final_output_dir)\n",
    "    if fits_kv260(resource_report):\n",
    "        final_output_dir = \"build-{}/fit/{}\".format(\"KV260\",split_node)\n",
    "    #     bit_build(model_file,final_output_dir,folding_config_file,split_node)\n",
    "    else:\n",
    "        print(\"--\"*20,\"Does not fit\", \"--\"*20)\n",
    "        print(\"\\t\"*20, split_node)\n",
    "    "
   ]
  },
  {
   "cell_type": "code",
   "execution_count": 2,
   "metadata": {},
   "outputs": [
    {
     "name": "stdout",
     "output_type": "stream",
     "text": [
      "----------------------------------------\n"
     ]
    }
   ],
   "source": [
    "print(\"--\"*20,\"Does not fit\", \"--\"*20)"
   ]
  }
 ],
 "metadata": {
  "kernelspec": {
   "display_name": "Python 3",
   "language": "python",
   "name": "python3"
  },
  "language_info": {
   "codemirror_mode": {
    "name": "ipython",
    "version": 3
   },
   "file_extension": ".py",
   "mimetype": "text/x-python",
   "name": "python",
   "nbconvert_exporter": "python",
   "pygments_lexer": "ipython3",
   "version": "3.8.5"
  }
 },
 "nbformat": 4,
 "nbformat_minor": 2
}
