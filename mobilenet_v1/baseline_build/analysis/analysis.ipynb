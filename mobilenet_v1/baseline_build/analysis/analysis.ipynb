{
 "cells": [
  {
   "cell_type": "code",
   "execution_count": 2,
   "metadata": {},
   "outputs": [],
   "source": [
    "import pandas as pd\n",
    "import matplotlib.pyplot as plt\n",
    "import seaborn as sns\n",
    "import numpy as np\n",
    "import json\n",
    "import os"
   ]
  },
  {
   "cell_type": "code",
   "execution_count": 32,
   "metadata": {},
   "outputs": [],
   "source": [
    "rpt_file = \"../report/\"\n",
    "\n",
    "KV260_max_usage = {\"BRAM_18K\": 144,\n",
    "\"LUT\": 117120,\n",
    "\"URAM\": 64,\n",
    "\"DSP\": 1248}\n",
    "# Estimated resource usage\n",
    "with open(rpt_file+\"estimate_layer_resources.json\") as file:\n",
    "    est_data = json.load(file)"
   ]
  },
  {
   "cell_type": "code",
   "execution_count": 46,
   "metadata": {},
   "outputs": [
    {
     "data": {
      "text/html": [
       "<div><div id=c3af9c6a-45df-4286-87c0-cdf83980f0f8 style=\"display:none; background-color:#9D6CFF; color:white; width:200px; height:30px; padding-left:5px; border-radius:4px; flex-direction:row; justify-content:space-around; align-items:center;\" onmouseover=\"this.style.backgroundColor='#BA9BF8'\" onmouseout=\"this.style.backgroundColor='#9D6CFF'\" onclick=\"window.commands?.execute('create-mitosheet-from-dataframe-output');\">See Full Dataframe in Mito</div> <script> if (window.commands.hasCommand('create-mitosheet-from-dataframe-output')) document.getElementById('c3af9c6a-45df-4286-87c0-cdf83980f0f8').style.display = 'flex' </script> <table border=\"1\" class=\"dataframe\">\n",
       "  <thead>\n",
       "    <tr style=\"text-align: right;\">\n",
       "      <th></th>\n",
       "      <th>Total Resource usage</th>\n",
       "      <th>KV260 max resource usage</th>\n",
       "    </tr>\n",
       "  </thead>\n",
       "  <tbody>\n",
       "    <tr>\n",
       "      <th>BRAM_18K</th>\n",
       "      <td>372.000000</td>\n",
       "      <td>144.0</td>\n",
       "    </tr>\n",
       "    <tr>\n",
       "      <th>BRAM_efficiency</th>\n",
       "      <td>30.651109</td>\n",
       "      <td>NaN</td>\n",
       "    </tr>\n",
       "    <tr>\n",
       "      <th>LUT</th>\n",
       "      <td>115894.000000</td>\n",
       "      <td>117120.0</td>\n",
       "    </tr>\n",
       "    <tr>\n",
       "      <th>URAM</th>\n",
       "      <td>0.000000</td>\n",
       "      <td>64.0</td>\n",
       "    </tr>\n",
       "    <tr>\n",
       "      <th>URAM_efficiency</th>\n",
       "      <td>38.000000</td>\n",
       "      <td>NaN</td>\n",
       "    </tr>\n",
       "    <tr>\n",
       "      <th>DSP</th>\n",
       "      <td>96.000000</td>\n",
       "      <td>1248.0</td>\n",
       "    </tr>\n",
       "  </tbody>\n",
       "</table></div>"
      ],
      "text/plain": [
       "                 Total Resource usage  KV260 max resource usage\n",
       "BRAM_18K                   372.000000                     144.0\n",
       "BRAM_efficiency             30.651109                       NaN\n",
       "LUT                     115894.000000                  117120.0\n",
       "URAM                         0.000000                      64.0\n",
       "URAM_efficiency             38.000000                       NaN\n",
       "DSP                         96.000000                    1248.0"
      ]
     },
     "execution_count": 46,
     "metadata": {},
     "output_type": "execute_result"
    }
   ],
   "source": [
    "df = pd.DataFrame.from_dict(est_data)\n",
    "df = df.T\n",
    "df.drop(\"total\")\n",
    "usage = {}\n",
    "usage[\"Total Resource usage\"] = df.sum().to_dict()\n",
    "usage[\"KV260 max resource usage\"] = KV260_max_usage\n",
    "usage_df = pd.DataFrame.from_dict(usage)\n",
    "usage_df\n",
    "# # sns.barplot(x = usage_df.index, y = usage_df[\"Resource usage\"].values)\n",
    "usage_df.to_csv(rpt_file+\"estimate_resource_usage.csv\")\n",
    "usage_df"
   ]
  }
 ],
 "metadata": {
  "kernelspec": {
   "display_name": "Python 3",
   "language": "python",
   "name": "python3"
  },
  "language_info": {
   "codemirror_mode": {
    "name": "ipython",
    "version": 3
   },
   "file_extension": ".py",
   "mimetype": "text/x-python",
   "name": "python",
   "nbconvert_exporter": "python",
   "pygments_lexer": "ipython3",
   "version": "3.9.2"
  },
  "orig_nbformat": 4,
  "vscode": {
   "interpreter": {
    "hash": "c0480a40de60fe0b4be044949303dbe98ce3610184aeb132e77bccbcbbb8df2a"
   }
  }
 },
 "nbformat": 4,
 "nbformat_minor": 2
}
