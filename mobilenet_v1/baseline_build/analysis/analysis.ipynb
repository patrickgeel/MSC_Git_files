{
 "cells": [
  {
   "cell_type": "code",
   "execution_count": 2,
   "metadata": {},
   "outputs": [],
   "source": [
    "import pandas as pd\n",
    "import matplotlib.pyplot as plt\n",
    "import seaborn as sns\n",
    "import numpy as np\n",
    "import json\n",
    "import os"
   ]
  },
  {
   "cell_type": "code",
   "execution_count": 3,
   "metadata": {},
   "outputs": [],
   "source": [
    "rpt_file = \"../report/\"\n",
    "\n",
    "KV260_max_usage = {\"BRAM_18K\": 144,\n",
    "\"LUT\": 117120,\n",
    "\"URAM\": 64,\n",
    "\"DSP\": 1248}\n",
    "# Estimated resource usage\n",
    "with open(rpt_file+\"estimate_layer_resources.json\") as file:\n",
    "    est_data = json.load(file)"
   ]
  },
  {
   "cell_type": "code",
   "execution_count": 4,
   "metadata": {},
   "outputs": [
    {
     "data": {
      "text/html": [
       "<div><div id=4353ee3d-ff34-4b8c-8cbb-3ed912037dab style=\"display:none; background-color:#9D6CFF; color:white; width:200px; height:30px; padding-left:5px; border-radius:4px; flex-direction:row; justify-content:space-around; align-items:center;\" onmouseover=\"this.style.backgroundColor='#BA9BF8'\" onmouseout=\"this.style.backgroundColor='#9D6CFF'\" onclick=\"window.commands?.execute('create-mitosheet-from-dataframe-output');\">See Full Dataframe in Mito</div> <script> if (window.commands.hasCommand('create-mitosheet-from-dataframe-output')) document.getElementById('4353ee3d-ff34-4b8c-8cbb-3ed912037dab').style.display = 'flex' </script> <table border=\"1\" class=\"dataframe\">\n",
       "  <thead>\n",
       "    <tr style=\"text-align: right;\">\n",
       "      <th></th>\n",
       "      <th>Total Resource usage</th>\n",
       "      <th>KV260 max resource usage</th>\n",
       "    </tr>\n",
       "  </thead>\n",
       "  <tbody>\n",
       "    <tr>\n",
       "      <th>BRAM_18K</th>\n",
       "      <td>372.000000</td>\n",
       "      <td>144.0</td>\n",
       "    </tr>\n",
       "    <tr>\n",
       "      <th>BRAM_efficiency</th>\n",
       "      <td>30.651109</td>\n",
       "      <td>NaN</td>\n",
       "    </tr>\n",
       "    <tr>\n",
       "      <th>LUT</th>\n",
       "      <td>115894.000000</td>\n",
       "      <td>117120.0</td>\n",
       "    </tr>\n",
       "    <tr>\n",
       "      <th>URAM</th>\n",
       "      <td>0.000000</td>\n",
       "      <td>64.0</td>\n",
       "    </tr>\n",
       "    <tr>\n",
       "      <th>URAM_efficiency</th>\n",
       "      <td>38.000000</td>\n",
       "      <td>NaN</td>\n",
       "    </tr>\n",
       "    <tr>\n",
       "      <th>DSP</th>\n",
       "      <td>96.000000</td>\n",
       "      <td>1248.0</td>\n",
       "    </tr>\n",
       "  </tbody>\n",
       "</table></div>"
      ],
      "text/plain": [
       "                 Total Resource usage  KV260 max resource usage\n",
       "BRAM_18K                   372.000000                     144.0\n",
       "BRAM_efficiency             30.651109                       NaN\n",
       "LUT                     115894.000000                  117120.0\n",
       "URAM                         0.000000                      64.0\n",
       "URAM_efficiency             38.000000                       NaN\n",
       "DSP                         96.000000                    1248.0"
      ]
     },
     "execution_count": 4,
     "metadata": {},
     "output_type": "execute_result"
    }
   ],
   "source": [
    "df = pd.DataFrame.from_dict(est_data)\n",
    "df = df.T\n",
    "df.drop(\"total\")\n",
    "usage = {}\n",
    "usage[\"Total Resource usage\"] = df.sum().to_dict()\n",
    "usage[\"KV260 max resource usage\"] = KV260_max_usage\n",
    "usage_df = pd.DataFrame.from_dict(usage)\n",
    "usage_df\n",
    "# # sns.barplot(x = usage_df.index, y = usage_df[\"Resource usage\"].values)\n",
    "usage_df.to_csv(rpt_file+\"estimate_resource_usage.csv\")\n",
    "usage_df"
   ]
  },
  {
   "cell_type": "code",
   "execution_count": 5,
   "metadata": {},
   "outputs": [],
   "source": [
    "with open (\"../verification/total_runtime_metrics.json\", 'r') as f:\n",
    "    data = json.load(f)\n",
    "\n",
    "df = pd.DataFrame(data)\n",
    "fpga_metrics = df[[\"FPGA_metrics\",\"FPGA throughput metrics\"]]\n",
    "df = df.dropna()\n",
    "df = df.rename(index = {\"runtime[ms]\":\"Baseline\"})\n",
    "# fpga_metrics\n",
    "\n",
    "df[\"Runtime[ms]\"] = df[\"FPGA_metrics\"] + df[\"CPU partition runtime\"]\n",
    "# # print(df)\n",
    "df.to_csv(\"../report/runtime_metrics.csv\")\n",
    "fpga_metrics.to_csv(\"../report/fpga_metrics.csv\")\n"
   ]
  },
  {
   "attachments": {},
   "cell_type": "markdown",
   "metadata": {},
   "source": [
    "### Get Layer types"
   ]
  },
  {
   "cell_type": "code",
   "execution_count": 6,
   "metadata": {},
   "outputs": [
    {
     "name": "stderr",
     "output_type": "stream",
     "text": [
      "c:\\Users\\Patrick\\AppData\\Local\\Programs\\Python\\Python39\\lib\\site-packages\\qonnx\\core\\modelwrapper.py:93: UserWarning: Some old-style domain attributes were automatically converted to new-style,\n",
      "                i.e. domain=finn to domain=qonnx.custom_op.<general|fpgadataflow|...>\n",
      "  warnings.warn(\n"
     ]
    }
   ],
   "source": [
    "from qonnx.core.modelwrapper import ModelWrapper\n",
    "import numpy as np\n",
    "\n",
    "model = ModelWrapper(\"../verification/partition_0.onnx\")\n",
    "stop_output = model.graph.output[0].name\n",
    "\n",
    "base_model = ModelWrapper(\"../../models/mobilenetv1-w4a4_pre_post_tidy.onnx\")\n",
    "\n",
    "ops = []\n",
    "for n in base_model.graph.node:\n",
    "    if stop_output != n.output[0]:\n",
    "        ops.append(n.op_type)\n",
    "    elif stop_output == n.output[0]:\n",
    "        ops.append(n.op_type)\n",
    "        break\n",
    "ops = np.array(ops)\n",
    "[op,cnt] = np.unique(ops,return_counts=True)\n",
    "op_dict = {}\n",
    "for i,val in enumerate(op):\n",
    "    op_dict[val]= str(cnt[i])\n",
    "with open(\"../report/Op_counts_baseline.json\", 'w') as f:\n",
    "    json.dump(op_dict,f)\n",
    "\n",
    "# df = pd.DataFrame(op_dict, index=[\"Baseline\"])\n",
    "# print(df)\n",
    "# df.to_csv('../report/Op_counts.csv')\n",
    "# sns.barplot(data=df)\n",
    "# plt.tight_layout()"
   ]
  }
 ],
 "metadata": {
  "kernelspec": {
   "display_name": "Python 3",
   "language": "python",
   "name": "python3"
  },
  "language_info": {
   "codemirror_mode": {
    "name": "ipython",
    "version": 3
   },
   "file_extension": ".py",
   "mimetype": "text/x-python",
   "name": "python",
   "nbconvert_exporter": "python",
   "pygments_lexer": "ipython3",
   "version": "3.9.2 (tags/v3.9.2:1a79785, Feb 19 2021, 13:44:55) [MSC v.1928 64 bit (AMD64)]"
  },
  "orig_nbformat": 4,
  "vscode": {
   "interpreter": {
    "hash": "c0480a40de60fe0b4be044949303dbe98ce3610184aeb132e77bccbcbbb8df2a"
   }
  }
 },
 "nbformat": 4,
 "nbformat_minor": 2
}
