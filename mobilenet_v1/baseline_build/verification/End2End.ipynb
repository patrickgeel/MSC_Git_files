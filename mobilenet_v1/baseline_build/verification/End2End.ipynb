{
 "cells": [
  {
   "cell_type": "markdown",
   "id": "6d3feb1e",
   "metadata": {},
   "source": [
    "# Notebook setup"
   ]
  },
  {
   "cell_type": "code",
   "execution_count": 1,
   "id": "680750e6",
   "metadata": {},
   "outputs": [],
   "source": [
    "import numpy as np\n",
    "from onnxruntime_extensions import get_library_path, PyOp, onnx_op, PyOrtFunction\n",
    "import onnxruntime as ort\n",
    "from qonnx.core.datatype import DataType\n",
    "from qonnx.core.modelwrapper import ModelWrapper\n",
    "from onnx.helper import make_attribute\n",
    "from driver_base import FINNExampleOverlay\n",
    "from driver import io_shape_dict\n",
    "import time, json, onnx, os\n",
    "set_pyop = False"
   ]
  },
  {
   "cell_type": "code",
   "execution_count": 2,
   "id": "525a670f",
   "metadata": {},
   "outputs": [
    {
     "data": {
      "application/javascript": [
       "\n",
       "try {\n",
       "require(['notebook/js/codecell'], function(codecell) {\n",
       "  codecell.CodeCell.options_default.highlight_modes[\n",
       "      'magic_text/x-csrc'] = {'reg':[/^%%microblaze/]};\n",
       "  Jupyter.notebook.events.one('kernel_ready.Kernel', function(){\n",
       "      Jupyter.notebook.get_cells().map(function(cell){\n",
       "          if (cell.cell_type == 'code'){ cell.auto_highlight(); } }) ;\n",
       "  });\n",
       "});\n",
       "} catch (e) {};\n"
      ]
     },
     "metadata": {},
     "output_type": "display_data"
    },
    {
     "data": {
      "application/javascript": [
       "\n",
       "try {\n",
       "require(['notebook/js/codecell'], function(codecell) {\n",
       "  codecell.CodeCell.options_default.highlight_modes[\n",
       "      'magic_text/x-csrc'] = {'reg':[/^%%pybind11/]};\n",
       "  Jupyter.notebook.events.one('kernel_ready.Kernel', function(){\n",
       "      Jupyter.notebook.get_cells().map(function(cell){\n",
       "          if (cell.cell_type == 'code'){ cell.auto_highlight(); } }) ;\n",
       "  });\n",
       "});\n",
       "} catch (e) {};\n"
      ]
     },
     "metadata": {},
     "output_type": "display_data"
    }
   ],
   "source": [
    "platform = \"zynq-iodma\"\n",
    "batch_size = 1\n",
    "bitfile = \"finn-accel.bit\"\n",
    "outputfile = \"output.npy\"\n",
    "runtime_weight_dir = \"runtime_weights/\"\n",
    "\n",
    "# instantiate FINN accelerator driver and pass batchsize and bitfile\n",
    "accel = FINNExampleOverlay(\n",
    "    bitfile_name = bitfile, platform = platform,\n",
    "    io_shape_dict = io_shape_dict, batch_size = batch_size,\n",
    "    runtime_weight_dir = runtime_weight_dir\n",
    ")\n",
    "# print(set_pyop)\n",
    "if not set_pyop:\n",
    "    # Implement the CustomOp by decorating a function with onnx_op\n",
    "    @onnx_op(op_type=\"StreamingDataflowPartition\", inputs=[PyOp.dt_float], outputs=[PyOp.dt_float])\n",
    "    def StreamingDataflowPartition(inputs):\n",
    "#         accel.execute_on_buffers(batch_size=batch_size)\n",
    "        obuf_normal = accel.execute(inputs)\n",
    "        return obuf_normal.astype(np.float32)\n",
    "    set_pyop = True\n",
    "else: \n",
    "    print(\"Already set!\")\n",
    "# dir(accel)"
   ]
  },
  {
   "cell_type": "code",
   "execution_count": 3,
   "id": "26c864e2",
   "metadata": {},
   "outputs": [],
   "source": [
    "from qonnx.transformation.double_to_single_float import DoubleToSingleFloat\n",
    "from onnx import helper\n",
    "\n",
    "def dataflow_parent_setup(model_file):\n",
    "    model = ModelWrapper(model_file)\n",
    "    for n in model.graph.node:\n",
    "        if n.domain == \"finn.custom_op.fpgadataflow\":\n",
    "            n.domain = \"ai.onnx.contrib\"\n",
    "    model.save(\"dataflow_parent_run.onnx\")\n",
    "    \n",
    "def set_multithreshold_default(model):#,save_model):\n",
    "    '''\n",
    "    Pass a modelproto model and the save file\n",
    "    '''\n",
    "    model = model.transform(DoubleToSingleFloat())\n",
    "    new_attr = [helper.make_attribute(\"out_scale\", 1.0),\n",
    "                helper.make_attribute(\"out_bias\", 0.0),\n",
    "                helper.make_attribute(\"data_layout\",\"NCHW\")]\n",
    "\n",
    "    for n in model.graph.node:\n",
    "        if n.op_type == \"MultiThreshold\":\n",
    "            out_scale,bias,datalayout = False,False,False\n",
    "            for na in n.attribute:\n",
    "                if na.name == \"out_scale\": out_scale = True\n",
    "                if na.name == \"out_bias\": bias = True\n",
    "                if na.name == \"data_layout\": datlayout = True\n",
    "            if not out_scale: n.attribute.append(new_attr[0])\n",
    "            if not bias: n.attribute.append(new_attr[1])\n",
    "            if not datalayout: n.attribute.append(new_attr[2])\n",
    "\n",
    "            n.domain = \"ai.onnx.contrib\"\n",
    "#     model.save(save_model)\n",
    "    return model\n",
    "\n",
    "def revert_quantAvgPool(model):\n",
    "    nodes = [n for n in model.graph.node if n.op_type == 'QuantAvgPool2d']\n",
    "    attrs = [n.attribute for n in model.graph.node if n.op_type == 'QuantAvgPool2d']\n",
    "    for node,attr in zip(nodes,attrs):\n",
    "        for a in attr:\n",
    "            if a.name == \"stride\":\n",
    "                s = a.i\n",
    "            elif a.name == \"kernel\":\n",
    "                k = a.i\n",
    "        update = helper.make_node(\n",
    "            \"AveragePool\",\n",
    "            inputs=[node.input[0]],\n",
    "            outputs=[node.output[0]],\n",
    "            kernel_shape=[k,k],\n",
    "            strides=[s,s],\n",
    "        )\n",
    "\n",
    "        model.graph.node.remove(node)\n",
    "        model.graph.node.append(update)\n",
    "    return model\n",
    "\n",
    "def input_array():\n",
    "#     if not os.path.exists(\"input.npy\"):\n",
    "    x = np.random.randint(0,255,(1, 3, 224, 224)).astype(np.float32)\n",
    "    np.save(\"input.npy\", x)\n",
    "#     else:\n",
    "#         print(\"Data exists importing....\")\n",
    "#         x = np.load(\"input.npy\")\n",
    "    return x.astype(np.float32)\n"
   ]
  },
  {
   "cell_type": "markdown",
   "id": "80655f47",
   "metadata": {},
   "source": [
    "## HW session for partition_0"
   ]
  },
  {
   "cell_type": "code",
   "execution_count": 5,
   "id": "b10b7d31",
   "metadata": {
    "scrolled": true
   },
   "outputs": [],
   "source": [
    "inp = input_array()\n",
    "dataflow_parent_setup(\"./dataflow_parent.onnx\")\n",
    "model_func = PyOrtFunction.from_model(\"./dataflow_parent_run.onnx\")\n",
    "outputs = model_func(inp)"
   ]
  },
  {
   "cell_type": "code",
   "execution_count": 76,
   "id": "48b71f58",
   "metadata": {},
   "outputs": [],
   "source": [
    "total_metrics = {}\n",
    "with open(\"hw_metrics.json\", 'r') as f:\n",
    "    metrics = json.load(f)\n",
    "total_metrics[\"FPGA_metrics\"] = metrics\n"
   ]
  },
  {
   "cell_type": "code",
   "execution_count": 82,
   "id": "62486041",
   "metadata": {},
   "outputs": [],
   "source": [
    "res = accel.throughput_test()\n",
    "total_metrics['FPGA throughput metrics'] = res"
   ]
  },
  {
   "cell_type": "markdown",
   "id": "7a768244",
   "metadata": {},
   "source": [
    "## Continue with the output and pass to the ORT instance"
   ]
  },
  {
   "cell_type": "code",
   "execution_count": 77,
   "id": "5643c245",
   "metadata": {},
   "outputs": [
    {
     "data": {
      "text/plain": [
       "array([[488, 885, 539, 741, 971]], dtype=int64)"
      ]
     },
     "execution_count": 77,
     "metadata": {},
     "output_type": "execute_result"
    }
   ],
   "source": [
    "model = ModelWrapper(\"./partition_1.onnx\")\n",
    "\n",
    "so = ort.SessionOptions()\n",
    "so.register_custom_ops_library(get_library_path())\n",
    "\n",
    "model = set_multithreshold_default(model)\n",
    "sess = ort.InferenceSession(model.model.SerializeToString(),so)\n",
    "\n",
    "inp_name = [i.name for i in sess.get_inputs()]\n",
    "inp_shape = [i.shape for i in sess.get_inputs()]\n",
    "\n",
    "assert inp_shape[0] == list(outputs.shape), \"Shapes not equal\"\n",
    "partition_1_inference_time = 0\n",
    "start = time.time()\n",
    "res = sess.run([],{inp_name[0]:outputs})\n",
    "end = time.time()\n",
    "runtime = end - start\n",
    "total_metrics[\"CPU partition runtime\"] = {\"runtime[ms]\": runtime*1000}\n",
    "\n",
    "y_e2e = np.array(res[0])\n",
    "y_e2e\n"
   ]
  },
  {
   "cell_type": "markdown",
   "id": "46d5fd6e",
   "metadata": {},
   "source": [
    "# Get expected output"
   ]
  },
  {
   "cell_type": "code",
   "execution_count": 78,
   "id": "5351d146",
   "metadata": {},
   "outputs": [],
   "source": [
    "model = ModelWrapper(\"mobilenet_streamline.onnx\")\n",
    "\n",
    "so = ort.SessionOptions()\n",
    "so.register_custom_ops_library(get_library_path())\n",
    "\n",
    "model = set_multithreshold_default(model)\n",
    "start = time.time()\n",
    "sess = ort.InferenceSession(model.model.SerializeToString(),so)\n",
    "end = time.time()\n",
    "\n",
    "runtime = end - start\n",
    "total_metrics[\"CPU Full Model\"] = {\"runtime[ms]\":runtime*1000}\n",
    "\n",
    "\n",
    "inp_name = [i.name for i in sess.get_inputs()]\n",
    "inp_shape = [i.shape for i in sess.get_inputs()]\n",
    "\n",
    "x = np.load(\"input.npy\")\n",
    "res_exp = sess.run([],{inp_name[0]:x})\n"
   ]
  },
  {
   "cell_type": "markdown",
   "id": "ba48f3e4",
   "metadata": {},
   "source": [
    "## Compare the two outputs and write metrics to JSON file"
   ]
  },
  {
   "cell_type": "code",
   "execution_count": 79,
   "id": "b6d0f26b",
   "metadata": {},
   "outputs": [
    {
     "name": "stdout",
     "output_type": "stream",
     "text": [
      "CPU and HW output are the same!\n"
     ]
    }
   ],
   "source": [
    "equal = np.testing.assert_array_almost_equal(res_exp,res)\n",
    "if equal == None:\n",
    "    print(\"CPU and HW output are the same!\")\n",
    "with open(\"total_runtime_metrics.json\", 'w') as outfile:\n",
    "    json.dump(total_metrics, outfile)"
   ]
  },
  {
   "cell_type": "code",
   "execution_count": 109,
   "id": "aa37a556",
   "metadata": {},
   "outputs": [
    {
     "ename": "AttributeError",
     "evalue": "module 'matplotlib.pyplot' has no attribute 'save'",
     "output_type": "error",
     "traceback": [
      "\u001b[0;31m---------------------------------------------------------------------------\u001b[0m",
      "\u001b[0;31mAttributeError\u001b[0m                            Traceback (most recent call last)",
      "Input \u001b[0;32mIn [109]\u001b[0m, in \u001b[0;36m<cell line: 6>\u001b[0;34m()\u001b[0m\n\u001b[1;32m      8\u001b[0m \u001b[38;5;28;01mif\u001b[39;00m \u001b[38;5;129;01mnot\u001b[39;00m y\u001b[38;5;241m.\u001b[39misnull()\u001b[38;5;241m.\u001b[39mvalues\u001b[38;5;241m.\u001b[39many():\n\u001b[1;32m      9\u001b[0m     y\u001b[38;5;241m.\u001b[39mplot(kind\u001b[38;5;241m=\u001b[39m\u001b[38;5;124m'\u001b[39m\u001b[38;5;124mbar\u001b[39m\u001b[38;5;124m'\u001b[39m,title \u001b[38;5;241m=\u001b[39m y\u001b[38;5;241m.\u001b[39mname, ylabel \u001b[38;5;241m=\u001b[39m y\u001b[38;5;241m.\u001b[39mname)\n\u001b[0;32m---> 10\u001b[0m     \u001b[43mplt\u001b[49m\u001b[38;5;241;43m.\u001b[39;49m\u001b[43msave\u001b[49m(y\u001b[38;5;241m.\u001b[39mname\u001b[38;5;241m+\u001b[39m\u001b[38;5;124m\"\u001b[39m\u001b[38;5;124m.svg\u001b[39m\u001b[38;5;124m\"\u001b[39m)\n",
      "\u001b[0;31mAttributeError\u001b[0m: module 'matplotlib.pyplot' has no attribute 'save'"
     ]
    },
    {
     "data": {
      "image/png": "[encoded data removed]",
      "text/plain": [
       "<Figure size 432x288 with 1 Axes>"
      ]
     },
     "metadata": {
      "needs_background": "light"
     },
     "output_type": "display_data"
    }
   ],
   "source": [
    "import pandas as pd\n",
    "import matplotlib.pyplot as plt\n",
    "# convert json data to a pandas dataframe\n",
    "df = pd.DataFrame.from_dict(total_metrics)\n",
    "\n",
    "for ind in df.index:\n",
    "    y = df.loc[ind]\n",
    "    if not y.isnull().values.any():\n",
    "        y.plot(kind='bar',title = y.name, ylabel = y.name)\n",
    "        plt.savefigame+\".svg\")\n"
   ]
  },
  {
   "cell_type": "code",
   "execution_count": 81,
   "id": "dc4312a4",
   "metadata": {},
   "outputs": [],
   "source": [
    "# import time\n",
    "\n",
    "# x = np.random.randint(0,255,(1, 3, 224, 224)).astype(np.float32)\n",
    "# bs = [1,5,10,20,25,50]\n",
    "# start = time.time()\n",
    "# for i in bs:\n",
    "#     print(\"Batch_size:\", i)\n",
    "#     accel = FINNExampleOverlay(\n",
    "#     bitfile_name = bitfile, platform = platform,\n",
    "#     io_shape_dict = io_shape_dict, batch_size = i,\n",
    "#     runtime_weight_dir = runtime_weight_dir)\n",
    "#     res = accel.throughput_test()    \n",
    "#     print(res)\n",
    "# total_time = time.time() - start\n",
    "# print(total_time)\n"
   ]
  }
 ],
 "metadata": {
  "kernelspec": {
   "display_name": "Python 3 (ipykernel)",
   "language": "python",
   "name": "python3"
  },
  "language_info": {
   "codemirror_mode": {
    "name": "ipython",
    "version": 3
   },
   "file_extension": ".py",
   "mimetype": "text/x-python",
   "name": "python",
   "nbconvert_exporter": "python",
   "pygments_lexer": "ipython3",
   "version": "3.10.6"
  }
 },
 "nbformat": 4,
 "nbformat_minor": 5
}
