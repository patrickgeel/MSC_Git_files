{
 "cells": [
  {
   "cell_type": "code",
   "execution_count": 5,
   "id": "a5682694",
   "metadata": {},
   "outputs": [
    {
     "name": "stdout",
     "output_type": "stream",
     "text": [
      "Removed results folder\n",
      "**************************************** Running Mul_0_out0 ****************************************\n",
      "Results written to nw_metrics.txt\n",
      "**************************************** Running Mul_10_out0 ****************************************\n",
      "Results written to nw_metrics.txt\n",
      "**************************************** Running Mul_15_out0 ****************************************\n",
      "Results written to nw_metrics.txt\n",
      "**************************************** Running Mul_5_out0 ****************************************\n",
      "^C\n",
      "Traceback (most recent call last):\n",
      "  File \"/home/root/jupyter_notebooks/MSC_Git_files/mobilenet_v1/build-KV260/fit/Mul_5_out0/deploy/driver/driver.py\", line 102, in <module>\n",
      "    res = accel.throughput_test()\n",
      "  File \"/home/root/jupyter_notebooks/MSC_Git_files/mobilenet_v1/build-KV260/fit/Mul_5_out0/deploy/driver/driver_base.py\", line 488, in throughput_test\n",
      "    obuf_folded = self.unpack_output(self.obuf_packed[0])\n",
      "  File \"/home/root/jupyter_notebooks/MSC_Git_files/mobilenet_v1/build-KV260/fit/Mul_5_out0/deploy/driver/driver_base.py\", line 308, in unpack_output\n",
      "    obuf_folded = packed_bytearray_to_finnpy(\n",
      "  File \"/home/root/jupyter_notebooks/MSC_Git_files/mobilenet_v1/build-KV260/fit/Mul_5_out0/deploy/driver/finn/util/data_packing.py\", line 452, in packed_bytearray_to_finnpy\n",
      "    ret = unpack_innermost_dim_from_hex_string(\n",
      "  File \"/home/root/jupyter_notebooks/MSC_Git_files/mobilenet_v1/build-KV260/fit/Mul_5_out0/deploy/driver/finn/util/data_packing.py\", line 195, in unpack_innermost_dim_from_hex_string\n",
      "    data.pop(0)\n",
      "KeyboardInterrupt\n",
      "cp: cannot stat 'nw_metrics.txt': No such file or directory\n"
     ]
    }
   ],
   "source": [
    "import os \n",
    "import shutil\n",
    "lsdir = [os.path.join(\"fit\",d) for d in os.listdir(\"fit/\") if not os.path.isdir(d)]\n",
    "lsdir.sort()\n",
    "if not os.path.exists(\"results\"):\n",
    "    os.mkdir(\"results\")\n",
    "elif os.path.exists(\"results\"):\n",
    "    print(\"Removed results folder\")\n",
    "    shutil.rmtree(\"results\")\n",
    "    os.mkdir(\"results\")\n",
    "\n",
    "for f in lsdir:\n",
    "    bs = 10\n",
    "    dr_path = os.path.join(f,'deploy','driver/driver.py')\n",
    "    bf_path = os.path.join(f,'deploy','bitfile/finn-accel.bit')\n",
    "    nw_path = os.path.join(f,'deploy','driver',)\n",
    "    print(\"*\"*40, \"Running %s\"%f.split(\"/\")[1], \"*\"*40)\n",
    "    ! python {dr_path} --batchsize={bs} --bitfile={bf_path} --exec_mode=\"throughput_test\"\n",
    "    if \"nw_metrics.txt\" in os.listdir():\n",
    "        ! cp 'nw_metrics.txt' results/nw_metrics_{f.split(\"/\")[1]}.txt"
   ]
  }
 ],
 "metadata": {
  "kernelspec": {
   "display_name": "Python 3 (ipykernel)",
   "language": "python",
   "name": "python3"
  },
  "language_info": {
   "codemirror_mode": {
    "name": "ipython",
    "version": 3
   },
   "file_extension": ".py",
   "mimetype": "text/x-python",
   "name": "python",
   "nbconvert_exporter": "python",
   "pygments_lexer": "ipython3",
   "version": "3.10.6"
  }
 },
 "nbformat": 4,
 "nbformat_minor": 5
}
