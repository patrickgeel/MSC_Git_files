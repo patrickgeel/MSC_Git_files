{
 "cells": [
  {
   "cell_type": "code",
   "execution_count": null,
   "id": "ce8a54bf",
   "metadata": {},
   "outputs": [
    {
     "name": "stdout",
     "output_type": "stream",
     "text": [
      "1\n",
      "Results written to nw_metrics.txt\n",
      "5\n",
      "Results written to nw_metrics.txt\n",
      "25\n",
      "Results written to nw_metrics.txt\n",
      "50\n",
      "Results written to nw_metrics.txt\n",
      "100\n"
     ]
    }
   ],
   "source": [
    "batchsize = [1,5,25,50,100,250,500,1000]\n",
    "for bs in batchsize:\n",
    "    print(bs)\n",
    "    ! python driver.py --batchsize={bs} --bitfile=\"../bitfile/finn-accel.bit\" --exec_mode=\"throughput_test\"\n",
    "    ! cp nw_metrics.txt results/nw_metrics_bs_{bs}.txt"
   ]
  }
 ],
 "metadata": {
  "kernelspec": {
   "display_name": "Python 3",
   "language": "python",
   "name": "python3"
  },
  "language_info": {
   "codemirror_mode": {
    "name": "ipython",
    "version": 3
   },
   "file_extension": ".py",
   "mimetype": "text/x-python",
   "name": "python",
   "nbconvert_exporter": "python",
   "pygments_lexer": "ipython3",
   "version": "3.8.10"
  }
 },
 "nbformat": 4,
 "nbformat_minor": 5
}
