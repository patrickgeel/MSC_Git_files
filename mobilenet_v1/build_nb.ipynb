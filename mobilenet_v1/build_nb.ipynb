{
 "cells": [
  {
   "cell_type": "code",
   "execution_count": 1,
   "id": "86868448",
   "metadata": {
    "scrolled": true
   },
   "outputs": [
    {
     "name": "stdout",
     "output_type": "stream",
     "text": [
      "Previous run results deleted!\n",
      "Building dataflow accelerator from /home/pgeel/FINNv0.8.1_repo/build_KV260/finn/notebooks/MSC_Git_files/mobilenet_v1/models/mobilenetv1-w4a4_pre_post_tidy.onnx\n",
      "Intermediate outputs will be generated in /workspace/results\n",
      "Final outputs will be generated in baseline_build\n",
      "Build log is at baseline_build/build_dataflow.log\n",
      "Running step: step_mobilenet_streamline [1/14]\n"
     ]
    },
    {
     "name": "stderr",
     "output_type": "stream",
     "text": [
      "/workspace/qonnx/src/qonnx/core/modelwrapper.py:93: UserWarning: Some old-style domain attributes were automatically converted to new-style,\n",
      "                i.e. domain=finn to domain=qonnx.custom_op.<general|fpgadataflow|...>\n",
      "  warnings.warn(\n"
     ]
    },
    {
     "name": "stdout",
     "output_type": "stream",
     "text": [
      "Running step: custom_step_partition [2/14]\n",
      "Running step: step_mobilenet_lower_convs [3/14]\n",
      "Running step: step_mobilenet_convert_to_hls_layers_separate_th [4/14]\n",
      "Running step: step_create_dataflow_partition [5/14]\n",
      "Running step: step_apply_folding_config [6/14]\n",
      "Running step: step_generate_estimate_reports [7/14]\n",
      "Running step: step_hls_codegen [8/14]\n",
      "Running step: step_hls_ipgen [9/14]\n",
      "Running step: step_set_fifo_depths [10/14]\n",
      "Running step: step_create_stitched_ip [11/14]\n",
      "Running step: step_synthesize_bitfile [12/14]\n",
      "Running step: step_make_pynq_driver [13/14]\n",
      "Running step: step_deployment_package [14/14]\n",
      "Completed successfully\n"
     ]
    },
    {
     "data": {
      "text/plain": [
       "0"
      ]
     },
     "execution_count": 1,
     "metadata": {},
     "output_type": "execute_result"
    }
   ],
   "source": [
    "import finn.builder.build_dataflow as build\n",
    "import finn.builder.build_dataflow_config as build_cfg\n",
    "import os\n",
    "from warnings import warn\n",
    "import shutil\n",
    "import json\n",
    "\n",
    "# custom steps for mobilenetv1\n",
    "from src.custom_steps import (\n",
    "    step_mobilenet_streamline,\n",
    "    step_mobilenet_convert_to_hls_layers,\n",
    "    step_mobilenet_convert_to_hls_layers_separate_th,\n",
    "    step_mobilenet_lower_convs,\n",
    "    step_mobilenet_slr_floorplan,\n",
    "    custom_step_partition,\n",
    ")\n",
    "\n",
    "model_file = \"/home/pgeel/FINNv0.8.1_repo/build_KV260/finn/notebooks/MSC_Git_files/mobilenet_v1/models/mobilenetv1-w4a4_pre_post_tidy.onnx\"\n",
    "final_output_dir = \"baseline_build\"\n",
    "\n",
    "folding_config_file = \"/home/pgeel/FINNv0.8.1_repo/build_KV260/finn/notebooks/MSC_Git_files/mobilenet_v1/folding_config/auto_build_folding.json\"\n",
    "#Delete previous run results if exist\n",
    "if os.path.exists(final_output_dir):\n",
    "    shutil.rmtree(final_output_dir)\n",
    "    # os.remove(final_output_dir)\n",
    "    print(\"Previous run results deleted!\")\n",
    "\n",
    "mobilenet_build_steps =  [\n",
    "    step_mobilenet_streamline,\n",
    "    custom_step_partition,\n",
    "    step_mobilenet_lower_convs,\n",
    "    step_mobilenet_convert_to_hls_layers_separate_th,\n",
    "    \"step_create_dataflow_partition\",\n",
    "    \"step_apply_folding_config\",\n",
    "    \"step_generate_estimate_reports\",\n",
    "    \"step_hls_codegen\",\n",
    "    \"step_hls_ipgen\",\n",
    "    \"step_set_fifo_depths\",\n",
    "    \"step_create_stitched_ip\",\n",
    "    \"step_synthesize_bitfile\",\n",
    "    \"step_make_pynq_driver\",\n",
    "    \"step_deployment_package\",\n",
    "]\n",
    "\n",
    "cfg = build.DataflowBuildConfig(\n",
    "    output_dir          = final_output_dir,\n",
    "    steps               = mobilenet_build_steps,\n",
    "    mvau_wwidth_max     = 80,\n",
    "    target_fps          = 25,\n",
    "    synth_clk_period_ns = 10.0,\n",
    "    folding_config_file = folding_config_file,\n",
    "    board               = \"KV260_SOM\",\n",
    "    shell_flow_type     = build_cfg.ShellFlowType.VIVADO_ZYNQ,\n",
    "    generate_outputs=[\n",
    "        build_cfg.DataflowOutputType.BITFILE,\n",
    "        build_cfg.DataflowOutputType.PYNQ_DRIVER,\n",
    "        build_cfg.DataflowOutputType.ESTIMATE_REPORTS,\n",
    "        build_cfg.DataflowOutputType.DEPLOYMENT_PACKAGE,\n",
    "    ]\n",
    ")\n",
    "# try:    \n",
    "build.build_dataflow_cfg(model_file, cfg)        \n",
    "# except:\n",
    "#     pass"
   ]
  },
  {
   "cell_type": "code",
   "execution_count": null,
   "id": "3f362d97",
   "metadata": {},
   "outputs": [],
   "source": [
    "import numpy\n",
    "numpy.__version__\n"
   ]
  },
  {
   "cell_type": "code",
   "execution_count": null,
   "id": "1102a50e",
   "metadata": {},
   "outputs": [],
   "source": [
    "! pip install numpy==1.23.5\n"
   ]
  }
 ],
 "metadata": {
  "kernelspec": {
   "display_name": "Python 3",
   "language": "python",
   "name": "python3"
  },
  "language_info": {
   "codemirror_mode": {
    "name": "ipython",
    "version": 3
   },
   "file_extension": ".py",
   "mimetype": "text/x-python",
   "name": "python",
   "nbconvert_exporter": "python",
   "pygments_lexer": "ipython3",
   "version": "3.8.5"
  },
  "vscode": {
   "interpreter": {
    "hash": "c0480a40de60fe0b4be044949303dbe98ce3610184aeb132e77bccbcbbb8df2a"
   }
  }
 },
 "nbformat": 4,
 "nbformat_minor": 5
}
