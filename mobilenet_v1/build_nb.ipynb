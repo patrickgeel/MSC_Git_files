{
 "cells": [
  {
   "cell_type": "code",
   "execution_count": 1,
   "id": "86868448",
   "metadata": {
    "scrolled": true
   },
   "outputs": [
    {
     "name": "stdout",
     "output_type": "stream",
     "text": [
      "Building dataflow accelerator from /home/pgeel/FINNv0.8.1_repo/build_KV260/finn/notebooks/MSC_Git_files/mobilenet_v1/models/mobilenet_streamline.onnx\n",
      "Intermediate outputs will be generated in /workspace/results\n",
      "Final outputs will be generated in half_baseline_build\n",
      "Build log is at half_baseline_build/build_dataflow.log\n",
      "Running step: custom_step_partition [1/13]\n",
      "Running step: step_mobilenet_lower_convs [2/13]\n",
      "Running step: step_mobilenet_convert_to_hls_layers_separate_th [3/13]\n",
      "Running step: step_create_dataflow_partition [4/13]\n",
      "Running step: step_apply_folding_config [5/13]\n",
      "Running step: step_generate_estimate_reports [6/13]\n",
      "Running step: step_hls_codegen [7/13]\n",
      "Running step: step_hls_ipgen [8/13]\n",
      "Running step: step_set_fifo_depths [9/13]\n",
      "Running step: step_create_stitched_ip [10/13]\n",
      "Running step: step_synthesize_bitfile [11/13]\n",
      "Running step: step_make_pynq_driver [12/13]\n",
      "Running step: step_deployment_package [13/13]\n",
      "Completed successfully\n"
     ]
    },
    {
     "data": {
      "text/plain": [
       "0"
      ]
     },
     "execution_count": 1,
     "metadata": {},
     "output_type": "execute_result"
    }
   ],
   "source": [
    "import finn.builder.build_dataflow as build\n",
    "import finn.builder.build_dataflow_config as build_cfg\n",
    "import os\n",
    "from warnings import warn\n",
    "import shutil\n",
    "import json\n",
    "\n",
    "# custom steps for mobilenetv1\n",
    "from src.custom_steps import (\n",
    "    step_mobilenet_streamline,\n",
    "    step_mobilenet_convert_to_hls_layers,\n",
    "    step_mobilenet_convert_to_hls_layers_separate_th,\n",
    "    step_mobilenet_lower_convs,\n",
    "    step_mobilenet_slr_floorplan,\n",
    "    custom_step_partition,\n",
    ")\n",
    "\n",
    "model_file = \"/home/pgeel/FINNv0.8.1_repo/build_KV260/finn/notebooks/MSC_Git_files/mobilenet_v1/models/mobilenet_streamline.onnx\"\n",
    "final_output_dir = \"half_baseline_build\"\n",
    "\n",
    "folding_config_file = \"/home/pgeel/FINNv0.8.1_repo/build_KV260/finn/notebooks/MSC_Git_files/mobilenet_v1/folding_config/auto_build_folding.json\"\n",
    "#Delete previous run results if exist\n",
    "if os.path.exists(final_output_dir):\n",
    "    shutil.rmtree(final_output_dir)\n",
    "    # os.remove(final_output_dir)\n",
    "    print(\"Previous run results deleted!\")\n",
    "\n",
    "mobilenet_build_steps =  [\n",
    "#     step_mobilenet_streamline,\n",
    "    custom_step_partition,\n",
    "    step_mobilenet_lower_convs,\n",
    "    step_mobilenet_convert_to_hls_layers_separate_th,\n",
    "    \"step_create_dataflow_partition\",\n",
    "    \"step_apply_folding_config\",\n",
    "    \"step_generate_estimate_reports\",\n",
    "    \"step_hls_codegen\",\n",
    "    \"step_hls_ipgen\",\n",
    "    \"step_set_fifo_depths\",\n",
    "    \"step_create_stitched_ip\",\n",
    "    \"step_synthesize_bitfile\",\n",
    "    \"step_make_pynq_driver\",\n",
    "    \"step_deployment_package\",\n",
    "]\n",
    "\n",
    "cfg = build.DataflowBuildConfig(\n",
    "    output_dir          = final_output_dir,\n",
    "    steps               = mobilenet_build_steps,\n",
    "    mvau_wwidth_max     = 80,\n",
    "    target_fps          = 25,\n",
    "    synth_clk_period_ns = 10.0,\n",
    "    folding_config_file = folding_config_file,\n",
    "    board               = \"KV260_SOM\",\n",
    "    shell_flow_type     = build_cfg.ShellFlowType.VIVADO_ZYNQ,\n",
    "    generate_outputs=[\n",
    "        build_cfg.DataflowOutputType.BITFILE,\n",
    "        build_cfg.DataflowOutputType.PYNQ_DRIVER,\n",
    "        build_cfg.DataflowOutputType.ESTIMATE_REPORTS,\n",
    "        build_cfg.DataflowOutputType.DEPLOYMENT_PACKAGE,\n",
    "    ]\n",
    ")\n",
    "# try:    \n",
    "build.build_dataflow_cfg(model_file, cfg)        \n",
    "# except:\n",
    "#     pass"
   ]
  },
  {
   "cell_type": "code",
   "execution_count": 2,
   "id": "3f362d97",
   "metadata": {},
   "outputs": [
    {
     "data": {
      "text/plain": [
       "'1.23.5'"
      ]
     },
     "execution_count": 2,
     "metadata": {},
     "output_type": "execute_result"
    }
   ],
   "source": [
    "import numpy\n",
    "numpy.__version__\n"
   ]
  },
  {
   "cell_type": "code",
   "execution_count": 3,
   "id": "1102a50e",
   "metadata": {},
   "outputs": [
    {
     "name": "stdout",
     "output_type": "stream",
     "text": [
      "^C\r\n",
      "Traceback (most recent call last):\r\n",
      "  File \"/opt/conda/bin/pip\", line 7, in <module>\r\n",
      "    from pip._internal.cli.main import main\r\n",
      "  File \"/opt/conda/lib/python3.8/site-packages/pip/_internal/cli/main.py\", line 10, in <module>\r\n",
      "    from pip._internal.cli.autocompletion import autocomplete\r\n",
      "  File \"/opt/conda/lib/python3.8/site-packages/pip/_internal/cli/autocompletion.py\", line 9, in <module>\r\n",
      "    from pip._internal.cli.main_parser import create_main_parser\r\n",
      "  File \"/opt/conda/lib/python3.8/site-packages/pip/_internal/cli/main_parser.py\", line 7, in <module>\r\n",
      "    from pip._internal.cli import cmdoptions\r\n",
      "  File \"/opt/conda/lib/python3.8/site-packages/pip/_internal/cli/cmdoptions.py\", line 23, in <module>\r\n",
      "    from pip._internal.cli.progress_bars import BAR_TYPES\r\n",
      "  File \"/opt/conda/lib/python3.8/site-packages/pip/_internal/cli/progress_bars.py\", line 8, in <module>\r\n",
      "    from pip._vendor.progress.bar import Bar, FillingCirclesBar, IncrementalBar\r\n",
      "  File \"/opt/conda/lib/python3.8/site-packages/pip/_vendor/progress/__init__.py\", line 18, in <module>\r\n",
      "    from datetime import timedelta\r\n",
      "  File \"<frozen importlib._bootstrap>\", line 991, in _find_and_load\r\n",
      "  File \"<frozen importlib._bootstrap>\", line 975, in _find_and_load_unlocked\r\n",
      "  File \"<frozen importlib._bootstrap>\", line 671, in _load_unlocked\r\n",
      "  File \"<frozen importlib._bootstrap_external>\", line 779, in exec_module\r\n",
      "  File \"<frozen importlib._bootstrap_external>\", line 911, in get_code\r\n",
      "  File \"<frozen importlib._bootstrap_external>\", line 580, in _compile_bytecode\r\n",
      "KeyboardInterrupt\r\n"
     ]
    }
   ],
   "source": [
    "! pip install numpy==1.23.5\n"
   ]
  }
 ],
 "metadata": {
  "kernelspec": {
   "display_name": "Python 3",
   "language": "python",
   "name": "python3"
  },
  "language_info": {
   "codemirror_mode": {
    "name": "ipython",
    "version": 3
   },
   "file_extension": ".py",
   "mimetype": "text/x-python",
   "name": "python",
   "nbconvert_exporter": "python",
   "pygments_lexer": "ipython3",
   "version": "3.9.2 (tags/v3.9.2:1a79785, Feb 19 2021, 13:44:55) [MSC v.1928 64 bit (AMD64)]"
  },
  "vscode": {
   "interpreter": {
    "hash": "c0480a40de60fe0b4be044949303dbe98ce3610184aeb132e77bccbcbbb8df2a"
   }
  }
 },
 "nbformat": 4,
 "nbformat_minor": 5
}
