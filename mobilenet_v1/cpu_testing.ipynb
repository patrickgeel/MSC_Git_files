{
 "cells": [
  {
   "cell_type": "code",
   "execution_count": 3,
   "metadata": {},
   "outputs": [
    {
     "name": "stdout",
     "output_type": "stream",
     "text": [
      "CPU_testing/MultiThreshold_0_out0\n",
      "CPU_testing/MultiThreshold_1_out0\n",
      "CPU_testing/MultiThreshold_2_out0\n",
      "CPU_testing/MultiThreshold_3_out0\n",
      "CPU_testing/MultiThreshold_4_out0\n",
      "CPU_testing/MultiThreshold_5_out0\n",
      "CPU_testing/MultiThreshold_6_out0\n",
      "CPU_testing/MultiThreshold_7_out0\n",
      "CPU_testing/MultiThreshold_8_out0\n",
      "CPU_testing/MultiThreshold_9_out0\n",
      "CPU_testing/MultiThreshold_10_out0\n",
      "CPU_testing/MultiThreshold_11_out0\n",
      "CPU_testing/MultiThreshold_12_out0\n",
      "CPU_testing/MultiThreshold_13_out0\n",
      "CPU_testing/MultiThreshold_14_out0\n",
      "CPU_testing/MultiThreshold_15_out0\n",
      "CPU_testing/MultiThreshold_16_out0\n",
      "CPU_testing/MultiThreshold_17_out0\n",
      "CPU_testing/MultiThreshold_18_out0\n",
      "CPU_testing/MultiThreshold_19_out0\n",
      "CPU_testing/MultiThreshold_20_out0\n",
      "CPU_testing/MultiThreshold_21_out0\n",
      "CPU_testing/MultiThreshold_22_out0\n",
      "CPU_testing/MultiThreshold_23_out0\n",
      "CPU_testing/MultiThreshold_24_out0\n",
      "CPU_testing/MultiThreshold_25_out0\n",
      "CPU_testing/MultiThreshold_26_out0\n"
     ]
    }
   ],
   "source": [
    "from qonnx.util.basic import get_by_name\n",
    "from qonnx.transformation.create_generic_partitions import PartitionFromDict\n",
    "from qonnx.core.modelwrapper import ModelWrapper\n",
    "import os\n",
    "\n",
    "model = ModelWrapper(\"/home/pgeel/FINNv0.8.1_repo/build_KV260/finn/notebooks/MSC_Git_files/mobilenet_v1/models/mobilenet_streamline.onnx\")\n",
    "splits = []\n",
    "for n in model.graph.node:\n",
    "    if n.op_type == 'MultiThreshold':\n",
    "        splits.append(n.output[0])\n",
    "\n",
    "def custom_step_partition(stop_node):\n",
    "    output_dir = os.path.join(\"CPU_testing\",stop_node)\n",
    "    print(output_dir)\n",
    "    \n",
    "    if not os.path.exists(output_dir):\n",
    "        os.makedirs(output_dir)\n",
    "    \n",
    "    upstream_0 = model.find_upstream(stop_node, lambda x: x.name == \"Conv_0\")\n",
    "    wanted_nodes = []\n",
    "    unwanted_nodes = []\n",
    "    for ind, node in enumerate(model.graph.node):\n",
    "        found_0 = get_by_name(upstream_0, node.name, \"name\") is not None\n",
    "        if found_0:\n",
    "            wanted_nodes.append(ind)\n",
    "        else:\n",
    "            unwanted_nodes.append(ind)\n",
    "    parent=model.transform(PartitionFromDict(\n",
    "        partitioning={ 0 : wanted_nodes, 1 : unwanted_nodes }, \n",
    "        partition_dir= output_dir\n",
    "    ))\n",
    "#     return ModelWrapper(output_dir+\"/partition_1.onnx\")\n",
    "\n",
    "for s in splits:\n",
    "    custom_step_partition(s)\n",
    "\n"
   ]
  },
  {
   "cell_type": "code",
   "execution_count": 13,
   "metadata": {},
   "outputs": [
    {
     "name": "stdout",
     "output_type": "stream",
     "text": [
      "MultiThreshold_0_out0/partition_1.onnx\n",
      "MultiThreshold_1_out0/partition_1.onnx\n",
      "MultiThreshold_2_out0/partition_1.onnx\n",
      "MultiThreshold_3_out0/partition_1.onnx\n",
      "MultiThreshold_4_out0/partition_1.onnx\n",
      "MultiThreshold_5_out0/partition_1.onnx\n",
      "MultiThreshold_6_out0/partition_1.onnx\n",
      "MultiThreshold_7_out0/partition_1.onnx\n",
      "MultiThreshold_8_out0/partition_1.onnx\n",
      "MultiThreshold_9_out0/partition_1.onnx\n",
      "MultiThreshold_10_out0/partition_1.onnx\n",
      "MultiThreshold_11_out0/partition_1.onnx\n",
      "MultiThreshold_12_out0/partition_1.onnx\n",
      "MultiThreshold_13_out0/partition_1.onnx\n",
      "MultiThreshold_14_out0/partition_1.onnx\n",
      "MultiThreshold_15_out0/partition_1.onnx\n",
      "MultiThreshold_16_out0/partition_1.onnx\n",
      "MultiThreshold_17_out0/partition_1.onnx\n",
      "MultiThreshold_18_out0/partition_1.onnx\n",
      "MultiThreshold_19_out0/partition_1.onnx\n",
      "MultiThreshold_20_out0/partition_1.onnx\n",
      "MultiThreshold_21_out0/partition_1.onnx\n",
      "MultiThreshold_22_out0/partition_1.onnx\n",
      "MultiThreshold_23_out0/partition_1.onnx\n",
      "MultiThreshold_24_out0/partition_1.onnx\n",
      "MultiThreshold_25_out0/partition_1.onnx\n",
      "MultiThreshold_26_out0/partition_1.onnx\n"
     ]
    }
   ],
   "source": [
    "# CPU_TESTING\n",
    "for i in os.listdir(\"CPU_testing\"):\n",
    "    file = os.path.join(os.path.relpath(i),\"partition_1.onnx\")\n",
    "#     Place onnx runtime code here, need to generate dummy data to pass to the onnx graph.\n",
    "    print(file)"
   ]
  }
 ],
 "metadata": {
  "kernelspec": {
   "display_name": "Python 3",
   "language": "python",
   "name": "python3"
  },
  "language_info": {
   "codemirror_mode": {
    "name": "ipython",
    "version": 3
   },
   "file_extension": ".py",
   "mimetype": "text/x-python",
   "name": "python",
   "nbconvert_exporter": "python",
   "pygments_lexer": "ipython3",
   "version": "3.8.5"
  }
 },
 "nbformat": 4,
 "nbformat_minor": 2
}
