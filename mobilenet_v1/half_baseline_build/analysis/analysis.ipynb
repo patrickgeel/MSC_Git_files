{
 "cells": [
  {
   "cell_type": "code",
   "execution_count": 1,
   "metadata": {},
   "outputs": [],
   "source": [
    "import pandas as pd\n",
    "import matplotlib.pyplot as plt\n",
    "import seaborn as sns\n",
    "import numpy as np\n",
    "import json\n",
    "import os"
   ]
  },
  {
   "cell_type": "code",
   "execution_count": 2,
   "metadata": {},
   "outputs": [],
   "source": [
    "rpt_file = \"../report/\"\n",
    "\n",
    "KV260_max_usage = {\"BRAM_18K\": 144,\n",
    "\"LUT\": 117120,\n",
    "\"URAM\": 64,\n",
    "\"DSP\": 1248}\n",
    "# Estimated resource usage\n",
    "with open(rpt_file+\"estimate_layer_resources.json\") as file:\n",
    "    est_data = json.load(file)"
   ]
  },
  {
   "cell_type": "code",
   "execution_count": 3,
   "metadata": {},
   "outputs": [],
   "source": [
    "df = pd.DataFrame.from_dict(est_data)\n",
    "df = df.T\n",
    "df.drop(\"total\")\n",
    "usage = {}\n",
    "usage[\"Total Resource usage\"] = df.sum().to_dict()\n",
    "usage[\"KV260 max resource usage\"] = KV260_max_usage\n",
    "usage_df = pd.DataFrame.from_dict(usage)\n",
    "usage_df\n",
    "# # sns.barplot(x = usage_df.index, y = usage_df[\"Resource usage\"].values)\n",
    "usage_df.to_csv(rpt_file+\"estimate_resource_usage.csv\")\n",
    "# usage_df"
   ]
  },
  {
   "cell_type": "code",
   "execution_count": 116,
   "metadata": {},
   "outputs": [],
   "source": [
    "with open (\"../verification/total_runtime_metrics.json\", 'r') as f:\n",
    "    data = json.load(f)\n",
    "\n",
    "df = pd.DataFrame(data)\n",
    "fpga_metrics = df[[\"FPGA_metrics\",\"FPGA throughput metrics\"]]\n",
    "df = df.dropna()\n",
    "df = df.rename(index = {\"runtime[ms]\":\"Half baseline\"})\n",
    "# fpga_metrics\n",
    "\n",
    "df[\"Runtime[ms]\"] = df[\"FPGA_metrics\"] + df[\"CPU partition runtime\"]\n",
    "# # print(df)\n",
    "df.to_csv(\"../report/runtime_metrics.csv\")\n",
    "fpga_metrics.to_csv(\"../report/fpga_metrics.csv\")\n"
   ]
  },
  {
   "cell_type": "code",
   "execution_count": 37,
   "metadata": {},
   "outputs": [
    {
     "name": "stderr",
     "output_type": "stream",
     "text": [
      "c:\\Users\\Patrick\\AppData\\Local\\Programs\\Python\\Python39\\lib\\site-packages\\qonnx\\core\\modelwrapper.py:93: UserWarning: Some old-style domain attributes were automatically converted to new-style,\n",
      "                i.e. domain=finn to domain=qonnx.custom_op.<general|fpgadataflow|...>\n",
      "  warnings.warn(\n"
     ]
    },
    {
     "data": {
      "image/png": "[encoded data removed]",
      "text/plain": [
       "<Figure size 432x288 with 1 Axes>"
      ]
     },
     "metadata": {
      "needs_background": "light"
     },
     "output_type": "display_data"
    }
   ],
   "source": [
    "from qonnx.core.modelwrapper import ModelWrapper\n",
    "import numpy as np\n",
    "\n",
    "model = ModelWrapper(\"../verification/partition_0.onnx\")\n",
    "stop_output = model.graph.output[0].name\n",
    "\n",
    "base_model = ModelWrapper(\"../../models/mobilenetv1-w4a4_pre_post_tidy.onnx\")\n",
    "\n",
    "ops = []\n",
    "for n in base_model.graph.node:\n",
    "    if stop_output != n.output[0]:\n",
    "        ops.append(n.op_type)\n",
    "    elif stop_output == n.output[0]:\n",
    "        ops.append(n.op_type)\n",
    "        break\n",
    "ops = np.array(ops)\n",
    "[op,cnt] = np.unique(ops,return_counts=True)\n",
    "op_dict = {}\n",
    "for i,val in enumerate(op):\n",
    "    op_dict[val]= cnt[i]\n",
    "with open(\"../../baseline_build/report/Op_counts_baseline.json\", 'r') as f:\n",
    "    baseline_ops = json.load(f)\n",
    "\n",
    "df = pd.DataFrame([baseline_ops,op_dict],index=[\"Baseline\", \"Half_baseline\"],dtype=np.float32)\n",
    "df.to_csv('../report/Op_counts.csv')\n",
    "df.T.plot(kind='bar')\n",
    "plt.ylabel(\"Operation count\")\n",
    "plt.title(\"Number of Operations pre streamlining\")\n",
    "plt.tight_layout()\n",
    "plt.savefig(\"num_ops.svg\")"
   ]
  }
 ],
 "metadata": {
  "kernelspec": {
   "display_name": "Python 3",
   "language": "python",
   "name": "python3"
  },
  "language_info": {
   "codemirror_mode": {
    "name": "ipython",
    "version": 3
   },
   "file_extension": ".py",
   "mimetype": "text/x-python",
   "name": "python",
   "nbconvert_exporter": "python",
   "pygments_lexer": "ipython3",
   "version": "3.9.2"
  },
  "orig_nbformat": 4,
  "vscode": {
   "interpreter": {
    "hash": "c0480a40de60fe0b4be044949303dbe98ce3610184aeb132e77bccbcbbb8df2a"
   }
  }
 },
 "nbformat": 4,
 "nbformat_minor": 2
}
