{
 "cells": [
  {
   "cell_type": "code",
   "execution_count": null,
   "id": "8cb7d7fb",
   "metadata": {},
   "outputs": [],
   "source": [
    "import os\n",
    "import shutil\n",
    "for ls in os.listdir():\n",
    "    base = os.path.abspath(ls)\n",
    "    if os.path.isdir(ls) and \"Multi\" in ls:\n",
    "\n",
    "        bitfile_dir = os.path.join(base,\"bitfile\",\"finn-accel.bit\")\n",
    "        src = os.path.join(base,\"deploy\",\"driver\")\n",
    "        \n",
    "        throughput_file = os.path.join(src,ls+\"_throughput.py\")\n",
    "        \n",
    "        if os.path.exists(throughput_file):\n",
    "#             ! ls {throughput_file}         \n",
    "#             ! rm {throughput_file}\n",
    "#             ! cat {throughput_file}\n",
    "            ! python {throughput_file} {bitfile_dir} {src}   \n",
    "        else:\n",
    "            shutil.copy2(\"template.py\",throughput_file)"
   ]
  },
  {
   "cell_type": "code",
   "execution_count": 5,
   "id": "3540ebd6",
   "metadata": {},
   "outputs": [
    {
     "name": "stdout",
     "output_type": "stream",
     "text": [
      "/home/root/jupyter_notebooks/MSC_Git_files/mobilenet_v1/testing/MultiThreshold_6_out0/deploy/driver/hw_metrics.json\n",
      "/home/root/jupyter_notebooks/MSC_Git_files/mobilenet_v1/testing/MultiThreshold_13_out0/deploy/driver/hw_metrics.json\n",
      "/home/root/jupyter_notebooks/MSC_Git_files/mobilenet_v1/testing/MultiThreshold_12_out0/deploy/driver/hw_metrics.json\n",
      "/home/root/jupyter_notebooks/MSC_Git_files/mobilenet_v1/testing/MultiThreshold_2_out0/deploy/driver/hw_metrics.json\n",
      "/home/root/jupyter_notebooks/MSC_Git_files/mobilenet_v1/testing/MultiThreshold_0_out0/deploy/driver/hw_metrics.json\n",
      "/home/root/jupyter_notebooks/MSC_Git_files/mobilenet_v1/testing/MultiThreshold_3_out0/deploy/driver/hw_metrics.json\n",
      "/home/root/jupyter_notebooks/MSC_Git_files/mobilenet_v1/testing/MultiThreshold_9_out0/deploy/driver/hw_metrics.json\n",
      "/home/root/jupyter_notebooks/MSC_Git_files/mobilenet_v1/testing/MultiThreshold_10_out0/deploy/driver/hw_metrics.json\n",
      "/home/root/jupyter_notebooks/MSC_Git_files/mobilenet_v1/testing/MultiThreshold_8_out0/deploy/driver/hw_metrics.json\n",
      "/home/root/jupyter_notebooks/MSC_Git_files/mobilenet_v1/testing/MultiThreshold_5_out0/deploy/driver/hw_metrics.json\n",
      "/home/root/jupyter_notebooks/MSC_Git_files/mobilenet_v1/testing/MultiThreshold_7_out0/deploy/driver/hw_metrics.json\n",
      "/home/root/jupyter_notebooks/MSC_Git_files/mobilenet_v1/testing/MultiThreshold_15_out0/deploy/driver/hw_metrics.json\n",
      "/home/root/jupyter_notebooks/MSC_Git_files/mobilenet_v1/testing/MultiThreshold_11_out0/deploy/driver/hw_metrics.json\n",
      "/home/root/jupyter_notebooks/MSC_Git_files/mobilenet_v1/testing/MultiThreshold_4_out0/deploy/driver/hw_metrics.json\n",
      "/home/root/jupyter_notebooks/MSC_Git_files/mobilenet_v1/testing/MultiThreshold_14_out0/deploy/driver/hw_metrics.json\n",
      "/home/root/jupyter_notebooks/MSC_Git_files/mobilenet_v1/testing/MultiThreshold_1_out0/deploy/driver/hw_metrics.json\n"
     ]
    }
   ],
   "source": [
    "for ls in os.listdir():\n",
    "    base = os.path.abspath(ls)\n",
    "    if os.path.isdir(ls) and \"Multi\" in ls:\n",
    "\n",
    "        bitfile_dir = os.path.join(base,\"bitfile\",\"finn-accel.bit\")\n",
    "        src = os.path.join(base,\"deploy\",\"driver\",\"hw_metrics.json\")\n",
    "        if os.path.exist(src):\n",
    "            pd"
   ]
  }
 ],
 "metadata": {
  "kernelspec": {
   "display_name": "Python 3 (ipykernel)",
   "language": "python",
   "name": "python3"
  },
  "language_info": {
   "codemirror_mode": {
    "name": "ipython",
    "version": 3
   },
   "file_extension": ".py",
   "mimetype": "text/x-python",
   "name": "python",
   "nbconvert_exporter": "python",
   "pygments_lexer": "ipython3",
   "version": "3.10.6"
  }
 },
 "nbformat": 4,
 "nbformat_minor": 5
}
