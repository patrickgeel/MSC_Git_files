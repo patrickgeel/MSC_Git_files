{
 "cells": [
  {
   "cell_type": "code",
   "execution_count": 2,
   "metadata": {
    "scrolled": true
   },
   "outputs": [
    {
     "name": "stdout",
     "output_type": "stream",
     "text": [
      "---------------------------------------- Mul_0_out0 ----------------------------------------\n",
      "---------------------------------------- Mul_5_out0 ----------------------------------------\n",
      "---------------------------------------- Mul_10_out0 ----------------------------------------\n",
      "---------------------------------------- Mul_15_out0 ----------------------------------------\n",
      "---------------------------------------- Mul_20_out0 ----------------------------------------\n",
      "---------------------------------------- Mul_25_out0 ----------------------------------------\n",
      "---------------------------------------- Mul_30_out0 ----------------------------------------\n",
      "---------------------------------------- Mul_35_out0 ----------------------------------------\n",
      "---------------------------------------- Mul_40_out0 ----------------------------------------\n",
      "---------------------------------------- Mul_45_out0 ----------------------------------------\n",
      "---------------------------------------- Mul_50_out0 ----------------------------------------\n"
     ]
    }
   ],
   "source": [
    "import sys \n",
    "sys.path.insert(1, \"src/\")\n",
    "from split_model import split_model\n",
    "from auto_build import bit_build, estimate_report, fits_kv260\n",
    "from multiprocessing import Process\n",
    "from qonnx.core.modelwrapper import ModelWrapper\n",
    "\n",
    "def get_processes():\n",
    "    model = ModelWrapper(\"{}/{}\".format(args.model_dir,args.model_file))\n",
    "    model_dir = args.model_dir\n",
    "    \n",
    "    processes = []\n",
    "    op_type = args.split_op_type\n",
    "    print(model_dir)\n",
    "    splits = []\n",
    "    for n in model.graph.node:\n",
    "        if n.op_type == op_type:\n",
    "            splits.append(n.output)\n",
    "\n",
    "    for sn in splits[0::args.jumps_per_op]:\n",
    "        split_node = sn[0] \n",
    "        print(\"--\"*20,split_node, \"--\"*20)\n",
    "        # Split model to get a new model\n",
    "        model_file = split_model(split_node,op_type,model_dir)\n",
    "        print(model_file)\n",
    "\n",
    "        # Estimate reports\n",
    "        final_output_dir = \"build-KV260/estimation/{}/{}\".format(op_type,split_node)        \n",
    "        # final_output_dir = \"build-{}/{}/{}\".format(\"KV260\",op_type,split_node)        \n",
    "        folding_config_file = \"folding_config/auto_build_folding.json\"\n",
    "        estimate_report(model_file,final_output_dir,folding_config_file)\n",
    "\n",
    "        # Check if estimate fits on KV260, If fits make a bit file\n",
    "        resource_report = \"{}/report/estimate_layer_resources.json\".format(final_output_dir)\n",
    "        if fits_kv260(resource_report):\n",
    "            final_output_dir = \"build-{}/{}/{}\".format(\"KV260\",op_type, split_node)\n",
    "            processes.append(Process(target=bit_build,args=(model_file,final_output_dir,folding_config_file,split_node,)))\n",
    "        else:\n",
    "            print(\"--\"*20,\"Does not fit\", \"--\"*20)\n",
    "            print(\"\\t\"*20, split_node)\n",
    "#             ! rm -rf {model_file}\n",
    "            break\n",
    "    return processes\n",
    "\n",
    "if __name__ == \"__main__\":\n",
    "    pids = get_processes()\n",
    "    for p in pids:\n",
    "        p.start()\n",
    "    for p in pids:\n",
    "        p.join()"
   ]
  },
  {
   "cell_type": "code",
   "execution_count": 2,
   "metadata": {},
   "outputs": [
    {
     "name": "stdout",
     "output_type": "stream",
     "text": [
      "----------------------------------------\n"
     ]
    }
   ],
   "source": [
    "print(\"--\"*20,\"Does not fit\", \"--\"*20)"
   ]
  }
 ],
 "metadata": {
  "kernelspec": {
   "display_name": "Python 3",
   "language": "python",
   "name": "python3"
  },
  "language_info": {
   "codemirror_mode": {
    "name": "ipython",
    "version": 3
   },
   "file_extension": ".py",
   "mimetype": "text/x-python",
   "name": "python",
   "nbconvert_exporter": "python",
   "pygments_lexer": "ipython3",
   "version": "3.8.5"
  },
  "vscode": {
   "interpreter": {
    "hash": "c0480a40de60fe0b4be044949303dbe98ce3610184aeb132e77bccbcbbb8df2a"
   }
  }
 },
 "nbformat": 4,
 "nbformat_minor": 2
}
