{
 "cells": [
  {
   "cell_type": "code",
   "execution_count": 1,
   "id": "b50002c1",
   "metadata": {
    "scrolled": true
   },
   "outputs": [
    {
     "name": "stdout",
     "output_type": "stream",
     "text": [
      "models/BatchNormalization_4_out0/partition_0.onnx\n",
      "Previous intermeditate build deleted!\n",
      "Previous run results deleted!\n"
     ]
    }
   ],
   "source": [
    "import finn.builder.build_dataflow as build\n",
    "import finn.builder.build_dataflow_config as build_cfg\n",
    "import os\n",
    "from warnings import warn\n",
    "import shutil\n",
    "\n",
    "# custom steps for mobilenetv1\n",
    "from custom_steps import (\n",
    "    step_mobilenet_streamline,\n",
    "    step_mobilenet_convert_to_hls_layers,\n",
    "    step_mobilenet_convert_to_hls_layers_separate_th,\n",
    "    step_mobilenet_lower_convs,\n",
    "    step_mobilenet_slr_floorplan,\n",
    ")\n",
    "\n",
    "split_node = \"BatchNormalization_4_out0\"\n",
    "model_file = os.path.join(\"models\",split_node,\"partition_0.onnx\")\n",
    "print(model_file)\n",
    "board = \"KV260_SOM\"\n",
    "\n",
    "final_output_dir = \"build-{}/{}\".format(board,split_node)\n",
    "os.environ[\"FINN_BUILD_DIR\"] = \"/workspace/results/%s/%s\" %(board,split_node)\n",
    "inter_build_dir = os.environ[\"FINN_BUILD_DIR\"]\n",
    "\n",
    "if os.path.exists(inter_build_dir):\n",
    "    shutil.rmtree(inter_build_dir)\n",
    "    print(\"Previous intermeditate build deleted!\")\n",
    "\n",
    "#Delete previous run results if exist\n",
    "if os.path.exists(final_output_dir):\n",
    "    shutil.rmtree(final_output_dir)\n",
    "    print(\"Previous run results deleted!\")\n",
    "    \n",
    "mobilenet_build_steps =  [\n",
    "    step_mobilenet_streamline,\n",
    "    step_mobilenet_lower_convs,\n",
    "    step_mobilenet_convert_to_hls_layers_separate_th,\n",
    "    \"step_create_dataflow_partition\",\n",
    "    \"step_apply_folding_config\",\n",
    "    \"step_generate_estimate_reports\",\n",
    "    \"step_hls_codegen\",\n",
    "    \"step_hls_ipgen\",\n",
    "    \"step_set_fifo_depths\",\n",
    "    \"step_create_stitched_ip\",\n",
    "    \"step_synthesize_bitfile\",\n",
    "    \"step_make_pynq_driver\",\n",
    "    \"step_deployment_package\",\n",
    "]\n",
    "\n",
    "folding_config_file = \"folding_config/BatchNormalization_4_out0_folding.json\"\n",
    "\n",
    "cfg = build.DataflowBuildConfig(\n",
    "    output_dir          = final_output_dir,\n",
    "    steps               = mobilenet_build_steps,\n",
    "    mvau_wwidth_max     = 80,\n",
    "    target_fps          = 50,\n",
    "    synth_clk_period_ns = 10.0,\n",
    "    folding_config_file = folding_config_file,\n",
    "    board               = board,\n",
    "    shell_flow_type     = build_cfg.ShellFlowType.VIVADO_ZYNQ,\n",
    "    generate_outputs=[\n",
    "        build_cfg.DataflowOutputType.BITFILE,\n",
    "        build_cfg.DataflowOutputType.PYNQ_DRIVER,\n",
    "        build_cfg.DataflowOutputType.ESTIMATE_REPORTS,\n",
    "        build_cfg.DataflowOutputType.DEPLOYMENT_PACKAGE,\n",
    "    ]\n",
    ")"
   ]
  },
  {
   "cell_type": "code",
   "execution_count": 2,
   "id": "eb640ebe",
   "metadata": {
    "scrolled": true
   },
   "outputs": [
    {
     "name": "stdout",
     "output_type": "stream",
     "text": [
      "Building dataflow accelerator from models/BatchNormalization_4_out0/partition_0.onnx\n",
      "Intermediate outputs will be generated in /workspace/results/KV260_SOM/BatchNormalization_4_out0\n",
      "Final outputs will be generated in build-KV260_SOM/BatchNormalization_4_out0\n",
      "Build log is at build-KV260_SOM/BatchNormalization_4_out0/build_dataflow.log\n",
      "Running step: step_mobilenet_streamline [1/13]\n",
      "Running step: step_mobilenet_lower_convs [2/13]\n",
      "Running step: step_mobilenet_convert_to_hls_layers_separate_th [3/13]\n",
      "Running step: step_create_dataflow_partition [4/13]\n",
      "Running step: step_apply_folding_config [5/13]\n",
      "Running step: step_generate_estimate_reports [6/13]\n",
      "Running step: step_hls_codegen [7/13]\n",
      "Running step: step_hls_ipgen [8/13]\n",
      "Running step: step_set_fifo_depths [9/13]\n",
      "Running step: step_create_stitched_ip [10/13]\n",
      "Running step: step_synthesize_bitfile [11/13]\n",
      "Running step: step_make_pynq_driver [12/13]\n",
      "Running step: step_deployment_package [13/13]\n",
      "Completed successfully\n"
     ]
    },
    {
     "data": {
      "text/plain": [
       "0"
      ]
     },
     "execution_count": 2,
     "metadata": {},
     "output_type": "execute_result"
    }
   ],
   "source": [
    "build.build_dataflow_cfg(model_file, cfg)"
   ]
  }
 ],
 "metadata": {
  "kernelspec": {
   "display_name": "Python 3",
   "language": "python",
   "name": "python3"
  },
  "language_info": {
   "codemirror_mode": {
    "name": "ipython",
    "version": 3
   },
   "file_extension": ".py",
   "mimetype": "text/x-python",
   "name": "python",
   "nbconvert_exporter": "python",
   "pygments_lexer": "ipython3",
   "version": "3.8.5"
  }
 },
 "nbformat": 4,
 "nbformat_minor": 5
}
