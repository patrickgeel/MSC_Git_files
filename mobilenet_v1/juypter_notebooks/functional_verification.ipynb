{
 "cells": [
  {
   "cell_type": "code",
   "execution_count": 100,
   "id": "15eb5af7",
   "metadata": {},
   "outputs": [],
   "source": [
    "import sys \n",
    "sys.path.insert(1,\"../src/\")"
   ]
  },
  {
   "cell_type": "markdown",
   "id": "47734e01",
   "metadata": {},
   "source": [
    "# Create dummy inputs and store in the correct model directory \n",
    "For the moment want to create dummy input data, and keep this constant such that it does not change. Use this data to verify that the hw + cpu run has the same output as the expected output."
   ]
  },
  {
   "cell_type": "code",
   "execution_count": 119,
   "id": "c23aeada",
   "metadata": {},
   "outputs": [
    {
     "name": "stdout",
     "output_type": "stream",
     "text": [
      "data  partition_0.onnx\tpartition_1.onnx\n",
      "data  partition_0.onnx\tpartition_1.onnx\n",
      "data  partition_0.onnx\tpartition_1.onnx\n",
      "data  partition_0.onnx\tpartition_1.onnx\n",
      "data  partition_0.onnx\tpartition_1.onnx\n",
      "data  partition_0.onnx\tpartition_1.onnx\n"
     ]
    }
   ],
   "source": [
    "import numpy as np\n",
    "import os\n",
    "import shutil\n",
    "\n",
    "clear_data = False\n",
    "\n",
    "# Create a directory with relative info\n",
    "model_dict = {}\n",
    "\n",
    "# Get the onnx model directory\n",
    "md = \"../models\"\n",
    "op_type = \"Conv\"\n",
    "\n",
    "# Get the model hw directory where the driver file is located.\n",
    "build_dir = \"../build-KV260/\"\n",
    "\n",
    "# Get split names for created hw files\n",
    "split_dirs = [s for s in os.listdir(os.path.join(build_dir,op_type))]\n",
    "\n",
    "# Fill the model dict\n",
    "for split_name in split_dirs:\n",
    "    hw_base_folder = os.path.join(build_dir,op_type,split_name,\"deploy\")\n",
    "    model_base_folder = os.path.join(md,op_type,split_name)\n",
    "    if clear_data:\n",
    "        shutil.rmtree(f\"{model_base_folder}/data\")\n",
    "    ! ls {model_base_folder}\n",
    "    model_dict[split_name] = {\"model_dir\": model_base_folder, \"hw_dir\": hw_base_folder}\n"
   ]
  },
  {
   "cell_type": "code",
   "execution_count": 120,
   "id": "80f917ab",
   "metadata": {},
   "outputs": [],
   "source": [
    "# Create dummy data for the moment\n",
    "for k,v in model_dict.items():\n",
    "    sd = v[\"model_dir\"] + \"/data\"\n",
    "    if not os.path.exists(sd):\n",
    "        os.mkdir(sd)\n",
    "        x = np.random.random([1,3,224,224])\n",
    "        np.save(f\"{sd}/{k}_input.npy\",x)\n",
    "        v[\"data_dir\"] = sd\n",
    "    else:\n",
    "        v[\"data_dir\"] = sd"
   ]
  },
  {
   "cell_type": "markdown",
   "id": "b698ec1f",
   "metadata": {},
   "source": [
    "# Get golden output \n",
    "For each of the inputs get the expected output from the baseline model"
   ]
  },
  {
   "cell_type": "code",
   "execution_count": 121,
   "id": "ac653e36",
   "metadata": {},
   "outputs": [],
   "source": [
    "from qonnx.core.modelwrapper import ModelWrapper\n",
    "from onnxruntime_extensions import get_library_path\n",
    "import onnxruntime as ort\n",
    "from custom_ort_functions import set_multithreshold_default\n",
    "# TODO: ADD THIS STEP TO THE CUSTOM_ORT_FUNCTIONS\n",
    "from qonnx.transformation.double_to_single_float import DoubleToSingleFloat\n",
    "\n",
    "# Load input streamlined model\n",
    "mf = \"../models/mobilenet_streamline.onnx\"\n",
    "model = ModelWrapper(mf)\n",
    "model = model.transform(DoubleToSingleFloat())\n",
    "set_multithreshold_default(model,mf.replace('.onnx',\"_ort.onnx\"))\n",
    "\n",
    "# Set up a session for \n",
    "so = ort.SessionOptions()\n",
    "so.register_custom_ops_library(get_library_path())\n",
    "sess = ort.InferenceSession(mf.replace('.onnx',\"_ort.onnx\"), so)\n",
    "\n",
    "for k,v in model_dict.items():\n",
    "    data_dir = v[\"data_dir\"]\n",
    "    x = np.load(f\"{data_dir}/{k}_input.npy\")\n",
    "    inp_dict = {inp_name: x.astype(np.float32)}\n",
    "    _gld_res = sess.run([],inp_dict)\n",
    "    np.save(f\"{data_dir}/{k}_gld_output.npy\",_gld_res)"
   ]
  },
  {
   "cell_type": "markdown",
   "id": "349d9431",
   "metadata": {},
   "source": []
  },
  {
   "cell_type": "code",
   "execution_count": null,
   "id": "7485ea7e",
   "metadata": {},
   "outputs": [],
   "source": []
  },
  {
   "cell_type": "code",
   "execution_count": null,
   "id": "78159ea7",
   "metadata": {},
   "outputs": [],
   "source": []
  }
 ],
 "metadata": {
  "kernelspec": {
   "display_name": "Python 3 (ipykernel)",
   "language": "python",
   "name": "python3"
  },
  "language_info": {
   "codemirror_mode": {
    "name": "ipython",
    "version": 3
   },
   "file_extension": ".py",
   "mimetype": "text/x-python",
   "name": "python",
   "nbconvert_exporter": "python",
   "pygments_lexer": "ipython3",
   "version": "3.10.6"
  }
 },
 "nbformat": 4,
 "nbformat_minor": 5
}
