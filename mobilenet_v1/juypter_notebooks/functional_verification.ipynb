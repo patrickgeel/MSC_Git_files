{
 "cells": [
  {
   "cell_type": "markdown",
   "id": "a7eb48fb",
   "metadata": {},
   "source": [
    "# Create dummy inputs and store in the correct model directory \n",
    "For the moment want to create dummy input data, and keep this constant such that it does not change. Use this data to verify that the hw + cpu run has the same output as the expected output."
   ]
  },
  {
   "cell_type": "code",
   "execution_count": 10,
   "id": "6aaab21f",
   "metadata": {},
   "outputs": [],
   "source": [
    "import numpy as np\n",
    "import os"
   ]
  },
  {
   "cell_type": "code",
   "execution_count": null,
   "id": "f7d9bf8c",
   "metadata": {},
   "outputs": [],
   "source": []
  },
  {
   "cell_type": "markdown",
   "id": "1e4fb763",
   "metadata": {},
   "source": [
    "# Get expected output \n",
    "For each of the inputs get the expected output from the baseline model"
   ]
  },
  {
   "cell_type": "code",
   "execution_count": 26,
   "id": "bb352305",
   "metadata": {},
   "outputs": [
    {
     "data": {
      "text/plain": [
       "[array([[644, 818, 530, 111, 626]], dtype=int64)]"
      ]
     },
     "execution_count": 26,
     "metadata": {},
     "output_type": "execute_result"
    }
   ],
   "source": [
    "from qonnx.core.modelwrapper import ModelWrapper\n",
    "from onnxruntime_extensions import get_library_path\n",
    "import onnxruntime as ort\n",
    "import sys \n",
    "from qonnx.transformation.double_to_single_float import DoubleToSingleFloat\n",
    "sys.path.insert(1,\"../src/\")\n",
    "from custom_ort_functions import set_multithreshold_default\n",
    "\n",
    "mf = \"../models/mobilenet_streamline.onnx\"\n",
    "model = ModelWrapper(mf)\n",
    "model = model.transform(DoubleToSingleFloat())\n",
    "# for n in model.graph.node:\n",
    "#     if n.name == \"AveragePool_0\":\n",
    "#         print(n.attribute)\n",
    "\n",
    "set_multithreshold_default(model,mf.replace('.onnx',\"_ort.onnx\"))\n",
    "\n",
    "\n",
    "\n",
    "so = ort.SessionOptions()\n",
    "so.register_custom_ops_library(get_library_path())\n",
    "sess = ort.InferenceSession(mf.replace('.onnx',\"_ort.onnx\"), so)\n",
    "inp_shape = sess.get_inputs()[0].shape\n",
    "inp_name = sess.get_inputs()[0].name\n",
    "inp_type = sess.get_inputs()[0].type\n",
    "\n",
    "dtype = \"\"\n",
    "if \"float\" in inp_type:\n",
    "    dtype = np.float32\n",
    "elif \"int\" in inp_type:\n",
    "    dtype = np.int\n",
    "inp_dict = {inp_name: np.random.random(inp_shape).astype(dtype)}\n",
    "\n",
    "res = sess.run([],inp_dict)\n",
    "res"
   ]
  }
 ],
 "metadata": {
  "kernelspec": {
   "display_name": "Python 3 (ipykernel)",
   "language": "python",
   "name": "python3"
  },
  "language_info": {
   "codemirror_mode": {
    "name": "ipython",
    "version": 3
   },
   "file_extension": ".py",
   "mimetype": "text/x-python",
   "name": "python",
   "nbconvert_exporter": "python",
   "pygments_lexer": "ipython3",
   "version": "3.10.6"
  }
 },
 "nbformat": 4,
 "nbformat_minor": 5
}
