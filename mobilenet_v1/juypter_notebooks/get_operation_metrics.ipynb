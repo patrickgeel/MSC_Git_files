{
 "cells": [
  {
   "cell_type": "code",
   "execution_count": 3,
   "metadata": {},
   "outputs": [],
   "source": [
    "import os\n",
    "import pandas as pd\n",
    "import numpy as np\n",
    "from onnx import load_model\n",
    "\n",
    "def get_op_counts(\n",
    "    model_dir,\n",
    "):\n",
    "    ops = []\n",
    "    model = load_model(model_dir)\n",
    "    for n in model.graph.node:\n",
    "        ops.append(n.op_type)\n",
    "    operations, counts = np.unique(np.array(ops), return_counts=True)\n",
    "    op_dict = dict(zip(operations, counts.astype(str)))\n",
    "    return op_dict\n",
    "\n",
    "\n",
    "op_type = \"BatchNormalization\"\n",
    "model_dir = \"../models/{}/\".format(op_type)\n",
    "partion_dir = os.listdir(model_dir)\n",
    "metrics_0, metrics_1 = {}, {}\n",
    "\n",
    "for mf in partion_dir:\n",
    "    node_split = mf\n",
    "    dir = os.path.join(model_dir, mf)\n",
    "    if os.path.isdir(dir):\n",
    "        # print(dir)\n",
    "        files = [os.path.join(dir, f) for f in os.listdir(\n",
    "            dir) if (f.endswith(\"0.onnx\") or f.endswith(\"1.onnx\"))]\n",
    "        for f in files:\n",
    "            partition = f.split(\"\\\\\")[-1].split('.onnx')[0]\n",
    "            ops = get_op_counts(f)\n",
    "\n",
    "            if partition == \"partition_0\":\n",
    "                metrics_0[node_split] = ops\n",
    "            elif partition == \"partition_1\":\n",
    "                metrics_1[node_split] = ops\n",
    "\n",
    "def generate_csv_file(metrics:list):\n",
    "    df_0 = pd.DataFrame(metrics[0])\n",
    "    df_1 = pd.DataFrame(metrics[1])\n",
    "    # print(model_dir)\n",
    "    if not os.path.exists(\"{}/metrics\".format(model_dir)):\n",
    "        os.makedirs(\"{}/metrics\".format(model_dir))\n",
    "    df_0.to_csv(\"{}/metrics/op_count_{}_partition_0.csv\".format(model_dir, op_type))\n",
    "    df_1.to_csv(\"{}/metrics/op_count_{}_partition_1.csv\".format(model_dir, op_type))\n",
    "\n",
    "generate_csv_file([metrics_0,metrics_1])"
   ]
  },
  {
   "cell_type": "code",
   "execution_count": null,
   "metadata": {},
   "outputs": [],
   "source": []
  }
 ],
 "metadata": {
  "kernelspec": {
   "display_name": "Python 3.9.2 64-bit",
   "language": "python",
   "name": "python3"
  },
  "language_info": {
   "codemirror_mode": {
    "name": "ipython",
    "version": 3
   },
   "file_extension": ".py",
   "mimetype": "text/x-python",
   "name": "python",
   "nbconvert_exporter": "python",
   "pygments_lexer": "ipython3",
   "version": "3.9.2"
  },
  "orig_nbformat": 4,
  "vscode": {
   "interpreter": {
    "hash": "c0480a40de60fe0b4be044949303dbe98ce3610184aeb132e77bccbcbbb8df2a"
   }
  }
 },
 "nbformat": 4,
 "nbformat_minor": 2
}
