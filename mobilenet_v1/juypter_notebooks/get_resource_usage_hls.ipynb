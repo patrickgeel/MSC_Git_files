{
 "cells": [
  {
   "cell_type": "code",
   "execution_count": 6,
   "metadata": {},
   "outputs": [
    {
     "name": "stdout",
     "output_type": "stream",
     "text": [
      "Wrote data to: ../models/Conv/metrics/resource_usage_hls_Conv.csv\n"
     ]
    }
   ],
   "source": [
    "import os\n",
    "import pandas as pd\n",
    "import json\n",
    "\n",
    "build_dir = \"../build-KV260/\"\n",
    "op_type = \"Conv\"\n",
    "split_nodes = [sn for sn in os.listdir(os.path.join(build_dir,op_type)) if os.path.isdir(os.path.join(build_dir,op_type,sn))]\n",
    "total = {}\n",
    "\n",
    "for split_node in split_nodes:\n",
    "    with open(f\"{build_dir}/{op_type}/{split_node}/report/estimate_layer_resources_hls.json\",'r') as fp:\n",
    "        raw = json.load(fp)\n",
    "        for v in raw.values():\n",
    "            temp = dict.fromkeys(v.keys(),0)\n",
    "            for k in v.keys():\n",
    "                temp[k] += int(v[k])\n",
    "        total[split_node] = temp\n",
    "resource_df = pd.DataFrame(total)\n",
    "\n",
    "metrics_dir = os.path.join(\"../models/\",op_type,\"metrics\")\n",
    "save_dir = os.path.join(metrics_dir,f\"resource_usage_hls_{op_type}.csv\")\n",
    "\n",
    "if not os.path.exists(metrics_dir):\n",
    "    os.mkdir(metrics_dir)\n",
    "    \n",
    "resource_df.to_csv(save_dir)\n",
    "print(\"Wrote data to:\", save_dir)"
   ]
  },
  {
   "cell_type": "code",
   "execution_count": null,
   "metadata": {},
   "outputs": [],
   "source": []
  }
 ],
 "metadata": {
  "kernelspec": {
   "display_name": "Python 3 (ipykernel)",
   "language": "python",
   "name": "python3"
  },
  "language_info": {
   "codemirror_mode": {
    "name": "ipython",
    "version": 3
   },
   "file_extension": ".py",
   "mimetype": "text/x-python",
   "name": "python",
   "nbconvert_exporter": "python",
   "pygments_lexer": "ipython3",
   "version": "3.10.6"
  },
  "vscode": {
   "interpreter": {
    "hash": "c0480a40de60fe0b4be044949303dbe98ce3610184aeb132e77bccbcbbb8df2a"
   }
  }
 },
 "nbformat": 4,
 "nbformat_minor": 2
}
