{
 "cells": [
  {
   "cell_type": "code",
   "execution_count": 5,
   "metadata": {},
   "outputs": [
    {
     "name": "stdout",
     "output_type": "stream",
     "text": [
      "[name: \"kernel_shape\"\n",
      "ints: 7\n",
      "ints: 7\n",
      "type: INTS\n",
      ", name: \"strides\"\n",
      "ints: 1\n",
      "ints: 1\n",
      "type: INTS\n",
      "]\n"
     ]
    }
   ],
   "source": [
    "import sys \n",
    "sys.path.insert(1,\"../src/\")\n",
    "# ! ls \"../src/c\"\n",
    "from custom_ort_functions import revert_quantAvgPool\n",
    "from qonnx.core.modelwrapper import ModelWrapper\n",
    "\n",
    "model = revert_quantAvgPool(ModelWrapper(\"../models/mobilenetv1-w4a4_pre_post_tidy.onnx\"))\n",
    "for n in model.graph.node:\n",
    "    if n.op_type == \"AveragePool\":\n",
    "        print(n.attribute)\n",
    "model.save(\"../models/mobilenetv1-w4a4_pre_post_tidy_pre_streamline.onnx\")"
   ]
  },
  {
   "cell_type": "code",
   "execution_count": 2,
   "metadata": {},
   "outputs": [
    {
     "name": "stdout",
     "output_type": "stream",
     "text": [
      "Building dataflow accelerator from ../models/mobilenetv1-w4a4_pre_post_tidy_pre_streamline.onnx\n",
      "Intermediate outputs will be generated in /workspace/results\n",
      "Final outputs will be generated in ../temp\n",
      "Build log is at ../temp/build_dataflow.log\n",
      "Running step: step_mobilenet_streamline [1/1]\n",
      "Completed successfully\n"
     ]
    },
    {
     "data": {
      "text/plain": [
       "0"
      ]
     },
     "execution_count": 2,
     "metadata": {},
     "output_type": "execute_result"
    }
   ],
   "source": [
    "import finn.builder.build_dataflow as build\n",
    "import finn.builder.build_dataflow_config as build_cfg\n",
    "from custom_steps import (step_mobilenet_streamline)\n",
    "\n",
    "final_out_dir = \"../temp\"\n",
    "model_file = \"../models/mobilenetv1-w4a4_pre_post_tidy_pre_streamline.onnx\"\n",
    "folding_config_file = \"../folding_config/auto_build_folding.json\"\n",
    "\n",
    "cfg = build.DataflowBuildConfig(\n",
    "    output_dir          = final_out_dir,\n",
    "    steps               = [step_mobilenet_streamline],\n",
    "    mvau_wwidth_max     = 80,\n",
    "    target_fps          = 50,\n",
    "    synth_clk_period_ns = 10.0,\n",
    "    folding_config_file = folding_config_file,\n",
    "    board               = \"KV260_SOM\",\n",
    "    shell_flow_type     = build_cfg.ShellFlowType.VIVADO_ZYNQ,\n",
    "    generate_outputs=[\n",
    "        build_cfg.DataflowOutputType.ESTIMATE_REPORTS,\n",
    "    ]\n",
    ")\n",
    "\n",
    "build.build_dataflow_cfg(model_file, cfg)"
   ]
  },
  {
   "cell_type": "code",
   "execution_count": 3,
   "metadata": {},
   "outputs": [],
   "source": [
    "! cp \"../temp/intermediate_models/step_mobilenet_streamline.onnx\" \"../models/mobilenet_streamline.onnx\""
   ]
  },
  {
   "cell_type": "code",
   "execution_count": null,
   "metadata": {},
   "outputs": [],
   "source": []
  }
 ],
 "metadata": {
  "kernelspec": {
   "display_name": "Python 3",
   "language": "python",
   "name": "python3"
  },
  "language_info": {
   "codemirror_mode": {
    "name": "ipython",
    "version": 3
   },
   "file_extension": ".py",
   "mimetype": "text/x-python",
   "name": "python",
   "nbconvert_exporter": "python",
   "pygments_lexer": "ipython3",
   "version": "3.8.5"
  },
  "vscode": {
   "interpreter": {
    "hash": "c0480a40de60fe0b4be044949303dbe98ce3610184aeb132e77bccbcbbb8df2a"
   }
  }
 },
 "nbformat": 4,
 "nbformat_minor": 2
}
