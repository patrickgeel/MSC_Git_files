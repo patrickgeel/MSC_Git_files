{
 "cells": [
  {
   "cell_type": "code",
   "execution_count": 11,
   "id": "e75abd0d",
   "metadata": {},
   "outputs": [
    {
     "name": "stdout",
     "output_type": "stream",
     "text": [
      "Conv_0_out0\n"
     ]
    },
    {
     "name": "stderr",
     "output_type": "stream",
     "text": [
      "/workspace/qonnx/src/qonnx/core/modelwrapper.py:93: UserWarning: Some old-style domain attributes were automatically converted to new-style,\n",
      "                i.e. domain=finn to domain=qonnx.custom_op.<general|fpgadataflow|...>\n",
      "  warnings.warn(\n"
     ]
    },
    {
     "name": "stdout",
     "output_type": "stream",
     "text": [
      "Conv_2_out0\n",
      "Conv_4_out0\n",
      "Conv_6_out0\n",
      "Conv_8_out0\n",
      "Conv_10_out0\n"
     ]
    }
   ],
   "source": [
    "import sys \n",
    "sys.path.insert(1,\"../src/\")\n",
    "from split_model import split_model\n",
    "import os \n",
    "\n",
    "split_nodes = os.listdir(\"../models/Conv\")[0:-2]\n",
    "model_dir = \"../models\"\n",
    "op_type = \"Conv_temp\"\n",
    "for split_node in split_nodes:\n",
    "    print(split_node)\n",
    "    split_model(split_node,op_type,model_dir)\n"
   ]
  }
 ],
 "metadata": {
  "kernelspec": {
   "display_name": "Python 3",
   "language": "python",
   "name": "python3"
  },
  "language_info": {
   "codemirror_mode": {
    "name": "ipython",
    "version": 3
   },
   "file_extension": ".py",
   "mimetype": "text/x-python",
   "name": "python",
   "nbconvert_exporter": "python",
   "pygments_lexer": "ipython3",
   "version": "3.8.5"
  }
 },
 "nbformat": 4,
 "nbformat_minor": 5
}
