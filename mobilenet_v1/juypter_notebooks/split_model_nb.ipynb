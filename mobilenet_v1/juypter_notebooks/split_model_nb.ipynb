{
 "cells": [
  {
   "cell_type": "code",
   "execution_count": 4,
   "id": "3727f7c1",
   "metadata": {},
   "outputs": [],
   "source": [
    "import sys \n",
    "sys.path.insert(1,\"../src/\")\n",
    "from split_model import split_model\n",
    "from qonnx.core.modelwrapper import ModelWrapper\n",
    "from qonnx.util.basic import get_by_name\n",
    "from qonnx.transformation.create_generic_partitions import PartitionFromDict\n",
    "import os \n",
    "\n",
    "split_nodes = os.listdir(\"../models/Conv\")[0:-2]\n",
    "model_dir = \"../models\"\n",
    "op_type = \"Conv_temp\"\n",
    "base_model = os.path.join(model_dir ,\"mobilenet_streamline.onnx\")\n",
    "model = ModelWrapper(base_model)\n",
    "\n",
    "for split_node in split_nodes:\n",
    "    split_model(split_node,op_type,model_dir)"
   ]
  },
  {
   "cell_type": "code",
   "execution_count": 5,
   "id": "1f288a3f",
   "metadata": {},
   "outputs": [
    {
     "name": "stdout",
     "output_type": "stream",
     "text": [
      "Conv_0_out0\n",
      "Conv_2_out0\n",
      "Conv_4_out0\n",
      "Conv_6_out0\n",
      "Conv_8_out0\n",
      "Conv_10_out0\n"
     ]
    }
   ],
   "source": [
    "import shutil\n",
    "model_dir = \"../models/Conv_temp/\"\n",
    "model_base = \"../models/Conv/\"\n",
    "base_dir = [os.path.join(model_base,f) for f in os.listdir(model_base)]\n",
    "# print(base_dir)\n",
    "pwd = os.getcwd()+\"/temp\"\n",
    "for f in os.listdir(model_dir):\n",
    "    print(f)\n",
    "    file = os.path.join(model_dir,f)\n",
    "    for b in base_dir:\n",
    "        if f in b:\n",
    "            for part in os.listdir(file):\n",
    "                shutil.copy(os.path.join(file,part),f\"{b}/\")\n",
    "\n",
    "            "
   ]
  },
  {
   "cell_type": "code",
   "execution_count": null,
   "id": "0df9ca25",
   "metadata": {},
   "outputs": [],
   "source": []
  }
 ],
 "metadata": {
  "kernelspec": {
   "display_name": "Python 3",
   "language": "python",
   "name": "python3"
  },
  "language_info": {
   "codemirror_mode": {
    "name": "ipython",
    "version": 3
   },
   "file_extension": ".py",
   "mimetype": "text/x-python",
   "name": "python",
   "nbconvert_exporter": "python",
   "pygments_lexer": "ipython3",
   "version": "3.8.5"
  }
 },
 "nbformat": 4,
 "nbformat_minor": 5
}
