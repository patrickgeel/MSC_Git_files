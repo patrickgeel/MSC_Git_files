{
 "cells": [
  {
   "cell_type": "code",
   "execution_count": 3,
   "id": "0cc5d50e",
   "metadata": {},
   "outputs": [
    {
     "name": "stderr",
     "output_type": "stream",
     "text": [
      "/workspace/qonnx/src/qonnx/core/modelwrapper.py:93: UserWarning: Some old-style domain attributes were automatically converted to new-style,\n",
      "                i.e. domain=finn to domain=qonnx.custom_op.<general|fpgadataflow|...>\n",
      "  warnings.warn(\n"
     ]
    }
   ],
   "source": [
    "from qonnx.core.modelwrapper import ModelWrapper\n",
    "import numpy as np\n",
    "import json\n",
    "import os\n",
    "\n",
    "models = []\n",
    "for file in os.listdir():\n",
    "    if file.endswith(\".onnx\"):\n",
    "        models.append(file)\n",
    "model = ModelWrapper(\"partition_0.onnx\")\n",
    "\n",
    "def get_op_counts(models):\n",
    "    ops = []\n",
    "    for n in model.graph.node:\n",
    "        ops.append(n.op_type)\n",
    "    operations, counts = np.unique(np.array(ops),return_counts=True)\n",
    "    return dict(zip(operations,counts.astype(str)))\n",
    "\n",
    "op_dir = \"op_count\"\n",
    "if not os.path.exists(op_dir):\n",
    "    os.mkdir(op_dir)\n",
    "for modelfile in models:\n",
    "    model = ModelWrapper(modelfile)\n",
    "    with open(os.path.join(op_dir,modelfile.replace('.onnx','_op_counts')+\".json\"), 'w') as f:\n",
    "        json.dump(get_op_counts(model),f)"
   ]
  }
 ],
 "metadata": {
  "kernelspec": {
   "display_name": "Python 3",
   "language": "python",
   "name": "python3"
  },
  "language_info": {
   "codemirror_mode": {
    "name": "ipython",
    "version": 3
   },
   "file_extension": ".py",
   "mimetype": "text/x-python",
   "name": "python",
   "nbconvert_exporter": "python",
   "pygments_lexer": "ipython3",
   "version": "3.8.5"
  }
 },
 "nbformat": 4,
 "nbformat_minor": 5
}
