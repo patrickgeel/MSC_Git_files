{
 "cells": [
  {
   "cell_type": "code",
   "execution_count": null,
   "id": "d70b7f02",
   "metadata": {},
   "outputs": [],
   "source": [
    "from qonnx.core.modelwrapper import ModelWrapper\n",
    "import onnxruntime as ort\n",
    "from onnx import helper\n",
    "from onnxruntime_extensions import get_library_path\n",
    "import numpy as np"
   ]
  },
  {
   "cell_type": "code",
   "execution_count": null,
   "id": "1651eb5b",
   "metadata": {},
   "outputs": [],
   "source": [
    "mfile = \"estimate/Mul/Mul_0_out0/partition_0.onnx\"\n",
    "mfile_up = mfile.replace(\".onnx\",\"_ort.onnx\")\n",
    "\n",
    "model = ModelWrapper(mfile)\n",
    "\n",
    "def revert_quantAvgPool(model):\n",
    "    nodes = [n for n in model.graph.node if n.op_type == 'QuantAvgPool2d']\n",
    "    attrs = [n.attribute for n in model.graph.node if n.op_type == 'QuantAvgPool2d']\n",
    "    for node,attr in zip(nodes,attrs):\n",
    "        for a in attr:\n",
    "            if a.name == \"stride\":\n",
    "                s = a.i\n",
    "            elif a.name == \"kernel\":\n",
    "                k = a.i\n",
    "        update = helper.make_node(\n",
    "            \"AveragePool\",\n",
    "            inputs=[node.input[0]],\n",
    "            outputs=[node.output[0]],\n",
    "            kernel_shape=[k,k],\n",
    "            strides=[s,s],\n",
    "        )\n",
    "\n",
    "        model.graph.node.remove(node)\n",
    "        model.graph.node.append(update)\n",
    "        \n",
    "def set_multithreshold_default(model,save_model):\n",
    "\n",
    "    new_attr = [helper.make_attribute(\"out_scale\", 1.0),\n",
    "                helper.make_attribute(\"out_bias\", 0.0),\n",
    "                helper.make_attribute(\"data_layout\",\"NCHW\")]\n",
    "\n",
    "    for n in model.graph.node:\n",
    "        if n.op_type == \"MultiThreshold\":\n",
    "            out_scale,bias,datalayout = False,False,False\n",
    "            for na in n.attribute:\n",
    "                if na.name == \"out_scale\": out_scale = True\n",
    "                if na.name == \"out_bias\": bias = True\n",
    "                if na.name == \"data_layout\": datlayout = True\n",
    "            if not out_scale: n.attribute.append(new_attr[0])\n",
    "            if not bias: n.attribute.append(new_attr[1])\n",
    "            if not datalayout: n.attribute.append(new_attr[2])\n",
    "\n",
    "            n.domain = \"ai.onnx.contrib\"\n",
    "    model.save(mfile_up)\n",
    "\n",
    "def ort_implementation(x,model):\n",
    "    so = ort.SessionOptions()\n",
    "    so.register_custom_ops_library(get_library_path())\n",
    "\n",
    "    sess = ort.InferenceSession(mfile_up, so)\n",
    "    inp_dict = {}\n",
    "    for inp in sess.get_inputs():\n",
    "        inp_dict[inp.name] = x\n",
    "    res = sess.run([],inp_dict)\n",
    "    return res   \n",
    "\n",
    "revert_quantAvgPool(model)\n",
    "set_multithreshold_default(model,mfile_up)\n",
    "ort_implementation(np.load(\"estimate/Mul/Mul_0_out0/input.npy\"),model)\n"
   ]
  },
  {
   "cell_type": "code",
   "execution_count": null,
   "id": "e3d2d292",
   "metadata": {},
   "outputs": [],
   "source": []
  }
 ],
 "metadata": {
  "kernelspec": {
   "display_name": "Python 3 (ipykernel)",
   "language": "python",
   "name": "python3"
  },
  "language_info": {
   "codemirror_mode": {
    "name": "ipython",
    "version": 3
   },
   "file_extension": ".py",
   "mimetype": "text/x-python",
   "name": "python",
   "nbconvert_exporter": "python",
   "pygments_lexer": "ipython3",
   "version": "3.10.6"
  }
 },
 "nbformat": 4,
 "nbformat_minor": 5
}
