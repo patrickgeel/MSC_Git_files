{
 "cells": [
  {
   "cell_type": "code",
   "execution_count": 1,
   "metadata": {},
   "outputs": [
    {
     "name": "stderr",
     "output_type": "stream",
     "text": [
      "/workspace/qonnx/src/qonnx/core/modelwrapper.py:93: UserWarning: Some old-style domain attributes were automatically converted to new-style,\n",
      "                i.e. domain=finn to domain=qonnx.custom_op.<general|fpgadataflow|...>\n",
      "  warnings.warn(\n"
     ]
    }
   ],
   "source": [
    "from qonnx.core.modelwrapper import ModelWrapper\n",
    "from qonnx.util.basic import get_by_name\n",
    "from qonnx.transformation.create_generic_partitions import PartitionFromDict\n",
    "\n",
    "model = ModelWrapper(\"mobilenetv1-w4a4_pre_post_tidy.onnx\")\n",
    "split_node = \"BatchNormalization_4_out0\"\n",
    "up = model.find_upstream(split_node, lambda x: x.name == \"Div_0\")\n",
    "wanted, unwanted = [],[]\n",
    "for ind,n in enumerate(model.graph.node):\n",
    "    \n",
    "    if get_by_name(up,n.name,\"name\")is not None:\n",
    "        wanted.append(ind)\n",
    "    else:\n",
    "        unwanted.append(ind)\n",
    "    \n",
    "parent = model.transform(PartitionFromDict(partitioning={0:wanted,1:unwanted},partition_dir=\"../models/%s\" %split_node))\n",
    "parent.save(\"split.onnx\")"
   ]
  }
 ],
 "metadata": {
  "kernelspec": {
   "display_name": "Python 3",
   "language": "python",
   "name": "python3"
  },
  "language_info": {
   "codemirror_mode": {
    "name": "ipython",
    "version": 3
   },
   "file_extension": ".py",
   "mimetype": "text/x-python",
   "name": "python",
   "nbconvert_exporter": "python",
   "pygments_lexer": "ipython3",
   "version": "3.8.5"
  }
 },
 "nbformat": 4,
 "nbformat_minor": 2
}
