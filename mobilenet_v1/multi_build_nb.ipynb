{
 "cells": [
  {
   "cell_type": "code",
   "execution_count": 12,
   "id": "86868448",
   "metadata": {
    "scrolled": true
   },
   "outputs": [],
   "source": [
    "import finn.builder.build_dataflow as build\n",
    "import finn.builder.build_dataflow_config as build_cfg\n",
    "import os\n",
    "from warnings import warn\n",
    "import shutil\n",
    "import json\n",
    "\n",
    "# custom steps for mobilenetv1\n",
    "from src.custom_steps import (\n",
    "    step_mobilenet_streamline,\n",
    "    step_mobilenet_convert_to_hls_layers,\n",
    "    step_mobilenet_convert_to_hls_layers_separate_th,\n",
    "    step_mobilenet_lower_convs,\n",
    "    step_mobilenet_slr_floorplan,\n",
    "    custom_step_partition,\n",
    ")\n",
    "\n",
    "def multi_build(model_file,final_output_dir):\n",
    "# model_file = \"/home/pgeel/FINNv0.8.1_repo/build_KV260/finn/notebooks/MSC_Git_files/mobilenet_v1/models/mobilenet_streamline.onnx\"\n",
    "# final_output_dir = \"half_baseline_build\"\n",
    "\n",
    "    folding_config_file = \"/home/pgeel/FINNv0.8.1_repo/build_KV260/finn/notebooks/MSC_Git_files/mobilenet_v1/folding_config/auto_build_folding.json\"\n",
    "    #Delete previous run results if exist\n",
    "    if os.path.exists(final_output_dir):\n",
    "        shutil.rmtree(final_output_dir)\n",
    "        # os.remove(final_output_dir)\n",
    "        print(\"Previous run results deleted!\")\n",
    "\n",
    "    mobilenet_build_steps =  [\n",
    "    #     step_mobilenet_streamline,\n",
    "        # custom_step_partition,\n",
    "        step_mobilenet_lower_convs,\n",
    "        step_mobilenet_convert_to_hls_layers_separate_th,\n",
    "        \"step_create_dataflow_partition\",\n",
    "        \"step_apply_folding_config\",\n",
    "        \"step_generate_estimate_reports\",\n",
    "        \"step_hls_codegen\",\n",
    "        \"step_hls_ipgen\",\n",
    "        \"step_set_fifo_depths\",\n",
    "        \"step_create_stitched_ip\",\n",
    "        \"step_synthesize_bitfile\",\n",
    "        \"step_make_pynq_driver\",\n",
    "        \"step_deployment_package\",\n",
    "    ]\n",
    "\n",
    "    cfg = build.DataflowBuildConfig(\n",
    "        output_dir          = final_output_dir,\n",
    "        steps               = mobilenet_build_steps,\n",
    "        mvau_wwidth_max     = 80,\n",
    "        target_fps          = 25,\n",
    "        synth_clk_period_ns = 10.0,\n",
    "        folding_config_file = folding_config_file,\n",
    "        board               = \"KV260_SOM\",\n",
    "        shell_flow_type     = build_cfg.ShellFlowType.VIVADO_ZYNQ,\n",
    "        generate_outputs=[\n",
    "            build_cfg.DataflowOutputType.BITFILE,\n",
    "            build_cfg.DataflowOutputType.PYNQ_DRIVER,\n",
    "            build_cfg.DataflowOutputType.ESTIMATE_REPORTS,\n",
    "            build_cfg.DataflowOutputType.DEPLOYMENT_PACKAGE,\n",
    "        ]\n",
    "    )\n",
    "    return model_file,cfg\n",
    "# try:    \n",
    "# except:\n",
    "#     pass"
   ]
  },
  {
   "cell_type": "code",
   "execution_count": null,
   "id": "3f362d97",
   "metadata": {},
   "outputs": [
    {
     "name": "stdout",
     "output_type": "stream",
     "text": [
      "Building dataflow accelerator from CPU_testing/MultiThreshold_0_out0/partition_0.onnx\n",
      "Intermediate outputs will be generated in /workspace/results\n",
      "Final outputs will be generated in testing/MultiThreshold_0_out0\n",
      "Build log is at testing/MultiThreshold_0_out0/build_dataflow.log\n",
      "Running step: step_mobilenet_lower_convs [1/12]\n",
      "Running step: step_mobilenet_convert_to_hls_layers_separate_th [2/12]\n",
      "Running step: step_create_dataflow_partition [3/12]\n",
      "Running step: step_apply_folding_config [4/12]\n",
      "Running step: step_generate_estimate_reports [5/12]\n",
      "Running step: step_hls_codegen [6/12]\n",
      "Running step: step_hls_ipgen [7/12]\n",
      "Running step: step_set_fifo_depths [8/12]\n",
      "Running step: step_create_stitched_ip [9/12]\n",
      "Running step: step_synthesize_bitfile [10/12]\n"
     ]
    },
    {
     "name": "stderr",
     "output_type": "stream",
     "text": [
      "Traceback (most recent call last):\n",
      "  File \"/workspace/finn/src/finn/builder/build_dataflow.py\", line 166, in build_dataflow_cfg\n",
      "    model = transform_step(model, cfg)\n",
      "  File \"/workspace/finn/src/finn/builder/build_dataflow_steps.py\", line 632, in step_synthesize_bitfile\n",
      "    model = model.transform(\n",
      "  File \"/workspace/qonnx/src/qonnx/core/modelwrapper.py\", line 140, in transform\n",
      "    (transformed_model, model_was_changed) = transformation.apply(transformed_model)\n",
      "  File \"/workspace/finn/src/finn/transformation/fpgadataflow/make_zynq_proj.py\", line 364, in apply\n",
      "    model = model.transform(\n",
      "  File \"/workspace/qonnx/src/qonnx/core/modelwrapper.py\", line 140, in transform\n",
      "    (transformed_model, model_was_changed) = transformation.apply(transformed_model)\n",
      "  File \"/workspace/finn/src/finn/transformation/fpgadataflow/make_zynq_proj.py\", line 271, in apply\n",
      "    process_compile.communicate()\n",
      "  File \"/opt/conda/lib/python3.8/subprocess.py\", line 1011, in communicate\n",
      "    stdout = self.stdout.read()\n",
      "KeyboardInterrupt\n"
     ]
    },
    {
     "name": "stdout",
     "output_type": "stream",
     "text": [
      "> \u001b[0;32m/opt/conda/lib/python3.8/subprocess.py\u001b[0m(1011)\u001b[0;36mcommunicate\u001b[0;34m()\u001b[0m\n",
      "\u001b[0;32m   1009 \u001b[0;31m                \u001b[0mself\u001b[0m\u001b[0;34m.\u001b[0m\u001b[0m_stdin_write\u001b[0m\u001b[0;34m(\u001b[0m\u001b[0minput\u001b[0m\u001b[0;34m)\u001b[0m\u001b[0;34m\u001b[0m\u001b[0;34m\u001b[0m\u001b[0m\n",
      "\u001b[0m\u001b[0;32m   1010 \u001b[0;31m            \u001b[0;32melif\u001b[0m \u001b[0mself\u001b[0m\u001b[0;34m.\u001b[0m\u001b[0mstdout\u001b[0m\u001b[0;34m:\u001b[0m\u001b[0;34m\u001b[0m\u001b[0;34m\u001b[0m\u001b[0m\n",
      "\u001b[0m\u001b[0;32m-> 1011 \u001b[0;31m                \u001b[0mstdout\u001b[0m \u001b[0;34m=\u001b[0m \u001b[0mself\u001b[0m\u001b[0;34m.\u001b[0m\u001b[0mstdout\u001b[0m\u001b[0;34m.\u001b[0m\u001b[0mread\u001b[0m\u001b[0;34m(\u001b[0m\u001b[0;34m)\u001b[0m\u001b[0;34m\u001b[0m\u001b[0;34m\u001b[0m\u001b[0m\n",
      "\u001b[0m\u001b[0;32m   1012 \u001b[0;31m                \u001b[0mself\u001b[0m\u001b[0;34m.\u001b[0m\u001b[0mstdout\u001b[0m\u001b[0;34m.\u001b[0m\u001b[0mclose\u001b[0m\u001b[0;34m(\u001b[0m\u001b[0;34m)\u001b[0m\u001b[0;34m\u001b[0m\u001b[0;34m\u001b[0m\u001b[0m\n",
      "\u001b[0m\u001b[0;32m   1013 \u001b[0;31m            \u001b[0;32melif\u001b[0m \u001b[0mself\u001b[0m\u001b[0;34m.\u001b[0m\u001b[0mstderr\u001b[0m\u001b[0;34m:\u001b[0m\u001b[0;34m\u001b[0m\u001b[0;34m\u001b[0m\u001b[0m\n",
      "\u001b[0m\n"
     ]
    }
   ],
   "source": [
    "import os,json\n",
    "import time\n",
    "outdir = \"testing\"\n",
    "if not os.path.exists(outdir):\n",
    "    os.mkdir(outdir)\n",
    "builds = []\n",
    "start = time.time()\n",
    "for f in os.listdir(\"CPU_testing\"):\n",
    "    if os.path.isdir(os.path.join(\"CPU_testing\", f)):\n",
    "        model_file = os.path.join(\"CPU_testing\", f,\"partition_0.onnx\")\n",
    "        m,cfg = multi_build(model_file,os.path.join(outdir,f))\n",
    "        try: \n",
    "            start_build = time.time()\n",
    "            build.build_dataflow_cfg(m, cfg)    \n",
    "            end_build = time.time()\n",
    "            print(\"Build %s took %8.3fs to complet\" %(f, end_build -\n",
    "                                                      start_build))\n",
    "        except:\n",
    "            print(\"Stopped at %s as it did not fit on the FPGA!\" %m)\n",
    "            end = time.time()\n",
    "            print(\"The total build took %fs to complet\" %(end-start))\n",
    "            sys.exit(1)\n",
    "if end = None:\n",
    "    "
   ]
  },
  {
   "cell_type": "code",
   "execution_count": null,
   "id": "59673a8d",
   "metadata": {},
   "outputs": [],
   "source": []
  }
 ],
 "metadata": {
  "kernelspec": {
   "display_name": "Python 3",
   "language": "python",
   "name": "python3"
  },
  "language_info": {
   "codemirror_mode": {
    "name": "ipython",
    "version": 3
   },
   "file_extension": ".py",
   "mimetype": "text/x-python",
   "name": "python",
   "nbconvert_exporter": "python",
   "pygments_lexer": "ipython3",
   "version": "3.8.5"
  },
  "vscode": {
   "interpreter": {
    "hash": "c0480a40de60fe0b4be044949303dbe98ce3610184aeb132e77bccbcbbb8df2a"
   }
  }
 },
 "nbformat": 4,
 "nbformat_minor": 5
}
