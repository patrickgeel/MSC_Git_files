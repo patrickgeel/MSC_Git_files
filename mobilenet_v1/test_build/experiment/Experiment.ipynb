{
 "cells": [
  {
   "cell_type": "code",
   "execution_count": 1,
   "id": "525a670f",
   "metadata": {},
   "outputs": [
    {
     "data": {
      "application/javascript": [
       "\n",
       "try {\n",
       "require(['notebook/js/codecell'], function(codecell) {\n",
       "  codecell.CodeCell.options_default.highlight_modes[\n",
       "      'magic_text/x-csrc'] = {'reg':[/^%%microblaze/]};\n",
       "  Jupyter.notebook.events.one('kernel_ready.Kernel', function(){\n",
       "      Jupyter.notebook.get_cells().map(function(cell){\n",
       "          if (cell.cell_type == 'code'){ cell.auto_highlight(); } }) ;\n",
       "  });\n",
       "});\n",
       "} catch (e) {};\n"
      ]
     },
     "metadata": {},
     "output_type": "display_data"
    },
    {
     "data": {
      "application/javascript": [
       "\n",
       "try {\n",
       "require(['notebook/js/codecell'], function(codecell) {\n",
       "  codecell.CodeCell.options_default.highlight_modes[\n",
       "      'magic_text/x-csrc'] = {'reg':[/^%%pybind11/]};\n",
       "  Jupyter.notebook.events.one('kernel_ready.Kernel', function(){\n",
       "      Jupyter.notebook.get_cells().map(function(cell){\n",
       "          if (cell.cell_type == 'code'){ cell.auto_highlight(); } }) ;\n",
       "  });\n",
       "});\n",
       "} catch (e) {};\n"
      ]
     },
     "metadata": {},
     "output_type": "display_data"
    },
    {
     "name": "stdout",
     "output_type": "stream",
     "text": [
      "True\n"
     ]
    }
   ],
   "source": [
    "import numpy as np\n",
    "import os\n",
    "import onnx\n",
    "from onnxruntime_extensions import get_library_path, PyOp, onnx_op, PyOrtFunction\n",
    "import onnxruntime as ort\n",
    "from qonnx.core.datatype import DataType\n",
    "from qonnx.core.modelwrapper import ModelWrapper\n",
    "from onnx.helper import make_attribute\n",
    "from driver_base import FINNExampleOverlay\n",
    "from driver import io_shape_dict\n",
    "set_pyop = False\n",
    "\n",
    "platform = \"zynq-iodma\"\n",
    "batch_size = 1\n",
    "bitfile = \"finn-accel.bit\"\n",
    "outputfile = \"output.npy\"\n",
    "runtime_weight_dir = \"runtime_weights/\"\n",
    "\n",
    "# instantiate FINN accelerator driver and pass batchsize and bitfile\n",
    "accel = FINNExampleOverlay(\n",
    "    bitfile_name = bitfile, platform = platform,\n",
    "    io_shape_dict = io_shape_dict, batch_size = batch_size,\n",
    "    runtime_weight_dir = runtime_weight_dir\n",
    ")\n",
    "\n",
    "if not set_pyop:\n",
    "    # Implement the CustomOp by decorating a function with onnx_op\n",
    "    @onnx_op(op_type=\"StreamingDataflowPartition\", inputs=[PyOp.dt_float], outputs=[PyOp.dt_float])\n",
    "    def StreamingDataflowPartition(inputs):\n",
    "        obuf_normal = accel.execute(inputs)\n",
    "        return obuf_normal.astype(np.float32)\n",
    "    set_pyop = True\n",
    "print(set_pyop)"
   ]
  },
  {
   "cell_type": "markdown",
   "id": "80655f47",
   "metadata": {},
   "source": [
    "## HW session for the CONV_10 split Partition 0"
   ]
  },
  {
   "cell_type": "code",
   "execution_count": 29,
   "id": "b10b7d31",
   "metadata": {},
   "outputs": [],
   "source": [
    "inp = np.load(\"dog.npy\")\n",
    "\n",
    "model_func = PyOrtFunction.from_model(\"./dataflow_parent_updated.onnx\")\n",
    "outputs = model_func(inp)"
   ]
  },
  {
   "cell_type": "markdown",
   "id": "0f4c0712",
   "metadata": {},
   "source": [
    "## CPU session for CONV_10 split Partition 0"
   ]
  },
  {
   "cell_type": "code",
   "execution_count": 28,
   "id": "5643c245",
   "metadata": {},
   "outputs": [
    {
     "data": {
      "text/plain": [
       "(1, 1, 512, 14, 14)"
      ]
     },
     "execution_count": 28,
     "metadata": {},
     "output_type": "execute_result"
    }
   ],
   "source": [
    "from qonnx.transformation.double_to_single_float import DoubleToSingleFloat\n",
    "from onnx import helper\n",
    "\n",
    "def set_multithreshold_default(model):#,save_model):\n",
    "    '''\n",
    "    Pass a modelproto model and the save file\n",
    "    '''\n",
    "    model = model.transform(DoubleToSingleFloat())\n",
    "    new_attr = [helper.make_attribute(\"out_scale\", 1.0),\n",
    "                helper.make_attribute(\"out_bias\", 0.0),\n",
    "                helper.make_attribute(\"data_layout\",\"NCHW\")]\n",
    "\n",
    "    for n in model.graph.node:\n",
    "        if n.op_type == \"MultiThreshold\":\n",
    "            out_scale,bias,datalayout = False,False,False\n",
    "            for na in n.attribute:\n",
    "                if na.name == \"out_scale\": out_scale = True\n",
    "                if na.name == \"out_bias\": bias = True\n",
    "                if na.name == \"data_layout\": datlayout = True\n",
    "            if not out_scale: n.attribute.append(new_attr[0])\n",
    "            if not bias: n.attribute.append(new_attr[1])\n",
    "            if not datalayout: n.attribute.append(new_attr[2])\n",
    "\n",
    "            n.domain = \"ai.onnx.contrib\"\n",
    "#     model.save(save_model)\n",
    "    return model\n",
    "\n",
    "model = ModelWrapper(\"./partition_0.onnx\")\n",
    "model = set_multithreshold_default(model)\n",
    "sess = ort.InferenceSession(model.model.SerializeToString(),so)\n",
    "\n",
    "inp_name = [i.name for i in sess.get_inputs()]\n",
    "inp_shape = [i.shape for i in sess.get_inputs()]\n",
    "\n",
    "x = np.load('dog.npy')\n",
    "\n",
    "res = sess.run([],{inp_name[0]:x})\n",
    "y = np.array(res)\n",
    "y.shape"
   ]
  },
  {
   "cell_type": "markdown",
   "id": "ba48f3e4",
   "metadata": {},
   "source": [
    "## Compare the two outputs"
   ]
  },
  {
   "cell_type": "code",
   "execution_count": 40,
   "id": "b6d0f26b",
   "metadata": {},
   "outputs": [
    {
     "name": "stdout",
     "output_type": "stream",
     "text": [
      "CPU and HW output are the same!\n"
     ]
    }
   ],
   "source": [
    "equal = np.testing.assert_array_almost_equal(y[0],outputs)\n",
    "if equal == None:\n",
    "    print(\"CPU and HW output are the same!\")"
   ]
  }
 ],
 "metadata": {
  "kernelspec": {
   "display_name": "Python 3 (ipykernel)",
   "language": "python",
   "name": "python3"
  },
  "language_info": {
   "codemirror_mode": {
    "name": "ipython",
    "version": 3
   },
   "file_extension": ".py",
   "mimetype": "text/x-python",
   "name": "python",
   "nbconvert_exporter": "python",
   "pygments_lexer": "ipython3",
   "version": "3.10.6"
  }
 },
 "nbformat": 4,
 "nbformat_minor": 5
}
