{
 "cells": [
  {
   "cell_type": "code",
   "execution_count": 1,
   "id": "fc146205",
   "metadata": {},
   "outputs": [
    {
     "data": {
      "application/javascript": [
       "\n",
       "try {\n",
       "require(['notebook/js/codecell'], function(codecell) {\n",
       "  codecell.CodeCell.options_default.highlight_modes[\n",
       "      'magic_text/x-csrc'] = {'reg':[/^%%microblaze/]};\n",
       "  Jupyter.notebook.events.one('kernel_ready.Kernel', function(){\n",
       "      Jupyter.notebook.get_cells().map(function(cell){\n",
       "          if (cell.cell_type == 'code'){ cell.auto_highlight(); } }) ;\n",
       "  });\n",
       "});\n",
       "} catch (e) {};\n"
      ]
     },
     "metadata": {},
     "output_type": "display_data"
    },
    {
     "data": {
      "application/javascript": [
       "\n",
       "try {\n",
       "require(['notebook/js/codecell'], function(codecell) {\n",
       "  codecell.CodeCell.options_default.highlight_modes[\n",
       "      'magic_text/x-csrc'] = {'reg':[/^%%pybind11/]};\n",
       "  Jupyter.notebook.events.one('kernel_ready.Kernel', function(){\n",
       "      Jupyter.notebook.get_cells().map(function(cell){\n",
       "          if (cell.cell_type == 'code'){ cell.auto_highlight(); } }) ;\n",
       "  });\n",
       "});\n",
       "} catch (e) {};\n"
      ]
     },
     "metadata": {},
     "output_type": "display_data"
    },
    {
     "name": "stdout",
     "output_type": "stream",
     "text": [
      "True\n"
     ]
    }
   ],
   "source": [
    "import numpy as np\n",
    "import os\n",
    "import onnx\n",
    "from onnxruntime_extensions import get_library_path, PyOp, onnx_op, PyOrtFunction\n",
    "from qonnx.core.datatype import DataType\n",
    "from qonnx.core.modelwrapper import ModelWrapper\n",
    "from onnx.helper import make_attribute\n",
    "from driver_base import FINNExampleOverlay\n",
    "from driver import io_shape_dict\n",
    "set_pyop = False\n",
    "\n",
    "platform = \"zynq-iodma\"\n",
    "batch_size = 1\n",
    "bitfile = \"finn-accel.bit\"\n",
    "outputfile = \"output.npy\"\n",
    "runtime_weight_dir = \"runtime_weights/\"\n",
    "\n",
    "# instantiate FINN accelerator driver and pass batchsize and bitfile\n",
    "accel = FINNExampleOverlay(\n",
    "    bitfile_name = bitfile, platform = platform,\n",
    "    io_shape_dict = io_shape_dict, batch_size = batch_size,\n",
    "    runtime_weight_dir = runtime_weight_dir\n",
    ")\n",
    "\n",
    "if not set_pyop:\n",
    "    # Implement the CustomOp by decorating a function with onnx_op\n",
    "    @onnx_op(op_type=\"StreamingDataflowPartition\", inputs=[PyOp.dt_float], outputs=[PyOp.dt_float])\n",
    "    def StreamingDataflowPartition(inputs):\n",
    "        obuf_normal = accel.execute(inputs)\n",
    "        return obuf_normal.astype(np.float32)\n",
    "    set_pyop = True\n",
    "print(set_pyop)"
   ]
  },
  {
   "cell_type": "code",
   "execution_count": 5,
   "id": "89f1171d",
   "metadata": {},
   "outputs": [
    {
     "name": "stdout",
     "output_type": "stream",
     "text": [
      "True\n"
     ]
    },
    {
     "ename": "Exception",
     "evalue": "Could not load custom opset qonnx.custom_op.fpgadataflow, check your PYTHONPATH",
     "output_type": "error",
     "traceback": [
      "\u001b[0;31m---------------------------------------------------------------------------\u001b[0m",
      "\u001b[0;31mModuleNotFoundError\u001b[0m                       Traceback (most recent call last)",
      "File \u001b[0;32m/usr/local/lib/python3.10/dist-packages/qonnx-0.0.0-py3.10.egg/qonnx/custom_op/registry.py:37\u001b[0m, in \u001b[0;36mgetCustomOp\u001b[0;34m(node)\u001b[0m\n\u001b[1;32m     36\u001b[0m \u001b[38;5;28;01mtry\u001b[39;00m:\n\u001b[0;32m---> 37\u001b[0m     opset_module \u001b[38;5;241m=\u001b[39m \u001b[43mimportlib\u001b[49m\u001b[38;5;241;43m.\u001b[39;49m\u001b[43mimport_module\u001b[49m\u001b[43m(\u001b[49m\u001b[43mdomain\u001b[49m\u001b[43m)\u001b[49m\n\u001b[1;32m     38\u001b[0m     \u001b[38;5;28;01massert\u001b[39;00m \u001b[38;5;28mtype\u001b[39m(opset_module\u001b[38;5;241m.\u001b[39mcustom_op) \u001b[38;5;129;01mis\u001b[39;00m \u001b[38;5;28mdict\u001b[39m, \u001b[38;5;124m\"\u001b[39m\u001b[38;5;124mcustom_op dict not found in Python module \u001b[39m\u001b[38;5;132;01m%s\u001b[39;00m\u001b[38;5;124m\"\u001b[39m \u001b[38;5;241m%\u001b[39m domain\n",
      "File \u001b[0;32m/usr/lib/python3.10/importlib/__init__.py:126\u001b[0m, in \u001b[0;36mimport_module\u001b[0;34m(name, package)\u001b[0m\n\u001b[1;32m    125\u001b[0m         level \u001b[38;5;241m+\u001b[39m\u001b[38;5;241m=\u001b[39m \u001b[38;5;241m1\u001b[39m\n\u001b[0;32m--> 126\u001b[0m \u001b[38;5;28;01mreturn\u001b[39;00m \u001b[43m_bootstrap\u001b[49m\u001b[38;5;241;43m.\u001b[39;49m\u001b[43m_gcd_import\u001b[49m\u001b[43m(\u001b[49m\u001b[43mname\u001b[49m\u001b[43m[\u001b[49m\u001b[43mlevel\u001b[49m\u001b[43m:\u001b[49m\u001b[43m]\u001b[49m\u001b[43m,\u001b[49m\u001b[43m \u001b[49m\u001b[43mpackage\u001b[49m\u001b[43m,\u001b[49m\u001b[43m \u001b[49m\u001b[43mlevel\u001b[49m\u001b[43m)\u001b[49m\n",
      "File \u001b[0;32m<frozen importlib._bootstrap>:1050\u001b[0m, in \u001b[0;36m_gcd_import\u001b[0;34m(name, package, level)\u001b[0m\n",
      "File \u001b[0;32m<frozen importlib._bootstrap>:1027\u001b[0m, in \u001b[0;36m_find_and_load\u001b[0;34m(name, import_)\u001b[0m\n",
      "File \u001b[0;32m<frozen importlib._bootstrap>:1004\u001b[0m, in \u001b[0;36m_find_and_load_unlocked\u001b[0;34m(name, import_)\u001b[0m\n",
      "\u001b[0;31mModuleNotFoundError\u001b[0m: No module named 'qonnx.custom_op.fpgadataflow'",
      "\nDuring handling of the above exception, another exception occurred:\n",
      "\u001b[0;31mException\u001b[0m                                 Traceback (most recent call last)",
      "Input \u001b[0;32mIn [5]\u001b[0m, in \u001b[0;36m<cell line: 13>\u001b[0;34m()\u001b[0m\n\u001b[1;32m      8\u001b[0m \u001b[38;5;66;03m#     if n.op_type == \"StreamingDataflowPartition\":\u001b[39;00m\n\u001b[1;32m      9\u001b[0m \u001b[38;5;66;03m#         n.name = ''\u001b[39;00m\n\u001b[1;32m     10\u001b[0m \u001b[38;5;66;03m#         n.attribute.append(make_attribute(\"bitfile\",\"finn-accel.bit\"))\u001b[39;00m\n\u001b[1;32m     12\u001b[0m model\u001b[38;5;241m.\u001b[39mcheck_all_tensor_shapes_specified()\n\u001b[0;32m---> 13\u001b[0m \u001b[43mexecute_onnx\u001b[49m\u001b[43m(\u001b[49m\u001b[43mmodel\u001b[49m\u001b[43m,\u001b[49m\u001b[43m \u001b[49m\u001b[43m{\u001b[49m\u001b[38;5;124;43m'\u001b[39;49m\u001b[38;5;124;43mglobal_in\u001b[39;49m\u001b[38;5;124;43m'\u001b[39;49m\u001b[43m:\u001b[49m\u001b[43mnp\u001b[49m\u001b[38;5;241;43m.\u001b[39;49m\u001b[43mload\u001b[49m\u001b[43m(\u001b[49m\u001b[38;5;124;43m\"\u001b[39;49m\u001b[38;5;124;43mdog.npy\u001b[39;49m\u001b[38;5;124;43m\"\u001b[39;49m\u001b[43m)\u001b[49m\u001b[43m}\u001b[49m\u001b[43m)\u001b[49m\n",
      "File \u001b[0;32m/usr/local/lib/python3.10/dist-packages/qonnx-0.0.0-py3.10.egg/qonnx/core/onnx_exec.py:165\u001b[0m, in \u001b[0;36mexecute_onnx\u001b[0;34m(model, input_dict, return_full_exec_context, start_node, end_node)\u001b[0m\n\u001b[1;32m    162\u001b[0m \u001b[38;5;28;01mif\u001b[39;00m get_sanitize_quant_tensors() \u001b[38;5;241m!=\u001b[39m \u001b[38;5;241m0\u001b[39m:\n\u001b[1;32m    163\u001b[0m     \u001b[38;5;66;03m# round input values to match quantization annotation\u001b[39;00m\n\u001b[1;32m    164\u001b[0m     execution_context \u001b[38;5;241m=\u001b[39m sanitize_quant_values(model, node\u001b[38;5;241m.\u001b[39minput, execution_context)\n\u001b[0;32m--> 165\u001b[0m \u001b[43mexecute_node\u001b[49m\u001b[43m(\u001b[49m\u001b[43mnode\u001b[49m\u001b[43m,\u001b[49m\u001b[43m \u001b[49m\u001b[43mexecution_context\u001b[49m\u001b[43m,\u001b[49m\u001b[43m \u001b[49m\u001b[43mgraph\u001b[49m\u001b[43m,\u001b[49m\u001b[43m \u001b[49m\u001b[43mreturn_full_exec_context\u001b[49m\u001b[43m,\u001b[49m\u001b[43m \u001b[49m\u001b[43mopset_version\u001b[49m\u001b[43m)\u001b[49m\n\u001b[1;32m    166\u001b[0m \u001b[38;5;28;01mif\u001b[39;00m get_sanitize_quant_tensors() \u001b[38;5;241m!=\u001b[39m \u001b[38;5;241m0\u001b[39m:\n\u001b[1;32m    167\u001b[0m     \u001b[38;5;66;03m# round output values to quantization annotation\u001b[39;00m\n\u001b[1;32m    168\u001b[0m     execution_context \u001b[38;5;241m=\u001b[39m sanitize_quant_values(model, node\u001b[38;5;241m.\u001b[39moutput, execution_context)\n",
      "File \u001b[0;32m/usr/local/lib/python3.10/dist-packages/qonnx-0.0.0-py3.10.egg/qonnx/core/onnx_exec.py:46\u001b[0m, in \u001b[0;36mexecute_node\u001b[0;34m(node, context, graph, return_full_exec_context, opset_version)\u001b[0m\n\u001b[1;32m     41\u001b[0m \u001b[38;5;124;03m\"\"\"Executes a single node by using onnxruntime or with a custom function.\u001b[39;00m\n\u001b[1;32m     42\u001b[0m \n\u001b[1;32m     43\u001b[0m \u001b[38;5;124;03mInput/output provided via context.\"\"\"\u001b[39;00m\n\u001b[1;32m     45\u001b[0m \u001b[38;5;28;01mif\u001b[39;00m is_finn_op(node\u001b[38;5;241m.\u001b[39mdomain):\n\u001b[0;32m---> 46\u001b[0m     \u001b[43mex_cu_node\u001b[49m\u001b[38;5;241;43m.\u001b[39;49m\u001b[43mexecute_custom_node\u001b[49m\u001b[43m(\u001b[49m\u001b[43mnode\u001b[49m\u001b[43m,\u001b[49m\u001b[43m \u001b[49m\u001b[43mcontext\u001b[49m\u001b[43m,\u001b[49m\u001b[43m \u001b[49m\u001b[43mgraph\u001b[49m\u001b[43m)\u001b[49m\n\u001b[1;32m     47\u001b[0m \u001b[38;5;28;01melse\u001b[39;00m:\n\u001b[1;32m     48\u001b[0m     \u001b[38;5;66;03m# onnxruntime unfortunately does not implement run_node as defined by ONNX,\u001b[39;00m\n\u001b[1;32m     49\u001b[0m     \u001b[38;5;66;03m# it can only execute entire models -- so we create a model which solely\u001b[39;00m\n\u001b[0;32m   (...)\u001b[0m\n\u001b[1;32m     54\u001b[0m     \u001b[38;5;66;03m# input/outputs may get them reordered below\u001b[39;00m\n\u001b[1;32m     55\u001b[0m     \u001b[38;5;66;03m# note: a node's input may (also) be a top-level input or output\u001b[39;00m\n\u001b[1;32m     56\u001b[0m     node_inputs \u001b[38;5;241m=\u001b[39m \u001b[38;5;28mlist\u001b[39m(\u001b[38;5;28mfilter\u001b[39m(\u001b[38;5;28;01mlambda\u001b[39;00m x: x\u001b[38;5;241m.\u001b[39mname \u001b[38;5;129;01min\u001b[39;00m node\u001b[38;5;241m.\u001b[39minput, graph\u001b[38;5;241m.\u001b[39minput))\n",
      "File \u001b[0;32m/usr/local/lib/python3.10/dist-packages/qonnx-0.0.0-py3.10.egg/qonnx/core/execute_custom_node.py:38\u001b[0m, in \u001b[0;36mexecute_custom_node\u001b[0;34m(node, context, graph)\u001b[0m\n\u001b[1;32m     35\u001b[0m op_type \u001b[38;5;241m=\u001b[39m node\u001b[38;5;241m.\u001b[39mop_type\n\u001b[1;32m     36\u001b[0m \u001b[38;5;28;01mtry\u001b[39;00m:\n\u001b[1;32m     37\u001b[0m     \u001b[38;5;66;03m# lookup op_type in registry of CustomOps\u001b[39;00m\n\u001b[0;32m---> 38\u001b[0m     inst \u001b[38;5;241m=\u001b[39m \u001b[43mregistry\u001b[49m\u001b[38;5;241;43m.\u001b[39;49m\u001b[43mgetCustomOp\u001b[49m\u001b[43m(\u001b[49m\u001b[43mnode\u001b[49m\u001b[43m)\u001b[49m\n\u001b[1;32m     39\u001b[0m     inst\u001b[38;5;241m.\u001b[39mexecute_node(context, graph)\n\u001b[1;32m     40\u001b[0m \u001b[38;5;28;01mexcept\u001b[39;00m \u001b[38;5;167;01mKeyError\u001b[39;00m:\n\u001b[1;32m     41\u001b[0m     \u001b[38;5;66;03m# exception if op_type is not supported\u001b[39;00m\n",
      "File \u001b[0;32m/usr/local/lib/python3.10/dist-packages/qonnx-0.0.0-py3.10.egg/qonnx/custom_op/registry.py:43\u001b[0m, in \u001b[0;36mgetCustomOp\u001b[0;34m(node)\u001b[0m\n\u001b[1;32m     41\u001b[0m     \u001b[38;5;28;01mreturn\u001b[39;00m inst\n\u001b[1;32m     42\u001b[0m \u001b[38;5;28;01mexcept\u001b[39;00m \u001b[38;5;167;01mModuleNotFoundError\u001b[39;00m:\n\u001b[0;32m---> 43\u001b[0m     \u001b[38;5;28;01mraise\u001b[39;00m \u001b[38;5;167;01mException\u001b[39;00m(\u001b[38;5;124m\"\u001b[39m\u001b[38;5;124mCould not load custom opset \u001b[39m\u001b[38;5;132;01m%s\u001b[39;00m\u001b[38;5;124m, check your PYTHONPATH\u001b[39m\u001b[38;5;124m\"\u001b[39m \u001b[38;5;241m%\u001b[39m domain)\n\u001b[1;32m     44\u001b[0m \u001b[38;5;28;01mexcept\u001b[39;00m \u001b[38;5;167;01mKeyError\u001b[39;00m:\n\u001b[1;32m     45\u001b[0m     \u001b[38;5;28;01mraise\u001b[39;00m \u001b[38;5;167;01mException\u001b[39;00m(\u001b[38;5;124m\"\u001b[39m\u001b[38;5;124mOp \u001b[39m\u001b[38;5;132;01m%s\u001b[39;00m\u001b[38;5;124m not found in custom opset \u001b[39m\u001b[38;5;132;01m%s\u001b[39;00m\u001b[38;5;124m\"\u001b[39m \u001b[38;5;241m%\u001b[39m (op_type, domain))\n",
      "\u001b[0;31mException\u001b[0m: Could not load custom opset qonnx.custom_op.fpgadataflow, check your PYTHONPATH"
     ]
    }
   ],
   "source": [
    "from qonnx.core.onnx_exec import execute_onnx \n",
    "model = ModelWrapper(\"dataflow_parent.onnx\")\n",
    "DOMAIN = \"qonnx.custom_op.fpgadataflow\"\n",
    "\n",
    "for n in model.graph.node:\n",
    "    if n.domain == \"finn.custom_op.fpgadataflow\":\n",
    "        n.domain = DOMAIN\n",
    "#     if n.op_type == \"StreamingDataflowPartition\":\n",
    "#         n.name = ''\n",
    "#         n.attribute.append(make_attribute(\"bitfile\",\"finn-accel.bit\"))\n",
    "        \n",
    "model.check_all_tensor_shapes_specified()\n",
    "execute_onnx(model, {'global_in':np.load(\"dog.npy\")})\n"
   ]
  },
  {
   "cell_type": "code",
   "execution_count": 12,
   "id": "82e37d92",
   "metadata": {},
   "outputs": [],
   "source": [
    "from PIL import Image\n",
    "import numpy as np\n",
    "import matplotlib.pyplot as plt\n",
    "x = np.random.randint(10,20,[1,3,224,224]).astype(np.float32)\n",
    "# x = np.([1,3,224,224]).astype(np.float32)\n",
    "np.save(\"dog.npy\",x)"
   ]
  },
  {
   "cell_type": "code",
   "execution_count": 30,
   "id": "e14c555e",
   "metadata": {},
   "outputs": [
    {
     "name": "stdout",
     "output_type": "stream",
     "text": [
      "EXECUTE SDP\n"
     ]
    }
   ],
   "source": [
    "import numpy as np\n",
    "import os\n",
    "import onnx\n",
    "from onnxruntime_extensions import get_library_path, PyOp, onnx_op, PyOrtFunction\n",
    "from qonnx.core.datatype import DataType\n",
    "from qonnx.core.modelwrapper import ModelWrapper\n",
    "from onnx.helper import make_attribute\n",
    "from driver_base import FINNExampleOverlay\n",
    "from driver import io_shape_dict\n",
    "\n",
    "platform = \"zynq-iodma\"\n",
    "batch_size = 1\n",
    "bitfile = \"finn-accel.bit\"\n",
    "outputfile = \"output.npy\"\n",
    "runtime_weight_dir = \"runtime_weights/\"\n",
    "\n",
    "accel = FINNExampleOverlay(\n",
    "    bitfile_name = bitfile, platform = platform,\n",
    "    io_shape_dict = io_shape_dict, batch_size = batch_size,\n",
    "    runtime_weight_dir = runtime_weight_dir\n",
    ")\n",
    "\n",
    "def StreamingDataflowPartition(inputs):\n",
    "    print(\"EXECUTE SDP\")\n",
    "    obuf_normal = accel.execute(inputs)\n",
    "#     print(obuf_normal)\n",
    "    return obuf_normal.astype(np.float32)\n",
    "x = np.load(\"dog.npy\")\n",
    "x.shape\n",
    "x = np.moveaxis(x,1,-1)\n",
    "res = StreamingDataflowPartition(x)\n"
   ]
  },
  {
   "cell_type": "code",
   "execution_count": 1,
   "id": "4fb42447",
   "metadata": {
    "scrolled": true
   },
   "outputs": [
    {
     "name": "stdout",
     "output_type": "stream",
     "text": [
      "{'idt': [UINT8], 'odt': [INT16], 'ishape_normal': [(1, 224, 224, 3)], 'oshape_normal': [(1, 14, 14, 512)], 'ishape_folded': [(1, 224, 224, 3, 1)], 'oshape_folded': [(1, 14, 14, 32, 16)], 'ishape_packed': [(1, 224, 224, 3, 1)], 'oshape_packed': [(1, 14, 14, 32, 32)], 'input_dma_name': ['idma0'], 'output_dma_name': ['odma0'], 'number_of_external_weights': 0, 'num_inputs': 1, 'num_outputs': 1}\n",
      "Exception ignored in: <function PynqBuffer.__del__ at 0xffff95030700>\n",
      "Traceback (most recent call last):\n",
      "  File \"/usr/local/share/pynq-venv/lib/python3.10/site-packages/pynq/buffer.py\", line 63, in __del__\n",
      "  File \"/usr/local/share/pynq-venv/lib/python3.10/site-packages/pynq/buffer.py\", line 82, in freebuffer\n",
      "TypeError: 'NoneType' object is not callable\n",
      "Exception ignored in: <function PynqBuffer.__del__ at 0xffff95030700>\n",
      "Traceback (most recent call last):\n",
      "  File \"/usr/local/share/pynq-venv/lib/python3.10/site-packages/pynq/buffer.py\", line 63, in __del__\n",
      "  File \"/usr/local/share/pynq-venv/lib/python3.10/site-packages/pynq/buffer.py\", line 82, in freebuffer\n",
      "TypeError: 'NoneType' object is not callable\n"
     ]
    }
   ],
   "source": [
    "! python op_test.py"
   ]
  }
 ],
 "metadata": {
  "kernelspec": {
   "display_name": "Python 3 (ipykernel)",
   "language": "python",
   "name": "python3"
  },
  "language_info": {
   "codemirror_mode": {
    "name": "ipython",
    "version": 3
   },
   "file_extension": ".py",
   "mimetype": "text/x-python",
   "name": "python",
   "nbconvert_exporter": "python",
   "pygments_lexer": "ipython3",
   "version": "3.10.6"
  }
 },
 "nbformat": 4,
 "nbformat_minor": 5
}
