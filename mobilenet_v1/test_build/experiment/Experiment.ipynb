{
 "cells": [
  {
   "cell_type": "code",
   "execution_count": 1,
   "id": "525a670f",
   "metadata": {},
   "outputs": [
    {
     "data": {
      "application/javascript": [
       "\n",
       "try {\n",
       "require(['notebook/js/codecell'], function(codecell) {\n",
       "  codecell.CodeCell.options_default.highlight_modes[\n",
       "      'magic_text/x-csrc'] = {'reg':[/^%%microblaze/]};\n",
       "  Jupyter.notebook.events.one('kernel_ready.Kernel', function(){\n",
       "      Jupyter.notebook.get_cells().map(function(cell){\n",
       "          if (cell.cell_type == 'code'){ cell.auto_highlight(); } }) ;\n",
       "  });\n",
       "});\n",
       "} catch (e) {};\n"
      ]
     },
     "metadata": {},
     "output_type": "display_data"
    },
    {
     "data": {
      "application/javascript": [
       "\n",
       "try {\n",
       "require(['notebook/js/codecell'], function(codecell) {\n",
       "  codecell.CodeCell.options_default.highlight_modes[\n",
       "      'magic_text/x-csrc'] = {'reg':[/^%%pybind11/]};\n",
       "  Jupyter.notebook.events.one('kernel_ready.Kernel', function(){\n",
       "      Jupyter.notebook.get_cells().map(function(cell){\n",
       "          if (cell.cell_type == 'code'){ cell.auto_highlight(); } }) ;\n",
       "  });\n",
       "});\n",
       "} catch (e) {};\n"
      ]
     },
     "metadata": {},
     "output_type": "display_data"
    },
    {
     "name": "stdout",
     "output_type": "stream",
     "text": [
      "True\n"
     ]
    }
   ],
   "source": [
    "import numpy as np\n",
    "import os\n",
    "import onnx\n",
    "from onnxruntime_extensions import get_library_path, PyOp, onnx_op, PyOrtFunction\n",
    "from qonnx.core.datatype import DataType\n",
    "from qonnx.core.modelwrapper import ModelWrapper\n",
    "from onnx.helper import make_attribute\n",
    "from driver_base import FINNExampleOverlay\n",
    "from driver import io_shape_dict\n",
    "set_pyop = False\n",
    "\n",
    "platform = \"zynq-iodma\"\n",
    "batch_size = 1\n",
    "bitfile = \"finn-accel.bit\"\n",
    "outputfile = \"output.npy\"\n",
    "runtime_weight_dir = \"runtime_weights/\"\n",
    "\n",
    "# instantiate FINN accelerator driver and pass batchsize and bitfile\n",
    "accel = FINNExampleOverlay(\n",
    "    bitfile_name = bitfile, platform = platform,\n",
    "    io_shape_dict = io_shape_dict, batch_size = batch_size,\n",
    "    runtime_weight_dir = runtime_weight_dir\n",
    ")\n",
    "\n",
    "if not set_pyop:\n",
    "    # Implement the CustomOp by decorating a function with onnx_op\n",
    "    @onnx_op(op_type=\"StreamingDataflowPartition\", inputs=[PyOp.dt_float], outputs=[PyOp.dt_float])\n",
    "    def StreamingDataflowPartition(inputs):\n",
    "        obuf_normal = accel.execute(inputs)\n",
    "        return obuf_normal.astype(np.float32)\n",
    "    set_pyop = True\n",
    "print(set_pyop)"
   ]
  },
  {
   "cell_type": "code",
   "execution_count": 3,
   "id": "259aaff2",
   "metadata": {},
   "outputs": [
    {
     "ename": "TypeError",
     "evalue": "'_Environ' object is not callable",
     "output_type": "error",
     "traceback": [
      "\u001b[0;31m---------------------------------------------------------------------------\u001b[0m",
      "\u001b[0;31mTypeError\u001b[0m                                 Traceback (most recent call last)",
      "Input \u001b[0;32mIn [3]\u001b[0m, in \u001b[0;36m<cell line: 4>\u001b[0;34m()\u001b[0m\n\u001b[1;32m      2\u001b[0m model \u001b[38;5;241m=\u001b[39m ModelWrapper(\u001b[38;5;124m\"\u001b[39m\u001b[38;5;124mdataflow_parent.onnx\u001b[39m\u001b[38;5;124m\"\u001b[39m)\n\u001b[1;32m      3\u001b[0m DOMAIN \u001b[38;5;241m=\u001b[39m \u001b[38;5;124m\"\u001b[39m\u001b[38;5;124mqonnx.custom_op.fpgadataflow\u001b[39m\u001b[38;5;124m\"\u001b[39m\n\u001b[0;32m----> 4\u001b[0m \u001b[43mos\u001b[49m\u001b[38;5;241;43m.\u001b[39;49m\u001b[43menviron\u001b[49m\u001b[43m(\u001b[49m\u001b[38;5;124;43m\"\u001b[39;49m\u001b[38;5;124;43mQONNX\u001b[39;49m\u001b[38;5;124;43m\"\u001b[39;49m\u001b[43m)\u001b[49m\n\u001b[1;32m      6\u001b[0m \u001b[38;5;28;01mfor\u001b[39;00m n \u001b[38;5;129;01min\u001b[39;00m model\u001b[38;5;241m.\u001b[39mgraph\u001b[38;5;241m.\u001b[39mnode:\n\u001b[1;32m      7\u001b[0m     \u001b[38;5;28;01mif\u001b[39;00m n\u001b[38;5;241m.\u001b[39mdomain \u001b[38;5;241m==\u001b[39m \u001b[38;5;124m\"\u001b[39m\u001b[38;5;124mfinn.custom_op.fpgadataflow\u001b[39m\u001b[38;5;124m\"\u001b[39m:\n",
      "\u001b[0;31mTypeError\u001b[0m: '_Environ' object is not callable"
     ]
    }
   ],
   "source": [
    "from qonnx.core.onnx_exec import execute_onnx \n",
    "model = ModelWrapper(\"dataflow_parent.onnx\")\n",
    "DOMAIN = \"qonnx.custom_op.fpgadataflow\"\n",
    "\n",
    "for n in model.graph.node:\n",
    "    if n.domain == \"finn.custom_op.fpgadataflow\":\n",
    "        n.domain = DOMAIN\n",
    "#     if n.op_type == \"StreamingDataflowPartition\":\n",
    "#         n.name = ''\n",
    "#         n.attribute.append(make_attribute(\"bitfile\",\"finn-accel.bit\"))\n",
    "        \n",
    "model.check_all_tensor_shapes_specified()\n",
    "execute_onnx(model, {'global_in':np.load(\"dog.npy\")})\n"
   ]
  },
  {
   "cell_type": "code",
   "execution_count": null,
   "id": "b10b7d31",
   "metadata": {},
   "outputs": [],
   "source": [
    "inp = np.load(\"dog.npy\")\n",
    "\n",
    "model_func = PyOrtFunction.from_model(\"./dataflow_parent_updated.onnx\")\n",
    "outputs = model_func(inp)"
   ]
  },
  {
   "cell_type": "code",
   "execution_count": 12,
   "id": "5ece7c93",
   "metadata": {},
   "outputs": [],
   "source": [
    "from PIL import Image\n",
    "import numpy as np\n",
    "import matplotlib.pyplot as plt\n",
    "x = np.random.randint(10,20,[1,3,224,224]).astype(np.float32)\n",
    "# x = np.([1,3,224,224]).astype(np.float32)\n",
    "np.save(\"dog.npy\",x)"
   ]
  },
  {
   "cell_type": "code",
   "execution_count": 30,
   "id": "abf26fcb",
   "metadata": {},
   "outputs": [
    {
     "name": "stdout",
     "output_type": "stream",
     "text": [
      "EXECUTE SDP\n"
     ]
    }
   ],
   "source": [
    "import numpy as np\n",
    "import os\n",
    "import onnx\n",
    "from onnxruntime_extensions import get_library_path, PyOp, onnx_op, PyOrtFunction\n",
    "from qonnx.core.datatype import DataType\n",
    "from qonnx.core.modelwrapper import ModelWrapper\n",
    "from onnx.helper import make_attribute\n",
    "from driver_base import FINNExampleOverlay\n",
    "from driver import io_shape_dict\n",
    "\n",
    "platform = \"zynq-iodma\"\n",
    "batch_size = 1\n",
    "bitfile = \"finn-accel.bit\"\n",
    "outputfile = \"output.npy\"\n",
    "runtime_weight_dir = \"runtime_weights/\"\n",
    "\n",
    "accel = FINNExampleOverlay(\n",
    "    bitfile_name = bitfile, platform = platform,\n",
    "    io_shape_dict = io_shape_dict, batch_size = batch_size,\n",
    "    runtime_weight_dir = runtime_weight_dir\n",
    ")\n",
    "\n",
    "def StreamingDataflowPartition(inputs):\n",
    "    print(\"EXECUTE SDP\")\n",
    "    obuf_normal = accel.execute(inputs)\n",
    "#     print(obuf_normal)\n",
    "    return obuf_normal.astype(np.float32)\n",
    "x = np.load(\"dog.npy\")\n",
    "x.shape\n",
    "x = np.moveaxis(x,1,-1)\n",
    "res = StreamingDataflowPartition(x)\n"
   ]
  },
  {
   "cell_type": "code",
   "execution_count": 1,
   "id": "cd936567",
   "metadata": {
    "scrolled": true
   },
   "outputs": [
    {
     "name": "stdout",
     "output_type": "stream",
     "text": [
      "{'idt': [UINT8], 'odt': [INT16], 'ishape_normal': [(1, 224, 224, 3)], 'oshape_normal': [(1, 14, 14, 512)], 'ishape_folded': [(1, 224, 224, 3, 1)], 'oshape_folded': [(1, 14, 14, 32, 16)], 'ishape_packed': [(1, 224, 224, 3, 1)], 'oshape_packed': [(1, 14, 14, 32, 32)], 'input_dma_name': ['idma0'], 'output_dma_name': ['odma0'], 'number_of_external_weights': 0, 'num_inputs': 1, 'num_outputs': 1}\n",
      "Exception ignored in: <function PynqBuffer.__del__ at 0xffff95030700>\n",
      "Traceback (most recent call last):\n",
      "  File \"/usr/local/share/pynq-venv/lib/python3.10/site-packages/pynq/buffer.py\", line 63, in __del__\n",
      "  File \"/usr/local/share/pynq-venv/lib/python3.10/site-packages/pynq/buffer.py\", line 82, in freebuffer\n",
      "TypeError: 'NoneType' object is not callable\n",
      "Exception ignored in: <function PynqBuffer.__del__ at 0xffff95030700>\n",
      "Traceback (most recent call last):\n",
      "  File \"/usr/local/share/pynq-venv/lib/python3.10/site-packages/pynq/buffer.py\", line 63, in __del__\n",
      "  File \"/usr/local/share/pynq-venv/lib/python3.10/site-packages/pynq/buffer.py\", line 82, in freebuffer\n",
      "TypeError: 'NoneType' object is not callable\n"
     ]
    }
   ],
   "source": [
    "! python op_test.py"
   ]
  }
 ],
 "metadata": {
  "kernelspec": {
   "display_name": "Python 3 (ipykernel)",
   "language": "python",
   "name": "python3"
  },
  "language_info": {
   "codemirror_mode": {
    "name": "ipython",
    "version": 3
   },
   "file_extension": ".py",
   "mimetype": "text/x-python",
   "name": "python",
   "nbconvert_exporter": "python",
   "pygments_lexer": "ipython3",
   "version": "3.10.6"
  }
 },
 "nbformat": 4,
 "nbformat_minor": 5
}
