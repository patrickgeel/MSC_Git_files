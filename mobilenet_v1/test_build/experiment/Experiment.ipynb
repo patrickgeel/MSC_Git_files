{
 "cells": [
  {
   "cell_type": "code",
   "execution_count": 1,
   "id": "525a670f",
   "metadata": {},
   "outputs": [
    {
     "data": {
      "application/javascript": [
       "\n",
       "try {\n",
       "require(['notebook/js/codecell'], function(codecell) {\n",
       "  codecell.CodeCell.options_default.highlight_modes[\n",
       "      'magic_text/x-csrc'] = {'reg':[/^%%microblaze/]};\n",
       "  Jupyter.notebook.events.one('kernel_ready.Kernel', function(){\n",
       "      Jupyter.notebook.get_cells().map(function(cell){\n",
       "          if (cell.cell_type == 'code'){ cell.auto_highlight(); } }) ;\n",
       "  });\n",
       "});\n",
       "} catch (e) {};\n"
      ]
     },
     "metadata": {},
     "output_type": "display_data"
    },
    {
     "data": {
      "application/javascript": [
       "\n",
       "try {\n",
       "require(['notebook/js/codecell'], function(codecell) {\n",
       "  codecell.CodeCell.options_default.highlight_modes[\n",
       "      'magic_text/x-csrc'] = {'reg':[/^%%pybind11/]};\n",
       "  Jupyter.notebook.events.one('kernel_ready.Kernel', function(){\n",
       "      Jupyter.notebook.get_cells().map(function(cell){\n",
       "          if (cell.cell_type == 'code'){ cell.auto_highlight(); } }) ;\n",
       "  });\n",
       "});\n",
       "} catch (e) {};\n"
      ]
     },
     "metadata": {},
     "output_type": "display_data"
    },
    {
     "name": "stdout",
     "output_type": "stream",
     "text": [
      "True\n"
     ]
    }
   ],
   "source": [
    "import numpy as np\n",
    "import os\n",
    "import onnx\n",
    "from onnxruntime_extensions import get_library_path, PyOp, onnx_op, PyOrtFunction\n",
    "from qonnx.core.datatype import DataType\n",
    "from qonnx.core.modelwrapper import ModelWrapper\n",
    "from onnx.helper import make_attribute\n",
    "from driver_base import FINNExampleOverlay\n",
    "from driver import io_shape_dict\n",
    "set_pyop = False\n",
    "\n",
    "platform = \"zynq-iodma\"\n",
    "batch_size = 1\n",
    "bitfile = \"finn-accel.bit\"\n",
    "outputfile = \"output.npy\"\n",
    "runtime_weight_dir = \"runtime_weights/\"\n",
    "\n",
    "# instantiate FINN accelerator driver and pass batchsize and bitfile\n",
    "accel = FINNExampleOverlay(\n",
    "    bitfile_name = bitfile, platform = platform,\n",
    "    io_shape_dict = io_shape_dict, batch_size = batch_size,\n",
    "    runtime_weight_dir = runtime_weight_dir\n",
    ")\n",
    "\n",
    "if not set_pyop:\n",
    "    # Implement the CustomOp by decorating a function with onnx_op\n",
    "    @onnx_op(op_type=\"StreamingDataflowPartition\", inputs=[PyOp.dt_float], outputs=[PyOp.dt_float])\n",
    "    def StreamingDataflowPartition(inputs):\n",
    "        obuf_normal = accel.execute(inputs)\n",
    "        return obuf_normal.astype(np.float32)\n",
    "    set_pyop = True\n",
    "print(set_pyop)"
   ]
  },
  {
   "cell_type": "code",
   "execution_count": null,
   "id": "b10b7d31",
   "metadata": {},
   "outputs": [],
   "source": [
    "inp = np.load(\"dog.npy\")\n",
    "\n",
    "model_func = PyOrtFunction.from_model(\"./dataflow_parent_updated.onnx\")\n",
    "outputs = model_func(inp)"
   ]
  }
 ],
 "metadata": {
  "kernelspec": {
   "display_name": "Python 3 (ipykernel)",
   "language": "python",
   "name": "python3"
  },
  "language_info": {
   "codemirror_mode": {
    "name": "ipython",
    "version": 3
   },
   "file_extension": ".py",
   "mimetype": "text/x-python",
   "name": "python",
   "nbconvert_exporter": "python",
   "pygments_lexer": "ipython3",
   "version": "3.10.6"
  }
 },
 "nbformat": 4,
 "nbformat_minor": 5
}
