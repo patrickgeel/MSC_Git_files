{
 "cells": [
  {
   "cell_type": "code",
   "execution_count": 1,
   "id": "525a670f",
   "metadata": {},
   "outputs": [
    {
     "data": {
      "application/javascript": [
       "\n",
       "try {\n",
       "require(['notebook/js/codecell'], function(codecell) {\n",
       "  codecell.CodeCell.options_default.highlight_modes[\n",
       "      'magic_text/x-csrc'] = {'reg':[/^%%microblaze/]};\n",
       "  Jupyter.notebook.events.one('kernel_ready.Kernel', function(){\n",
       "      Jupyter.notebook.get_cells().map(function(cell){\n",
       "          if (cell.cell_type == 'code'){ cell.auto_highlight(); } }) ;\n",
       "  });\n",
       "});\n",
       "} catch (e) {};\n"
      ]
     },
     "metadata": {},
     "output_type": "display_data"
    },
    {
     "data": {
      "application/javascript": [
       "\n",
       "try {\n",
       "require(['notebook/js/codecell'], function(codecell) {\n",
       "  codecell.CodeCell.options_default.highlight_modes[\n",
       "      'magic_text/x-csrc'] = {'reg':[/^%%pybind11/]};\n",
       "  Jupyter.notebook.events.one('kernel_ready.Kernel', function(){\n",
       "      Jupyter.notebook.get_cells().map(function(cell){\n",
       "          if (cell.cell_type == 'code'){ cell.auto_highlight(); } }) ;\n",
       "  });\n",
       "});\n",
       "} catch (e) {};\n"
      ]
     },
     "metadata": {},
     "output_type": "display_data"
    },
    {
     "name": "stdout",
     "output_type": "stream",
     "text": [
      "True\n"
     ]
    }
   ],
   "source": [
    "import numpy as np\n",
    "import os\n",
    "import onnx\n",
    "from onnxruntime_extensions import get_library_path, PyOp, onnx_op, PyOrtFunction\n",
    "from qonnx.core.datatype import DataType\n",
    "from qonnx.core.modelwrapper import ModelWrapper\n",
    "from onnx.helper import make_attribute\n",
    "from driver_base import FINNExampleOverlay\n",
    "from driver import io_shape_dict\n",
    "set_pyop = False\n",
    "\n",
    "platform = \"zynq-iodma\"\n",
    "batch_size = 1\n",
    "bitfile = \"finn-accel.bit\"\n",
    "outputfile = \"output.npy\"\n",
    "runtime_weight_dir = \"runtime_weights/\"\n",
    "\n",
    "# instantiate FINN accelerator driver and pass batchsize and bitfile\n",
    "accel = FINNExampleOverlay(\n",
    "    bitfile_name = bitfile, platform = platform,\n",
    "    io_shape_dict = io_shape_dict, batch_size = batch_size,\n",
    "    runtime_weight_dir = runtime_weight_dir\n",
    ")\n",
    "\n",
    "if not set_pyop:\n",
    "    # Implement the CustomOp by decorating a function with onnx_op\n",
    "    @onnx_op(op_type=\"StreamingDataflowPartition\", inputs=[PyOp.dt_float], outputs=[PyOp.dt_float])\n",
    "    def StreamingDataflowPartition(inputs):\n",
    "        obuf_normal = accel.execute(inputs)\n",
    "        return obuf_normal.astype(np.float32)\n",
    "    set_pyop = True\n",
    "print(set_pyop)"
   ]
  },
  {
   "cell_type": "code",
   "execution_count": 4,
   "id": "b10b7d31",
   "metadata": {},
   "outputs": [],
   "source": [
    "inp = np.load(\"dog.npy\")\n",
    "\n",
    "model_func = PyOrtFunction.from_model(\"./dataflow_parent_updated.onnx\")\n",
    "outputs = model_func(inp)"
   ]
  },
  {
   "cell_type": "code",
   "execution_count": 5,
   "id": "a07ac3a7",
   "metadata": {},
   "outputs": [
    {
     "data": {
      "text/plain": [
       "array([[[[-252., -260., -288., ..., -220., -303., -212.],\n",
       "         [-283., -241., -367., ..., -296., -351., -261.],\n",
       "         [-251., -285., -343., ..., -281., -308., -226.],\n",
       "         ...,\n",
       "         [-234., -295., -239., ..., -285., -281., -269.],\n",
       "         [-306., -341., -369., ..., -331., -298., -287.],\n",
       "         [-232., -270., -279., ..., -307., -216., -223.]],\n",
       "\n",
       "        [[ 155.,   87.,  112., ...,   78.,   47.,   92.],\n",
       "         [ 162.,   51.,   32., ...,  -12.,   -4.,   39.],\n",
       "         [  78.,  -10.,    1., ...,   39.,  -22.,   37.],\n",
       "         ...,\n",
       "         [  79.,   -9.,  -17., ...,   -6.,  -11.,   18.],\n",
       "         [  90.,   -6.,  -11., ...,   10.,   -2.,   15.],\n",
       "         [ 152.,   60.,   50., ...,   49.,   34.,  121.]],\n",
       "\n",
       "        [[-351., -267., -303., ..., -333., -350., -255.],\n",
       "         [-353., -298., -332., ..., -330., -329., -304.],\n",
       "         [-326., -365., -349., ..., -325., -223., -199.],\n",
       "         ...,\n",
       "         [-308., -262., -234., ..., -185., -259., -252.],\n",
       "         [-373., -292., -287., ..., -278., -287., -246.],\n",
       "         [-243., -296., -340., ..., -293., -283., -305.]],\n",
       "\n",
       "        ...,\n",
       "\n",
       "        [[-273., -338., -334., ..., -320., -256., -353.],\n",
       "         [-323.,  -99., -162., ..., -148., -131., -305.],\n",
       "         [-277., -147., -198., ..., -136., -154., -244.],\n",
       "         ...,\n",
       "         [-253., -143., -134., ..., -184., -142., -191.],\n",
       "         [-290.,  -93., -101., ..., -247., -177., -185.],\n",
       "         [-396., -253., -311., ..., -289., -322., -324.]],\n",
       "\n",
       "        [[ 390.,  464.,  458., ...,  428.,  416.,  416.],\n",
       "         [ 395.,  349.,  348., ...,  384.,  351.,  461.],\n",
       "         [ 452.,  361.,  353., ...,  409.,  397.,  452.],\n",
       "         ...,\n",
       "         [ 427.,  370.,  390., ...,  415.,  382.,  433.],\n",
       "         [ 429.,  350.,  338., ...,  416.,  374.,  436.],\n",
       "         [ 544.,  516.,  477., ...,  452.,  504.,  524.]],\n",
       "\n",
       "        [[ -88.,  -29.,  -16., ...,  -48.,   24.,   30.],\n",
       "         [ -90.,  -63.,  -75., ...,  -59.,  -17.,  -52.],\n",
       "         [ -64.,  -58.,  -62., ...,  -46.,  -78.,  -86.],\n",
       "         ...,\n",
       "         [ -75.,  -83.,  -83., ...,  -98.,  -65.,  -60.],\n",
       "         [  -7.,  -68.,  -23., ..., -131.,  -78.,  -55.],\n",
       "         [ -86., -110.,  -71., ...,  -90., -103.,  -74.]]]], dtype=float32)"
      ]
     },
     "execution_count": 5,
     "metadata": {},
     "output_type": "execute_result"
    }
   ],
   "source": [
    "outputs"
   ]
  },
  {
   "cell_type": "code",
   "execution_count": 12,
   "id": "5ece7c93",
   "metadata": {},
   "outputs": [],
   "source": [
    "from PIL import Image\n",
    "import numpy as np\n",
    "import matplotlib.pyplot as plt\n",
    "x = np.random.randint(10,20,[1,3,224,224]).astype(np.float32)\n",
    "# x = np.([1,3,224,224]).astype(np.float32)\n",
    "np.save(\"dog.npy\",x)"
   ]
  },
  {
   "cell_type": "code",
   "execution_count": 30,
   "id": "abf26fcb",
   "metadata": {},
   "outputs": [
    {
     "name": "stdout",
     "output_type": "stream",
     "text": [
      "EXECUTE SDP\n"
     ]
    }
   ],
   "source": [
    "import numpy as np\n",
    "import os\n",
    "import onnx\n",
    "from onnxruntime_extensions import get_library_path, PyOp, onnx_op, PyOrtFunction\n",
    "from qonnx.core.datatype import DataType\n",
    "from qonnx.core.modelwrapper import ModelWrapper\n",
    "from onnx.helper import make_attribute\n",
    "from driver_base import FINNExampleOverlay\n",
    "from driver import io_shape_dict\n",
    "\n",
    "platform = \"zynq-iodma\"\n",
    "batch_size = 1\n",
    "bitfile = \"finn-accel.bit\"\n",
    "outputfile = \"output.npy\"\n",
    "runtime_weight_dir = \"runtime_weights/\"\n",
    "\n",
    "accel = FINNExampleOverlay(\n",
    "    bitfile_name = bitfile, platform = platform,\n",
    "    io_shape_dict = io_shape_dict, batch_size = batch_size,\n",
    "    runtime_weight_dir = runtime_weight_dir\n",
    ")\n",
    "\n",
    "def StreamingDataflowPartition(inputs):\n",
    "    print(\"EXECUTE SDP\")\n",
    "    obuf_normal = accel.execute(inputs)\n",
    "#     print(obuf_normal)\n",
    "    return obuf_normal.astype(np.float32)\n",
    "x = np.load(\"dog.npy\")\n",
    "x.shape\n",
    "x = np.moveaxis(x,1,-1)\n",
    "res = StreamingDataflowPartition(x)\n"
   ]
  },
  {
   "cell_type": "code",
   "execution_count": 1,
   "id": "cd936567",
   "metadata": {
    "scrolled": true
   },
   "outputs": [
    {
     "name": "stdout",
     "output_type": "stream",
     "text": [
      "{'idt': [UINT8], 'odt': [INT16], 'ishape_normal': [(1, 224, 224, 3)], 'oshape_normal': [(1, 14, 14, 512)], 'ishape_folded': [(1, 224, 224, 3, 1)], 'oshape_folded': [(1, 14, 14, 32, 16)], 'ishape_packed': [(1, 224, 224, 3, 1)], 'oshape_packed': [(1, 14, 14, 32, 32)], 'input_dma_name': ['idma0'], 'output_dma_name': ['odma0'], 'number_of_external_weights': 0, 'num_inputs': 1, 'num_outputs': 1}\n",
      "Exception ignored in: <function PynqBuffer.__del__ at 0xffff95030700>\n",
      "Traceback (most recent call last):\n",
      "  File \"/usr/local/share/pynq-venv/lib/python3.10/site-packages/pynq/buffer.py\", line 63, in __del__\n",
      "  File \"/usr/local/share/pynq-venv/lib/python3.10/site-packages/pynq/buffer.py\", line 82, in freebuffer\n",
      "TypeError: 'NoneType' object is not callable\n",
      "Exception ignored in: <function PynqBuffer.__del__ at 0xffff95030700>\n",
      "Traceback (most recent call last):\n",
      "  File \"/usr/local/share/pynq-venv/lib/python3.10/site-packages/pynq/buffer.py\", line 63, in __del__\n",
      "  File \"/usr/local/share/pynq-venv/lib/python3.10/site-packages/pynq/buffer.py\", line 82, in freebuffer\n",
      "TypeError: 'NoneType' object is not callable\n"
     ]
    }
   ],
   "source": [
    "! python op_test.py"
   ]
  }
 ],
 "metadata": {
  "kernelspec": {
   "display_name": "Python 3 (ipykernel)",
   "language": "python",
   "name": "python3"
  },
  "language_info": {
   "codemirror_mode": {
    "name": "ipython",
    "version": 3
   },
   "file_extension": ".py",
   "mimetype": "text/x-python",
   "name": "python",
   "nbconvert_exporter": "python",
   "pygments_lexer": "ipython3",
   "version": "3.10.6"
  }
 },
 "nbformat": 4,
 "nbformat_minor": 5
}
