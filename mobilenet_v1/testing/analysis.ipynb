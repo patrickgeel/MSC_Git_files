{
 "cells": [
  {
   "cell_type": "code",
   "execution_count": 12,
   "metadata": {},
   "outputs": [],
   "source": [
    "import os\n",
    "import pandas as pd\n",
    "import json\n",
    "import matplotlib.pyplot as plt\n",
    "\n",
    "data = {}\n",
    "for ind,ls in enumerate(os.listdir()):\n",
    "    base = os.path.abspath(ls)\n",
    "    if os.path.isdir(ls) and \"Multi\" in ls:\n",
    "        bitfile_dir = os.path.join(base,\"bitfile\",\"finn-accel.bit\")\n",
    "        src = os.path.join(base,\"deploy\",\"driver\",\"hw_metrics.json\")\n",
    "        run_id = ls.split(\"_\")[1]\n",
    "        if os.path.exists(src):\n",
    "            with open(src,'r') as f:\n",
    "                raw = json.load(f)\n",
    "            data[ls] = {\"runtime[ms]\": raw[\"runtime[ms]\"]}\n",
    "df = pd.DataFrame(data).T\n",
    "df.to_csv(\"hw-metrics.csv\")"
   ]
  }
 ],
 "metadata": {
  "kernelspec": {
   "display_name": "Python 3",
   "language": "python",
   "name": "python3"
  },
  "language_info": {
   "codemirror_mode": {
    "name": "ipython",
    "version": 3
   },
   "file_extension": ".py",
   "mimetype": "text/x-python",
   "name": "python",
   "nbconvert_exporter": "python",
   "pygments_lexer": "ipython3",
   "version": "3.9.2"
  },
  "orig_nbformat": 4,
  "vscode": {
   "interpreter": {
    "hash": "c0480a40de60fe0b4be044949303dbe98ce3610184aeb132e77bccbcbbb8df2a"
   }
  }
 },
 "nbformat": 4,
 "nbformat_minor": 2
}
